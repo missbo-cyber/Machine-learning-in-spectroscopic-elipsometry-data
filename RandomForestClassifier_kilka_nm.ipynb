{
 "cells": [
  {
   "cell_type": "markdown",
   "metadata": {},
   "source": [
    "Import libraries"
   ]
  },
  {
   "cell_type": "code",
   "execution_count": 1,
   "metadata": {},
   "outputs": [],
   "source": [
    "import pandas as pd\n",
    "from sklearn.model_selection import train_test_split\n",
    "from sklearn.ensemble import RandomForestClassifier\n",
    "from sklearn.metrics import mean_squared_error, r2_score\n",
    "from sklearn.metrics import accuracy_score"
   ]
  },
  {
   "cell_type": "markdown",
   "metadata": {},
   "source": [
    "Import data"
   ]
  },
  {
   "cell_type": "code",
   "execution_count": 2,
   "metadata": {},
   "outputs": [],
   "source": [
    "column_names = [\"Wavelength\", '60', '65', '70']\n",
    "data_1nm=pd.read_csv('1nm_delta.csv', header=None, names = column_names)\n",
    "data_2nm=pd.read_csv('2nm_delta.csv',header=None, names = column_names)\n",
    "data_3nm=pd.read_csv('3nm_delta.csv',header=None, names = column_names)\n",
    "data_4nm=pd.read_csv('4nm_delta.csv',header=None, names = column_names)\n",
    "data_5nm=pd.read_csv('5nm_delta.csv',header=None, names = column_names)\n",
    "data_6nm=pd.read_csv('6nm_delta.csv',header=None, names = column_names)\n",
    "data_7nm=pd.read_csv('7nm_delta.csv',header=None, names = column_names)\n",
    "data_8nm=pd.read_csv('8nm_delta.csv',header=None, names = column_names)\n",
    "data_9nm=pd.read_csv('9nm_delta.csv',header=None, names = column_names)\n",
    "data_10nm=pd.read_csv('10nm_delta.csv',header=None, names = column_names)"
   ]
  },
  {
   "cell_type": "markdown",
   "metadata": {},
   "source": [
    "Add column Thickness"
   ]
  },
  {
   "cell_type": "code",
   "execution_count": 3,
   "metadata": {},
   "outputs": [],
   "source": [
    "data_1nm['Thickness'] = 1.0\n",
    "data_2nm['Thickness'] = 2.0\n",
    "data_3nm['Thickness'] = 3.0\n",
    "data_4nm['Thickness'] = 4.0\n",
    "data_5nm['Thickness'] = 5.0\n",
    "data_6nm['Thickness'] = 6.0\n",
    "data_7nm['Thickness'] = 7.0\n",
    "data_8nm['Thickness'] = 8.0\n",
    "data_9nm['Thickness'] = 9.0\n",
    "data_10nm['Thickness'] = 10.0"
   ]
  },
  {
   "cell_type": "markdown",
   "metadata": {},
   "source": [
    "Combine data"
   ]
  },
  {
   "cell_type": "code",
   "execution_count": 4,
   "metadata": {},
   "outputs": [
    {
     "name": "stdout",
     "output_type": "stream",
     "text": [
      "     Wavelength      60      65      70  Thickness\n",
      "0.0       300.0  154.87  145.85  130.43        1.0\n",
      "1.0       310.0  155.51  146.35  130.09        1.0\n",
      "2.0       320.0  156.17  147.03  130.38        1.0\n",
      "3.0       330.0  157.07  148.10  131.45        1.0\n",
      "4.0       340.0  158.11  149.46  133.13        1.0\n"
     ]
    }
   ],
   "source": [
    "frames = [data_1nm,data_2nm,data_3nm,data_4nm,data_5nm,data_6nm,data_7nm,data_8nm,data_9nm,data_10nm]\n",
    "combined_data = pd.concat(frames)\n",
    "combined_data = combined_data.fillna(0)\n",
    "print(combined_data.head())\n"
   ]
  },
  {
   "cell_type": "markdown",
   "metadata": {},
   "source": [
    "Training model"
   ]
  },
  {
   "cell_type": "code",
   "execution_count": 5,
   "metadata": {},
   "outputs": [
    {
     "name": "stdout",
     "output_type": "stream",
     "text": [
      "Accuracy: 0.8309859154929577\n"
     ]
    }
   ],
   "source": [
    "\n",
    "X = combined_data.drop('Thickness', axis=1)\n",
    "y = combined_data['Thickness']\n",
    "\n",
    "X_train, X_test, y_train, y_test = train_test_split(X, y, test_size=0.2, random_state=42)\n",
    "\n",
    "rf_classifier = RandomForestClassifier(n_estimators=100, random_state=40)\n",
    "\n",
    "\n",
    "rf_classifier.fit(X_train, y_train)\n",
    "\n",
    "y_pred = rf_classifier.predict(X_test)\n",
    "\n",
    "accuracy = accuracy_score(y_test, y_pred)\n",
    "print(f'Accuracy: {accuracy}')"
   ]
  },
  {
   "cell_type": "markdown",
   "metadata": {},
   "source": [
    "Predict new data"
   ]
  },
  {
   "cell_type": "code",
   "execution_count": 6,
   "metadata": {},
   "outputs": [
    {
     "name": "stdout",
     "output_type": "stream",
     "text": [
      "   Wavelength      60      65      70\n",
      "0         400  169.66  164.31  151.32\n",
      "1         410  169.52  164.74  150.80\n",
      "2         420  170.13  165.50  149.86\n",
      "3         430  170.41  165.51  150.02\n",
      "4         440  171.89  165.78  148.69\n",
      "3.0\n"
     ]
    }
   ],
   "source": [
    "\n",
    "new_data = pd.read_csv('3_8nm_delta_exp.csv', header=None,names=column_names)\n",
    "new_data = new_data.fillna(0)\n",
    "\n",
    "print(new_data.head())\n",
    "\n",
    "missing_cols = set(X.columns) - set(new_data.columns)\n",
    "if missing_cols:\n",
    "    raise ValueError(f\"New data is missing columns: {missing_cols}\")\n",
    "\n",
    "new_predictions = rf_classifier.predict(new_data)\n",
    "\n",
    "new_data['Thickness'] = new_predictions\n",
    "\n",
    "print((new_data['Thickness'].median()))"
   ]
  }
 ],
 "metadata": {
  "kernelspec": {
   "display_name": "Python 3",
   "language": "python",
   "name": "python3"
  },
  "language_info": {
   "codemirror_mode": {
    "name": "ipython",
    "version": 3
   },
   "file_extension": ".py",
   "mimetype": "text/x-python",
   "name": "python",
   "nbconvert_exporter": "python",
   "pygments_lexer": "ipython3",
   "version": "3.11.5"
  }
 },
 "nbformat": 4,
 "nbformat_minor": 2
}
