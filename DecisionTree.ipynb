{
 "cells": [
  {
   "cell_type": "markdown",
   "metadata": {},
   "source": [
    "Import libraries"
   ]
  },
  {
   "cell_type": "code",
   "execution_count": 1,
   "metadata": {},
   "outputs": [],
   "source": [
    "import pandas as pd\n",
    "import os \n",
    "import time\n",
    "import statistics\n",
    "import numpy as np\n",
    "from sklearn.model_selection import train_test_split\n",
    "from  sklearn.tree import DecisionTreeRegressor\n",
    "from sklearn.metrics import mean_squared_error, r2_score, mean_absolute_error"
   ]
  },
  {
   "cell_type": "markdown",
   "metadata": {},
   "source": [
    "psi"
   ]
  },
  {
   "cell_type": "markdown",
   "metadata": {},
   "source": [
    "Import data"
   ]
  },
  {
   "cell_type": "code",
   "execution_count": 56,
   "metadata": {},
   "outputs": [],
   "source": [
    "column_names = ['Wavelength', '65', '70', '75']\n",
    "data_1nm = pd.read_csv('/Users/missbo/Desktop/Inżynierka/Elipsometr/psi/si02_psi_1nm_co_10_nm.csv', header=None, names=column_names)\n",
    "data_2nm = pd.read_csv('/Users/missbo/Desktop/Inżynierka/Elipsometr/psi/si02_psi_2nm_co_10_nm.csv', header=None, names=column_names)\n",
    "data_3nm = pd.read_csv('/Users/missbo/Desktop/Inżynierka/Elipsometr/psi/si02_psi_3nm_co_10_nm.csv', header=None, names=column_names)\n",
    "data_4nm = pd.read_csv('/Users/missbo/Desktop/Inżynierka/Elipsometr/psi/si02_psi_4nm_co_10_nm.csv', header=None, names=column_names)\n",
    "data_5nm = pd.read_csv('/Users/missbo/Desktop/Inżynierka/Elipsometr/psi/si02_psi_5nm_co_10_nm.csv', header=None, names=column_names)\n",
    "data_6nm = pd.read_csv('/Users/missbo/Desktop/Inżynierka/Elipsometr/psi/si02_psi_6nm_co_10_nm.csv', header=None, names=column_names)\n",
    "data_7nm = pd.read_csv('/Users/missbo/Desktop/Inżynierka/Elipsometr/psi/si02_psi_7nm_co_10_nm.csv', header=None, names=column_names)\n",
    "data_8nm = pd.read_csv('/Users/missbo/Desktop/Inżynierka/Elipsometr/psi/si02_psi_8nm_co_10_nm.csv', header=None, names=column_names)\n",
    "data_9nm = pd.read_csv('/Users/missbo/Desktop/Inżynierka/Elipsometr/psi/si02_psi_9nm_co_10_nm.csv', header=None, names=column_names)\n",
    "data_10nm = pd.read_csv('/Users/missbo/Desktop/Inżynierka/Elipsometr/psi/si02_psi_10nm_co_10_nm.csv', header=None,names=column_names)\n",
    "data_11nm = pd.read_csv('/Users/missbo/Desktop/Inżynierka/Elipsometr/psi/si02_psi_11nm_co_10_nm.csv', header=None,names=column_names)\n",
    "data_12nm = pd.read_csv('/Users/missbo/Desktop/Inżynierka/Elipsometr/psi/si02_psi_12nm_co_10_nm.csv', header=None,names=column_names)\n",
    "data_13nm = pd.read_csv('/Users/missbo/Desktop/Inżynierka/Elipsometr/psi/si02_psi_13nm_co_10_nm.csv', header=None,names=column_names)\n",
    "data_14nm = pd.read_csv('/Users/missbo/Desktop/Inżynierka/Elipsometr/psi/si02_psi_14nm_co_10_nm.csv', header=None,names=column_names)\n",
    "data_15nm = pd.read_csv('/Users/missbo/Desktop/Inżynierka/Elipsometr/psi/si02_psi_15nm_co_10_nm.csv', header=None,names=column_names)\n",
    "data_16nm = pd.read_csv('/Users/missbo/Desktop/Inżynierka/Elipsometr/psi/si02_psi_16nm_co_10_nm.csv', header=None,names=column_names)\n",
    "data_17nm = pd.read_csv('/Users/missbo/Desktop/Inżynierka/Elipsometr/psi/si02_psi_17nm_co_10_nm.csv', header=None,names=column_names)\n",
    "data_18nm = pd.read_csv('/Users/missbo/Desktop/Inżynierka/Elipsometr/psi/si02_psi_18nm_co_10_nm.csv', header=None,names=column_names)\n",
    "data_19nm = pd.read_csv('/Users/missbo/Desktop/Inżynierka/Elipsometr/psi/si02_psi_19nm_co_10_nm.csv', header=None,names=column_names)\n",
    "data_20nm = pd.read_csv('/Users/missbo/Desktop/Inżynierka/Elipsometr/psi/si02_psi_20nm_co_10_nm.csv', header=None,names=column_names)\n",
    "data_21nm = pd.read_csv('/Users/missbo/Desktop/Inżynierka/Elipsometr/psi/si02_psi_21nm_co_10_nm.csv', header=None,names=column_names)\n",
    "data_22nm = pd.read_csv('/Users/missbo/Desktop/Inżynierka/Elipsometr/psi/si02_psi_22nm_co_10_nm.csv', header=None,names=column_names)\n",
    "data_23nm = pd.read_csv('/Users/missbo/Desktop/Inżynierka/Elipsometr/psi/si02_psi_23nm_co_10_nm.csv', header=None,names=column_names)\n",
    "data_24nm = pd.read_csv('/Users/missbo/Desktop/Inżynierka/Elipsometr/psi/si02_psi_24nm_co_10_nm.csv', header=None,names=column_names)\n",
    "data_25nm = pd.read_csv('/Users/missbo/Desktop/Inżynierka/Elipsometr/psi/si02_psi_25nm_co_10_nm.csv', header=None,names=column_names)\n",
    "data_26nm = pd.read_csv('/Users/missbo/Desktop/Inżynierka/Elipsometr/psi/si02_psi_26nm_co_10_nm.csv', header=None,names=column_names)\n",
    "data_27nm = pd.read_csv('/Users/missbo/Desktop/Inżynierka/Elipsometr/psi/si02_psi_27nm_co_10_nm.csv', header=None,names=column_names)\n",
    "data_28nm = pd.read_csv('/Users/missbo/Desktop/Inżynierka/Elipsometr/psi/si02_psi_28nm_co_10_nm.csv', header=None,names=column_names)\n",
    "data_29nm = pd.read_csv('/Users/missbo/Desktop/Inżynierka/Elipsometr/psi/si02_psi_29nm_co_10_nm.csv', header=None,names=column_names)\n",
    "data_30nm = pd.read_csv('/Users/missbo/Desktop/Inżynierka/Elipsometr/psi/si02_psi_30nm_co_10_nm.csv', header=None,names=column_names)\n",
    "data_32nm = pd.read_csv('/Users/missbo/Desktop/Inżynierka/Elipsometr/psi/si02_psi_32nm_co_10_nm.csv', header=None,names=column_names)\n",
    "data_34nm = pd.read_csv('/Users/missbo/Desktop/Inżynierka/Elipsometr/psi/si02_psi_34nm_co_10_nm.csv', header=None,names=column_names)\n",
    "data_36nm = pd.read_csv('/Users/missbo/Desktop/Inżynierka/Elipsometr/psi/si02_psi_36nm_co_10_nm.csv', header=None,names=column_names)\n",
    "data_38nm = pd.read_csv('/Users/missbo/Desktop/Inżynierka/Elipsometr/psi/si02_psi_38nm_co_10_nm.csv', header=None,names=column_names)\n",
    "data_40nm = pd.read_csv('/Users/missbo/Desktop/Inżynierka/Elipsometr/psi/si02_psi_40nm_co_10_nm.csv', header=None,names=column_names)\n",
    "data_42nm = pd.read_csv('/Users/missbo/Desktop/Inżynierka/Elipsometr/psi/si02_psi_42nm_co_10_nm.csv', header=None,names=column_names)\n",
    "data_44nm = pd.read_csv('/Users/missbo/Desktop/Inżynierka/Elipsometr/psi/si02_psi_44nm_co_10_nm.csv', header=None,names=column_names)\n",
    "data_46nm = pd.read_csv('/Users/missbo/Desktop/Inżynierka/Elipsometr/psi/si02_psi_46nm_co_10_nm.csv', header=None,names=column_names)\n",
    "data_48nm = pd.read_csv('/Users/missbo/Desktop/Inżynierka/Elipsometr/psi/si02_psi_48nm_co_10_nm.csv', header=None,names=column_names)\n",
    "data_50nm = pd.read_csv('/Users/missbo/Desktop/Inżynierka/Elipsometr/psi/si02_psi_50nm_co_10_nm.csv', header=None,names=column_names)\n",
    "\n"
   ]
  },
  {
   "cell_type": "markdown",
   "metadata": {},
   "source": [
    "Add column Thickness"
   ]
  },
  {
   "cell_type": "code",
   "execution_count": 58,
   "metadata": {},
   "outputs": [],
   "source": [
    "data_1nm['Thickness'] = 1\n",
    "data_2nm['Thickness'] = 2\n",
    "data_3nm['Thickness'] = 3\n",
    "data_4nm['Thickness'] = 4\n",
    "data_5nm['Thickness'] = 5\n",
    "data_6nm['Thickness'] = 6\n",
    "data_7nm['Thickness'] = 7\n",
    "data_8nm['Thickness'] = 8\n",
    "data_9nm['Thickness'] = 9\n",
    "data_10nm['Thickness'] = 10\n",
    "data_11nm['Thickness'] = 11\n",
    "data_12nm['Thickness'] = 12\n",
    "data_13nm['Thickness'] = 13\n",
    "data_14nm['Thickness'] = 14\n",
    "data_15nm['Thickness'] = 15\n",
    "data_16nm['Thickness'] = 16\n",
    "data_17nm['Thickness'] = 17\n",
    "data_18nm['Thickness'] = 18\n",
    "data_19nm['Thickness'] = 19\n",
    "data_20nm['Thickness'] = 20\n",
    "data_21nm['Thickness'] = 21\n",
    "data_22nm['Thickness'] = 22\n",
    "data_23nm['Thickness'] = 23\n",
    "data_24nm['Thickness'] = 24\n",
    "data_25nm['Thickness'] = 25\n",
    "data_26nm['Thickness'] = 26\n",
    "data_27nm['Thickness'] = 27\n",
    "data_28nm['Thickness'] = 28\n",
    "data_29nm['Thickness'] = 29\n",
    "data_30nm['Thickness'] = 30\n",
    "data_32nm['Thickness'] = 32\n",
    "data_34nm['Thickness'] = 34\n",
    "data_36nm['Thickness'] = 36\n",
    "data_38nm['Thickness'] = 38\n",
    "data_40nm['Thickness'] = 40\n",
    "data_42nm['Thickness'] = 42\n",
    "data_44nm['Thickness'] = 44\n",
    "data_46nm['Thickness'] = 46\n",
    "data_48nm['Thickness'] = 48\n",
    "data_50nm['Thickness'] = 50"
   ]
  },
  {
   "cell_type": "markdown",
   "metadata": {},
   "source": [
    "Combine data"
   ]
  },
  {
   "cell_type": "code",
   "execution_count": 59,
   "metadata": {},
   "outputs": [
    {
     "name": "stdout",
     "output_type": "stream",
     "text": [
      "   Wavelength      65      70      75  Thickness\n",
      "0         300  32.894  29.654  25.600          1\n",
      "1         310  31.415  27.793  23.315          1\n",
      "2         320  30.629  26.794  22.062          1\n",
      "3         330  30.170  26.185  21.238          1\n",
      "4         340  29.959  25.877  20.744          1\n"
     ]
    }
   ],
   "source": [
    "frames = [data_1nm, data_2nm, data_3nm, data_4nm, data_5nm, data_6nm, data_7nm, data_8nm, data_9nm, data_10nm, data_11nm, data_12nm, data_13nm, data_14nm, data_15nm, data_16nm, data_17nm, data_18nm, data_19nm, data_20nm, data_21nm, data_22nm, data_23nm, data_24nm, data_25nm, data_26nm, data_27nm, data_28nm, data_29nm, data_30nm, data_32nm, data_34nm, data_36nm, data_38nm, data_40nm, data_42nm, data_44nm, data_46nm, data_48nm, data_50nm]\n",
    "combined_data = pd.concat(frames)\n",
    "combined_data=combined_data.fillna(0)\n",
    "print(combined_data.head())"
   ]
  },
  {
   "cell_type": "markdown",
   "metadata": {},
   "source": [
    "Train model"
   ]
  },
  {
   "cell_type": "code",
   "execution_count": 66,
   "metadata": {},
   "outputs": [
    {
     "name": "stdout",
     "output_type": "stream",
     "text": [
      "Mean Squared Error: 2.306816541761996\n",
      "R^2 Score: 0.9876081746642266\n",
      "Mean Absolute Percentage Error (MAE): 1.1230031070259945\n",
      "Symmetric Mean Absolute Percentage Error: 7.747177725296887\n",
      "Standard Deviation:6.36754500904218\n",
      "0.010599136352539062\n"
     ]
    }
   ],
   "source": [
    "X = combined_data.drop('Thickness', axis=1)\n",
    "y = combined_data['Thickness']\n",
    "\n",
    "X_train, X_test, y_train, y_test = train_test_split(X, y, test_size=0.2, random_state=42)\n",
    "\n",
    "tree_regressor = DecisionTreeRegressor()\n",
    "\n",
    "tree_regressor.fit(X_train, y_train)\n",
    "\n",
    "y_pred = tree_regressor.predict(X_test)\n",
    "\n",
    "def calculate_smape(y_test, y_pred):\n",
    "    numerator = np.abs(y_test - y_pred)\n",
    "    denominator = (np.abs(y_test) + np.abs(y_pred)) / 2\n",
    "    smape = np.mean(numerator / denominator) * 100\n",
    "    return smape\n",
    "\n",
    "mse = mean_squared_error(y_test, y_pred)\n",
    "r2 = r2_score(y_test, y_pred)\n",
    "mae = mean_absolute_error(y_test, y_pred)\n",
    "smape = calculate_smape(y_test,y_pred)\n",
    "# Odchylenie standardowe zbioru uczącego\n",
    "standard_deviation = statistics.stdev(X_train['65'])\n",
    "\n",
    "print(f'Mean Squared Error: {mse}')\n",
    "print(f'R^2 Score: {r2}')\n",
    "print(f\"Mean Absolute Percentage Error (MAE): {mae}\")\n",
    "print(f'Symmetric Mean Absolute Percentage Error: {smape}')\n",
    "print(f'Standard Deviation:{standard_deviation}')\n",
    "print(training_time)"
   ]
  },
  {
   "cell_type": "markdown",
   "metadata": {},
   "source": [
    "Predict new data"
   ]
  },
  {
   "cell_type": "code",
   "execution_count": 67,
   "metadata": {},
   "outputs": [],
   "source": [
    "\n",
    "folder_path = '/Users/missbo/Desktop/Inżynierka/Elipsometr/psi/psi_exp'\n",
    "output_folder = '/Users/missbo/Desktop/Inżynierka/Elipsometr/Files_results/DT_10/DT_psi'\n",
    "\n",
    "os.makedirs(output_folder, exist_ok=True)\n",
    "\n",
    "for file_name in os.listdir(folder_path):\n",
    "    if file_name.endswith('.csv'):\n",
    "        file_path = os.path.join(folder_path, file_name)\n",
    "        \n",
    "        new_data = pd.read_csv(file_path, header=None, names=column_names)\n",
    "        \n",
    "        missing_cols = set(X.columns) - set(new_data.columns)\n",
    "        if missing_cols:\n",
    "            raise ValueError(f\"New data is missing columns: {missing_cols}\")\n",
    "        \n",
    "        new_predictions = tree_regressor.predict(new_data)\n",
    "        new_data['Thickness'] = new_predictions\n",
    "\n",
    "        thickness = file_name.split('_')[2].replace('nm', '')\n",
    "        \n",
    "        output_file = os.path.join(output_folder, f\"DT_psi_{thickness}_nm\")\n",
    "        \n",
    "        with open(output_file, 'w') as plik:\n",
    "            for prediction in new_predictions:\n",
    "                plik.write(f\"{prediction:.2f}\\n\")"
   ]
  },
  {
   "cell_type": "code",
   "execution_count": 69,
   "metadata": {},
   "outputs": [],
   "source": [
    "directory = \"/Users/missbo/Desktop/Inżynierka/Elipsometr/psi/psi_exp\"\n",
    "\n",
    "for filename in os.listdir(directory):\n",
    "    f = os.path.join(directory, filename)\n",
    "    if os.path.isfile(f):\n",
    "        new_data = pd.read_csv(f, header=None, names=column_names, encoding='ISO-8859-1')\n",
    "        new_predictions = tree_regressor.predict(new_data)\n",
    "        new_data['Thickness'] = new_predictions\n",
    "        result = new_data['Thickness'].median()\n",
    "        \n",
    "        \n",
    "        with open(\"/Users/missbo/Desktop/Inżynierka/Elipsometr/results.txt\", 'a') as file_results:\n",
    "            file_results.write(str(result))\n",
    "            file_results.write(\" \")\n",
    "            #file_results.write(str(filename))\n",
    "            file_results.write('\\n')\n",
    "           "
   ]
  },
  {
   "cell_type": "code",
   "execution_count": 70,
   "metadata": {},
   "outputs": [],
   "source": [
    "with open(\"/Users/missbo/Desktop/Inżynierka/Elipsometr/results.txt\", 'w') as file:\n",
    "    pass"
   ]
  },
  {
   "cell_type": "markdown",
   "metadata": {},
   "source": [
    "Cos delta"
   ]
  },
  {
   "cell_type": "markdown",
   "metadata": {},
   "source": [
    "Import data "
   ]
  },
  {
   "cell_type": "code",
   "execution_count": 2,
   "metadata": {},
   "outputs": [],
   "source": [
    "column_names = ['Wavelength', '65', '70', '75']\n",
    "data_1nm = pd.read_csv('/Users/missbo/Desktop/Inżynierka/Elipsometr/cosdelta/si02_cosdelta_1nm_co_10_nm.csv', header=None, names=column_names)\n",
    "data_2nm = pd.read_csv('/Users/missbo/Desktop/Inżynierka/Elipsometr/cosdelta/si02_cosdelta_2nm_co_10_nm.csv', header=None, names=column_names)\n",
    "data_3nm = pd.read_csv('/Users/missbo/Desktop/Inżynierka/Elipsometr/cosdelta/si02_cosdelta_3nm_co_10_nm.csv', header=None, names=column_names)\n",
    "data_4nm = pd.read_csv('/Users/missbo/Desktop/Inżynierka/Elipsometr/cosdelta/si02_cosdelta_4nm_co_10_nm.csv', header=None, names=column_names)\n",
    "data_5nm = pd.read_csv('/Users/missbo/Desktop/Inżynierka/Elipsometr/cosdelta/si02_cosdelta_5nm_co_10_nm.csv', header=None, names=column_names)\n",
    "data_6nm = pd.read_csv('/Users/missbo/Desktop/Inżynierka/Elipsometr/cosdelta/si02_cosdelta_6nm_co_10_nm.csv', header=None, names=column_names)\n",
    "data_7nm = pd.read_csv('/Users/missbo/Desktop/Inżynierka/Elipsometr/cosdelta/si02_cosdelta_7nm_co_10_nm.csv', header=None, names=column_names)\n",
    "data_8nm = pd.read_csv('/Users/missbo/Desktop/Inżynierka/Elipsometr/cosdelta/si02_cosdelta_8nm_co_10_nm.csv', header=None, names=column_names)\n",
    "data_9nm = pd.read_csv('/Users/missbo/Desktop/Inżynierka/Elipsometr/cosdelta/si02_cosdelta_9nm_co_10_nm.csv', header=None, names=column_names)\n",
    "data_10nm = pd.read_csv('/Users/missbo/Desktop/Inżynierka/Elipsometr/cosdelta/si02_cosdelta_10nm_co_10_nm.csv', header=None, names=column_names)\n",
    "data_11nm = pd.read_csv('/Users/missbo/Desktop/Inżynierka/Elipsometr/cosdelta/si02_cosdelta_11nm_co_10_nm.csv', header=None, names=column_names)\n",
    "data_12nm = pd.read_csv('/Users/missbo/Desktop/Inżynierka/Elipsometr/cosdelta/si02_cosdelta_12nm_co_10_nm.csv', header=None, names=column_names)\n",
    "data_13nm = pd.read_csv('/Users/missbo/Desktop/Inżynierka/Elipsometr/cosdelta/si02_cosdelta_13nm_co_10_nm.csv', header=None, names=column_names)\n",
    "data_14nm = pd.read_csv('/Users/missbo/Desktop/Inżynierka/Elipsometr/cosdelta/si02_cosdelta_14nm_co_10_nm.csv', header=None, names=column_names)\n",
    "data_15nm = pd.read_csv('/Users/missbo/Desktop/Inżynierka/Elipsometr/cosdelta/si02_cosdelta_15nm_co_10_nm.csv', header=None, names=column_names)\n",
    "data_16nm = pd.read_csv('/Users/missbo/Desktop/Inżynierka/Elipsometr/cosdelta/si02_cosdelta_16nm_co_10_nm.csv', header=None, names=column_names)\n",
    "data_17nm = pd.read_csv('/Users/missbo/Desktop/Inżynierka/Elipsometr/cosdelta/si02_cosdelta_17nm_co_10_nm.csv', header=None, names=column_names)\n",
    "data_18nm = pd.read_csv('/Users/missbo/Desktop/Inżynierka/Elipsometr/cosdelta/si02_cosdelta_18nm_co_10_nm.csv', header=None, names=column_names)\n",
    "data_19nm = pd.read_csv('/Users/missbo/Desktop/Inżynierka/Elipsometr/cosdelta/si02_cosdelta_19nm_co_10_nm.csv', header=None, names=column_names)\n",
    "data_20nm = pd.read_csv('/Users/missbo/Desktop/Inżynierka/Elipsometr/cosdelta/si02_cosdelta_20nm_co_10_nm.csv', header=None, names=column_names)\n",
    "data_21nm = pd.read_csv('/Users/missbo/Desktop/Inżynierka/Elipsometr/cosdelta/si02_cosdelta_21nm_co_10_nm.csv', header=None, names=column_names)\n",
    "data_22nm = pd.read_csv('/Users/missbo/Desktop/Inżynierka/Elipsometr/cosdelta/si02_cosdelta_22nm_co_10_nm.csv', header=None, names=column_names)\n",
    "data_23nm = pd.read_csv('/Users/missbo/Desktop/Inżynierka/Elipsometr/cosdelta/si02_cosdelta_23nm_co_10_nm.csv', header=None, names=column_names)\n",
    "data_24nm = pd.read_csv('/Users/missbo/Desktop/Inżynierka/Elipsometr/cosdelta/si02_cosdelta_24nm_co_10_nm.csv', header=None, names=column_names)\n",
    "data_25nm = pd.read_csv('/Users/missbo/Desktop/Inżynierka/Elipsometr/cosdelta/si02_cosdelta_25nm_co_10_nm.csv', header=None, names=column_names)\n",
    "data_26nm = pd.read_csv('/Users/missbo/Desktop/Inżynierka/Elipsometr/cosdelta/si02_cosdelta_26nm_co_10_nm.csv', header=None, names=column_names)\n",
    "data_27nm = pd.read_csv('/Users/missbo/Desktop/Inżynierka/Elipsometr/cosdelta/si02_cosdelta_27nm_co_10_nm.csv', header=None, names=column_names)\n",
    "data_28nm = pd.read_csv('/Users/missbo/Desktop/Inżynierka/Elipsometr/cosdelta/si02_cosdelta_28nm_co_10_nm.csv', header=None, names=column_names)\n",
    "data_29nm = pd.read_csv('/Users/missbo/Desktop/Inżynierka/Elipsometr/cosdelta/si02_cosdelta_29nm_co_10_nm.csv', header=None, names=column_names)\n",
    "data_30nm = pd.read_csv('/Users/missbo/Desktop/Inżynierka/Elipsometr/cosdelta/si02_cosdelta_30nm_co_10_nm.csv', header=None, names=column_names)\n",
    "data_32nm = pd.read_csv('/Users/missbo/Desktop/Inżynierka/Elipsometr/cosdelta/si02_cosdelta_32nm_co_10_nm.csv', header=None, names=column_names)\n",
    "data_34nm = pd.read_csv('/Users/missbo/Desktop/Inżynierka/Elipsometr/cosdelta/si02_cosdelta_34nm_co_10_nm.csv', header=None, names=column_names)\n",
    "data_36nm = pd.read_csv('/Users/missbo/Desktop/Inżynierka/Elipsometr/cosdelta/si02_cosdelta_36nm_co_10_nm.csv', header=None, names=column_names)\n",
    "data_38nm = pd.read_csv('/Users/missbo/Desktop/Inżynierka/Elipsometr/cosdelta/si02_cosdelta_38nm_co_10_nm.csv', header=None, names=column_names)\n",
    "data_40nm = pd.read_csv('/Users/missbo/Desktop/Inżynierka/Elipsometr/cosdelta/si02_cosdelta_40nm_co_10_nm.csv', header=None, names=column_names)\n",
    "data_42nm = pd.read_csv('/Users/missbo/Desktop/Inżynierka/Elipsometr/cosdelta/si02_cosdelta_42nm_co_10_nm.csv', header=None, names=column_names)\n",
    "data_44nm = pd.read_csv('/Users/missbo/Desktop/Inżynierka/Elipsometr/cosdelta/si02_cosdelta_44nm_co_10_nm.csv', header=None, names=column_names)\n",
    "data_46nm = pd.read_csv('/Users/missbo/Desktop/Inżynierka/Elipsometr/cosdelta/si02_cosdelta_46nm_co_10_nm.csv', header=None, names=column_names)\n",
    "data_48nm = pd.read_csv('/Users/missbo/Desktop/Inżynierka/Elipsometr/cosdelta/si02_cosdelta_48nm_co_10_nm.csv', header=None, names=column_names)\n",
    "data_50nm = pd.read_csv('/Users/missbo/Desktop/Inżynierka/Elipsometr/cosdelta/si02_cosdelta_50nm_co_10_nm.csv', header=None, names=column_names)\n",
    "\n"
   ]
  },
  {
   "cell_type": "markdown",
   "metadata": {},
   "source": [
    "Add column Thickness"
   ]
  },
  {
   "cell_type": "code",
   "execution_count": 3,
   "metadata": {},
   "outputs": [],
   "source": [
    "data_1nm['Thickness'] = 1\n",
    "data_2nm['Thickness'] = 2\n",
    "data_3nm['Thickness'] = 3\n",
    "data_4nm['Thickness'] = 4\n",
    "data_5nm['Thickness'] = 5\n",
    "data_6nm['Thickness'] = 6\n",
    "data_7nm['Thickness'] = 7\n",
    "data_8nm['Thickness'] = 8\n",
    "data_9nm['Thickness'] = 9\n",
    "data_10nm['Thickness'] = 10\n",
    "data_11nm['Thickness'] = 11\n",
    "data_12nm['Thickness'] = 12\n",
    "data_13nm['Thickness'] = 13\n",
    "data_14nm['Thickness'] = 14\n",
    "data_15nm['Thickness'] = 15\n",
    "data_16nm['Thickness'] = 16\n",
    "data_17nm['Thickness'] = 17\n",
    "data_18nm['Thickness'] = 18\n",
    "data_19nm['Thickness'] = 19\n",
    "data_20nm['Thickness'] = 20\n",
    "data_21nm['Thickness'] = 21\n",
    "data_22nm['Thickness'] = 22\n",
    "data_23nm['Thickness'] = 23\n",
    "data_24nm['Thickness'] = 24\n",
    "data_25nm['Thickness'] = 25\n",
    "data_26nm['Thickness'] = 26\n",
    "data_27nm['Thickness'] = 27\n",
    "data_28nm['Thickness'] = 28\n",
    "data_29nm['Thickness'] = 29\n",
    "data_30nm['Thickness'] = 30\n",
    "data_32nm['Thickness'] = 32\n",
    "data_34nm['Thickness'] = 34\n",
    "data_36nm['Thickness'] = 36\n",
    "data_38nm['Thickness'] = 38\n",
    "data_40nm['Thickness'] = 40\n",
    "data_42nm['Thickness'] = 42\n",
    "data_44nm['Thickness'] = 44\n",
    "data_46nm['Thickness'] = 46\n",
    "data_48nm['Thickness'] = 48\n",
    "data_50nm['Thickness'] = 50"
   ]
  },
  {
   "cell_type": "markdown",
   "metadata": {},
   "source": [
    "Combine data"
   ]
  },
  {
   "cell_type": "code",
   "execution_count": 4,
   "metadata": {},
   "outputs": [
    {
     "name": "stdout",
     "output_type": "stream",
     "text": [
      "   Wavelength       65       70       75  Thickness\n",
      "0         300 -0.90549 -0.82779 -0.64895          1\n",
      "1         310 -0.91014 -0.83261 -0.64437          1\n",
      "2         320 -0.91487 -0.83912 -0.64826          1\n",
      "3         330 -0.92106 -0.84919 -0.66231          1\n",
      "4         340 -0.92801 -0.86146 -0.68398          1\n"
     ]
    }
   ],
   "source": [
    "frames = [data_1nm, data_2nm, data_3nm, data_4nm, data_5nm, data_6nm, data_7nm, data_8nm, data_9nm, data_10nm, data_11nm, data_12nm, data_13nm, data_14nm, data_15nm, data_16nm, data_17nm, data_18nm, data_19nm, data_20nm, data_21nm, data_22nm, data_23nm, data_24nm, data_25nm, data_26nm, data_27nm, data_28nm, data_29nm, data_30nm, data_32nm, data_34nm, data_36nm, data_38nm, data_40nm, data_42nm, data_44nm, data_46nm, data_48nm, data_50nm]\n",
    "combined_data = pd.concat(frames)\n",
    "combined_data=combined_data.fillna(0)\n",
    "print(combined_data.head())"
   ]
  },
  {
   "cell_type": "markdown",
   "metadata": {},
   "source": [
    "Train model"
   ]
  },
  {
   "cell_type": "code",
   "execution_count": 5,
   "metadata": {},
   "outputs": [
    {
     "name": "stdout",
     "output_type": "stream",
     "text": [
      "Mean Squared Error: 0.721830985915493\n",
      "R^2 Score: 0.9961224469577534\n",
      "Mean Absolute Percentage Error (MAE): 0.397887323943662\n",
      "Symmetric Mean Absolute Percentage Error: 2.5592170101257783\n",
      "Standard Deviation:0.1993677496661451\n"
     ]
    }
   ],
   "source": [
    "X = combined_data.drop('Thickness', axis=1)\n",
    "y = combined_data['Thickness']\n",
    "\n",
    "X_train, X_test, y_train, y_test = train_test_split(X, y, test_size=0.2, random_state=42)\n",
    "\n",
    "tree_regressor = DecisionTreeRegressor()\n",
    "\n",
    "tree_regressor.fit(X_train, y_train)\n",
    "\n",
    "y_pred = tree_regressor.predict(X_test)\n",
    "\n",
    "def calculate_smape(y_test, y_pred):\n",
    "    numerator = np.abs(y_test - y_pred)\n",
    "    denominator = (np.abs(y_test) + np.abs(y_pred)) / 2\n",
    "    smape = np.mean(numerator / denominator) * 100\n",
    "    return smape\n",
    "\n",
    "mse = mean_squared_error(y_test, y_pred)\n",
    "r2 = r2_score(y_test, y_pred)\n",
    "mae = mean_absolute_error(y_test, y_pred)\n",
    "smape = calculate_smape(y_test,y_pred)\n",
    "# Odchylenie standardowe zbioru uczącego\n",
    "standard_deviation = statistics.stdev(X_train['65'])\n",
    "\n",
    "print(f'Mean Squared Error: {mse}')\n",
    "print(f'R^2 Score: {r2}')\n",
    "print(f\"Mean Absolute Percentage Error (MAE): {mae}\")\n",
    "print(f'Symmetric Mean Absolute Percentage Error: {smape}')\n",
    "print(f'Standard Deviation:{standard_deviation}')"
   ]
  },
  {
   "cell_type": "markdown",
   "metadata": {},
   "source": [
    "Predict new data"
   ]
  },
  {
   "cell_type": "code",
   "execution_count": 21,
   "metadata": {},
   "outputs": [
    {
     "name": "stdout",
     "output_type": "stream",
     "text": [
      "   Wavelength       65        70       75\n",
      "0         400 -0.29000  0.013072  0.35718\n",
      "1         410 -0.29188  0.013532  0.36047\n",
      "2         420 -0.29626  0.011575  0.36190\n",
      "3         430 -0.30221  0.008195  0.36238\n",
      "4         440 -0.30902  0.004077  0.36245\n",
      "48.0\n"
     ]
    }
   ],
   "source": [
    "\n",
    "new_data = pd.read_csv('/Users/missbo/Desktop/Inżynierka/Elipsometr/cosdelta/cosdelta_exp/si02_cosdelta_48-6_nm_exp_co_10_nm.csv', header=None,names=column_names, encoding='ISO-8859-1')\n",
    "\n",
    "print(new_data.head())\n",
    "\n",
    "missing_cols = set(X.columns) - set(new_data.columns)\n",
    "if missing_cols:\n",
    "    raise ValueError(f\"New data is missing columns: {missing_cols}\")\n",
    "\n",
    "\n",
    "new_predictions = tree_regressor.predict(new_data)\n",
    "\n",
    "new_data['Thickness'] = new_predictions\n",
    "\n",
    "\n",
    "plik = open('/Users/missbo/Desktop/Inżynierka/Elipsometr/Files_results/ DT_cosdelta_exp/DT_cosdelta_48_6_nm','w')\n",
    "for prediction in new_predictions:\n",
    "        plik.write(f\"{prediction:.2f}\\n\")\n",
    "plik.close()\n",
    "\n",
    "print((new_data['Thickness']).median())"
   ]
  },
  {
   "cell_type": "code",
   "execution_count": 40,
   "metadata": {},
   "outputs": [],
   "source": [
    "directory = \"/Users/missbo/Desktop/Inżynierka/Elipsometr/cosdelta/cosdelta_ver\"\n",
    "\n",
    "for filename in os.listdir(directory):\n",
    "    f = os.path.join(directory, filename)\n",
    "    if os.path.isfile(f):\n",
    "        new_data = pd.read_csv(f, header=None, names=column_names, encoding='ISO-8859-1')\n",
    "        new_predictions = tree_regressor.predict(new_data)\n",
    "        new_data['Thickness'] = new_predictions\n",
    "        result = new_data['Thickness'].median()\n",
    "        \n",
    "        \n",
    "        with open(\"/Users/missbo/Desktop/Inżynierka/Elipsometr/results.txt\", 'a') as file_results:\n",
    "            file_results.write(str(result))\n",
    "            file_results.write(\" \")\n",
    "            file_results.write(str(filename))\n",
    "            file_results.write('\\n')"
   ]
  },
  {
   "cell_type": "code",
   "execution_count": 41,
   "metadata": {},
   "outputs": [],
   "source": [
    "with open(\"/Users/missbo/Desktop/Inżynierka/Elipsometr/results.txt\", 'w') as file:\n",
    "    pass"
   ]
  },
  {
   "cell_type": "markdown",
   "metadata": {},
   "source": [
    "Tan psi"
   ]
  },
  {
   "cell_type": "markdown",
   "metadata": {},
   "source": [
    "Import data"
   ]
  },
  {
   "cell_type": "code",
   "execution_count": 22,
   "metadata": {},
   "outputs": [],
   "source": [
    "column_names = ['Wavelength', '65', '70', '75']\n",
    "data_1nm = pd.read_csv('/Users/missbo/Desktop/Inżynierka/Elipsometr/tanpsi/si02_tanpsi_1nm_co_10_nm.csv', header=None, names=column_names)\n",
    "data_2nm = pd.read_csv('/Users/missbo/Desktop/Inżynierka/Elipsometr/tanpsi/si02_tanpsi_2nm_co_10_nm.csv', header=None, names=column_names)\n",
    "data_3nm = pd.read_csv('/Users/missbo/Desktop/Inżynierka/Elipsometr/tanpsi/si02_tanpsi_3nm_co_10_nm.csv', header=None, names=column_names)\n",
    "data_4nm = pd.read_csv('/Users/missbo/Desktop/Inżynierka/Elipsometr/tanpsi/si02_tanpsi_4nm_co_10_nm.csv', header=None, names=column_names)\n",
    "data_5nm = pd.read_csv('/Users/missbo/Desktop/Inżynierka/Elipsometr/tanpsi/si02_tanpsi_5nm_co_10_nm.csv', header=None, names=column_names)\n",
    "data_6nm = pd.read_csv('/Users/missbo/Desktop/Inżynierka/Elipsometr/tanpsi/si02_tanpsi_6nm_co_10_nm.csv', header=None, names=column_names)\n",
    "data_7nm = pd.read_csv('/Users/missbo/Desktop/Inżynierka/Elipsometr/tanpsi/si02_tanpsi_7nm_co_10_nm.csv', header=None, names=column_names)\n",
    "data_8nm = pd.read_csv('/Users/missbo/Desktop/Inżynierka/Elipsometr/tanpsi/si02_tanpsi_8nm_co_10_nm.csv', header=None, names=column_names)\n",
    "data_9nm = pd.read_csv('/Users/missbo/Desktop/Inżynierka/Elipsometr/tanpsi/si02_tanpsi_9nm_co_10_nm.csv', header=None, names=column_names)\n",
    "data_10nm = pd.read_csv('/Users/missbo/Desktop/Inżynierka/Elipsometr/tanpsi/si02_tanpsi_10nm_co_10_nm.csv', header=None, names=column_names)\n",
    "data_11nm = pd.read_csv('/Users/missbo/Desktop/Inżynierka/Elipsometr/tanpsi/si02_tanpsi_11nm_co_10_nm.csv', header=None, names=column_names)\n",
    "data_12nm = pd.read_csv('/Users/missbo/Desktop/Inżynierka/Elipsometr/tanpsi/si02_tanpsi_12nm_co_10_nm.csv', header=None, names=column_names)\n",
    "data_13nm = pd.read_csv('/Users/missbo/Desktop/Inżynierka/Elipsometr/tanpsi/si02_tanpsi_13nm_co_10_nm.csv', header=None, names=column_names)\n",
    "data_14nm = pd.read_csv('/Users/missbo/Desktop/Inżynierka/Elipsometr/tanpsi/si02_tanpsi_14nm_co_10_nm.csv', header=None, names=column_names)\n",
    "data_15nm = pd.read_csv('/Users/missbo/Desktop/Inżynierka/Elipsometr/tanpsi/si02_tanpsi_15nm_co_10_nm.csv', header=None, names=column_names)\n",
    "data_16nm = pd.read_csv('/Users/missbo/Desktop/Inżynierka/Elipsometr/tanpsi/si02_tanpsi_16nm_co_10_nm.csv', header=None, names=column_names)\n",
    "data_17nm = pd.read_csv('/Users/missbo/Desktop/Inżynierka/Elipsometr/tanpsi/si02_tanpsi_17nm_co_10_nm.csv', header=None, names=column_names)\n",
    "data_18nm = pd.read_csv('/Users/missbo/Desktop/Inżynierka/Elipsometr/tanpsi/si02_tanpsi_18nm_co_10_nm.csv', header=None, names=column_names)\n",
    "data_19nm = pd.read_csv('/Users/missbo/Desktop/Inżynierka/Elipsometr/tanpsi/si02_tanpsi_19nm_co_10_nm.csv', header=None, names=column_names)\n",
    "data_20nm = pd.read_csv('/Users/missbo/Desktop/Inżynierka/Elipsometr/tanpsi/si02_tanpsi_20nm_co_10_nm.csv', header=None, names=column_names)\n",
    "data_21nm = pd.read_csv('/Users/missbo/Desktop/Inżynierka/Elipsometr/tanpsi/si02_tanpsi_21nm_co_10_nm.csv', header=None, names=column_names)\n",
    "data_22nm = pd.read_csv('/Users/missbo/Desktop/Inżynierka/Elipsometr/tanpsi/si02_tanpsi_22nm_co_10_nm.csv', header=None, names=column_names)\n",
    "data_23nm = pd.read_csv('/Users/missbo/Desktop/Inżynierka/Elipsometr/tanpsi/si02_tanpsi_23nm_co_10_nm.csv', header=None, names=column_names)\n",
    "data_24nm = pd.read_csv('/Users/missbo/Desktop/Inżynierka/Elipsometr/tanpsi/si02_tanpsi_24nm_co_10_nm.csv', header=None, names=column_names)\n",
    "data_25nm = pd.read_csv('/Users/missbo/Desktop/Inżynierka/Elipsometr/tanpsi/si02_tanpsi_25nm_co_10_nm.csv', header=None, names=column_names)\n",
    "data_26nm = pd.read_csv('/Users/missbo/Desktop/Inżynierka/Elipsometr/tanpsi/si02_tanpsi_26nm_co_10_nm.csv', header=None, names=column_names)\n",
    "data_27nm = pd.read_csv('/Users/missbo/Desktop/Inżynierka/Elipsometr/tanpsi/si02_tanpsi_27nm_co_10_nm.csv', header=None, names=column_names)\n",
    "data_28nm = pd.read_csv('/Users/missbo/Desktop/Inżynierka/Elipsometr/tanpsi/si02_tanpsi_28nm_co_10_nm.csv', header=None, names=column_names)\n",
    "data_29nm = pd.read_csv('/Users/missbo/Desktop/Inżynierka/Elipsometr/tanpsi/si02_tanpsi_29nm_co_10_nm.csv', header=None, names=column_names)\n",
    "data_30nm = pd.read_csv('/Users/missbo/Desktop/Inżynierka/Elipsometr/tanpsi/si02_tanpsi_30nm_co_10_nm.csv', header=None, names=column_names)\n",
    "data_32nm = pd.read_csv('/Users/missbo/Desktop/Inżynierka/Elipsometr/tanpsi/si02_tanpsi_32nm_co_10_nm.csv', header=None, names=column_names)\n",
    "data_34nm = pd.read_csv('/Users/missbo/Desktop/Inżynierka/Elipsometr/tanpsi/si02_tanpsi_34nm_co_10_nm.csv', header=None, names=column_names)\n",
    "data_36nm = pd.read_csv('/Users/missbo/Desktop/Inżynierka/Elipsometr/tanpsi/si02_tanpsi_36nm_co_10_nm.csv', header=None, names=column_names)\n",
    "data_38nm = pd.read_csv('/Users/missbo/Desktop/Inżynierka/Elipsometr/tanpsi/si02_tanpsi_38nm_co_10_nm.csv', header=None, names=column_names)\n",
    "data_40nm = pd.read_csv('/Users/missbo/Desktop/Inżynierka/Elipsometr/tanpsi/si02_tanpsi_40nm_co_10_nm.csv', header=None, names=column_names)\n",
    "data_42nm = pd.read_csv('/Users/missbo/Desktop/Inżynierka/Elipsometr/tanpsi/si02_tanpsi_42nm_co_10_nm.csv', header=None, names=column_names)\n",
    "data_44nm = pd.read_csv('/Users/missbo/Desktop/Inżynierka/Elipsometr/tanpsi/si02_tanpsi_44nm_co_10_nm.csv', header=None, names=column_names)\n",
    "data_46nm = pd.read_csv('/Users/missbo/Desktop/Inżynierka/Elipsometr/tanpsi/si02_tanpsi_46nm_co_10_nm.csv', header=None, names=column_names)\n",
    "data_48nm = pd.read_csv('/Users/missbo/Desktop/Inżynierka/Elipsometr/tanpsi/si02_tanpsi_48nm_co_10_nm.csv', header=None, names=column_names)\n",
    "data_50nm = pd.read_csv('/Users/missbo/Desktop/Inżynierka/Elipsometr/tanpsi/si02_tanpsi_50nm_co_10_nm.csv', header=None, names=column_names)\n"
   ]
  },
  {
   "cell_type": "markdown",
   "metadata": {},
   "source": [
    "Add column Thickness"
   ]
  },
  {
   "cell_type": "code",
   "execution_count": 23,
   "metadata": {},
   "outputs": [],
   "source": [
    "data_1nm['Thickness'] = 1\n",
    "data_2nm['Thickness'] = 2\n",
    "data_3nm['Thickness'] = 3\n",
    "data_4nm['Thickness'] = 4\n",
    "data_5nm['Thickness'] = 5\n",
    "data_6nm['Thickness'] = 6\n",
    "data_7nm['Thickness'] = 7\n",
    "data_8nm['Thickness'] = 8\n",
    "data_9nm['Thickness'] = 9\n",
    "data_10nm['Thickness'] = 10\n",
    "data_11nm['Thickness'] = 11\n",
    "data_12nm['Thickness'] = 12\n",
    "data_13nm['Thickness'] = 13\n",
    "data_14nm['Thickness'] = 14\n",
    "data_15nm['Thickness'] = 15\n",
    "data_16nm['Thickness'] = 16\n",
    "data_17nm['Thickness'] = 17\n",
    "data_18nm['Thickness'] = 18\n",
    "data_19nm['Thickness'] = 19\n",
    "data_20nm['Thickness'] = 20\n",
    "data_21nm['Thickness'] = 21\n",
    "data_22nm['Thickness'] = 22\n",
    "data_23nm['Thickness'] = 23\n",
    "data_24nm['Thickness'] = 24\n",
    "data_25nm['Thickness'] = 25\n",
    "data_26nm['Thickness'] = 26\n",
    "data_27nm['Thickness'] = 27\n",
    "data_28nm['Thickness'] = 28\n",
    "data_29nm['Thickness'] = 29\n",
    "data_30nm['Thickness'] = 30\n",
    "data_32nm['Thickness'] = 32\n",
    "data_34nm['Thickness'] = 34\n",
    "data_36nm['Thickness'] = 36\n",
    "data_38nm['Thickness'] = 38\n",
    "data_40nm['Thickness'] = 40\n",
    "data_42nm['Thickness'] = 42\n",
    "data_44nm['Thickness'] = 44\n",
    "data_46nm['Thickness'] = 46\n",
    "data_48nm['Thickness'] = 48\n",
    "data_50nm['Thickness'] = 50"
   ]
  },
  {
   "cell_type": "markdown",
   "metadata": {},
   "source": [
    "Combine data"
   ]
  },
  {
   "cell_type": "code",
   "execution_count": 24,
   "metadata": {},
   "outputs": [
    {
     "name": "stdout",
     "output_type": "stream",
     "text": [
      "   Wavelength       65       70       75  Thickness\n",
      "0         300  0.64679  0.56932  0.47913          1\n",
      "1         310  0.61075  0.52708  0.43098          1\n",
      "2         320  0.59209  0.50500  0.40528          1\n",
      "3         330  0.58131  0.49174  0.38864          1\n",
      "4         340  0.57641  0.48507  0.37875          1\n"
     ]
    }
   ],
   "source": [
    "frames = [data_1nm, data_2nm, data_3nm, data_4nm, data_5nm, data_6nm, data_7nm, data_8nm, data_9nm, data_10nm, data_11nm, data_12nm, data_13nm, data_14nm, data_15nm, data_16nm, data_17nm, data_18nm, data_19nm, data_20nm, data_21nm, data_22nm, data_23nm, data_24nm, data_25nm, data_26nm, data_27nm, data_28nm, data_29nm, data_30nm, data_32nm, data_34nm, data_36nm, data_38nm, data_40nm, data_42nm, data_44nm, data_46nm, data_48nm, data_50nm]\n",
    "combined_data = pd.concat(frames)\n",
    "combined_data=combined_data.fillna(0)\n",
    "print(combined_data.head())"
   ]
  },
  {
   "cell_type": "markdown",
   "metadata": {},
   "source": [
    "Train model"
   ]
  },
  {
   "cell_type": "code",
   "execution_count": 25,
   "metadata": {},
   "outputs": [
    {
     "name": "stdout",
     "output_type": "stream",
     "text": [
      "Mean Squared Error: 1.7605633802816902\n",
      "R^2 Score: 0.9905425535554961\n",
      "Mean Absolute Percentage Error (MAE): 0.954225352112676\n",
      "Symmetric Mean Absolute Percentage Error: 6.650933837572236\n",
      "Standard Deviation:0.14280688742010497\n"
     ]
    }
   ],
   "source": [
    "X = combined_data.drop('Thickness', axis=1)\n",
    "y = combined_data['Thickness']\n",
    "\n",
    "X_train, X_test, y_train, y_test = train_test_split(X, y, test_size=0.2, random_state=42)\n",
    "\n",
    "tree_regressor = DecisionTreeRegressor()\n",
    "\n",
    "tree_regressor.fit(X_train, y_train)\n",
    "\n",
    "y_pred = tree_regressor.predict(X_test)\n",
    "\n",
    "def calculate_smape(y_test, y_pred):\n",
    "    numerator = np.abs(y_test - y_pred)\n",
    "    denominator = (np.abs(y_test) + np.abs(y_pred)) / 2\n",
    "    smape = np.mean(numerator / denominator) * 100\n",
    "    return smape\n",
    "\n",
    "mse = mean_squared_error(y_test, y_pred)\n",
    "r2 = r2_score(y_test, y_pred)\n",
    "mae = mean_absolute_error(y_test, y_pred)\n",
    "smape = calculate_smape(y_test,y_pred)\n",
    "# Odchylenie standardowe zbioru uczącego\n",
    "standard_deviation = statistics.stdev(X_train['65'])\n",
    "\n",
    "print(f'Mean Squared Error: {mse}')\n",
    "print(f'R^2 Score: {r2}')\n",
    "print(f\"Mean Absolute Percentage Error (MAE): {mae}\")\n",
    "print(f'Symmetric Mean Absolute Percentage Error: {smape}')\n",
    "print(f'Standard Deviation:{standard_deviation}')"
   ]
  },
  {
   "cell_type": "markdown",
   "metadata": {},
   "source": [
    "Predict new data"
   ]
  },
  {
   "cell_type": "code",
   "execution_count": 39,
   "metadata": {},
   "outputs": [
    {
     "name": "stdout",
     "output_type": "stream",
     "text": [
      "   Wavelength       65       70       75\n",
      "0         400  0.73662  0.72709  0.74225\n",
      "1         410  0.70858  0.69854  0.71540\n",
      "2         420  0.68399  0.67331  0.69145\n",
      "3         430  0.66176  0.65032  0.66946\n",
      "4         440  0.64156  0.62926  0.64919\n",
      "48.0\n"
     ]
    }
   ],
   "source": [
    "\n",
    "new_data = pd.read_csv('/Users/missbo/Desktop/Inżynierka/Elipsometr/tanpsi/tanpsi_exp/si02_tanpsi_48-6_nm_exp_co_10_nm.csv', header=None,names=column_names, encoding='ISO-8859-1')\n",
    "\n",
    "print(new_data.head())\n",
    "\n",
    "missing_cols = set(X.columns) - set(new_data.columns)\n",
    "if missing_cols:\n",
    "    raise ValueError(f\"New data is missing columns: {missing_cols}\")\n",
    "\n",
    "\n",
    "new_predictions = tree_regressor.predict(new_data)\n",
    "\n",
    "new_data['Thickness'] = new_predictions\n",
    "\n",
    "\n",
    "plik = open('/Users/missbo/Desktop/Inżynierka/Elipsometr/Files_results/ DT_tanpsi_exp/DT_tanpsi_48_6_nm','w')\n",
    "for prediction in new_predictions:\n",
    "        plik.write(f\"{prediction:.2f}\\n\")\n",
    "plik.close()\n",
    "\n",
    "print((new_data['Thickness']).median())"
   ]
  },
  {
   "cell_type": "code",
   "execution_count": 78,
   "metadata": {},
   "outputs": [
    {
     "ename": "ValueError",
     "evalue": "could not convert string to float: 'ÿÿÿÿÿÿ'",
     "output_type": "error",
     "traceback": [
      "\u001b[0;31m---------------------------------------------------------------------------\u001b[0m",
      "\u001b[0;31mValueError\u001b[0m                                Traceback (most recent call last)",
      "\u001b[0;32m/var/folders/b6/m0bd69156l759mq5q49b7nw80000gn/T/ipykernel_70736/2292902475.py\u001b[0m in \u001b[0;36m?\u001b[0;34m()\u001b[0m\n\u001b[1;32m      3\u001b[0m \u001b[0;32mfor\u001b[0m \u001b[0mfilename\u001b[0m \u001b[0;32min\u001b[0m \u001b[0mos\u001b[0m\u001b[0;34m.\u001b[0m\u001b[0mlistdir\u001b[0m\u001b[0;34m(\u001b[0m\u001b[0mdirectory\u001b[0m\u001b[0;34m)\u001b[0m\u001b[0;34m:\u001b[0m\u001b[0;34m\u001b[0m\u001b[0;34m\u001b[0m\u001b[0m\n\u001b[1;32m      4\u001b[0m     \u001b[0mf\u001b[0m \u001b[0;34m=\u001b[0m \u001b[0mos\u001b[0m\u001b[0;34m.\u001b[0m\u001b[0mpath\u001b[0m\u001b[0;34m.\u001b[0m\u001b[0mjoin\u001b[0m\u001b[0;34m(\u001b[0m\u001b[0mdirectory\u001b[0m\u001b[0;34m,\u001b[0m \u001b[0mfilename\u001b[0m\u001b[0;34m)\u001b[0m\u001b[0;34m\u001b[0m\u001b[0;34m\u001b[0m\u001b[0m\n\u001b[1;32m      5\u001b[0m     \u001b[0;32mif\u001b[0m \u001b[0mos\u001b[0m\u001b[0;34m.\u001b[0m\u001b[0mpath\u001b[0m\u001b[0;34m.\u001b[0m\u001b[0misfile\u001b[0m\u001b[0;34m(\u001b[0m\u001b[0mf\u001b[0m\u001b[0;34m)\u001b[0m\u001b[0;34m:\u001b[0m\u001b[0;34m\u001b[0m\u001b[0;34m\u001b[0m\u001b[0m\n\u001b[1;32m      6\u001b[0m         \u001b[0mnew_data\u001b[0m \u001b[0;34m=\u001b[0m \u001b[0mpd\u001b[0m\u001b[0;34m.\u001b[0m\u001b[0mread_csv\u001b[0m\u001b[0;34m(\u001b[0m\u001b[0mf\u001b[0m\u001b[0;34m,\u001b[0m \u001b[0mheader\u001b[0m\u001b[0;34m=\u001b[0m\u001b[0;32mNone\u001b[0m\u001b[0;34m,\u001b[0m \u001b[0mnames\u001b[0m\u001b[0;34m=\u001b[0m\u001b[0mcolumn_names\u001b[0m\u001b[0;34m,\u001b[0m \u001b[0mencoding\u001b[0m\u001b[0;34m=\u001b[0m\u001b[0;34m'ISO-8859-1'\u001b[0m\u001b[0;34m)\u001b[0m\u001b[0;34m\u001b[0m\u001b[0;34m\u001b[0m\u001b[0m\n\u001b[0;32m----> 7\u001b[0;31m         \u001b[0mnew_predictions\u001b[0m \u001b[0;34m=\u001b[0m \u001b[0mtree_regressor\u001b[0m\u001b[0;34m.\u001b[0m\u001b[0mpredict\u001b[0m\u001b[0;34m(\u001b[0m\u001b[0mnew_data\u001b[0m\u001b[0;34m)\u001b[0m\u001b[0;34m\u001b[0m\u001b[0;34m\u001b[0m\u001b[0m\n\u001b[0m\u001b[1;32m      8\u001b[0m         \u001b[0mnew_data\u001b[0m\u001b[0;34m[\u001b[0m\u001b[0;34m'Thickness'\u001b[0m\u001b[0;34m]\u001b[0m \u001b[0;34m=\u001b[0m \u001b[0mnew_predictions\u001b[0m\u001b[0;34m\u001b[0m\u001b[0;34m\u001b[0m\u001b[0m\n\u001b[1;32m      9\u001b[0m         \u001b[0mresult\u001b[0m \u001b[0;34m=\u001b[0m \u001b[0mnew_data\u001b[0m\u001b[0;34m[\u001b[0m\u001b[0;34m'Thickness'\u001b[0m\u001b[0;34m]\u001b[0m\u001b[0;34m.\u001b[0m\u001b[0mmedian\u001b[0m\u001b[0;34m(\u001b[0m\u001b[0;34m)\u001b[0m\u001b[0;34m\u001b[0m\u001b[0;34m\u001b[0m\u001b[0m\n\u001b[1;32m     10\u001b[0m \u001b[0;34m\u001b[0m\u001b[0m\n",
      "\u001b[0;32m~/miniconda3/envs/Lumispy/lib/python3.11/site-packages/sklearn/tree/_classes.py\u001b[0m in \u001b[0;36m?\u001b[0;34m(self, X, check_input)\u001b[0m\n\u001b[1;32m    525\u001b[0m         \u001b[0my\u001b[0m \u001b[0;34m:\u001b[0m \u001b[0marray\u001b[0m\u001b[0;34m-\u001b[0m\u001b[0mlike\u001b[0m \u001b[0mof\u001b[0m \u001b[0mshape\u001b[0m \u001b[0;34m(\u001b[0m\u001b[0mn_samples\u001b[0m\u001b[0;34m,\u001b[0m\u001b[0;34m)\u001b[0m \u001b[0;32mor\u001b[0m \u001b[0;34m(\u001b[0m\u001b[0mn_samples\u001b[0m\u001b[0;34m,\u001b[0m \u001b[0mn_outputs\u001b[0m\u001b[0;34m)\u001b[0m\u001b[0;34m\u001b[0m\u001b[0;34m\u001b[0m\u001b[0m\n\u001b[1;32m    526\u001b[0m             \u001b[0mThe\u001b[0m \u001b[0mpredicted\u001b[0m \u001b[0mclasses\u001b[0m\u001b[0;34m,\u001b[0m \u001b[0;32mor\u001b[0m \u001b[0mthe\u001b[0m \u001b[0mpredict\u001b[0m \u001b[0mvalues\u001b[0m\u001b[0;34m.\u001b[0m\u001b[0;34m\u001b[0m\u001b[0;34m\u001b[0m\u001b[0m\n\u001b[1;32m    527\u001b[0m         \"\"\"\n\u001b[1;32m    528\u001b[0m         \u001b[0mcheck_is_fitted\u001b[0m\u001b[0;34m(\u001b[0m\u001b[0mself\u001b[0m\u001b[0;34m)\u001b[0m\u001b[0;34m\u001b[0m\u001b[0;34m\u001b[0m\u001b[0m\n\u001b[0;32m--> 529\u001b[0;31m         \u001b[0mX\u001b[0m \u001b[0;34m=\u001b[0m \u001b[0mself\u001b[0m\u001b[0;34m.\u001b[0m\u001b[0m_validate_X_predict\u001b[0m\u001b[0;34m(\u001b[0m\u001b[0mX\u001b[0m\u001b[0;34m,\u001b[0m \u001b[0mcheck_input\u001b[0m\u001b[0;34m)\u001b[0m\u001b[0;34m\u001b[0m\u001b[0;34m\u001b[0m\u001b[0m\n\u001b[0m\u001b[1;32m    530\u001b[0m         \u001b[0mproba\u001b[0m \u001b[0;34m=\u001b[0m \u001b[0mself\u001b[0m\u001b[0;34m.\u001b[0m\u001b[0mtree_\u001b[0m\u001b[0;34m.\u001b[0m\u001b[0mpredict\u001b[0m\u001b[0;34m(\u001b[0m\u001b[0mX\u001b[0m\u001b[0;34m)\u001b[0m\u001b[0;34m\u001b[0m\u001b[0;34m\u001b[0m\u001b[0m\n\u001b[1;32m    531\u001b[0m         \u001b[0mn_samples\u001b[0m \u001b[0;34m=\u001b[0m \u001b[0mX\u001b[0m\u001b[0;34m.\u001b[0m\u001b[0mshape\u001b[0m\u001b[0;34m[\u001b[0m\u001b[0;36m0\u001b[0m\u001b[0;34m]\u001b[0m\u001b[0;34m\u001b[0m\u001b[0;34m\u001b[0m\u001b[0m\n\u001b[1;32m    532\u001b[0m \u001b[0;34m\u001b[0m\u001b[0m\n",
      "\u001b[0;32m~/miniconda3/envs/Lumispy/lib/python3.11/site-packages/sklearn/tree/_classes.py\u001b[0m in \u001b[0;36m?\u001b[0;34m(self, X, check_input)\u001b[0m\n\u001b[1;32m    485\u001b[0m             \u001b[0;32mif\u001b[0m \u001b[0mself\u001b[0m\u001b[0;34m.\u001b[0m\u001b[0m_support_missing_values\u001b[0m\u001b[0;34m(\u001b[0m\u001b[0mX\u001b[0m\u001b[0;34m)\u001b[0m\u001b[0;34m:\u001b[0m\u001b[0;34m\u001b[0m\u001b[0;34m\u001b[0m\u001b[0m\n\u001b[1;32m    486\u001b[0m                 \u001b[0mforce_all_finite\u001b[0m \u001b[0;34m=\u001b[0m \u001b[0;34m\"allow-nan\"\u001b[0m\u001b[0;34m\u001b[0m\u001b[0;34m\u001b[0m\u001b[0m\n\u001b[1;32m    487\u001b[0m             \u001b[0;32melse\u001b[0m\u001b[0;34m:\u001b[0m\u001b[0;34m\u001b[0m\u001b[0;34m\u001b[0m\u001b[0m\n\u001b[1;32m    488\u001b[0m                 \u001b[0mforce_all_finite\u001b[0m \u001b[0;34m=\u001b[0m \u001b[0;32mTrue\u001b[0m\u001b[0;34m\u001b[0m\u001b[0;34m\u001b[0m\u001b[0m\n\u001b[0;32m--> 489\u001b[0;31m             X = self._validate_data(\n\u001b[0m\u001b[1;32m    490\u001b[0m                 \u001b[0mX\u001b[0m\u001b[0;34m,\u001b[0m\u001b[0;34m\u001b[0m\u001b[0;34m\u001b[0m\u001b[0m\n\u001b[1;32m    491\u001b[0m                 \u001b[0mdtype\u001b[0m\u001b[0;34m=\u001b[0m\u001b[0mDTYPE\u001b[0m\u001b[0;34m,\u001b[0m\u001b[0;34m\u001b[0m\u001b[0;34m\u001b[0m\u001b[0m\n\u001b[1;32m    492\u001b[0m                 \u001b[0maccept_sparse\u001b[0m\u001b[0;34m=\u001b[0m\u001b[0;34m\"csr\"\u001b[0m\u001b[0;34m,\u001b[0m\u001b[0;34m\u001b[0m\u001b[0;34m\u001b[0m\u001b[0m\n",
      "\u001b[0;32m~/miniconda3/envs/Lumispy/lib/python3.11/site-packages/sklearn/base.py\u001b[0m in \u001b[0;36m?\u001b[0;34m(self, X, y, reset, validate_separately, cast_to_ndarray, **check_params)\u001b[0m\n\u001b[1;32m    629\u001b[0m                 \u001b[0mout\u001b[0m \u001b[0;34m=\u001b[0m \u001b[0my\u001b[0m\u001b[0;34m\u001b[0m\u001b[0;34m\u001b[0m\u001b[0m\n\u001b[1;32m    630\u001b[0m             \u001b[0;32melse\u001b[0m\u001b[0;34m:\u001b[0m\u001b[0;34m\u001b[0m\u001b[0;34m\u001b[0m\u001b[0m\n\u001b[1;32m    631\u001b[0m                 \u001b[0mout\u001b[0m \u001b[0;34m=\u001b[0m \u001b[0mX\u001b[0m\u001b[0;34m,\u001b[0m \u001b[0my\u001b[0m\u001b[0;34m\u001b[0m\u001b[0;34m\u001b[0m\u001b[0m\n\u001b[1;32m    632\u001b[0m         \u001b[0;32melif\u001b[0m \u001b[0;32mnot\u001b[0m \u001b[0mno_val_X\u001b[0m \u001b[0;32mand\u001b[0m \u001b[0mno_val_y\u001b[0m\u001b[0;34m:\u001b[0m\u001b[0;34m\u001b[0m\u001b[0;34m\u001b[0m\u001b[0m\n\u001b[0;32m--> 633\u001b[0;31m             \u001b[0mout\u001b[0m \u001b[0;34m=\u001b[0m \u001b[0mcheck_array\u001b[0m\u001b[0;34m(\u001b[0m\u001b[0mX\u001b[0m\u001b[0;34m,\u001b[0m \u001b[0minput_name\u001b[0m\u001b[0;34m=\u001b[0m\u001b[0;34m\"X\"\u001b[0m\u001b[0;34m,\u001b[0m \u001b[0;34m**\u001b[0m\u001b[0mcheck_params\u001b[0m\u001b[0;34m)\u001b[0m\u001b[0;34m\u001b[0m\u001b[0;34m\u001b[0m\u001b[0m\n\u001b[0m\u001b[1;32m    634\u001b[0m         \u001b[0;32melif\u001b[0m \u001b[0mno_val_X\u001b[0m \u001b[0;32mand\u001b[0m \u001b[0;32mnot\u001b[0m \u001b[0mno_val_y\u001b[0m\u001b[0;34m:\u001b[0m\u001b[0;34m\u001b[0m\u001b[0;34m\u001b[0m\u001b[0m\n\u001b[1;32m    635\u001b[0m             \u001b[0mout\u001b[0m \u001b[0;34m=\u001b[0m \u001b[0m_check_y\u001b[0m\u001b[0;34m(\u001b[0m\u001b[0my\u001b[0m\u001b[0;34m,\u001b[0m \u001b[0;34m**\u001b[0m\u001b[0mcheck_params\u001b[0m\u001b[0;34m)\u001b[0m\u001b[0;34m\u001b[0m\u001b[0;34m\u001b[0m\u001b[0m\n\u001b[1;32m    636\u001b[0m         \u001b[0;32melse\u001b[0m\u001b[0;34m:\u001b[0m\u001b[0;34m\u001b[0m\u001b[0;34m\u001b[0m\u001b[0m\n",
      "\u001b[0;32m~/miniconda3/envs/Lumispy/lib/python3.11/site-packages/sklearn/utils/validation.py\u001b[0m in \u001b[0;36m?\u001b[0;34m(array, accept_sparse, accept_large_sparse, dtype, order, copy, force_writeable, force_all_finite, ensure_2d, allow_nd, ensure_min_samples, ensure_min_features, estimator, input_name)\u001b[0m\n\u001b[1;32m   1009\u001b[0m                         )\n\u001b[1;32m   1010\u001b[0m                     \u001b[0marray\u001b[0m \u001b[0;34m=\u001b[0m \u001b[0mxp\u001b[0m\u001b[0;34m.\u001b[0m\u001b[0mastype\u001b[0m\u001b[0;34m(\u001b[0m\u001b[0marray\u001b[0m\u001b[0;34m,\u001b[0m \u001b[0mdtype\u001b[0m\u001b[0;34m,\u001b[0m \u001b[0mcopy\u001b[0m\u001b[0;34m=\u001b[0m\u001b[0;32mFalse\u001b[0m\u001b[0;34m)\u001b[0m\u001b[0;34m\u001b[0m\u001b[0;34m\u001b[0m\u001b[0m\n\u001b[1;32m   1011\u001b[0m                 \u001b[0;32melse\u001b[0m\u001b[0;34m:\u001b[0m\u001b[0;34m\u001b[0m\u001b[0;34m\u001b[0m\u001b[0m\n\u001b[1;32m   1012\u001b[0m                     \u001b[0marray\u001b[0m \u001b[0;34m=\u001b[0m \u001b[0m_asarray_with_order\u001b[0m\u001b[0;34m(\u001b[0m\u001b[0marray\u001b[0m\u001b[0;34m,\u001b[0m \u001b[0morder\u001b[0m\u001b[0;34m=\u001b[0m\u001b[0morder\u001b[0m\u001b[0;34m,\u001b[0m \u001b[0mdtype\u001b[0m\u001b[0;34m=\u001b[0m\u001b[0mdtype\u001b[0m\u001b[0;34m,\u001b[0m \u001b[0mxp\u001b[0m\u001b[0;34m=\u001b[0m\u001b[0mxp\u001b[0m\u001b[0;34m)\u001b[0m\u001b[0;34m\u001b[0m\u001b[0;34m\u001b[0m\u001b[0m\n\u001b[0;32m-> 1013\u001b[0;31m             \u001b[0;32mexcept\u001b[0m \u001b[0mComplexWarning\u001b[0m \u001b[0;32mas\u001b[0m \u001b[0mcomplex_warning\u001b[0m\u001b[0;34m:\u001b[0m\u001b[0;34m\u001b[0m\u001b[0;34m\u001b[0m\u001b[0m\n\u001b[0m\u001b[1;32m   1014\u001b[0m                 raise ValueError(\n\u001b[1;32m   1015\u001b[0m                     \u001b[0;34m\"Complex data not supported\\n{}\\n\"\u001b[0m\u001b[0;34m.\u001b[0m\u001b[0mformat\u001b[0m\u001b[0;34m(\u001b[0m\u001b[0marray\u001b[0m\u001b[0;34m)\u001b[0m\u001b[0;34m\u001b[0m\u001b[0;34m\u001b[0m\u001b[0m\n\u001b[1;32m   1016\u001b[0m                 ) from complex_warning\n",
      "\u001b[0;32m~/miniconda3/envs/Lumispy/lib/python3.11/site-packages/sklearn/utils/_array_api.py\u001b[0m in \u001b[0;36m?\u001b[0;34m(array, dtype, order, copy, xp, device)\u001b[0m\n\u001b[1;32m    741\u001b[0m         \u001b[0;31m# Use NumPy API to support order\u001b[0m\u001b[0;34m\u001b[0m\u001b[0;34m\u001b[0m\u001b[0m\n\u001b[1;32m    742\u001b[0m         \u001b[0;32mif\u001b[0m \u001b[0mcopy\u001b[0m \u001b[0;32mis\u001b[0m \u001b[0;32mTrue\u001b[0m\u001b[0;34m:\u001b[0m\u001b[0;34m\u001b[0m\u001b[0;34m\u001b[0m\u001b[0m\n\u001b[1;32m    743\u001b[0m             \u001b[0marray\u001b[0m \u001b[0;34m=\u001b[0m \u001b[0mnumpy\u001b[0m\u001b[0;34m.\u001b[0m\u001b[0marray\u001b[0m\u001b[0;34m(\u001b[0m\u001b[0marray\u001b[0m\u001b[0;34m,\u001b[0m \u001b[0morder\u001b[0m\u001b[0;34m=\u001b[0m\u001b[0morder\u001b[0m\u001b[0;34m,\u001b[0m \u001b[0mdtype\u001b[0m\u001b[0;34m=\u001b[0m\u001b[0mdtype\u001b[0m\u001b[0;34m)\u001b[0m\u001b[0;34m\u001b[0m\u001b[0;34m\u001b[0m\u001b[0m\n\u001b[1;32m    744\u001b[0m         \u001b[0;32melse\u001b[0m\u001b[0;34m:\u001b[0m\u001b[0;34m\u001b[0m\u001b[0;34m\u001b[0m\u001b[0m\n\u001b[0;32m--> 745\u001b[0;31m             \u001b[0marray\u001b[0m \u001b[0;34m=\u001b[0m \u001b[0mnumpy\u001b[0m\u001b[0;34m.\u001b[0m\u001b[0masarray\u001b[0m\u001b[0;34m(\u001b[0m\u001b[0marray\u001b[0m\u001b[0;34m,\u001b[0m \u001b[0morder\u001b[0m\u001b[0;34m=\u001b[0m\u001b[0morder\u001b[0m\u001b[0;34m,\u001b[0m \u001b[0mdtype\u001b[0m\u001b[0;34m=\u001b[0m\u001b[0mdtype\u001b[0m\u001b[0;34m)\u001b[0m\u001b[0;34m\u001b[0m\u001b[0;34m\u001b[0m\u001b[0m\n\u001b[0m\u001b[1;32m    746\u001b[0m \u001b[0;34m\u001b[0m\u001b[0m\n\u001b[1;32m    747\u001b[0m         \u001b[0;31m# At this point array is a NumPy ndarray. We convert it to an array\u001b[0m\u001b[0;34m\u001b[0m\u001b[0;34m\u001b[0m\u001b[0m\n\u001b[1;32m    748\u001b[0m         \u001b[0;31m# container that is consistent with the input's namespace.\u001b[0m\u001b[0;34m\u001b[0m\u001b[0;34m\u001b[0m\u001b[0m\n",
      "\u001b[0;32m~/miniconda3/envs/Lumispy/lib/python3.11/site-packages/pandas/core/generic.py\u001b[0m in \u001b[0;36m?\u001b[0;34m(self, dtype, copy)\u001b[0m\n\u001b[1;32m   2149\u001b[0m     def __array__(\n\u001b[1;32m   2150\u001b[0m         \u001b[0mself\u001b[0m\u001b[0;34m,\u001b[0m \u001b[0mdtype\u001b[0m\u001b[0;34m:\u001b[0m \u001b[0mnpt\u001b[0m\u001b[0;34m.\u001b[0m\u001b[0mDTypeLike\u001b[0m \u001b[0;34m|\u001b[0m \u001b[0;32mNone\u001b[0m \u001b[0;34m=\u001b[0m \u001b[0;32mNone\u001b[0m\u001b[0;34m,\u001b[0m \u001b[0mcopy\u001b[0m\u001b[0;34m:\u001b[0m \u001b[0mbool_t\u001b[0m \u001b[0;34m|\u001b[0m \u001b[0;32mNone\u001b[0m \u001b[0;34m=\u001b[0m \u001b[0;32mNone\u001b[0m\u001b[0;34m\u001b[0m\u001b[0;34m\u001b[0m\u001b[0m\n\u001b[1;32m   2151\u001b[0m     ) -> np.ndarray:\n\u001b[1;32m   2152\u001b[0m         \u001b[0mvalues\u001b[0m \u001b[0;34m=\u001b[0m \u001b[0mself\u001b[0m\u001b[0;34m.\u001b[0m\u001b[0m_values\u001b[0m\u001b[0;34m\u001b[0m\u001b[0;34m\u001b[0m\u001b[0m\n\u001b[0;32m-> 2153\u001b[0;31m         \u001b[0marr\u001b[0m \u001b[0;34m=\u001b[0m \u001b[0mnp\u001b[0m\u001b[0;34m.\u001b[0m\u001b[0masarray\u001b[0m\u001b[0;34m(\u001b[0m\u001b[0mvalues\u001b[0m\u001b[0;34m,\u001b[0m \u001b[0mdtype\u001b[0m\u001b[0;34m=\u001b[0m\u001b[0mdtype\u001b[0m\u001b[0;34m)\u001b[0m\u001b[0;34m\u001b[0m\u001b[0;34m\u001b[0m\u001b[0m\n\u001b[0m\u001b[1;32m   2154\u001b[0m         if (\n\u001b[1;32m   2155\u001b[0m             \u001b[0mastype_is_view\u001b[0m\u001b[0;34m(\u001b[0m\u001b[0mvalues\u001b[0m\u001b[0;34m.\u001b[0m\u001b[0mdtype\u001b[0m\u001b[0;34m,\u001b[0m \u001b[0marr\u001b[0m\u001b[0;34m.\u001b[0m\u001b[0mdtype\u001b[0m\u001b[0;34m)\u001b[0m\u001b[0;34m\u001b[0m\u001b[0;34m\u001b[0m\u001b[0m\n\u001b[1;32m   2156\u001b[0m             \u001b[0;32mand\u001b[0m \u001b[0musing_copy_on_write\u001b[0m\u001b[0;34m(\u001b[0m\u001b[0;34m)\u001b[0m\u001b[0;34m\u001b[0m\u001b[0;34m\u001b[0m\u001b[0m\n",
      "\u001b[0;31mValueError\u001b[0m: could not convert string to float: 'ÿÿÿÿÿÿ'"
     ]
    }
   ],
   "source": [
    "directory = \"/Users/missbo/Desktop/Inżynierka/Elipsometr/tanpsi/tanpsi_ver\"\n",
    "\n",
    "for filename in os.listdir(directory):\n",
    "    f = os.path.join(directory, filename)\n",
    "    if os.path.isfile(f):\n",
    "        new_data = pd.read_csv(f, header=None, names=column_names, encoding='ISO-8859-1')\n",
    "        new_predictions = tree_regressor.predict(new_data)\n",
    "        new_data['Thickness'] = new_predictions\n",
    "        result = new_data['Thickness'].median()\n",
    "        \n",
    "        \n",
    "        with open(\"/Users/missbo/Desktop/Inżynierka/Elipsometr/results.txt\", 'a') as file_results:\n",
    "            file_results.write(str(result))\n",
    "            file_results.write(\" \")\n",
    "            file_results.write(str(filename))\n",
    "            file_results.write('\\n')"
   ]
  },
  {
   "cell_type": "code",
   "execution_count": 77,
   "metadata": {},
   "outputs": [],
   "source": [
    "with open(\"/Users/missbo/Desktop/Inżynierka/Elipsometr/results.txt\", 'w') as file:\n",
    "    pass"
   ]
  },
  {
   "cell_type": "markdown",
   "metadata": {},
   "source": [
    "Re"
   ]
  },
  {
   "cell_type": "markdown",
   "metadata": {},
   "source": [
    "Import data"
   ]
  },
  {
   "cell_type": "code",
   "execution_count": 49,
   "metadata": {},
   "outputs": [],
   "source": [
    "column_names = ['Wavelength', '65', '70', '75']\n",
    "data_1nm = pd.read_csv('/Users/missbo/Desktop/Inżynierka/Elipsometr/Re/si02_Re_1nm_co_10_nm.csv', header=None, names=column_names)\n",
    "data_2nm = pd.read_csv('/Users/missbo/Desktop/Inżynierka/Elipsometr/Re/si02_Re_2nm_co_10_nm.csv', header=None, names=column_names)\n",
    "data_3nm = pd.read_csv('/Users/missbo/Desktop/Inżynierka/Elipsometr/Re/si02_Re_3nm_co_10_nm.csv', header=None, names=column_names)\n",
    "data_4nm = pd.read_csv('/Users/missbo/Desktop/Inżynierka/Elipsometr/Re/si02_Re_4nm_co_10_nm.csv', header=None, names=column_names)\n",
    "data_5nm = pd.read_csv('/Users/missbo/Desktop/Inżynierka/Elipsometr/Re/si02_Re_5nm_co_10_nm.csv', header=None, names=column_names)\n",
    "data_6nm = pd.read_csv('/Users/missbo/Desktop/Inżynierka/Elipsometr/Re/si02_Re_6nm_co_10_nm.csv', header=None, names=column_names)\n",
    "data_7nm = pd.read_csv('/Users/missbo/Desktop/Inżynierka/Elipsometr/Re/si02_Re_7nm_co_10_nm.csv', header=None, names=column_names)\n",
    "data_8nm = pd.read_csv('/Users/missbo/Desktop/Inżynierka/Elipsometr/Re/si02_Re_8nm_co_10_nm.csv', header=None, names=column_names)\n",
    "data_9nm = pd.read_csv('/Users/missbo/Desktop/Inżynierka/Elipsometr/Re/si02_Re_9nm_co_10_nm.csv', header=None, names=column_names)\n",
    "data_10nm = pd.read_csv('/Users/missbo/Desktop/Inżynierka/Elipsometr/Re/si02_Re_10nm_co_10_nm.csv', header=None, names=column_names)\n",
    "data_11nm = pd.read_csv('/Users/missbo/Desktop/Inżynierka/Elipsometr/Re/si02_Re_11nm_co_10_nm.csv', header=None, names=column_names)\n",
    "data_12nm = pd.read_csv('/Users/missbo/Desktop/Inżynierka/Elipsometr/Re/si02_Re_12nm_co_10_nm.csv', header=None, names=column_names)\n",
    "data_13nm = pd.read_csv('/Users/missbo/Desktop/Inżynierka/Elipsometr/Re/si02_Re_13nm_co_10_nm.csv', header=None, names=column_names)\n",
    "data_14nm = pd.read_csv('/Users/missbo/Desktop/Inżynierka/Elipsometr/Re/si02_Re_14nm_co_10_nm.csv', header=None, names=column_names)\n",
    "data_15nm = pd.read_csv('/Users/missbo/Desktop/Inżynierka/Elipsometr/Re/si02_Re_15nm_co_10_nm.csv', header=None, names=column_names)\n",
    "data_16nm = pd.read_csv('/Users/missbo/Desktop/Inżynierka/Elipsometr/Re/si02_Re_16nm_co_10_nm.csv', header=None, names=column_names)\n",
    "data_17nm = pd.read_csv('/Users/missbo/Desktop/Inżynierka/Elipsometr/Re/si02_Re_17nm_co_10_nm.csv', header=None, names=column_names)\n",
    "data_18nm = pd.read_csv('/Users/missbo/Desktop/Inżynierka/Elipsometr/Re/si02_Re_18nm_co_10_nm.csv', header=None, names=column_names)\n",
    "data_19nm = pd.read_csv('/Users/missbo/Desktop/Inżynierka/Elipsometr/Re/si02_Re_19nm_co_10_nm.csv', header=None, names=column_names)\n",
    "data_20nm = pd.read_csv('/Users/missbo/Desktop/Inżynierka/Elipsometr/Re/si02_Re_20nm_co_10_nm.csv', header=None, names=column_names)\n",
    "data_21nm = pd.read_csv('/Users/missbo/Desktop/Inżynierka/Elipsometr/Re/si02_Re_21nm_co_10_nm.csv', header=None, names=column_names)\n",
    "data_22nm = pd.read_csv('/Users/missbo/Desktop/Inżynierka/Elipsometr/Re/si02_Re_22nm_co_10_nm.csv', header=None, names=column_names)\n",
    "data_23nm = pd.read_csv('/Users/missbo/Desktop/Inżynierka/Elipsometr/Re/si02_Re_23nm_co_10_nm.csv', header=None, names=column_names)\n",
    "data_24nm = pd.read_csv('/Users/missbo/Desktop/Inżynierka/Elipsometr/Re/si02_Re_24nm_co_10_nm.csv', header=None, names=column_names)\n",
    "data_25nm = pd.read_csv('/Users/missbo/Desktop/Inżynierka/Elipsometr/Re/si02_Re_25nm_co_10_nm.csv', header=None, names=column_names)\n",
    "data_26nm = pd.read_csv('/Users/missbo/Desktop/Inżynierka/Elipsometr/Re/si02_Re_26nm_co_10_nm.csv', header=None, names=column_names)\n",
    "data_27nm = pd.read_csv('/Users/missbo/Desktop/Inżynierka/Elipsometr/Re/si02_Re_27nm_co_10_nm.csv', header=None, names=column_names)\n",
    "data_28nm = pd.read_csv('/Users/missbo/Desktop/Inżynierka/Elipsometr/Re/si02_Re_28nm_co_10_nm.csv', header=None, names=column_names)\n",
    "data_29nm = pd.read_csv('/Users/missbo/Desktop/Inżynierka/Elipsometr/Re/si02_Re_29nm_co_10_nm.csv', header=None, names=column_names)\n",
    "data_30nm = pd.read_csv('/Users/missbo/Desktop/Inżynierka/Elipsometr/Re/si02_Re_30nm_co_10_nm.csv', header=None, names=column_names)\n",
    "data_32nm = pd.read_csv('/Users/missbo/Desktop/Inżynierka/Elipsometr/Re/si02_Re_32nm_co_10_nm.csv', header=None, names=column_names)\n",
    "data_34nm = pd.read_csv('/Users/missbo/Desktop/Inżynierka/Elipsometr/Re/si02_Re_34nm_co_10_nm.csv', header=None, names=column_names)\n",
    "data_36nm = pd.read_csv('/Users/missbo/Desktop/Inżynierka/Elipsometr/Re/si02_Re_36nm_co_10_nm.csv', header=None, names=column_names)\n",
    "data_38nm = pd.read_csv('/Users/missbo/Desktop/Inżynierka/Elipsometr/Re/si02_Re_38nm_co_10_nm.csv', header=None, names=column_names)\n",
    "data_40nm = pd.read_csv('/Users/missbo/Desktop/Inżynierka/Elipsometr/Re/si02_Re_40nm_co_10_nm.csv', header=None, names=column_names)\n",
    "data_42nm = pd.read_csv('/Users/missbo/Desktop/Inżynierka/Elipsometr/Re/si02_Re_42nm_co_10_nm.csv', header=None, names=column_names)\n",
    "data_44nm = pd.read_csv('/Users/missbo/Desktop/Inżynierka/Elipsometr/Re/si02_Re_44nm_co_10_nm.csv', header=None, names=column_names)\n",
    "data_46nm = pd.read_csv('/Users/missbo/Desktop/Inżynierka/Elipsometr/Re/si02_Re_46nm_co_10_nm.csv', header=None, names=column_names)\n",
    "data_48nm = pd.read_csv('/Users/missbo/Desktop/Inżynierka/Elipsometr/Re/si02_Re_48nm_co_10_nm.csv', header=None, names=column_names)\n",
    "data_50nm = pd.read_csv('/Users/missbo/Desktop/Inżynierka/Elipsometr/Re/si02_Re_50nm_co_10_nm.csv', header=None, names=column_names)\n"
   ]
  },
  {
   "cell_type": "markdown",
   "metadata": {},
   "source": [
    "Add column Thickness"
   ]
  },
  {
   "cell_type": "code",
   "execution_count": 50,
   "metadata": {},
   "outputs": [],
   "source": [
    "data_1nm['Thickness'] = 1\n",
    "data_2nm['Thickness'] = 2\n",
    "data_3nm['Thickness'] = 3\n",
    "data_4nm['Thickness'] = 4\n",
    "data_5nm['Thickness'] = 5\n",
    "data_6nm['Thickness'] = 6\n",
    "data_7nm['Thickness'] = 7\n",
    "data_8nm['Thickness'] = 8\n",
    "data_9nm['Thickness'] = 9\n",
    "data_10nm['Thickness'] = 10\n",
    "data_11nm['Thickness'] = 11\n",
    "data_12nm['Thickness'] = 12\n",
    "data_13nm['Thickness'] = 13\n",
    "data_14nm['Thickness'] = 14\n",
    "data_15nm['Thickness'] = 15\n",
    "data_16nm['Thickness'] = 16\n",
    "data_17nm['Thickness'] = 17\n",
    "data_18nm['Thickness'] = 18\n",
    "data_19nm['Thickness'] = 19\n",
    "data_20nm['Thickness'] = 20\n",
    "data_21nm['Thickness'] = 21\n",
    "data_22nm['Thickness'] = 22\n",
    "data_23nm['Thickness'] = 23\n",
    "data_24nm['Thickness'] = 24\n",
    "data_25nm['Thickness'] = 25\n",
    "data_26nm['Thickness'] = 26\n",
    "data_27nm['Thickness'] = 27\n",
    "data_28nm['Thickness'] = 28\n",
    "data_29nm['Thickness'] = 29\n",
    "data_30nm['Thickness'] = 30\n",
    "data_32nm['Thickness'] = 32\n",
    "data_34nm['Thickness'] = 34\n",
    "data_36nm['Thickness'] = 36\n",
    "data_38nm['Thickness'] = 38\n",
    "data_40nm['Thickness'] = 40\n",
    "data_42nm['Thickness'] = 42\n",
    "data_44nm['Thickness'] = 44\n",
    "data_46nm['Thickness'] = 46\n",
    "data_48nm['Thickness'] = 48\n",
    "data_50nm['Thickness'] = 50"
   ]
  },
  {
   "cell_type": "markdown",
   "metadata": {},
   "source": [
    "Combine data"
   ]
  },
  {
   "cell_type": "code",
   "execution_count": 51,
   "metadata": {},
   "outputs": [
    {
     "name": "stdout",
     "output_type": "stream",
     "text": [
      "   Wavelength       65       70       75  Thickness\n",
      "0         300 -0.58566 -0.47127 -0.31093          1\n",
      "1         310 -0.55587 -0.43885 -0.27771          1\n",
      "2         320 -0.54169 -0.42375 -0.26273          1\n",
      "3         330 -0.53542 -0.41758 -0.25740          1\n",
      "4         340 -0.53491 -0.41787 -0.25905          1\n"
     ]
    }
   ],
   "source": [
    "frames = [data_1nm, data_2nm, data_3nm, data_4nm, data_5nm, data_6nm, data_7nm, data_8nm, data_9nm, data_10nm, data_11nm, data_12nm, data_13nm, data_14nm, data_15nm, data_16nm, data_17nm, data_18nm, data_19nm, data_20nm, data_21nm, data_22nm, data_23nm, data_24nm, data_25nm, data_26nm, data_27nm, data_28nm, data_29nm, data_30nm, data_32nm, data_34nm, data_36nm, data_38nm, data_40nm, data_42nm, data_44nm, data_46nm, data_48nm, data_50nm]\n",
    "combined_data = pd.concat(frames)\n",
    "combined_data=combined_data.fillna(0)\n",
    "print(combined_data.head())"
   ]
  },
  {
   "cell_type": "markdown",
   "metadata": {},
   "source": [
    "Train model"
   ]
  },
  {
   "cell_type": "code",
   "execution_count": 52,
   "metadata": {},
   "outputs": [
    {
     "name": "stdout",
     "output_type": "stream",
     "text": [
      "Mean Squared Error: 2.2130281690140845\n",
      "R^2 Score: 0.9881119898192587\n",
      "Mean Absolute Percentage Error (MAE): 0.9454225352112676\n",
      "Symmetric Mean Absolute Percentage Error: 13.400357598972768\n",
      "Standard Deviation:0.06771113723766793\n"
     ]
    }
   ],
   "source": [
    "X = combined_data.drop('Thickness', axis=1)\n",
    "y = combined_data['Thickness']\n",
    "\n",
    "X_train, X_test, y_train, y_test = train_test_split(X, y, test_size=0.2, random_state=42)\n",
    "\n",
    "tree_regressor = DecisionTreeRegressor()\n",
    "\n",
    "tree_regressor.fit(X_train, y_train)\n",
    "\n",
    "y_pred = tree_regressor.predict(X_test)\n",
    "\n",
    "def calculate_smape(y_test, y_pred):\n",
    "    numerator = np.abs(y_test - y_pred)\n",
    "    denominator = (np.abs(y_test) + np.abs(y_pred)) / 2\n",
    "    smape = np.mean(numerator / denominator) * 100\n",
    "    return smape\n",
    "\n",
    "mse = mean_squared_error(y_test, y_pred)\n",
    "r2 = r2_score(y_test, y_pred)\n",
    "mae = mean_absolute_error(y_test, y_pred)\n",
    "smape = calculate_smape(y_test,y_pred)\n",
    "# Odchylenie standardowe zbioru uczącego\n",
    "standard_deviation = statistics.stdev(X_train['65'])\n",
    "\n",
    "print(f'Mean Squared Error: {mse}')\n",
    "print(f'R^2 Score: {r2}')\n",
    "print(f\"Mean Absolute Percentage Error (MAE): {mae}\")\n",
    "print(f'Symmetric Mean Absolute Percentage Error: {smape}')\n",
    "print(f'Standard Deviation:{standard_deviation}')"
   ]
  },
  {
   "cell_type": "markdown",
   "metadata": {},
   "source": [
    "Predict new data "
   ]
  },
  {
   "cell_type": "code",
   "execution_count": 64,
   "metadata": {},
   "outputs": [
    {
     "name": "stdout",
     "output_type": "stream",
     "text": [
      "   Wavelength       65        70       75\n",
      "0         400 -0.21362  0.009504  0.26512\n",
      "1         410 -0.20682  0.009453  0.25788\n",
      "2         420 -0.20264  0.007794  0.25024\n",
      "3         430 -0.19999  0.005329  0.24260\n",
      "4         440 -0.19825  0.002566  0.23530\n",
      "48.0\n"
     ]
    }
   ],
   "source": [
    "new_data = pd.read_csv('/Users/missbo/Desktop/Inżynierka/Elipsometr/Re/Re_exp/si02_Re_48-6_nm_exp_co_10_nm.csv', header=None,names=column_names, encoding='ISO-8859-1')\n",
    "\n",
    "print(new_data.head())\n",
    "\n",
    "missing_cols = set(X.columns) - set(new_data.columns)\n",
    "if missing_cols:\n",
    "    raise ValueError(f\"New data is missing columns: {missing_cols}\")\n",
    "\n",
    "\n",
    "new_predictions = tree_regressor.predict(new_data)\n",
    "\n",
    "new_data['Thickness'] = new_predictions\n",
    "\n",
    "\n",
    "plik = open('/Users/missbo/Desktop/Inżynierka/Elipsometr/Files_results/DT_Re_exp/DT_Re_48_6_nm','w')\n",
    "for prediction in new_predictions:\n",
    "        plik.write(f\"{prediction:.2f}\\n\")\n",
    "plik.close()\n",
    "\n",
    "print((new_data['Thickness']).median())"
   ]
  },
  {
   "cell_type": "code",
   "execution_count": 84,
   "metadata": {},
   "outputs": [],
   "source": [
    "directory = \"/Users/missbo/Desktop/Inżynierka/Elipsometr/Re/Re_ver\"\n",
    "\n",
    "for filename in os.listdir(directory):\n",
    "    f = os.path.join(directory, filename)\n",
    "    if os.path.isfile(f):\n",
    "        new_data = pd.read_csv(f, header=None, names=column_names, encoding='ISO-8859-1')\n",
    "        new_predictions = tree_regressor.predict(new_data)\n",
    "        new_data['Thickness'] = new_predictions\n",
    "        result = new_data['Thickness'].median()\n",
    "        \n",
    "        \n",
    "        with open(\"/Users/missbo/Desktop/Inżynierka/Elipsometr/results.txt\", 'a') as file_results:\n",
    "            file_results.write(str(result))\n",
    "            file_results.write(\" \")\n",
    "            file_results.write(str(filename))\n",
    "            file_results.write('\\n')"
   ]
  },
  {
   "cell_type": "code",
   "execution_count": 85,
   "metadata": {},
   "outputs": [],
   "source": [
    "with open(\"/Users/missbo/Desktop/Inżynierka/Elipsometr/results.txt\", 'w') as file:\n",
    "    pass"
   ]
  },
  {
   "cell_type": "markdown",
   "metadata": {},
   "source": [
    "Im"
   ]
  },
  {
   "cell_type": "markdown",
   "metadata": {},
   "source": [
    "Import data"
   ]
  },
  {
   "cell_type": "code",
   "execution_count": 65,
   "metadata": {},
   "outputs": [],
   "source": [
    "column_names = ['Wavelength', '65', '70', '75']\n",
    "data_1nm = pd.read_csv('/Users/missbo/Desktop/Inżynierka/Elipsometr/lm/si02_Im_1nm_co_10_nm.csv', header=None, names=column_names)\n",
    "data_2nm = pd.read_csv('/Users/missbo/Desktop/Inżynierka/Elipsometr/lm/si02_Im_2nm_co_10_nm.csv', header=None, names=column_names)\n",
    "data_3nm = pd.read_csv('/Users/missbo/Desktop/Inżynierka/Elipsometr/lm/si02_Im_3nm_co_10_nm.csv', header=None, names=column_names)\n",
    "data_4nm = pd.read_csv('/Users/missbo/Desktop/Inżynierka/Elipsometr/lm/si02_Im_4nm_co_10_nm.csv', header=None, names=column_names)\n",
    "data_5nm = pd.read_csv('/Users/missbo/Desktop/Inżynierka/Elipsometr/lm/si02_Im_5nm_co_10_nm.csv', header=None, names=column_names)\n",
    "data_6nm = pd.read_csv('/Users/missbo/Desktop/Inżynierka/Elipsometr/lm/si02_Im_6nm_co_10_nm.csv', header=None, names=column_names)\n",
    "data_7nm = pd.read_csv('/Users/missbo/Desktop/Inżynierka/Elipsometr/lm/si02_Im_7nm_co_10_nm.csv', header=None, names=column_names)\n",
    "data_8nm = pd.read_csv('/Users/missbo/Desktop/Inżynierka/Elipsometr/lm/si02_Im_8nm_co_10_nm.csv', header=None, names=column_names)\n",
    "data_9nm = pd.read_csv('/Users/missbo/Desktop/Inżynierka/Elipsometr/lm/si02_Im_9nm_co_10_nm.csv', header=None, names=column_names)\n",
    "data_10nm = pd.read_csv('/Users/missbo/Desktop/Inżynierka/Elipsometr/lm/si02_Im_10nm_co_10_nm.csv', header=None, names=column_names)\n",
    "data_11nm = pd.read_csv('/Users/missbo/Desktop/Inżynierka/Elipsometr/lm/si02_Im_11nm_co_10_nm.csv', header=None, names=column_names)\n",
    "data_12nm = pd.read_csv('/Users/missbo/Desktop/Inżynierka/Elipsometr/lm/si02_Im_12nm_co_10_nm.csv', header=None, names=column_names)\n",
    "data_13nm = pd.read_csv('/Users/missbo/Desktop/Inżynierka/Elipsometr/lm/si02_Im_13nm_co_10_nm.csv', header=None, names=column_names)\n",
    "data_14nm = pd.read_csv('/Users/missbo/Desktop/Inżynierka/Elipsometr/lm/si02_Im_14nm_co_10_nm.csv', header=None, names=column_names)\n",
    "data_15nm = pd.read_csv('/Users/missbo/Desktop/Inżynierka/Elipsometr/lm/si02_Im_15nm_co_10_nm.csv', header=None, names=column_names)\n",
    "data_16nm = pd.read_csv('/Users/missbo/Desktop/Inżynierka/Elipsometr/lm/si02_Im_16nm_co_10_nm.csv', header=None, names=column_names)\n",
    "data_17nm = pd.read_csv('/Users/missbo/Desktop/Inżynierka/Elipsometr/lm/si02_Im_17nm_co_10_nm.csv', header=None, names=column_names)\n",
    "data_18nm = pd.read_csv('/Users/missbo/Desktop/Inżynierka/Elipsometr/lm/si02_Im_18nm_co_10_nm.csv', header=None, names=column_names)\n",
    "data_19nm = pd.read_csv('/Users/missbo/Desktop/Inżynierka/Elipsometr/lm/si02_Im_19nm_co_10_nm.csv', header=None, names=column_names)\n",
    "data_20nm = pd.read_csv('/Users/missbo/Desktop/Inżynierka/Elipsometr/lm/si02_Im_20nm_co_10_nm.csv', header=None, names=column_names)\n",
    "data_21nm = pd.read_csv('/Users/missbo/Desktop/Inżynierka/Elipsometr/lm/si02_Im_21nm_co_10_nm.csv', header=None, names=column_names)\n",
    "data_22nm = pd.read_csv('/Users/missbo/Desktop/Inżynierka/Elipsometr/lm/si02_Im_22nm_co_10_nm.csv', header=None, names=column_names)\n",
    "data_23nm = pd.read_csv('/Users/missbo/Desktop/Inżynierka/Elipsometr/lm/si02_Im_23nm_co_10_nm.csv', header=None, names=column_names)\n",
    "data_24nm = pd.read_csv('/Users/missbo/Desktop/Inżynierka/Elipsometr/lm/si02_Im_24nm_co_10_nm.csv', header=None, names=column_names)\n",
    "data_25nm = pd.read_csv('/Users/missbo/Desktop/Inżynierka/Elipsometr/lm/si02_Im_25nm_co_10_nm.csv', header=None, names=column_names)\n",
    "data_26nm = pd.read_csv('/Users/missbo/Desktop/Inżynierka/Elipsometr/lm/si02_Im_26nm_co_10_nm.csv', header=None, names=column_names)\n",
    "data_27nm = pd.read_csv('/Users/missbo/Desktop/Inżynierka/Elipsometr/lm/si02_Im_27nm_co_10_nm.csv', header=None, names=column_names)\n",
    "data_28nm = pd.read_csv('/Users/missbo/Desktop/Inżynierka/Elipsometr/lm/si02_Im_28nm_co_10_nm.csv', header=None, names=column_names)\n",
    "data_29nm = pd.read_csv('/Users/missbo/Desktop/Inżynierka/Elipsometr/lm/si02_Im_29nm_co_10_nm.csv', header=None, names=column_names)\n",
    "data_30nm = pd.read_csv('/Users/missbo/Desktop/Inżynierka/Elipsometr/lm/si02_Im_30nm_co_10_nm.csv', header=None, names=column_names)\n",
    "data_32nm = pd.read_csv('/Users/missbo/Desktop/Inżynierka/Elipsometr/lm/si02_Im_32nm_co_10_nm.csv', header=None, names=column_names)\n",
    "data_34nm = pd.read_csv('/Users/missbo/Desktop/Inżynierka/Elipsometr/lm/si02_Im_34nm_co_10_nm.csv', header=None, names=column_names)\n",
    "data_36nm = pd.read_csv('/Users/missbo/Desktop/Inżynierka/Elipsometr/lm/si02_Im_36nm_co_10_nm.csv', header=None, names=column_names)\n",
    "data_38nm = pd.read_csv('/Users/missbo/Desktop/Inżynierka/Elipsometr/lm/si02_Im_38nm_co_10_nm.csv', header=None, names=column_names)\n",
    "data_40nm = pd.read_csv('/Users/missbo/Desktop/Inżynierka/Elipsometr/lm/si02_Im_40nm_co_10_nm.csv', header=None, names=column_names)\n",
    "data_42nm = pd.read_csv('/Users/missbo/Desktop/Inżynierka/Elipsometr/lm/si02_Im_42nm_co_10_nm.csv', header=None, names=column_names)\n",
    "data_44nm = pd.read_csv('/Users/missbo/Desktop/Inżynierka/Elipsometr/lm/si02_Im_44nm_co_10_nm.csv', header=None, names=column_names)\n",
    "data_46nm = pd.read_csv('/Users/missbo/Desktop/Inżynierka/Elipsometr/lm/si02_Im_46nm_co_10_nm.csv', header=None, names=column_names)\n",
    "data_48nm = pd.read_csv('/Users/missbo/Desktop/Inżynierka/Elipsometr/lm/si02_Im_48nm_co_10_nm.csv', header=None, names=column_names)\n",
    "data_50nm = pd.read_csv('/Users/missbo/Desktop/Inżynierka/Elipsometr/lm/si02_Im_50nm_co_10_nm.csv', header=None, names=column_names)\n"
   ]
  },
  {
   "cell_type": "markdown",
   "metadata": {},
   "source": [
    "Add column Thickness"
   ]
  },
  {
   "cell_type": "code",
   "execution_count": 66,
   "metadata": {},
   "outputs": [],
   "source": [
    "data_1nm['Thickness'] = 1\n",
    "data_2nm['Thickness'] = 2\n",
    "data_3nm['Thickness'] = 3\n",
    "data_4nm['Thickness'] = 4\n",
    "data_5nm['Thickness'] = 5\n",
    "data_6nm['Thickness'] = 6\n",
    "data_7nm['Thickness'] = 7\n",
    "data_8nm['Thickness'] = 8\n",
    "data_9nm['Thickness'] = 9\n",
    "data_10nm['Thickness'] = 10\n",
    "data_11nm['Thickness'] = 11\n",
    "data_12nm['Thickness'] = 12\n",
    "data_13nm['Thickness'] = 13\n",
    "data_14nm['Thickness'] = 14\n",
    "data_15nm['Thickness'] = 15\n",
    "data_16nm['Thickness'] = 16\n",
    "data_17nm['Thickness'] = 17\n",
    "data_18nm['Thickness'] = 18\n",
    "data_19nm['Thickness'] = 19\n",
    "data_20nm['Thickness'] = 20\n",
    "data_21nm['Thickness'] = 21\n",
    "data_22nm['Thickness'] = 22\n",
    "data_23nm['Thickness'] = 23\n",
    "data_24nm['Thickness'] = 24\n",
    "data_25nm['Thickness'] = 25\n",
    "data_26nm['Thickness'] = 26\n",
    "data_27nm['Thickness'] = 27\n",
    "data_28nm['Thickness'] = 28\n",
    "data_29nm['Thickness'] = 29\n",
    "data_30nm['Thickness'] = 30\n",
    "data_32nm['Thickness'] = 32\n",
    "data_34nm['Thickness'] = 34\n",
    "data_36nm['Thickness'] = 36\n",
    "data_38nm['Thickness'] = 38\n",
    "data_40nm['Thickness'] = 40\n",
    "data_42nm['Thickness'] = 42\n",
    "data_44nm['Thickness'] = 44\n",
    "data_46nm['Thickness'] = 46\n",
    "data_48nm['Thickness'] = 48\n",
    "data_50nm['Thickness'] = 50"
   ]
  },
  {
   "cell_type": "markdown",
   "metadata": {},
   "source": [
    "Combine data"
   ]
  },
  {
   "cell_type": "code",
   "execution_count": 67,
   "metadata": {},
   "outputs": [
    {
     "name": "stdout",
     "output_type": "stream",
     "text": [
      "   Wavelength       65       70       75  Thickness\n",
      "0         300  0.27448  0.31941  0.36454          1\n",
      "1         310  0.25303  0.29193  0.32958          1\n",
      "2         320  0.23905  0.27469  0.30859          1\n",
      "3         330  0.22638  0.25968  0.29118          1\n",
      "4         340  0.21474  0.24633  0.27630          1\n"
     ]
    }
   ],
   "source": [
    "frames = [data_1nm, data_2nm, data_3nm, data_4nm, data_5nm, data_6nm, data_7nm, data_8nm, data_9nm, data_10nm, data_11nm, data_12nm, data_13nm, data_14nm, data_15nm, data_16nm, data_17nm, data_18nm, data_19nm, data_20nm, data_21nm, data_22nm, data_23nm, data_24nm, data_25nm, data_26nm, data_27nm, data_28nm, data_29nm, data_30nm, data_32nm, data_34nm, data_36nm, data_38nm, data_40nm, data_42nm, data_44nm, data_46nm, data_48nm, data_50nm]\n",
    "combined_data = pd.concat(frames)\n",
    "combined_data=combined_data.fillna(0)\n",
    "print(combined_data.head())"
   ]
  },
  {
   "cell_type": "markdown",
   "metadata": {},
   "source": [
    "Train model"
   ]
  },
  {
   "cell_type": "code",
   "execution_count": 68,
   "metadata": {},
   "outputs": [
    {
     "name": "stdout",
     "output_type": "stream",
     "text": [
      "Mean Squared Error: 1.6672535211267605\n",
      "R^2 Score: 0.9910437982170549\n",
      "Mean Absolute Percentage Error (MAE): 0.9242957746478874\n",
      "Symmetric Mean Absolute Percentage Error: 5.313191515448771\n",
      "Standard Deviation:0.1922935912761616\n"
     ]
    }
   ],
   "source": [
    "X = combined_data.drop('Thickness', axis=1)\n",
    "y = combined_data['Thickness']\n",
    "\n",
    "X_train, X_test, y_train, y_test = train_test_split(X, y, test_size=0.2, random_state=42)\n",
    "\n",
    "tree_regressor = DecisionTreeRegressor()\n",
    "\n",
    "tree_regressor.fit(X_train, y_train)\n",
    "\n",
    "y_pred = tree_regressor.predict(X_test)\n",
    "\n",
    "def calculate_smape(y_test, y_pred):\n",
    "    numerator = np.abs(y_test - y_pred)\n",
    "    denominator = (np.abs(y_test) + np.abs(y_pred)) / 2\n",
    "    smape = np.mean(numerator / denominator) * 100\n",
    "    return smape\n",
    "\n",
    "mse = mean_squared_error(y_test, y_pred)\n",
    "r2 = r2_score(y_test, y_pred)\n",
    "mae = mean_absolute_error(y_test, y_pred)\n",
    "smape = calculate_smape(y_test,y_pred)\n",
    "# Odchylenie standardowe zbioru uczącego\n",
    "standard_deviation = statistics.stdev(X_train['65'])\n",
    "\n",
    "print(f'Mean Squared Error: {mse}')\n",
    "print(f'R^2 Score: {r2}')\n",
    "print(f\"Mean Absolute Percentage Error (MAE): {mae}\")\n",
    "print(f'Symmetric Mean Absolute Percentage Error: {smape}')\n",
    "print(f'Standard Deviation:{standard_deviation}')"
   ]
  },
  {
   "cell_type": "markdown",
   "metadata": {},
   "source": [
    "Predict new data"
   ]
  },
  {
   "cell_type": "code",
   "execution_count": 82,
   "metadata": {},
   "outputs": [
    {
     "name": "stdout",
     "output_type": "stream",
     "text": [
      "   Wavelength       65       70       75\n",
      "0         400  0.70497  0.72703  0.69329\n",
      "1         410  0.67772  0.69848  0.66731\n",
      "2         420  0.65328  0.67326  0.64458\n",
      "3         430  0.63082  0.65029  0.62396\n",
      "4         440  0.61016  0.62926  0.60505\n",
      "48.0\n"
     ]
    }
   ],
   "source": [
    "new_data = pd.read_csv('/Users/missbo/Desktop/Inżynierka/Elipsometr/lm/lm_exp/si02_Im_48-6_nm_exp_co_10_nm.csv', header=None,names=column_names, encoding='ISO-8859-1')\n",
    "\n",
    "print(new_data.head())\n",
    "\n",
    "missing_cols = set(X.columns) - set(new_data.columns)\n",
    "if missing_cols:\n",
    "    raise ValueError(f\"New data is missing columns: {missing_cols}\")\n",
    "\n",
    "\n",
    "new_predictions = tree_regressor.predict(new_data)\n",
    "\n",
    "new_data['Thickness'] = new_predictions\n",
    "\n",
    "\n",
    "plik = open('/Users/missbo/Desktop/Inżynierka/Elipsometr/Files_results/DT_Im_exp/DT_48_6_nm','w')\n",
    "for prediction in new_predictions:\n",
    "        plik.write(f\"{prediction:.2f}\\n\")\n",
    "plik.close()\n",
    "\n",
    "print((new_data['Thickness']).median())"
   ]
  },
  {
   "cell_type": "code",
   "execution_count": 93,
   "metadata": {},
   "outputs": [],
   "source": [
    "directory = \"/Users/missbo/Desktop/Inżynierka/Elipsometr/lm/Im_ver\"\n",
    "\n",
    "for filename in os.listdir(directory):\n",
    "    f = os.path.join(directory, filename)\n",
    "    if os.path.isfile(f):\n",
    "        new_data = pd.read_csv(f, header=None, names=column_names, encoding='ISO-8859-1')\n",
    "        new_predictions = tree_regressor.predict(new_data)\n",
    "        new_data['Thickness'] = new_predictions\n",
    "        result = new_data['Thickness'].median()\n",
    "        \n",
    "        \n",
    "        with open(\"/Users/missbo/Desktop/Inżynierka/Elipsometr/results.txt\", 'a') as file_results:\n",
    "            file_results.write(str(result))\n",
    "            file_results.write(\" \")\n",
    "            file_results.write(str(filename))\n",
    "            file_results.write('\\n')"
   ]
  },
  {
   "cell_type": "code",
   "execution_count": 94,
   "metadata": {},
   "outputs": [],
   "source": [
    "with open(\"/Users/missbo/Desktop/Inżynierka/Elipsometr/results.txt\", 'w') as file:\n",
    "    pass"
   ]
  },
  {
   "cell_type": "markdown",
   "metadata": {},
   "source": [
    "e1"
   ]
  },
  {
   "cell_type": "markdown",
   "metadata": {},
   "source": [
    "Import data "
   ]
  },
  {
   "cell_type": "code",
   "execution_count": 83,
   "metadata": {},
   "outputs": [],
   "source": [
    "column_names = ['Wavelength', '65', '70', '75']\n",
    "data_1nm = pd.read_csv('/Users/missbo/Desktop/Inżynierka/Elipsometr/e1/si02_e1_1nm_co_10_nm.csv', header=None, names=column_names)\n",
    "data_2nm = pd.read_csv('/Users/missbo/Desktop/Inżynierka/Elipsometr/e1/si02_e1_2nm_co_10_nm.csv', header=None, names=column_names)\n",
    "data_3nm = pd.read_csv('/Users/missbo/Desktop/Inżynierka/Elipsometr/e1/si02_e1_3nm_co_10_nm.csv', header=None, names=column_names)\n",
    "data_4nm = pd.read_csv('/Users/missbo/Desktop/Inżynierka/Elipsometr/e1/si02_e1_4nm_co_10_nm.csv', header=None, names=column_names)\n",
    "data_5nm = pd.read_csv('/Users/missbo/Desktop/Inżynierka/Elipsometr/e1/si02_e1_5nm_co_10_nm.csv', header=None, names=column_names)\n",
    "data_6nm = pd.read_csv('/Users/missbo/Desktop/Inżynierka/Elipsometr/e1/si02_e1_6nm_co_10_nm.csv', header=None, names=column_names)\n",
    "data_7nm = pd.read_csv('/Users/missbo/Desktop/Inżynierka/Elipsometr/e1/si02_e1_7nm_co_10_nm.csv', header=None, names=column_names)\n",
    "data_8nm = pd.read_csv('/Users/missbo/Desktop/Inżynierka/Elipsometr/e1/si02_e1_8nm_co_10_nm.csv', header=None, names=column_names)\n",
    "data_9nm = pd.read_csv('/Users/missbo/Desktop/Inżynierka/Elipsometr/e1/si02_e1_9nm_co_10_nm.csv', header=None, names=column_names)\n",
    "data_10nm = pd.read_csv('/Users/missbo/Desktop/Inżynierka/Elipsometr/e1/si02_e1_10nm_co_10_nm.csv', header=None, names=column_names)\n",
    "data_11nm = pd.read_csv('/Users/missbo/Desktop/Inżynierka/Elipsometr/e1/si02_e1_11nm_co_10_nm.csv', header=None, names=column_names)\n",
    "data_12nm = pd.read_csv('/Users/missbo/Desktop/Inżynierka/Elipsometr/e1/si02_e1_12nm_co_10_nm.csv', header=None, names=column_names)\n",
    "data_13nm = pd.read_csv('/Users/missbo/Desktop/Inżynierka/Elipsometr/e1/si02_e1_13nm_co_10_nm.csv', header=None, names=column_names)\n",
    "data_14nm = pd.read_csv('/Users/missbo/Desktop/Inżynierka/Elipsometr/e1/si02_e1_14nm_co_10_nm.csv', header=None, names=column_names)\n",
    "data_15nm = pd.read_csv('/Users/missbo/Desktop/Inżynierka/Elipsometr/e1/si02_e1_15nm_co_10_nm.csv', header=None, names=column_names)\n",
    "data_16nm = pd.read_csv('/Users/missbo/Desktop/Inżynierka/Elipsometr/e1/si02_e1_16nm_co_10_nm.csv', header=None, names=column_names)\n",
    "data_17nm = pd.read_csv('/Users/missbo/Desktop/Inżynierka/Elipsometr/e1/si02_e1_17nm_co_10_nm.csv', header=None, names=column_names)\n",
    "data_18nm = pd.read_csv('/Users/missbo/Desktop/Inżynierka/Elipsometr/e1/si02_e1_18nm_co_10_nm.csv', header=None, names=column_names)\n",
    "data_19nm = pd.read_csv('/Users/missbo/Desktop/Inżynierka/Elipsometr/e1/si02_e1_19nm_co_10_nm.csv', header=None, names=column_names)\n",
    "data_20nm = pd.read_csv('/Users/missbo/Desktop/Inżynierka/Elipsometr/e1/si02_e1_20nm_co_10_nm.csv', header=None, names=column_names)\n",
    "data_21nm = pd.read_csv('/Users/missbo/Desktop/Inżynierka/Elipsometr/e1/si02_e1_21nm_co_10_nm.csv', header=None, names=column_names)\n",
    "data_22nm = pd.read_csv('/Users/missbo/Desktop/Inżynierka/Elipsometr/e1/si02_e1_22nm_co_10_nm.csv', header=None, names=column_names)\n",
    "data_23nm = pd.read_csv('/Users/missbo/Desktop/Inżynierka/Elipsometr/e1/si02_e1_23nm_co_10_nm.csv', header=None, names=column_names)\n",
    "data_24nm = pd.read_csv('/Users/missbo/Desktop/Inżynierka/Elipsometr/e1/si02_e1_24nm_co_10_nm.csv', header=None, names=column_names)\n",
    "data_25nm = pd.read_csv('/Users/missbo/Desktop/Inżynierka/Elipsometr/e1/si02_e1_25nm_co_10_nm.csv', header=None, names=column_names)\n",
    "data_26nm = pd.read_csv('/Users/missbo/Desktop/Inżynierka/Elipsometr/e1/si02_e1_26nm_co_10_nm.csv', header=None, names=column_names)\n",
    "data_27nm = pd.read_csv('/Users/missbo/Desktop/Inżynierka/Elipsometr/e1/si02_e1_27nm_co_10_nm.csv', header=None, names=column_names)\n",
    "data_28nm = pd.read_csv('/Users/missbo/Desktop/Inżynierka/Elipsometr/e1/si02_e1_28nm_co_10_nm.csv', header=None, names=column_names)\n",
    "data_29nm = pd.read_csv('/Users/missbo/Desktop/Inżynierka/Elipsometr/e1/si02_e1_29nm_co_10_nm.csv', header=None, names=column_names)\n",
    "data_30nm = pd.read_csv('/Users/missbo/Desktop/Inżynierka/Elipsometr/e1/si02_e1_30nm_co_10_nm.csv', header=None, names=column_names)\n",
    "data_32nm = pd.read_csv('/Users/missbo/Desktop/Inżynierka/Elipsometr/e1/si02_e1_32nm_co_10_nm.csv', header=None, names=column_names)\n",
    "data_34nm = pd.read_csv('/Users/missbo/Desktop/Inżynierka/Elipsometr/e1/si02_e1_34nm_co_10_nm.csv', header=None, names=column_names)\n",
    "data_36nm = pd.read_csv('/Users/missbo/Desktop/Inżynierka/Elipsometr/e1/si02_e1_36nm_co_10_nm.csv', header=None, names=column_names)\n",
    "data_38nm = pd.read_csv('/Users/missbo/Desktop/Inżynierka/Elipsometr/e1/si02_e1_38nm_co_10_nm.csv', header=None, names=column_names)\n",
    "data_40nm = pd.read_csv('/Users/missbo/Desktop/Inżynierka/Elipsometr/e1/si02_e1_40nm_co_10_nm.csv', header=None, names=column_names)\n",
    "data_42nm = pd.read_csv('/Users/missbo/Desktop/Inżynierka/Elipsometr/e1/si02_e1_42nm_co_10_nm.csv', header=None, names=column_names)\n",
    "data_44nm = pd.read_csv('/Users/missbo/Desktop/Inżynierka/Elipsometr/e1/si02_e1_44nm_co_10_nm.csv', header=None, names=column_names)\n",
    "data_46nm = pd.read_csv('/Users/missbo/Desktop/Inżynierka/Elipsometr/e1/si02_e1_46nm_co_10_nm.csv', header=None, names=column_names)\n",
    "data_48nm = pd.read_csv('/Users/missbo/Desktop/Inżynierka/Elipsometr/e1/si02_e1_48nm_co_10_nm.csv', header=None, names=column_names)\n",
    "data_50nm = pd.read_csv('/Users/missbo/Desktop/Inżynierka/Elipsometr/e1/si02_e1_50nm_co_10_nm.csv', header=None, names=column_names)\n",
    "\n"
   ]
  },
  {
   "cell_type": "markdown",
   "metadata": {},
   "source": [
    "Add column Thickness"
   ]
  },
  {
   "cell_type": "code",
   "execution_count": 84,
   "metadata": {},
   "outputs": [],
   "source": [
    "data_1nm['Thickness'] = 1\n",
    "data_2nm['Thickness'] = 2\n",
    "data_3nm['Thickness'] = 3\n",
    "data_4nm['Thickness'] = 4\n",
    "data_5nm['Thickness'] = 5\n",
    "data_6nm['Thickness'] = 6\n",
    "data_7nm['Thickness'] = 7\n",
    "data_8nm['Thickness'] = 8\n",
    "data_9nm['Thickness'] = 9\n",
    "data_10nm['Thickness'] = 10\n",
    "data_11nm['Thickness'] = 11\n",
    "data_12nm['Thickness'] = 12\n",
    "data_13nm['Thickness'] = 13\n",
    "data_14nm['Thickness'] = 14\n",
    "data_15nm['Thickness'] = 15\n",
    "data_16nm['Thickness'] = 16\n",
    "data_17nm['Thickness'] = 17\n",
    "data_18nm['Thickness'] = 18\n",
    "data_19nm['Thickness'] = 19\n",
    "data_20nm['Thickness'] = 20\n",
    "data_21nm['Thickness'] = 21\n",
    "data_22nm['Thickness'] = 22\n",
    "data_23nm['Thickness'] = 23\n",
    "data_24nm['Thickness'] = 24\n",
    "data_25nm['Thickness'] = 25\n",
    "data_26nm['Thickness'] = 26\n",
    "data_27nm['Thickness'] = 27\n",
    "data_28nm['Thickness'] = 28\n",
    "data_29nm['Thickness'] = 29\n",
    "data_30nm['Thickness'] = 30\n",
    "data_32nm['Thickness'] = 32\n",
    "data_34nm['Thickness'] = 34\n",
    "data_36nm['Thickness'] = 36\n",
    "data_38nm['Thickness'] = 38\n",
    "data_40nm['Thickness'] = 40\n",
    "data_42nm['Thickness'] = 42\n",
    "data_44nm['Thickness'] = 44\n",
    "data_46nm['Thickness'] = 46\n",
    "data_48nm['Thickness'] = 48\n",
    "data_50nm['Thickness'] = 50"
   ]
  },
  {
   "cell_type": "markdown",
   "metadata": {},
   "source": [
    "Combine data "
   ]
  },
  {
   "cell_type": "code",
   "execution_count": 85,
   "metadata": {},
   "outputs": [
    {
     "name": "stdout",
     "output_type": "stream",
     "text": [
      "   Wavelength       65       70       75  Thickness\n",
      "0         300   3.1099   3.1130   3.1154          1\n",
      "1         310   8.4026   8.4052   8.4074          1\n",
      "2         320  11.0420  11.0450  11.0470          1\n",
      "3         330  13.1800  13.1820  13.1830          1\n",
      "4         340  15.1630  15.1650  15.1670          1\n"
     ]
    }
   ],
   "source": [
    "frames = [data_1nm, data_2nm, data_3nm, data_4nm, data_5nm, data_6nm, data_7nm, data_8nm, data_9nm, data_10nm, data_11nm, data_12nm, data_13nm, data_14nm, data_15nm, data_16nm, data_17nm, data_18nm, data_19nm, data_20nm, data_21nm, data_22nm, data_23nm, data_24nm, data_25nm, data_26nm, data_27nm, data_28nm, data_29nm, data_30nm, data_32nm, data_34nm, data_36nm, data_38nm, data_40nm, data_42nm, data_44nm, data_46nm, data_48nm, data_50nm]\n",
    "combined_data = pd.concat(frames)\n",
    "combined_data=combined_data.fillna(0)\n",
    "print(combined_data.head())"
   ]
  },
  {
   "cell_type": "markdown",
   "metadata": {},
   "source": [
    "Train model"
   ]
  },
  {
   "cell_type": "code",
   "execution_count": 87,
   "metadata": {},
   "outputs": [
    {
     "name": "stdout",
     "output_type": "stream",
     "text": [
      "Mean Squared Error: 7.714788732394366\n",
      "R^2 Score: 0.9585574696801843\n",
      "Mean Absolute Percentage Error (MAE): 1.323943661971831\n",
      "Symmetric Mean Absolute Percentage Error: 11.45252933934609\n",
      "Standard Deviation:6.951203968291606\n"
     ]
    }
   ],
   "source": [
    "X = combined_data.drop('Thickness', axis=1)\n",
    "y = combined_data['Thickness']\n",
    "\n",
    "X_train, X_test, y_train, y_test = train_test_split(X, y, test_size=0.2, random_state=42)\n",
    "\n",
    "tree_regressor = DecisionTreeRegressor()\n",
    "\n",
    "tree_regressor.fit(X_train, y_train)\n",
    "\n",
    "y_pred = tree_regressor.predict(X_test)\n",
    "\n",
    "def calculate_smape(y_test, y_pred):\n",
    "    numerator = np.abs(y_test - y_pred)\n",
    "    denominator = (np.abs(y_test) + np.abs(y_pred)) / 2\n",
    "    smape = np.mean(numerator / denominator) * 100\n",
    "    return smape\n",
    "\n",
    "mse = mean_squared_error(y_test, y_pred)\n",
    "r2 = r2_score(y_test, y_pred)\n",
    "mae = mean_absolute_error(y_test, y_pred)\n",
    "smape = calculate_smape(y_test,y_pred)\n",
    "# Odchylenie standardowe zbioru uczącego\n",
    "standard_deviation = statistics.stdev(X_train['65'])\n",
    "\n",
    "print(f'Mean Squared Error: {mse}')\n",
    "print(f'R^2 Score: {r2}')\n",
    "print(f\"Mean Absolute Percentage Error (MAE): {mae}\")\n",
    "print(f'Symmetric Mean Absolute Percentage Error: {smape}')\n",
    "print(f'Standard Deviation:{standard_deviation}')"
   ]
  },
  {
   "cell_type": "markdown",
   "metadata": {},
   "source": [
    "Predict new data"
   ]
  },
  {
   "cell_type": "code",
   "execution_count": 101,
   "metadata": {},
   "outputs": [
    {
     "name": "stdout",
     "output_type": "stream",
     "text": [
      "   Wavelength      65      70      75\n",
      "0         400 -4.5796 -4.3824 -4.2303\n",
      "1         410 -4.2463 -4.0760 -3.9441\n",
      "2         420 -3.9427 -3.7948 -3.6796\n",
      "3         430 -3.6520 -3.5231 -3.4223\n",
      "4         440 -3.3686 -3.2561 -3.1677\n",
      "48.0\n"
     ]
    }
   ],
   "source": [
    "new_data = pd.read_csv('/Users/missbo/Desktop/Inżynierka/Elipsometr/e1/e1_exp/si02_e1_48-6_nm_exp_co_10_nm.csv', header=None,names=column_names, encoding='ISO-8859-1')\n",
    "\n",
    "print(new_data.head())\n",
    "\n",
    "missing_cols = set(X.columns) - set(new_data.columns)\n",
    "if missing_cols:\n",
    "    raise ValueError(f\"New data is missing columns: {missing_cols}\")\n",
    "\n",
    "\n",
    "new_predictions = tree_regressor.predict(new_data)\n",
    "\n",
    "new_data['Thickness'] = new_predictions\n",
    "\n",
    "\n",
    "plik = open('/Users/missbo/Desktop/Inżynierka/Elipsometr/Files_results/DT_e1_exp/DT_48_6_nm','w')\n",
    "for prediction in new_predictions:\n",
    "        plik.write(f\"{prediction:.2f}\\n\")\n",
    "plik.close()\n",
    "\n",
    "print((new_data['Thickness']).median())"
   ]
  },
  {
   "cell_type": "code",
   "execution_count": 102,
   "metadata": {},
   "outputs": [],
   "source": [
    "directory = \"/Users/missbo/Desktop/Inżynierka/Elipsometr/e1/e1_ver\"\n",
    "\n",
    "for filename in os.listdir(directory):\n",
    "    f = os.path.join(directory, filename)\n",
    "    if os.path.isfile(f):\n",
    "        new_data = pd.read_csv(f, header=None, names=column_names, encoding='ISO-8859-1')\n",
    "        new_predictions = tree_regressor.predict(new_data)\n",
    "        new_data['Thickness'] = new_predictions\n",
    "        result = new_data['Thickness'].median()\n",
    "        \n",
    "        \n",
    "        with open(\"/Users/missbo/Desktop/Inżynierka/Elipsometr/results.txt\", 'a') as file_results:\n",
    "            file_results.write(str(result))\n",
    "            file_results.write(\" \")\n",
    "            file_results.write(str(filename))\n",
    "            file_results.write('\\n')"
   ]
  },
  {
   "cell_type": "code",
   "execution_count": 101,
   "metadata": {},
   "outputs": [],
   "source": [
    "with open(\"/Users/missbo/Desktop/Inżynierka/Elipsometr/results.txt\", 'w') as file:\n",
    "    pass"
   ]
  },
  {
   "cell_type": "markdown",
   "metadata": {},
   "source": [
    "e2"
   ]
  },
  {
   "cell_type": "markdown",
   "metadata": {},
   "source": [
    "Import data"
   ]
  },
  {
   "cell_type": "code",
   "execution_count": 21,
   "metadata": {},
   "outputs": [],
   "source": [
    "column_names = ['Wavelength', '65', '70', '75']\n",
    "data_1nm = pd.read_csv('/Users/missbo/Desktop/Inżynierka/Elipsometr/e2/si02_e2_1nm_co_10_nm.csv', header=None, names=column_names)\n",
    "data_2nm = pd.read_csv('/Users/missbo/Desktop/Inżynierka/Elipsometr/e2/si02_e2_2nm_co_10_nm.csv', header=None, names=column_names)\n",
    "data_3nm = pd.read_csv('/Users/missbo/Desktop/Inżynierka/Elipsometr/e2/si02_e2_3nm_co_10_nm.csv', header=None, names=column_names)\n",
    "data_4nm = pd.read_csv('/Users/missbo/Desktop/Inżynierka/Elipsometr/e2/si02_e2_4nm_co_10_nm.csv', header=None, names=column_names)\n",
    "data_5nm = pd.read_csv('/Users/missbo/Desktop/Inżynierka/Elipsometr/e2/si02_e2_5nm_co_10_nm.csv', header=None, names=column_names)\n",
    "data_6nm = pd.read_csv('/Users/missbo/Desktop/Inżynierka/Elipsometr/e2/si02_e2_6nm_co_10_nm.csv', header=None, names=column_names)\n",
    "data_7nm = pd.read_csv('/Users/missbo/Desktop/Inżynierka/Elipsometr/e2/si02_e2_7nm_co_10_nm.csv', header=None, names=column_names)\n",
    "data_8nm = pd.read_csv('/Users/missbo/Desktop/Inżynierka/Elipsometr/e2/si02_e2_8nm_co_10_nm.csv', header=None, names=column_names)\n",
    "data_9nm = pd.read_csv('/Users/missbo/Desktop/Inżynierka/Elipsometr/e2/si02_e2_9nm_co_10_nm.csv', header=None, names=column_names)\n",
    "data_10nm = pd.read_csv('/Users/missbo/Desktop/Inżynierka/Elipsometr/e2/si02_e2_10nm_co_10_nm.csv', header=None, names=column_names)\n",
    "data_11nm = pd.read_csv('/Users/missbo/Desktop/Inżynierka/Elipsometr/e2/si02_e2_11nm_co_10_nm.csv', header=None, names=column_names)\n",
    "data_12nm = pd.read_csv('/Users/missbo/Desktop/Inżynierka/Elipsometr/e2/si02_e2_12nm_co_10_nm.csv', header=None, names=column_names)\n",
    "data_13nm = pd.read_csv('/Users/missbo/Desktop/Inżynierka/Elipsometr/e2/si02_e2_13nm_co_10_nm.csv', header=None, names=column_names)\n",
    "data_14nm = pd.read_csv('/Users/missbo/Desktop/Inżynierka/Elipsometr/e2/si02_e2_14nm_co_10_nm.csv', header=None, names=column_names)\n",
    "data_15nm = pd.read_csv('/Users/missbo/Desktop/Inżynierka/Elipsometr/e2/si02_e2_15nm_co_10_nm.csv', header=None, names=column_names)\n",
    "data_16nm = pd.read_csv('/Users/missbo/Desktop/Inżynierka/Elipsometr/e2/si02_e2_16nm_co_10_nm.csv', header=None, names=column_names)\n",
    "data_17nm = pd.read_csv('/Users/missbo/Desktop/Inżynierka/Elipsometr/e2/si02_e2_17nm_co_10_nm.csv', header=None, names=column_names)\n",
    "data_18nm = pd.read_csv('/Users/missbo/Desktop/Inżynierka/Elipsometr/e2/si02_e2_18nm_co_10_nm.csv', header=None, names=column_names)\n",
    "data_19nm = pd.read_csv('/Users/missbo/Desktop/Inżynierka/Elipsometr/e2/si02_e2_19nm_co_10_nm.csv', header=None, names=column_names)\n",
    "data_20nm = pd.read_csv('/Users/missbo/Desktop/Inżynierka/Elipsometr/e2/si02_e2_20nm_co_10_nm.csv', header=None, names=column_names)\n",
    "data_21nm = pd.read_csv('/Users/missbo/Desktop/Inżynierka/Elipsometr/e2/si02_e2_21nm_co_10_nm.csv', header=None, names=column_names)\n",
    "data_22nm = pd.read_csv('/Users/missbo/Desktop/Inżynierka/Elipsometr/e2/si02_e2_22nm_co_10_nm.csv', header=None, names=column_names)\n",
    "data_23nm = pd.read_csv('/Users/missbo/Desktop/Inżynierka/Elipsometr/e2/si02_e2_23nm_co_10_nm.csv', header=None, names=column_names)\n",
    "data_24nm = pd.read_csv('/Users/missbo/Desktop/Inżynierka/Elipsometr/e2/si02_e2_24nm_co_10_nm.csv', header=None, names=column_names)\n",
    "data_25nm = pd.read_csv('/Users/missbo/Desktop/Inżynierka/Elipsometr/e2/si02_e2_25nm_co_10_nm.csv', header=None, names=column_names)\n",
    "data_26nm = pd.read_csv('/Users/missbo/Desktop/Inżynierka/Elipsometr/e2/si02_e2_26nm_co_10_nm.csv', header=None, names=column_names)\n",
    "data_27nm = pd.read_csv('/Users/missbo/Desktop/Inżynierka/Elipsometr/e2/si02_e2_27nm_co_10_nm.csv', header=None, names=column_names)\n",
    "data_28nm = pd.read_csv('/Users/missbo/Desktop/Inżynierka/Elipsometr/e2/si02_e2_28nm_co_10_nm.csv', header=None, names=column_names)\n",
    "data_29nm = pd.read_csv('/Users/missbo/Desktop/Inżynierka/Elipsometr/e2/si02_e2_29nm_co_10_nm.csv', header=None, names=column_names)\n",
    "data_30nm = pd.read_csv('/Users/missbo/Desktop/Inżynierka/Elipsometr/e2/si02_e2_30nm_co_10_nm.csv', header=None, names=column_names)\n",
    "data_32nm = pd.read_csv('/Users/missbo/Desktop/Inżynierka/Elipsometr/e2/si02_e2_32nm_co_10_nm.csv', header=None, names=column_names)\n",
    "data_34nm = pd.read_csv('/Users/missbo/Desktop/Inżynierka/Elipsometr/e2/si02_e2_34nm_co_10_nm.csv', header=None, names=column_names)\n",
    "data_36nm = pd.read_csv('/Users/missbo/Desktop/Inżynierka/Elipsometr/e2/si02_e2_36nm_co_10_nm.csv', header=None, names=column_names)\n",
    "data_38nm = pd.read_csv('/Users/missbo/Desktop/Inżynierka/Elipsometr/e2/si02_e2_38nm_co_10_nm.csv', header=None, names=column_names)\n",
    "data_40nm = pd.read_csv('/Users/missbo/Desktop/Inżynierka/Elipsometr/e2/si02_e2_40nm_co_10_nm.csv', header=None, names=column_names)\n",
    "data_42nm = pd.read_csv('/Users/missbo/Desktop/Inżynierka/Elipsometr/e2/si02_e2_42nm_co_10_nm.csv', header=None, names=column_names)\n",
    "data_44nm = pd.read_csv('/Users/missbo/Desktop/Inżynierka/Elipsometr/e2/si02_e2_44nm_co_10_nm.csv', header=None, names=column_names)\n",
    "data_46nm = pd.read_csv('/Users/missbo/Desktop/Inżynierka/Elipsometr/e2/si02_e2_46nm_co_10_nm.csv', header=None, names=column_names)\n",
    "data_48nm = pd.read_csv('/Users/missbo/Desktop/Inżynierka/Elipsometr/e2/si02_e2_48nm_co_10_nm.csv', header=None, names=column_names)\n",
    "data_50nm = pd.read_csv('/Users/missbo/Desktop/Inżynierka/Elipsometr/e2/si02_e2_50nm_co_10_nm.csv', header=None, names=column_names)\n",
    "\n"
   ]
  },
  {
   "cell_type": "markdown",
   "metadata": {},
   "source": [
    "Add column Thickness"
   ]
  },
  {
   "cell_type": "code",
   "execution_count": 22,
   "metadata": {},
   "outputs": [],
   "source": [
    "data_1nm['Thickness'] = 1\n",
    "data_2nm['Thickness'] = 2\n",
    "data_3nm['Thickness'] = 3\n",
    "data_4nm['Thickness'] = 4\n",
    "data_5nm['Thickness'] = 5\n",
    "data_6nm['Thickness'] = 6\n",
    "data_7nm['Thickness'] = 7\n",
    "data_8nm['Thickness'] = 8\n",
    "data_9nm['Thickness'] = 9\n",
    "data_10nm['Thickness'] = 10\n",
    "data_11nm['Thickness'] = 11\n",
    "data_12nm['Thickness'] = 12\n",
    "data_13nm['Thickness'] = 13\n",
    "data_14nm['Thickness'] = 14\n",
    "data_15nm['Thickness'] = 15\n",
    "data_16nm['Thickness'] = 16\n",
    "data_17nm['Thickness'] = 17\n",
    "data_18nm['Thickness'] = 18\n",
    "data_19nm['Thickness'] = 19\n",
    "data_20nm['Thickness'] = 20\n",
    "data_21nm['Thickness'] = 21\n",
    "data_22nm['Thickness'] = 22\n",
    "data_23nm['Thickness'] = 23\n",
    "data_24nm['Thickness'] = 24\n",
    "data_25nm['Thickness'] = 25\n",
    "data_26nm['Thickness'] = 26\n",
    "data_27nm['Thickness'] = 27\n",
    "data_28nm['Thickness'] = 28\n",
    "data_29nm['Thickness'] = 29\n",
    "data_30nm['Thickness'] = 30\n",
    "data_32nm['Thickness'] = 32\n",
    "data_34nm['Thickness'] = 34\n",
    "data_36nm['Thickness'] = 36\n",
    "data_38nm['Thickness'] = 38\n",
    "data_40nm['Thickness'] = 40\n",
    "data_42nm['Thickness'] = 42\n",
    "data_44nm['Thickness'] = 44\n",
    "data_46nm['Thickness'] = 46\n",
    "data_48nm['Thickness'] = 48\n",
    "data_50nm['Thickness'] = 50"
   ]
  },
  {
   "cell_type": "markdown",
   "metadata": {},
   "source": [
    "Combine data"
   ]
  },
  {
   "cell_type": "code",
   "execution_count": 23,
   "metadata": {},
   "outputs": [
    {
     "name": "stdout",
     "output_type": "stream",
     "text": [
      "   Wavelength      65      70      75  Thickness\n",
      "0         300  39.536  39.533  39.531          1\n",
      "1         310  35.116  35.113  35.110          1\n",
      "2         320  32.858  32.855  32.852          1\n",
      "3         330  31.748  31.745  31.743          1\n",
      "4         340  31.464  31.461  31.458          1\n"
     ]
    }
   ],
   "source": [
    "frames = [data_1nm, data_2nm, data_3nm, data_4nm, data_5nm, data_6nm, data_7nm, data_8nm, data_9nm, data_10nm, data_11nm, data_12nm, data_13nm, data_14nm, data_15nm, data_16nm, data_17nm, data_18nm, data_19nm, data_20nm, data_21nm, data_22nm, data_23nm, data_24nm, data_25nm, data_26nm, data_27nm, data_28nm, data_29nm, data_30nm, data_32nm, data_34nm, data_36nm, data_38nm, data_40nm, data_42nm, data_44nm, data_46nm, data_48nm, data_50nm]\n",
    "combined_data = pd.concat(frames)\n",
    "combined_data=combined_data.fillna(0)\n",
    "print(combined_data.head())"
   ]
  },
  {
   "cell_type": "markdown",
   "metadata": {},
   "source": [
    "Train model"
   ]
  },
  {
   "cell_type": "code",
   "execution_count": 45,
   "metadata": {},
   "outputs": [
    {
     "name": "stdout",
     "output_type": "stream",
     "text": [
      "Mean Squared Error: 56.72071372500017\n",
      "R^2 Score: 0.6953059921862101\n",
      "Mean Absolute Percentage Error (MAE): 4.201059568159179\n",
      "Symmetric Mean Absolute Percentage Error: 19.053449947345626\n",
      "Standard Deviation:5.311435285449719\n",
      "0.013517141342163086\n"
     ]
    }
   ],
   "source": [
    "X = combined_data.drop('Thickness', axis=1)\n",
    "y = combined_data['Thickness']\n",
    "\n",
    "X_train, X_test, y_train, y_test = train_test_split(X, y, test_size=0.2, random_state=42)\n",
    "\n",
    "tree_regressor = DecisionTreeRegressor(max_depth = 10)\n",
    "\n",
    "start_time = time.time()\n",
    "tree_regressor.fit(X_train, y_train)\n",
    "training_time = time.time() - start_time\n",
    "y_pred = tree_regressor.predict(X_test)\n",
    "\n",
    "def calculate_smape(y_test, y_pred):\n",
    "    numerator = np.abs(y_test - y_pred)\n",
    "    denominator = (np.abs(y_test) + np.abs(y_pred)) / 2\n",
    "    smape = np.mean(numerator / denominator) * 100\n",
    "    return smape\n",
    "\n",
    "mse = mean_squared_error(y_test, y_pred)\n",
    "r2 = r2_score(y_test, y_pred)\n",
    "mae = mean_absolute_error(y_test, y_pred)\n",
    "smape = calculate_smape(y_test,y_pred)\n",
    "# Odchylenie standardowe zbioru uczącego\n",
    "standard_deviation = statistics.stdev(X_train['65'])\n",
    "\n",
    "print(f'Mean Squared Error: {mse}')\n",
    "print(f'R^2 Score: {r2}')\n",
    "print(f\"Mean Absolute Percentage Error (MAE): {mae}\")\n",
    "print(f'Symmetric Mean Absolute Percentage Error: {smape}')\n",
    "print(f'Standard Deviation:{standard_deviation}')\n",
    "print(training_time)"
   ]
  },
  {
   "cell_type": "markdown",
   "metadata": {},
   "source": [
    "Predict new data "
   ]
  },
  {
   "cell_type": "code",
   "execution_count": 46,
   "metadata": {},
   "outputs": [],
   "source": [
    "\n",
    "folder_path = '/Users/missbo/Desktop/Inżynierka/Elipsometr/e2/e2_exp'\n",
    "output_folder = '/Users/missbo/Desktop/Inżynierka/Elipsometr/Files_results/DT_10/DT_e2'\n",
    "\n",
    "os.makedirs(output_folder, exist_ok=True)\n",
    "\n",
    "for file_name in os.listdir(folder_path):\n",
    "    if file_name.endswith('.csv'):\n",
    "        file_path = os.path.join(folder_path, file_name)\n",
    "        \n",
    "        new_data = pd.read_csv(file_path, header=None, names=column_names)\n",
    "        \n",
    "        missing_cols = set(X.columns) - set(new_data.columns)\n",
    "        if missing_cols:\n",
    "            raise ValueError(f\"New data is missing columns: {missing_cols}\")\n",
    "        \n",
    "        new_predictions = tree_regressor.predict(new_data)\n",
    "        new_data['Thickness'] = new_predictions\n",
    "\n",
    "        thickness = file_name.split('_')[2].replace('nm', '')\n",
    "        \n",
    "        output_file = os.path.join(output_folder, f\"DT_e2_{thickness}_nm\")\n",
    "        \n",
    "        with open(output_file, 'w') as plik:\n",
    "            for prediction in new_predictions:\n",
    "                plik.write(f\"{prediction:.2f}\\n\")"
   ]
  },
  {
   "cell_type": "code",
   "execution_count": 49,
   "metadata": {},
   "outputs": [],
   "source": [
    "directory = \"/Users/missbo/Desktop/Inżynierka/Elipsometr/e2/e2_exp\"\n",
    "\n",
    "for filename in os.listdir(directory):\n",
    "    f = os.path.join(directory, filename)\n",
    "    if os.path.isfile(f):\n",
    "        new_data = pd.read_csv(f, header=None, names=column_names, encoding='ISO-8859-1')\n",
    "        new_predictions = tree_regressor.predict(new_data)\n",
    "        new_data['Thickness'] = new_predictions\n",
    "        result = new_data['Thickness'].median()\n",
    "        \n",
    "        \n",
    "        with open(\"/Users/missbo/Desktop/Inżynierka/Elipsometr/results.txt\", 'a') as file_results:\n",
    "            file_results.write(str(result))\n",
    "            file_results.write(\" \")\n",
    "            #file_results.write(str(filename))\n",
    "            file_results.write('\\n')"
   ]
  },
  {
   "cell_type": "code",
   "execution_count": 50,
   "metadata": {},
   "outputs": [],
   "source": [
    "with open(\"/Users/missbo/Desktop/Inżynierka/Elipsometr/results.txt\", 'w') as file:\n",
    "    pass"
   ]
  },
  {
   "cell_type": "markdown",
   "metadata": {},
   "source": [
    "n"
   ]
  },
  {
   "cell_type": "markdown",
   "metadata": {},
   "source": [
    "Import data "
   ]
  },
  {
   "cell_type": "code",
   "execution_count": 102,
   "metadata": {},
   "outputs": [],
   "source": [
    "column_names = ['Wavelength', '65', '70', '75']\n",
    "data_1nm = pd.read_csv('/Users/missbo/Desktop/Inżynierka/Elipsometr/n/si02_n_1nm_co_10_nm.csv', header=None, names=column_names)\n",
    "data_2nm = pd.read_csv('/Users/missbo/Desktop/Inżynierka/Elipsometr/n/si02_n_2nm_co_10_nm.csv', header=None, names=column_names)\n",
    "data_3nm = pd.read_csv('/Users/missbo/Desktop/Inżynierka/Elipsometr/n/si02_n_3nm_co_10_nm.csv', header=None, names=column_names)\n",
    "data_4nm = pd.read_csv('/Users/missbo/Desktop/Inżynierka/Elipsometr/n/si02_n_4nm_co_10_nm.csv', header=None, names=column_names)\n",
    "data_5nm = pd.read_csv('/Users/missbo/Desktop/Inżynierka/Elipsometr/n/si02_n_5nm_co_10_nm.csv', header=None, names=column_names)\n",
    "data_6nm = pd.read_csv('/Users/missbo/Desktop/Inżynierka/Elipsometr/n/si02_n_6nm_co_10_nm.csv', header=None, names=column_names)\n",
    "data_7nm = pd.read_csv('/Users/missbo/Desktop/Inżynierka/Elipsometr/n/si02_n_7nm_co_10_nm.csv', header=None, names=column_names)\n",
    "data_8nm = pd.read_csv('/Users/missbo/Desktop/Inżynierka/Elipsometr/n/si02_n_8nm_co_10_nm.csv', header=None, names=column_names)\n",
    "data_9nm = pd.read_csv('/Users/missbo/Desktop/Inżynierka/Elipsometr/n/si02_n_9nm_co_10_nm.csv', header=None, names=column_names)\n",
    "data_10nm = pd.read_csv('/Users/missbo/Desktop/Inżynierka/Elipsometr/n/si02_n_10nm_co_10_nm.csv', header=None, names=column_names)\n",
    "data_11nm = pd.read_csv('/Users/missbo/Desktop/Inżynierka/Elipsometr/n/si02_n_11nm_co_10_nm.csv', header=None, names=column_names)\n",
    "data_12nm = pd.read_csv('/Users/missbo/Desktop/Inżynierka/Elipsometr/n/si02_n_12nm_co_10_nm.csv', header=None, names=column_names)\n",
    "data_13nm = pd.read_csv('/Users/missbo/Desktop/Inżynierka/Elipsometr/n/si02_n_13nm_co_10_nm.csv', header=None, names=column_names)\n",
    "data_14nm = pd.read_csv('/Users/missbo/Desktop/Inżynierka/Elipsometr/n/si02_n_14nm_co_10_nm.csv', header=None, names=column_names)\n",
    "data_15nm = pd.read_csv('/Users/missbo/Desktop/Inżynierka/Elipsometr/n/si02_n_15nm_co_10_nm.csv', header=None, names=column_names)\n",
    "data_16nm = pd.read_csv('/Users/missbo/Desktop/Inżynierka/Elipsometr/n/si02_n_16nm_co_10_nm.csv', header=None, names=column_names)\n",
    "data_17nm = pd.read_csv('/Users/missbo/Desktop/Inżynierka/Elipsometr/n/si02_n_17nm_co_10_nm.csv', header=None, names=column_names)\n",
    "data_18nm = pd.read_csv('/Users/missbo/Desktop/Inżynierka/Elipsometr/n/si02_n_18nm_co_10_nm.csv', header=None, names=column_names)\n",
    "data_19nm = pd.read_csv('/Users/missbo/Desktop/Inżynierka/Elipsometr/n/si02_n_19nm_co_10_nm.csv', header=None, names=column_names)\n",
    "data_20nm = pd.read_csv('/Users/missbo/Desktop/Inżynierka/Elipsometr/n/si02_n_20nm_co_10_nm.csv', header=None, names=column_names)\n",
    "data_21nm = pd.read_csv('/Users/missbo/Desktop/Inżynierka/Elipsometr/n/si02_n_21nm_co_10_nm.csv', header=None, names=column_names)\n",
    "data_22nm = pd.read_csv('/Users/missbo/Desktop/Inżynierka/Elipsometr/n/si02_n_22nm_co_10_nm.csv', header=None, names=column_names)\n",
    "data_23nm = pd.read_csv('/Users/missbo/Desktop/Inżynierka/Elipsometr/n/si02_n_23nm_co_10_nm.csv', header=None, names=column_names)\n",
    "data_24nm = pd.read_csv('/Users/missbo/Desktop/Inżynierka/Elipsometr/n/si02_n_24nm_co_10_nm.csv', header=None, names=column_names)\n",
    "data_25nm = pd.read_csv('/Users/missbo/Desktop/Inżynierka/Elipsometr/n/si02_n_25nm_co_10_nm.csv', header=None, names=column_names)\n",
    "data_26nm = pd.read_csv('/Users/missbo/Desktop/Inżynierka/Elipsometr/n/si02_n_26nm_co_10_nm.csv', header=None, names=column_names)\n",
    "data_27nm = pd.read_csv('/Users/missbo/Desktop/Inżynierka/Elipsometr/n/si02_n_27nm_co_10_nm.csv', header=None, names=column_names)\n",
    "data_28nm = pd.read_csv('/Users/missbo/Desktop/Inżynierka/Elipsometr/n/si02_n_28nm_co_10_nm.csv', header=None, names=column_names)\n",
    "data_29nm = pd.read_csv('/Users/missbo/Desktop/Inżynierka/Elipsometr/n/si02_n_29nm_co_10_nm.csv', header=None, names=column_names)\n",
    "data_30nm = pd.read_csv('/Users/missbo/Desktop/Inżynierka/Elipsometr/n/si02_n_30nm_co_10_nm.csv', header=None, names=column_names)\n",
    "data_32nm = pd.read_csv('/Users/missbo/Desktop/Inżynierka/Elipsometr/n/si02_n_32nm_co_10_nm.csv', header=None, names=column_names)\n",
    "data_34nm = pd.read_csv('/Users/missbo/Desktop/Inżynierka/Elipsometr/n/si02_n_34nm_co_10_nm.csv', header=None, names=column_names)\n",
    "data_36nm = pd.read_csv('/Users/missbo/Desktop/Inżynierka/Elipsometr/n/si02_n_36nm_co_10_nm.csv', header=None, names=column_names)\n",
    "data_38nm = pd.read_csv('/Users/missbo/Desktop/Inżynierka/Elipsometr/n/si02_n_38nm_co_10_nm.csv', header=None, names=column_names)\n",
    "data_40nm = pd.read_csv('/Users/missbo/Desktop/Inżynierka/Elipsometr/n/si02_n_40nm_co_10_nm.csv', header=None, names=column_names)\n",
    "data_42nm = pd.read_csv('/Users/missbo/Desktop/Inżynierka/Elipsometr/n/si02_n_42nm_co_10_nm.csv', header=None, names=column_names)\n",
    "data_44nm = pd.read_csv('/Users/missbo/Desktop/Inżynierka/Elipsometr/n/si02_n_44nm_co_10_nm.csv', header=None, names=column_names)\n",
    "data_46nm = pd.read_csv('/Users/missbo/Desktop/Inżynierka/Elipsometr/n/si02_n_46nm_co_10_nm.csv', header=None, names=column_names)\n",
    "data_48nm = pd.read_csv('/Users/missbo/Desktop/Inżynierka/Elipsometr/n/si02_n_48nm_co_10_nm.csv', header=None, names=column_names)\n",
    "data_50nm = pd.read_csv('/Users/missbo/Desktop/Inżynierka/Elipsometr/n/si02_n_50nm_co_10_nm.csv', header=None, names=column_names)\n",
    "\n"
   ]
  },
  {
   "cell_type": "markdown",
   "metadata": {},
   "source": [
    "Add column Thickness"
   ]
  },
  {
   "cell_type": "code",
   "execution_count": 103,
   "metadata": {},
   "outputs": [],
   "source": [
    "data_1nm['Thickness'] = 1\n",
    "data_2nm['Thickness'] = 2\n",
    "data_3nm['Thickness'] = 3\n",
    "data_4nm['Thickness'] = 4\n",
    "data_5nm['Thickness'] = 5\n",
    "data_6nm['Thickness'] = 6\n",
    "data_7nm['Thickness'] = 7\n",
    "data_8nm['Thickness'] = 8\n",
    "data_9nm['Thickness'] = 9\n",
    "data_10nm['Thickness'] = 10\n",
    "data_11nm['Thickness'] = 11\n",
    "data_12nm['Thickness'] = 12\n",
    "data_13nm['Thickness'] = 13\n",
    "data_14nm['Thickness'] = 14\n",
    "data_15nm['Thickness'] = 15\n",
    "data_16nm['Thickness'] = 16\n",
    "data_17nm['Thickness'] = 17\n",
    "data_18nm['Thickness'] = 18\n",
    "data_19nm['Thickness'] = 19\n",
    "data_20nm['Thickness'] = 20\n",
    "data_21nm['Thickness'] = 21\n",
    "data_22nm['Thickness'] = 22\n",
    "data_23nm['Thickness'] = 23\n",
    "data_24nm['Thickness'] = 24\n",
    "data_25nm['Thickness'] = 25\n",
    "data_26nm['Thickness'] = 26\n",
    "data_27nm['Thickness'] = 27\n",
    "data_28nm['Thickness'] = 28\n",
    "data_29nm['Thickness'] = 29\n",
    "data_30nm['Thickness'] = 30\n",
    "data_32nm['Thickness'] = 32\n",
    "data_34nm['Thickness'] = 34\n",
    "data_36nm['Thickness'] = 36\n",
    "data_38nm['Thickness'] = 38\n",
    "data_40nm['Thickness'] = 40\n",
    "data_42nm['Thickness'] = 42\n",
    "data_44nm['Thickness'] = 44\n",
    "data_46nm['Thickness'] = 46\n",
    "data_48nm['Thickness'] = 48\n",
    "data_50nm['Thickness'] = 50"
   ]
  },
  {
   "cell_type": "markdown",
   "metadata": {},
   "source": [
    "Combine data "
   ]
  },
  {
   "cell_type": "code",
   "execution_count": 104,
   "metadata": {},
   "outputs": [
    {
     "name": "stdout",
     "output_type": "stream",
     "text": [
      "   Wavelength      65      70      75  Thickness\n",
      "0         300  4.6243  4.6243  4.6243          1\n",
      "1         310  4.7175  4.7175  4.7175          1\n",
      "2         320  4.7805  4.7805  4.7805          1\n",
      "3         330  4.8762  4.8762  4.8762          1\n",
      "4         340  5.0045  5.0045  5.0045          1\n"
     ]
    }
   ],
   "source": [
    "frames = [data_1nm, data_2nm, data_3nm, data_4nm, data_5nm, data_6nm, data_7nm, data_8nm, data_9nm, data_10nm, data_11nm, data_12nm, data_13nm, data_14nm, data_15nm, data_16nm, data_17nm, data_18nm, data_19nm, data_20nm, data_21nm, data_22nm, data_23nm, data_24nm, data_25nm, data_26nm, data_27nm, data_28nm, data_29nm, data_30nm, data_32nm, data_34nm, data_36nm, data_38nm, data_40nm, data_42nm, data_44nm, data_46nm, data_48nm, data_50nm]\n",
    "combined_data = pd.concat(frames)\n",
    "combined_data=combined_data.fillna(0)\n",
    "print(combined_data.head())"
   ]
  },
  {
   "cell_type": "markdown",
   "metadata": {},
   "source": [
    "Train model"
   ]
  },
  {
   "cell_type": "code",
   "execution_count": 105,
   "metadata": {},
   "outputs": [
    {
     "name": "stdout",
     "output_type": "stream",
     "text": [
      "Mean Squared Error: 1.7588028169014085\n",
      "R^2 Score: 0.9905520110019407\n",
      "Mean Absolute Percentage Error (MAE): 0.9066901408450704\n",
      "Symmetric Mean Absolute Percentage Error: 10.941780947776135\n",
      "Standard Deviation:0.9255726114123838\n"
     ]
    }
   ],
   "source": [
    "X = combined_data.drop('Thickness', axis=1)\n",
    "y = combined_data['Thickness']\n",
    "\n",
    "X_train, X_test, y_train, y_test = train_test_split(X, y, test_size=0.2, random_state=42)\n",
    "\n",
    "tree_regressor = DecisionTreeRegressor()\n",
    "\n",
    "tree_regressor.fit(X_train, y_train)\n",
    "\n",
    "y_pred = tree_regressor.predict(X_test)\n",
    "\n",
    "def calculate_smape(y_test, y_pred):\n",
    "    numerator = np.abs(y_test - y_pred)\n",
    "    denominator = (np.abs(y_test) + np.abs(y_pred)) / 2\n",
    "    smape = np.mean(numerator / denominator) * 100\n",
    "    return smape\n",
    "\n",
    "mse = mean_squared_error(y_test, y_pred)\n",
    "r2 = r2_score(y_test, y_pred)\n",
    "mae = mean_absolute_error(y_test, y_pred)\n",
    "smape = calculate_smape(y_test,y_pred)\n",
    "# Odchylenie standardowe zbioru uczącego\n",
    "standard_deviation = statistics.stdev(X_train['65'])\n",
    "\n",
    "print(f'Mean Squared Error: {mse}')\n",
    "print(f'R^2 Score: {r2}')\n",
    "print(f\"Mean Absolute Percentage Error (MAE): {mae}\")\n",
    "print(f'Symmetric Mean Absolute Percentage Error: {smape}')\n",
    "print(f'Standard Deviation:{standard_deviation}')"
   ]
  },
  {
   "cell_type": "markdown",
   "metadata": {},
   "source": [
    "Predict new data "
   ]
  },
  {
   "cell_type": "code",
   "execution_count": 118,
   "metadata": {},
   "outputs": [
    {
     "name": "stdout",
     "output_type": "stream",
     "text": [
      "   Wavelength       65       70       75\n",
      "0         400  0.85036  0.84484  0.84077\n",
      "1         410  0.94862  0.94243  0.93780\n",
      "2         420  1.03820  1.03160  1.02650\n",
      "3         430  1.12200  1.11500  1.10970\n",
      "4         440  1.20030  1.19320  1.18770\n",
      "48.0\n"
     ]
    }
   ],
   "source": [
    "new_data = pd.read_csv('/Users/missbo/Desktop/Inżynierka/Elipsometr/n/n_exp/si02_n_48-6_nm_exp_co_10_nm.csv', header=None,names=column_names, encoding='ISO-8859-1')\n",
    "\n",
    "print(new_data.head())\n",
    "\n",
    "missing_cols = set(X.columns) - set(new_data.columns)\n",
    "if missing_cols:\n",
    "    raise ValueError(f\"New data is missing columns: {missing_cols}\")\n",
    "\n",
    "\n",
    "new_predictions = tree_regressor.predict(new_data)\n",
    "\n",
    "new_data['Thickness'] = new_predictions\n",
    "\n",
    "\n",
    "plik = open('/Users/missbo/Desktop/Inżynierka/Elipsometr/Files_results/DT_n_exp/DT_n_48_6_nm','w')\n",
    "for prediction in new_predictions:\n",
    "        plik.write(f\"{prediction:.2f}\\n\")\n",
    "plik.close()\n",
    "\n",
    "print((new_data['Thickness']).median())"
   ]
  },
  {
   "cell_type": "code",
   "execution_count": 114,
   "metadata": {},
   "outputs": [],
   "source": [
    "directory = \"/Users/missbo/Desktop/Inżynierka/Elipsometr/n/n_ver\"\n",
    "\n",
    "for filename in os.listdir(directory):\n",
    "    f = os.path.join(directory, filename)\n",
    "    if os.path.isfile(f):\n",
    "        new_data = pd.read_csv(f, header=None, names=column_names, encoding='ISO-8859-1')\n",
    "        new_predictions = tree_regressor.predict(new_data)\n",
    "        new_data['Thickness'] = new_predictions\n",
    "        result = new_data['Thickness'].median()\n",
    "        \n",
    "        \n",
    "        with open(\"/Users/missbo/Desktop/Inżynierka/Elipsometr/results.txt\", 'a') as file_results:\n",
    "            file_results.write(str(result))\n",
    "            file_results.write(\" \")\n",
    "            file_results.write(str(filename))\n",
    "            file_results.write('\\n')"
   ]
  },
  {
   "cell_type": "code",
   "execution_count": 115,
   "metadata": {},
   "outputs": [],
   "source": [
    "with open(\"/Users/missbo/Desktop/Inżynierka/Elipsometr/results.txt\", 'w') as file:\n",
    "    pass"
   ]
  },
  {
   "cell_type": "markdown",
   "metadata": {},
   "source": [
    "k"
   ]
  },
  {
   "cell_type": "markdown",
   "metadata": {},
   "source": [
    "Import data "
   ]
  },
  {
   "cell_type": "code",
   "execution_count": 120,
   "metadata": {},
   "outputs": [],
   "source": [
    "column_names = ['Wavelength', '65', '70', '75']\n",
    "data_1nm = pd.read_csv('/Users/missbo/Desktop/Inżynierka/Elipsometr/k/si02_k_1nm_co_10_nm.csv', header=None, names=column_names)\n",
    "data_2nm = pd.read_csv('/Users/missbo/Desktop/Inżynierka/Elipsometr/k/si02_k_2nm_co_10_nm.csv', header=None, names=column_names)\n",
    "data_3nm = pd.read_csv('/Users/missbo/Desktop/Inżynierka/Elipsometr/k/si02_k_3nm_co_10_nm.csv', header=None, names=column_names)\n",
    "data_4nm = pd.read_csv('/Users/missbo/Desktop/Inżynierka/Elipsometr/k/si02_k_4nm_co_10_nm.csv', header=None, names=column_names)\n",
    "data_5nm = pd.read_csv('/Users/missbo/Desktop/Inżynierka/Elipsometr/k/si02_k_5nm_co_10_nm.csv', header=None, names=column_names)\n",
    "data_6nm = pd.read_csv('/Users/missbo/Desktop/Inżynierka/Elipsometr/k/si02_k_6nm_co_10_nm.csv', header=None, names=column_names)\n",
    "data_7nm = pd.read_csv('/Users/missbo/Desktop/Inżynierka/Elipsometr/k/si02_k_7nm_co_10_nm.csv', header=None, names=column_names)\n",
    "data_8nm = pd.read_csv('/Users/missbo/Desktop/Inżynierka/Elipsometr/k/si02_k_8nm_co_10_nm.csv', header=None, names=column_names)\n",
    "data_9nm = pd.read_csv('/Users/missbo/Desktop/Inżynierka/Elipsometr/k/si02_k_9nm_co_10_nm.csv', header=None, names=column_names)\n",
    "data_10nm = pd.read_csv('/Users/missbo/Desktop/Inżynierka/Elipsometr/k/si02_k_10nm_co_10_nm.csv', header=None, names=column_names)\n",
    "data_11nm = pd.read_csv('/Users/missbo/Desktop/Inżynierka/Elipsometr/k/si02_k_11nm_co_10_nm.csv', header=None, names=column_names)\n",
    "data_12nm = pd.read_csv('/Users/missbo/Desktop/Inżynierka/Elipsometr/k/si02_k_12nm_co_10_nm.csv', header=None, names=column_names)\n",
    "data_13nm = pd.read_csv('/Users/missbo/Desktop/Inżynierka/Elipsometr/k/si02_k_13nm_co_10_nm.csv', header=None, names=column_names)\n",
    "data_14nm = pd.read_csv('/Users/missbo/Desktop/Inżynierka/Elipsometr/k/si02_k_14nm_co_10_nm.csv', header=None, names=column_names)\n",
    "data_15nm = pd.read_csv('/Users/missbo/Desktop/Inżynierka/Elipsometr/k/si02_k_15nm_co_10_nm.csv', header=None, names=column_names)\n",
    "data_16nm = pd.read_csv('/Users/missbo/Desktop/Inżynierka/Elipsometr/k/si02_k_16nm_co_10_nm.csv', header=None, names=column_names)\n",
    "data_17nm = pd.read_csv('/Users/missbo/Desktop/Inżynierka/Elipsometr/k/si02_k_17nm_co_10_nm.csv', header=None, names=column_names)\n",
    "data_18nm = pd.read_csv('/Users/missbo/Desktop/Inżynierka/Elipsometr/k/si02_k_18nm_co_10_nm.csv', header=None, names=column_names)\n",
    "data_19nm = pd.read_csv('/Users/missbo/Desktop/Inżynierka/Elipsometr/k/si02_k_19nm_co_10_nm.csv', header=None, names=column_names)\n",
    "data_20nm = pd.read_csv('/Users/missbo/Desktop/Inżynierka/Elipsometr/k/si02_k_20nm_co_10_nm.csv', header=None, names=column_names)\n",
    "data_21nm = pd.read_csv('/Users/missbo/Desktop/Inżynierka/Elipsometr/k/si02_k_21nm_co_10_nm.csv', header=None, names=column_names)\n",
    "data_22nm = pd.read_csv('/Users/missbo/Desktop/Inżynierka/Elipsometr/k/si02_k_22nm_co_10_nm.csv', header=None, names=column_names)\n",
    "data_23nm = pd.read_csv('/Users/missbo/Desktop/Inżynierka/Elipsometr/k/si02_k_23nm_co_10_nm.csv', header=None, names=column_names)\n",
    "data_24nm = pd.read_csv('/Users/missbo/Desktop/Inżynierka/Elipsometr/k/si02_k_24nm_co_10_nm.csv', header=None, names=column_names)\n",
    "data_25nm = pd.read_csv('/Users/missbo/Desktop/Inżynierka/Elipsometr/k/si02_k_25nm_co_10_nm.csv', header=None, names=column_names)\n",
    "data_26nm = pd.read_csv('/Users/missbo/Desktop/Inżynierka/Elipsometr/k/si02_k_26nm_co_10_nm.csv', header=None, names=column_names)\n",
    "data_27nm = pd.read_csv('/Users/missbo/Desktop/Inżynierka/Elipsometr/k/si02_k_27nm_co_10_nm.csv', header=None, names=column_names)\n",
    "data_28nm = pd.read_csv('/Users/missbo/Desktop/Inżynierka/Elipsometr/k/si02_k_28nm_co_10_nm.csv', header=None, names=column_names)\n",
    "data_29nm = pd.read_csv('/Users/missbo/Desktop/Inżynierka/Elipsometr/k/si02_k_29nm_co_10_nm.csv', header=None, names=column_names)\n",
    "data_30nm = pd.read_csv('/Users/missbo/Desktop/Inżynierka/Elipsometr/k/si02_k_30nm_co_10_nm.csv', header=None, names=column_names)\n",
    "data_32nm = pd.read_csv('/Users/missbo/Desktop/Inżynierka/Elipsometr/k/si02_k_32nm_co_10_nm.csv', header=None, names=column_names)\n",
    "data_34nm = pd.read_csv('/Users/missbo/Desktop/Inżynierka/Elipsometr/k/si02_k_34nm_co_10_nm.csv', header=None, names=column_names)\n",
    "data_36nm = pd.read_csv('/Users/missbo/Desktop/Inżynierka/Elipsometr/k/si02_k_36nm_co_10_nm.csv', header=None, names=column_names)\n",
    "data_38nm = pd.read_csv('/Users/missbo/Desktop/Inżynierka/Elipsometr/k/si02_k_38nm_co_10_nm.csv', header=None, names=column_names)\n",
    "data_40nm = pd.read_csv('/Users/missbo/Desktop/Inżynierka/Elipsometr/k/si02_k_40nm_co_10_nm.csv', header=None, names=column_names)\n",
    "data_42nm = pd.read_csv('/Users/missbo/Desktop/Inżynierka/Elipsometr/k/si02_k_42nm_co_10_nm.csv', header=None, names=column_names)\n",
    "data_44nm = pd.read_csv('/Users/missbo/Desktop/Inżynierka/Elipsometr/k/si02_k_44nm_co_10_nm.csv', header=None, names=column_names)\n",
    "data_46nm = pd.read_csv('/Users/missbo/Desktop/Inżynierka/Elipsometr/k/si02_k_46nm_co_10_nm.csv', header=None, names=column_names)\n",
    "data_48nm = pd.read_csv('/Users/missbo/Desktop/Inżynierka/Elipsometr/k/si02_k_48nm_co_10_nm.csv', header=None, names=column_names)\n",
    "data_50nm = pd.read_csv('/Users/missbo/Desktop/Inżynierka/Elipsometr/k/si02_k_50nm_co_10_nm.csv', header=None, names=column_names)\n",
    "\n"
   ]
  },
  {
   "cell_type": "markdown",
   "metadata": {},
   "source": [
    "Add column Thickness"
   ]
  },
  {
   "cell_type": "code",
   "execution_count": 121,
   "metadata": {},
   "outputs": [],
   "source": [
    "data_1nm['Thickness'] = 1\n",
    "data_2nm['Thickness'] = 2\n",
    "data_3nm['Thickness'] = 3\n",
    "data_4nm['Thickness'] = 4\n",
    "data_5nm['Thickness'] = 5\n",
    "data_6nm['Thickness'] = 6\n",
    "data_7nm['Thickness'] = 7\n",
    "data_8nm['Thickness'] = 8\n",
    "data_9nm['Thickness'] = 9\n",
    "data_10nm['Thickness'] = 10\n",
    "data_11nm['Thickness'] = 11\n",
    "data_12nm['Thickness'] = 12\n",
    "data_13nm['Thickness'] = 13\n",
    "data_14nm['Thickness'] = 14\n",
    "data_15nm['Thickness'] = 15\n",
    "data_16nm['Thickness'] = 16\n",
    "data_17nm['Thickness'] = 17\n",
    "data_18nm['Thickness'] = 18\n",
    "data_19nm['Thickness'] = 19\n",
    "data_20nm['Thickness'] = 20\n",
    "data_21nm['Thickness'] = 21\n",
    "data_22nm['Thickness'] = 22\n",
    "data_23nm['Thickness'] = 23\n",
    "data_24nm['Thickness'] = 24\n",
    "data_25nm['Thickness'] = 25\n",
    "data_26nm['Thickness'] = 26\n",
    "data_27nm['Thickness'] = 27\n",
    "data_28nm['Thickness'] = 28\n",
    "data_29nm['Thickness'] = 29\n",
    "data_30nm['Thickness'] = 30\n",
    "data_32nm['Thickness'] = 32\n",
    "data_34nm['Thickness'] = 34\n",
    "data_36nm['Thickness'] = 36\n",
    "data_38nm['Thickness'] = 38\n",
    "data_40nm['Thickness'] = 40\n",
    "data_42nm['Thickness'] = 42\n",
    "data_44nm['Thickness'] = 44\n",
    "data_46nm['Thickness'] = 46\n",
    "data_48nm['Thickness'] = 48\n",
    "data_50nm['Thickness'] = 50"
   ]
  },
  {
   "cell_type": "markdown",
   "metadata": {},
   "source": [
    "Combine data"
   ]
  },
  {
   "cell_type": "code",
   "execution_count": 122,
   "metadata": {},
   "outputs": [
    {
     "name": "stdout",
     "output_type": "stream",
     "text": [
      "   Wavelength      65      70      75  Thickness\n",
      "0         300  4.2748  4.2745  4.2742          1\n",
      "1         310  3.7219  3.7215  3.7213          1\n",
      "2         320  3.4367  3.4363  3.4361          1\n",
      "3         330  3.2554  3.2551  3.2549          1\n",
      "4         340  3.1435  3.1432  3.1430          1\n"
     ]
    }
   ],
   "source": [
    "frames = [data_1nm, data_2nm, data_3nm, data_4nm, data_5nm, data_6nm, data_7nm, data_8nm, data_9nm, data_10nm, data_11nm, data_12nm, data_13nm, data_14nm, data_15nm, data_16nm, data_17nm, data_18nm, data_19nm, data_20nm, data_21nm, data_22nm, data_23nm, data_24nm, data_25nm, data_26nm, data_27nm, data_28nm, data_29nm, data_30nm, data_32nm, data_34nm, data_36nm, data_38nm, data_40nm, data_42nm, data_44nm, data_46nm, data_48nm, data_50nm]\n",
    "combined_data = pd.concat(frames)\n",
    "combined_data=combined_data.fillna(0)\n",
    "print(combined_data.head())"
   ]
  },
  {
   "cell_type": "markdown",
   "metadata": {},
   "source": [
    "Train model"
   ]
  },
  {
   "cell_type": "code",
   "execution_count": 123,
   "metadata": {},
   "outputs": [
    {
     "name": "stdout",
     "output_type": "stream",
     "text": [
      "Mean Squared Error: 19.901408450704224\n",
      "R^2 Score: 0.893093025391329\n",
      "Mean Absolute Percentage Error (MAE): 2.0422535211267605\n",
      "Symmetric Mean Absolute Percentage Error: 11.119730153268042\n",
      "Standard Deviation:0.9016376642219213\n"
     ]
    }
   ],
   "source": [
    "X = combined_data.drop('Thickness', axis=1)\n",
    "y = combined_data['Thickness']\n",
    "\n",
    "X_train, X_test, y_train, y_test = train_test_split(X, y, test_size=0.2, random_state=42)\n",
    "\n",
    "tree_regressor = DecisionTreeRegressor()\n",
    "\n",
    "tree_regressor.fit(X_train, y_train)\n",
    "\n",
    "y_pred = tree_regressor.predict(X_test)\n",
    "\n",
    "def calculate_smape(y_test, y_pred):\n",
    "    numerator = np.abs(y_test - y_pred)\n",
    "    denominator = (np.abs(y_test) + np.abs(y_pred)) / 2\n",
    "    smape = np.mean(numerator / denominator) * 100\n",
    "    return smape\n",
    "\n",
    "mse = mean_squared_error(y_test, y_pred)\n",
    "r2 = r2_score(y_test, y_pred)\n",
    "mae = mean_absolute_error(y_test, y_pred)\n",
    "smape = calculate_smape(y_test,y_pred)\n",
    "# Odchylenie standardowe zbioru uczącego\n",
    "standard_deviation = statistics.stdev(X_train['65'])\n",
    "\n",
    "print(f'Mean Squared Error: {mse}')\n",
    "print(f'R^2 Score: {r2}')\n",
    "print(f\"Mean Absolute Percentage Error (MAE): {mae}\")\n",
    "print(f'Symmetric Mean Absolute Percentage Error: {smape}')\n",
    "print(f'Standard Deviation:{standard_deviation}')"
   ]
  },
  {
   "cell_type": "markdown",
   "metadata": {},
   "source": [
    "Predict new data "
   ]
  },
  {
   "cell_type": "code",
   "execution_count": 136,
   "metadata": {},
   "outputs": [
    {
     "name": "stdout",
     "output_type": "stream",
     "text": [
      "   Wavelength      65      70      75\n",
      "0         400  2.3028  2.2575  2.2220\n",
      "1         410  2.2685  2.2281  2.1963\n",
      "2         420  2.2407  2.2043  2.1756\n",
      "3         430  2.2161  2.1832  2.1573\n",
      "4         440  2.1930  2.1633  2.1397\n",
      "48.0\n"
     ]
    }
   ],
   "source": [
    "new_data = pd.read_csv('/Users/missbo/Desktop/Inżynierka/Elipsometr/k/k_exp/si02_k_48-6_nm_exp_co_10_nm.csv', header=None,names=column_names, encoding='ISO-8859-1')\n",
    "\n",
    "print(new_data.head())\n",
    "\n",
    "missing_cols = set(X.columns) - set(new_data.columns)\n",
    "if missing_cols:\n",
    "    raise ValueError(f\"New data is missing columns: {missing_cols}\")\n",
    "\n",
    "\n",
    "new_predictions = tree_regressor.predict(new_data)\n",
    "\n",
    "new_data['Thickness'] = new_predictions\n",
    "\n",
    "\n",
    "plik = open('/Users/missbo/Desktop/Inżynierka/Elipsometr/Files_results/DT_k_exp/DT_k_48_6_nm','w')\n",
    "for prediction in new_predictions:\n",
    "        plik.write(f\"{prediction:.2f}\\n\")\n",
    "plik.close()\n",
    "\n",
    "print((new_data['Thickness']).median())"
   ]
  },
  {
   "cell_type": "code",
   "execution_count": 123,
   "metadata": {},
   "outputs": [],
   "source": [
    "directory = \"/Users/missbo/Desktop/Inżynierka/Elipsometr/k/k_ver\"\n",
    "\n",
    "for filename in os.listdir(directory):\n",
    "    f = os.path.join(directory, filename)\n",
    "    if os.path.isfile(f):\n",
    "        new_data = pd.read_csv(f, header=None, names=column_names, encoding='ISO-8859-1')\n",
    "        new_predictions = tree_regressor.predict(new_data)\n",
    "        new_data['Thickness'] = new_predictions\n",
    "        result = new_data['Thickness'].median()\n",
    "        \n",
    "        \n",
    "        with open(\"/Users/missbo/Desktop/Inżynierka/Elipsometr/results.txt\", 'a') as file_results:\n",
    "            file_results.write(str(result))\n",
    "            file_results.write(\" \")\n",
    "            file_results.write(str(filename))\n",
    "            file_results.write('\\n')"
   ]
  },
  {
   "cell_type": "code",
   "execution_count": 122,
   "metadata": {},
   "outputs": [],
   "source": [
    "with open(\"/Users/missbo/Desktop/Inżynierka/Elipsometr/results.txt\", 'w') as file:\n",
    "    pass"
   ]
  },
  {
   "cell_type": "markdown",
   "metadata": {},
   "source": [
    "delta"
   ]
  },
  {
   "cell_type": "markdown",
   "metadata": {},
   "source": [
    "Import data "
   ]
  },
  {
   "cell_type": "code",
   "execution_count": 137,
   "metadata": {},
   "outputs": [],
   "source": [
    "column_names = ['Wavelength', '65', '70', '75']\n",
    "data_1nm = pd.read_csv('/Users/missbo/Desktop/Inżynierka/Elipsometr/delta/si02_delta_1nm_co_10_nm.csv', header=None, names=column_names)\n",
    "data_2nm = pd.read_csv('/Users/missbo/Desktop/Inżynierka/Elipsometr/delta/si02_delta_2nm_co_10_nm.csv', header=None, names=column_names)\n",
    "data_3nm = pd.read_csv('/Users/missbo/Desktop/Inżynierka/Elipsometr/delta/si02_delta_3nm_co_10_nm.csv', header=None, names=column_names)\n",
    "data_4nm = pd.read_csv('/Users/missbo/Desktop/Inżynierka/Elipsometr/delta/si02_delta_4nm_co_10_nm.csv', header=None, names=column_names)\n",
    "data_5nm = pd.read_csv('/Users/missbo/Desktop/Inżynierka/Elipsometr/delta/si02_delta_5nm_co_10_nm.csv', header=None, names=column_names)\n",
    "data_6nm = pd.read_csv('/Users/missbo/Desktop/Inżynierka/Elipsometr/delta/si02_delta_6nm_co_10_nm.csv', header=None, names=column_names)\n",
    "data_7nm = pd.read_csv('/Users/missbo/Desktop/Inżynierka/Elipsometr/delta/si02_delta_7nm_co_10_nm.csv', header=None, names=column_names)\n",
    "data_8nm = pd.read_csv('/Users/missbo/Desktop/Inżynierka/Elipsometr/delta/si02_delta_8nm_co_10_nm.csv', header=None, names=column_names)\n",
    "data_9nm = pd.read_csv('/Users/missbo/Desktop/Inżynierka/Elipsometr/delta/si02_delta_9nm_co_10_nm.csv', header=None, names=column_names)\n",
    "data_10nm = pd.read_csv('/Users/missbo/Desktop/Inżynierka/Elipsometr/delta/si02_delta_10nm_co_10_nm.csv', header=None, names=column_names)\n",
    "data_11nm = pd.read_csv('/Users/missbo/Desktop/Inżynierka/Elipsometr/delta/si02_delta_11nm_co_10_nm.csv', header=None, names=column_names)\n",
    "data_12nm = pd.read_csv('/Users/missbo/Desktop/Inżynierka/Elipsometr/delta/si02_delta_12nm_co_10_nm.csv', header=None, names=column_names)\n",
    "data_13nm = pd.read_csv('/Users/missbo/Desktop/Inżynierka/Elipsometr/delta/si02_delta_13nm_co_10_nm.csv', header=None, names=column_names)\n",
    "data_14nm = pd.read_csv('/Users/missbo/Desktop/Inżynierka/Elipsometr/delta/si02_delta_14nm_co_10_nm.csv', header=None, names=column_names)\n",
    "data_15nm = pd.read_csv('/Users/missbo/Desktop/Inżynierka/Elipsometr/delta/si02_delta_15nm_co_10_nm.csv', header=None, names=column_names)\n",
    "data_16nm = pd.read_csv('/Users/missbo/Desktop/Inżynierka/Elipsometr/delta/si02_delta_16nm_co_10_nm.csv', header=None, names=column_names)\n",
    "data_17nm = pd.read_csv('/Users/missbo/Desktop/Inżynierka/Elipsometr/delta/si02_delta_17nm_co_10_nm.csv', header=None, names=column_names)\n",
    "data_18nm = pd.read_csv('/Users/missbo/Desktop/Inżynierka/Elipsometr/delta/si02_delta_18nm_co_10_nm.csv', header=None, names=column_names)\n",
    "data_19nm = pd.read_csv('/Users/missbo/Desktop/Inżynierka/Elipsometr/delta/si02_delta_19nm_co_10_nm.csv', header=None, names=column_names)\n",
    "data_20nm = pd.read_csv('/Users/missbo/Desktop/Inżynierka/Elipsometr/delta/si02_delta_20nm_co_10_nm.csv', header=None, names=column_names)\n",
    "data_21nm = pd.read_csv('/Users/missbo/Desktop/Inżynierka/Elipsometr/delta/si02_delta_21nm_co_10_nm.csv', header=None, names=column_names)\n",
    "data_22nm = pd.read_csv('/Users/missbo/Desktop/Inżynierka/Elipsometr/delta/si02_delta_22nm_co_10_nm.csv', header=None, names=column_names)\n",
    "data_23nm = pd.read_csv('/Users/missbo/Desktop/Inżynierka/Elipsometr/delta/si02_delta_23nm_co_10_nm.csv', header=None, names=column_names)\n",
    "data_24nm = pd.read_csv('/Users/missbo/Desktop/Inżynierka/Elipsometr/delta/si02_delta_24nm_co_10_nm.csv', header=None, names=column_names)\n",
    "data_25nm = pd.read_csv('/Users/missbo/Desktop/Inżynierka/Elipsometr/delta/si02_delta_25nm_co_10_nm.csv', header=None, names=column_names)\n",
    "data_26nm = pd.read_csv('/Users/missbo/Desktop/Inżynierka/Elipsometr/delta/si02_delta_26nm_co_10_nm.csv', header=None, names=column_names)\n",
    "data_27nm = pd.read_csv('/Users/missbo/Desktop/Inżynierka/Elipsometr/delta/si02_delta_27nm_co_10_nm.csv', header=None, names=column_names)\n",
    "data_28nm = pd.read_csv('/Users/missbo/Desktop/Inżynierka/Elipsometr/delta/si02_delta_28nm_co_10_nm.csv', header=None, names=column_names)\n",
    "data_29nm = pd.read_csv('/Users/missbo/Desktop/Inżynierka/Elipsometr/delta/si02_delta_29nm_co_10_nm.csv', header=None, names=column_names)\n",
    "data_30nm = pd.read_csv('/Users/missbo/Desktop/Inżynierka/Elipsometr/delta/si02_delta_30nm_co_10_nm.csv', header=None, names=column_names)\n",
    "data_32nm = pd.read_csv('/Users/missbo/Desktop/Inżynierka/Elipsometr/delta/si02_delta_32nm_co_10_nm.csv', header=None, names=column_names)\n",
    "data_34nm = pd.read_csv('/Users/missbo/Desktop/Inżynierka/Elipsometr/delta/si02_delta_34nm_co_10_nm.csv', header=None, names=column_names)\n",
    "data_36nm = pd.read_csv('/Users/missbo/Desktop/Inżynierka/Elipsometr/delta/si02_delta_36nm_co_10_nm.csv', header=None, names=column_names)\n",
    "data_38nm = pd.read_csv('/Users/missbo/Desktop/Inżynierka/Elipsometr/delta/si02_delta_38nm_co_10_nm.csv', header=None, names=column_names)\n",
    "data_40nm = pd.read_csv('/Users/missbo/Desktop/Inżynierka/Elipsometr/delta/si02_delta_40nm_co_10_nm.csv', header=None, names=column_names)\n",
    "data_42nm = pd.read_csv('/Users/missbo/Desktop/Inżynierka/Elipsometr/delta/si02_delta_42nm_co_10_nm.csv', header=None, names=column_names)\n",
    "data_44nm = pd.read_csv('/Users/missbo/Desktop/Inżynierka/Elipsometr/delta/si02_delta_44nm_co_10_nm.csv', header=None, names=column_names)\n",
    "data_46nm = pd.read_csv('/Users/missbo/Desktop/Inżynierka/Elipsometr/delta/si02_delta_46nm_co_10_nm.csv', header=None, names=column_names)\n",
    "data_48nm = pd.read_csv('/Users/missbo/Desktop/Inżynierka/Elipsometr/delta/si02_delta_48nm_co_10_nm.csv', header=None, names=column_names)\n",
    "data_50nm = pd.read_csv('/Users/missbo/Desktop/Inżynierka/Elipsometr/delta/si02_delta_50nm_co_10_nm.csv', header=None, names=column_names)\n",
    "\n"
   ]
  },
  {
   "cell_type": "markdown",
   "metadata": {},
   "source": [
    "Add column Thickness"
   ]
  },
  {
   "cell_type": "code",
   "execution_count": 138,
   "metadata": {},
   "outputs": [],
   "source": [
    "data_1nm['Thickness'] = 1\n",
    "data_2nm['Thickness'] = 2\n",
    "data_3nm['Thickness'] = 3\n",
    "data_4nm['Thickness'] = 4\n",
    "data_5nm['Thickness'] = 5\n",
    "data_6nm['Thickness'] = 6\n",
    "data_7nm['Thickness'] = 7\n",
    "data_8nm['Thickness'] = 8\n",
    "data_9nm['Thickness'] = 9\n",
    "data_10nm['Thickness'] = 10\n",
    "data_11nm['Thickness'] = 11\n",
    "data_12nm['Thickness'] = 12\n",
    "data_13nm['Thickness'] = 13\n",
    "data_14nm['Thickness'] = 14\n",
    "data_15nm['Thickness'] = 15\n",
    "data_16nm['Thickness'] = 16\n",
    "data_17nm['Thickness'] = 17\n",
    "data_18nm['Thickness'] = 18\n",
    "data_19nm['Thickness'] = 19\n",
    "data_20nm['Thickness'] = 20\n",
    "data_21nm['Thickness'] = 21\n",
    "data_22nm['Thickness'] = 22\n",
    "data_23nm['Thickness'] = 23\n",
    "data_24nm['Thickness'] = 24\n",
    "data_25nm['Thickness'] = 25\n",
    "data_26nm['Thickness'] = 26\n",
    "data_27nm['Thickness'] = 27\n",
    "data_28nm['Thickness'] = 28\n",
    "data_29nm['Thickness'] = 29\n",
    "data_30nm['Thickness'] = 30\n",
    "data_32nm['Thickness'] = 32\n",
    "data_34nm['Thickness'] = 34\n",
    "data_36nm['Thickness'] = 36\n",
    "data_38nm['Thickness'] = 38\n",
    "data_40nm['Thickness'] = 40\n",
    "data_42nm['Thickness'] = 42\n",
    "data_44nm['Thickness'] = 44\n",
    "data_46nm['Thickness'] = 46\n",
    "data_48nm['Thickness'] = 48\n",
    "data_50nm['Thickness'] = 50"
   ]
  },
  {
   "cell_type": "markdown",
   "metadata": {},
   "source": [
    "Combine data "
   ]
  },
  {
   "cell_type": "code",
   "execution_count": 139,
   "metadata": {},
   "outputs": [
    {
     "name": "stdout",
     "output_type": "stream",
     "text": [
      "   Wavelength      65      70      75  Thickness\n",
      "0         300  154.89  145.87  130.46          1\n",
      "1         310  155.53  146.37  130.12          1\n",
      "2         320  156.19  147.05  130.41          1\n",
      "3         330  157.08  148.12  131.48          1\n",
      "4         340  158.13  149.48  133.16          1\n"
     ]
    }
   ],
   "source": [
    "frames = [data_1nm, data_2nm, data_3nm, data_4nm, data_5nm, data_6nm, data_7nm, data_8nm, data_9nm, data_10nm, data_11nm, data_12nm, data_13nm, data_14nm, data_15nm, data_16nm, data_17nm, data_18nm, data_19nm, data_20nm, data_21nm, data_22nm, data_23nm, data_24nm, data_25nm, data_26nm, data_27nm, data_28nm, data_29nm, data_30nm, data_32nm, data_34nm, data_36nm, data_38nm, data_40nm, data_42nm, data_44nm, data_46nm, data_48nm, data_50nm]\n",
    "combined_data = pd.concat(frames)\n",
    "combined_data=combined_data.fillna(0)\n",
    "print(combined_data.head())"
   ]
  },
  {
   "cell_type": "markdown",
   "metadata": {},
   "source": [
    "Train model "
   ]
  },
  {
   "cell_type": "code",
   "execution_count": 140,
   "metadata": {},
   "outputs": [
    {
     "name": "stdout",
     "output_type": "stream",
     "text": [
      "Mean Squared Error: 0.823943661971831\n",
      "R^2 Score: 0.9955739150639722\n",
      "Mean Absolute Percentage Error (MAE): 0.4119718309859155\n",
      "Symmetric Mean Absolute Percentage Error: 2.5540816430501576\n",
      "Standard Deviation:19.53471010524313\n"
     ]
    }
   ],
   "source": [
    "X = combined_data.drop('Thickness', axis=1)\n",
    "y = combined_data['Thickness']\n",
    "\n",
    "X_train, X_test, y_train, y_test = train_test_split(X, y, test_size=0.2, random_state=42)\n",
    "\n",
    "tree_regressor = DecisionTreeRegressor()\n",
    "\n",
    "tree_regressor.fit(X_train, y_train)\n",
    "\n",
    "y_pred = tree_regressor.predict(X_test)\n",
    "\n",
    "def calculate_smape(y_test, y_pred):\n",
    "    numerator = np.abs(y_test - y_pred)\n",
    "    denominator = (np.abs(y_test) + np.abs(y_pred)) / 2\n",
    "    smape = np.mean(numerator / denominator) * 100\n",
    "    return smape\n",
    "\n",
    "mse = mean_squared_error(y_test, y_pred)\n",
    "r2 = r2_score(y_test, y_pred)\n",
    "mae = mean_absolute_error(y_test, y_pred)\n",
    "smape = calculate_smape(y_test,y_pred)\n",
    "# Odchylenie standardowe zbioru uczącego\n",
    "standard_deviation = statistics.stdev(X_train['65'])\n",
    "\n",
    "print(f'Mean Squared Error: {mse}')\n",
    "print(f'R^2 Score: {r2}')\n",
    "print(f\"Mean Absolute Percentage Error (MAE): {mae}\")\n",
    "print(f'Symmetric Mean Absolute Percentage Error: {smape}')\n",
    "print(f'Standard Deviation:{standard_deviation}')"
   ]
  },
  {
   "cell_type": "markdown",
   "metadata": {},
   "source": [
    "Predict new data "
   ]
  },
  {
   "cell_type": "code",
   "execution_count": 153,
   "metadata": {},
   "outputs": [
    {
     "name": "stdout",
     "output_type": "stream",
     "text": [
      "   Wavelength      65      70      75\n",
      "0         400  106.86  89.251  69.073\n",
      "1         410  106.97  89.225  68.871\n",
      "2         420  107.23  89.337  68.783\n",
      "3         430  107.59  89.530  68.753\n",
      "4         440  108.00  89.766  68.749\n",
      "48.0\n"
     ]
    }
   ],
   "source": [
    "new_data = pd.read_csv('/Users/missbo/Desktop/Inżynierka/Elipsometr/delta/delta_exp/si02_delta_48-6_nm_exp_co_10_nm.csv', header=None,names=column_names, encoding='ISO-8859-1')\n",
    "\n",
    "print(new_data.head())\n",
    "\n",
    "missing_cols = set(X.columns) - set(new_data.columns)\n",
    "if missing_cols:\n",
    "    raise ValueError(f\"New data is missing columns: {missing_cols}\")\n",
    "\n",
    "\n",
    "new_predictions = tree_regressor.predict(new_data)\n",
    "\n",
    "new_data['Thickness'] = new_predictions\n",
    "\n",
    "\n",
    "plik = open('/Users/missbo/Desktop/Inżynierka/Elipsometr/Files_results/DT_delta_exp/DT_delta_48_6_nm','w')\n",
    "for prediction in new_predictions:\n",
    "        plik.write(f\"{prediction:.2f}\\n\")\n",
    "plik.close()\n",
    "\n",
    "print((new_data['Thickness']).median())\n"
   ]
  },
  {
   "cell_type": "code",
   "execution_count": 129,
   "metadata": {},
   "outputs": [],
   "source": [
    "directory = \"/Users/missbo/Desktop/Inżynierka/Elipsometr/delta/delta_ver\"\n",
    "\n",
    "for filename in os.listdir(directory):\n",
    "    f = os.path.join(directory, filename)\n",
    "    if os.path.isfile(f):\n",
    "        new_data = pd.read_csv(f, header=None, names=column_names, encoding='ISO-8859-1')\n",
    "        new_predictions = tree_regressor.predict(new_data)\n",
    "        new_data['Thickness'] = new_predictions\n",
    "        result = new_data['Thickness'].median()\n",
    "        \n",
    "        \n",
    "        with open(\"/Users/missbo/Desktop/Inżynierka/Elipsometr/results.txt\", 'a') as file_results:\n",
    "            file_results.write(str(result))\n",
    "            file_results.write(\" \")\n",
    "            file_results.write(str(filename))\n",
    "            file_results.write('\\n')"
   ]
  },
  {
   "cell_type": "code",
   "execution_count": 130,
   "metadata": {},
   "outputs": [],
   "source": [
    "with open(\"/Users/missbo/Desktop/Inżynierka/Elipsometr/results.txt\", 'w') as file:\n",
    "    pass"
   ]
  },
  {
   "cell_type": "markdown",
   "metadata": {},
   "source": [
    "cos2psi"
   ]
  },
  {
   "cell_type": "markdown",
   "metadata": {},
   "source": [
    "Import data "
   ]
  },
  {
   "cell_type": "code",
   "execution_count": 154,
   "metadata": {},
   "outputs": [],
   "source": [
    "column_names = ['Wavelength', '65', '70', '75']\n",
    "data_1nm = pd.read_csv('/Users/missbo/Desktop/Inżynierka/Elipsometr/cos2psi/sio2_cos2psi_1nm_co_10_nm.csv', header=None, names=column_names)\n",
    "data_2nm = pd.read_csv('/Users/missbo/Desktop/Inżynierka/Elipsometr/cos2psi/sio2_cos2psi_2nm_co_10_nm.csv', header=None, names=column_names)\n",
    "data_3nm = pd.read_csv('/Users/missbo/Desktop/Inżynierka/Elipsometr/cos2psi/sio2_cos2psi_3nm_co_10_nm.csv', header=None, names=column_names)\n",
    "data_4nm = pd.read_csv('/Users/missbo/Desktop/Inżynierka/Elipsometr/cos2psi/sio2_cos2psi_4nm_co_10_nm.csv', header=None, names=column_names)\n",
    "data_5nm = pd.read_csv('/Users/missbo/Desktop/Inżynierka/Elipsometr/cos2psi/sio2_cos2psi_5nm_co_10_nm.csv', header=None, names=column_names)\n",
    "data_6nm = pd.read_csv('/Users/missbo/Desktop/Inżynierka/Elipsometr/cos2psi/sio2_cos2psi_6nm_co_10_nm.csv', header=None, names=column_names)\n",
    "data_7nm = pd.read_csv('/Users/missbo/Desktop/Inżynierka/Elipsometr/cos2psi/sio2_cos2psi_7nm_co_10_nm.csv', header=None, names=column_names)\n",
    "data_8nm = pd.read_csv('/Users/missbo/Desktop/Inżynierka/Elipsometr/cos2psi/sio2_cos2psi_8nm_co_10_nm.csv', header=None, names=column_names)\n",
    "data_9nm = pd.read_csv('/Users/missbo/Desktop/Inżynierka/Elipsometr/cos2psi/sio2_cos2psi_9nm_co_10_nm.csv', header=None, names=column_names)\n",
    "data_10nm = pd.read_csv('/Users/missbo/Desktop/Inżynierka/Elipsometr/cos2psi/sio2_cos2psi_10nm_co_10_nm.csv', header=None, names=column_names)\n",
    "data_11nm = pd.read_csv('/Users/missbo/Desktop/Inżynierka/Elipsometr/cos2psi/sio2_cos2psi_11nm_co_10_nm.csv', header=None, names=column_names)\n",
    "data_12nm = pd.read_csv('/Users/missbo/Desktop/Inżynierka/Elipsometr/cos2psi/sio2_cos2psi_12nm_co_10_nm.csv', header=None, names=column_names)\n",
    "data_13nm = pd.read_csv('/Users/missbo/Desktop/Inżynierka/Elipsometr/cos2psi/sio2_cos2psi_13nm_co_10_nm.csv', header=None, names=column_names)\n",
    "data_14nm = pd.read_csv('/Users/missbo/Desktop/Inżynierka/Elipsometr/cos2psi/sio2_cos2psi_14nm_co_10_nm.csv', header=None, names=column_names)\n",
    "data_15nm = pd.read_csv('/Users/missbo/Desktop/Inżynierka/Elipsometr/cos2psi/sio2_cos2psi_15nm_co_10_nm.csv', header=None, names=column_names)\n",
    "data_16nm = pd.read_csv('/Users/missbo/Desktop/Inżynierka/Elipsometr/cos2psi/sio2_cos2psi_16nm_co_10_nm.csv', header=None, names=column_names)\n",
    "data_17nm = pd.read_csv('/Users/missbo/Desktop/Inżynierka/Elipsometr/cos2psi/sio2_cos2psi_17nm_co_10_nm.csv', header=None, names=column_names)\n",
    "data_18nm = pd.read_csv('/Users/missbo/Desktop/Inżynierka/Elipsometr/cos2psi/sio2_cos2psi_18nm_co_10_nm.csv', header=None, names=column_names)\n",
    "data_19nm = pd.read_csv('/Users/missbo/Desktop/Inżynierka/Elipsometr/cos2psi/sio2_cos2psi_19nm_co_10_nm.csv', header=None, names=column_names)\n",
    "data_20nm = pd.read_csv('/Users/missbo/Desktop/Inżynierka/Elipsometr/cos2psi/sio2_cos2psi_20nm_co_10_nm.csv', header=None, names=column_names)\n",
    "data_21nm = pd.read_csv('/Users/missbo/Desktop/Inżynierka/Elipsometr/cos2psi/sio2_cos2psi_21nm_co_10_nm.csv', header=None, names=column_names)\n",
    "data_22nm = pd.read_csv('/Users/missbo/Desktop/Inżynierka/Elipsometr/cos2psi/sio2_cos2psi_22nm_co_10_nm.csv', header=None, names=column_names)\n",
    "data_23nm = pd.read_csv('/Users/missbo/Desktop/Inżynierka/Elipsometr/cos2psi/sio2_cos2psi_23nm_co_10_nm.csv', header=None, names=column_names)\n",
    "data_24nm = pd.read_csv('/Users/missbo/Desktop/Inżynierka/Elipsometr/cos2psi/sio2_cos2psi_24nm_co_10_nm.csv', header=None, names=column_names)\n",
    "data_25nm = pd.read_csv('/Users/missbo/Desktop/Inżynierka/Elipsometr/cos2psi/sio2_cos2psi_25nm_co_10_nm.csv', header=None, names=column_names)\n",
    "data_26nm = pd.read_csv('/Users/missbo/Desktop/Inżynierka/Elipsometr/cos2psi/sio2_cos2psi_26nm_co_10_nm.csv', header=None, names=column_names)\n",
    "data_27nm = pd.read_csv('/Users/missbo/Desktop/Inżynierka/Elipsometr/cos2psi/sio2_cos2psi_27nm_co_10_nm.csv', header=None, names=column_names)\n",
    "data_28nm = pd.read_csv('/Users/missbo/Desktop/Inżynierka/Elipsometr/cos2psi/sio2_cos2psi_28nm_co_10_nm.csv', header=None, names=column_names)\n",
    "data_29nm = pd.read_csv('/Users/missbo/Desktop/Inżynierka/Elipsometr/cos2psi/sio2_cos2psi_29nm_co_10_nm.csv', header=None, names=column_names)\n",
    "data_30nm = pd.read_csv('/Users/missbo/Desktop/Inżynierka/Elipsometr/cos2psi/sio2_cos2psi_30nm_co_10_nm.csv', header=None, names=column_names)\n",
    "data_32nm = pd.read_csv('/Users/missbo/Desktop/Inżynierka/Elipsometr/cos2psi/sio2_cos2psi_32nm_co_10_nm.csv', header=None, names=column_names)\n",
    "data_34nm = pd.read_csv('/Users/missbo/Desktop/Inżynierka/Elipsometr/cos2psi/sio2_cos2psi_34nm_co_10_nm.csv', header=None, names=column_names)\n",
    "data_36nm = pd.read_csv('/Users/missbo/Desktop/Inżynierka/Elipsometr/cos2psi/sio2_cos2psi_36nm_co_10_nm.csv', header=None, names=column_names)\n",
    "data_38nm = pd.read_csv('/Users/missbo/Desktop/Inżynierka/Elipsometr/cos2psi/sio2_cos2psi_38nm_co_10_nm.csv', header=None, names=column_names)\n",
    "data_40nm = pd.read_csv('/Users/missbo/Desktop/Inżynierka/Elipsometr/cos2psi/sio2_cos2psi_40nm_co_10_nm.csv', header=None, names=column_names)\n",
    "data_42nm = pd.read_csv('/Users/missbo/Desktop/Inżynierka/Elipsometr/cos2psi/sio2_cos2psi_42nm_co_10_nm.csv', header=None, names=column_names)\n",
    "data_44nm = pd.read_csv('/Users/missbo/Desktop/Inżynierka/Elipsometr/cos2psi/sio2_cos2psi_44nm_co_10_nm.csv', header=None, names=column_names)\n",
    "data_46nm = pd.read_csv('/Users/missbo/Desktop/Inżynierka/Elipsometr/cos2psi/sio2_cos2psi_46nm_co_10_nm.csv', header=None, names=column_names)\n",
    "data_48nm = pd.read_csv('/Users/missbo/Desktop/Inżynierka/Elipsometr/cos2psi/sio2_cos2psi_48nm_co_10_nm.csv', header=None, names=column_names)\n",
    "data_50nm = pd.read_csv('/Users/missbo/Desktop/Inżynierka/Elipsometr/cos2psi/sio2_cos2psi_50nm_co_10_nm.csv', header=None, names=column_names)\n",
    "\n"
   ]
  },
  {
   "cell_type": "markdown",
   "metadata": {},
   "source": [
    "Add column Thickness"
   ]
  },
  {
   "cell_type": "code",
   "execution_count": 155,
   "metadata": {},
   "outputs": [],
   "source": [
    "data_1nm['Thickness'] = 1\n",
    "data_2nm['Thickness'] = 2\n",
    "data_3nm['Thickness'] = 3\n",
    "data_4nm['Thickness'] = 4\n",
    "data_5nm['Thickness'] = 5\n",
    "data_6nm['Thickness'] = 6\n",
    "data_7nm['Thickness'] = 7\n",
    "data_8nm['Thickness'] = 8\n",
    "data_9nm['Thickness'] = 9\n",
    "data_10nm['Thickness'] = 10\n",
    "data_11nm['Thickness'] = 11\n",
    "data_12nm['Thickness'] = 12\n",
    "data_13nm['Thickness'] = 13\n",
    "data_14nm['Thickness'] = 14\n",
    "data_15nm['Thickness'] = 15\n",
    "data_16nm['Thickness'] = 16\n",
    "data_17nm['Thickness'] = 17\n",
    "data_18nm['Thickness'] = 18\n",
    "data_19nm['Thickness'] = 19\n",
    "data_20nm['Thickness'] = 20\n",
    "data_21nm['Thickness'] = 21\n",
    "data_22nm['Thickness'] = 22\n",
    "data_23nm['Thickness'] = 23\n",
    "data_24nm['Thickness'] = 24\n",
    "data_25nm['Thickness'] = 25\n",
    "data_26nm['Thickness'] = 26\n",
    "data_27nm['Thickness'] = 27\n",
    "data_28nm['Thickness'] = 28\n",
    "data_29nm['Thickness'] = 29\n",
    "data_30nm['Thickness'] = 30\n",
    "data_32nm['Thickness'] = 32\n",
    "data_34nm['Thickness'] = 34\n",
    "data_36nm['Thickness'] = 36\n",
    "data_38nm['Thickness'] = 38\n",
    "data_40nm['Thickness'] = 40\n",
    "data_42nm['Thickness'] = 42\n",
    "data_44nm['Thickness'] = 44\n",
    "data_46nm['Thickness'] = 46\n",
    "data_48nm['Thickness'] = 48\n",
    "data_50nm['Thickness'] = 50"
   ]
  },
  {
   "cell_type": "markdown",
   "metadata": {},
   "source": [
    "Combine data "
   ]
  },
  {
   "cell_type": "code",
   "execution_count": 156,
   "metadata": {},
   "outputs": [
    {
     "name": "stdout",
     "output_type": "stream",
     "text": [
      "   Wavelength       65       70       75  Thickness\n",
      "0         300  0.41603  0.51776  0.63546          1\n",
      "1         310  0.46140  0.57096  0.69347          1\n",
      "2         320  0.48416  0.59767  0.72271          1\n",
      "3         330  0.49737  0.61374  0.74155          1\n",
      "4         340  0.50371  0.62225  0.75323          1\n"
     ]
    }
   ],
   "source": [
    "frames = [data_1nm, data_2nm, data_3nm, data_4nm, data_5nm, data_6nm, data_7nm, data_8nm, data_9nm, data_10nm, data_11nm, data_12nm, data_13nm, data_14nm, data_15nm, data_16nm, data_17nm, data_18nm, data_19nm, data_20nm, data_21nm, data_22nm, data_23nm, data_24nm, data_25nm, data_26nm, data_27nm, data_28nm, data_29nm, data_30nm, data_32nm, data_34nm, data_36nm, data_38nm, data_40nm, data_42nm, data_44nm, data_46nm, data_48nm, data_50nm]\n",
    "combined_data = pd.concat(frames)\n",
    "combined_data=combined_data.fillna(0)\n",
    "print(combined_data.head())"
   ]
  },
  {
   "cell_type": "markdown",
   "metadata": {},
   "source": [
    "Train model "
   ]
  },
  {
   "cell_type": "code",
   "execution_count": 157,
   "metadata": {},
   "outputs": [
    {
     "name": "stdout",
     "output_type": "stream",
     "text": [
      "Mean Squared Error: 2.1285211267605635\n",
      "R^2 Score: 0.9885659472485949\n",
      "Mean Absolute Percentage Error (MAE): 1.0193661971830985\n",
      "Symmetric Mean Absolute Percentage Error: 7.015973833924328\n",
      "Standard Deviation:0.17257773529467094\n"
     ]
    }
   ],
   "source": [
    "X = combined_data.drop('Thickness', axis=1)\n",
    "y = combined_data['Thickness']\n",
    "\n",
    "X_train, X_test, y_train, y_test = train_test_split(X, y, test_size=0.2, random_state=42)\n",
    "\n",
    "tree_regressor = DecisionTreeRegressor()\n",
    "\n",
    "tree_regressor.fit(X_train, y_train)\n",
    "\n",
    "y_pred = tree_regressor.predict(X_test)\n",
    "\n",
    "def calculate_smape(y_test, y_pred):\n",
    "    numerator = np.abs(y_test - y_pred)\n",
    "    denominator = (np.abs(y_test) + np.abs(y_pred)) / 2\n",
    "    smape = np.mean(numerator / denominator) * 100\n",
    "    return smape\n",
    "\n",
    "mse = mean_squared_error(y_test, y_pred)\n",
    "r2 = r2_score(y_test, y_pred)\n",
    "mae = mean_absolute_error(y_test, y_pred)\n",
    "smape = calculate_smape(y_test,y_pred)\n",
    "# Odchylenie standardowe zbioru uczącego\n",
    "standard_deviation = statistics.stdev(X_train['65'])\n",
    "\n",
    "print(f'Mean Squared Error: {mse}')\n",
    "print(f'R^2 Score: {r2}')\n",
    "print(f\"Mean Absolute Percentage Error (MAE): {mae}\")\n",
    "print(f'Symmetric Mean Absolute Percentage Error: {smape}')\n",
    "print(f'Standard Deviation:{standard_deviation}')"
   ]
  },
  {
   "cell_type": "markdown",
   "metadata": {},
   "source": [
    "Predict new data "
   ]
  },
  {
   "cell_type": "code",
   "execution_count": 171,
   "metadata": {},
   "outputs": [
    {
     "name": "stdout",
     "output_type": "stream",
     "text": [
      "   Wavelength       65       70       75\n",
      "0         400  0.29833  0.31009  0.29104\n",
      "1         410  0.33333  0.34595  0.32456\n",
      "2         420  0.36487  0.37846  0.35517\n",
      "3         430  0.39358  0.40821  0.38337\n",
      "4         440  0.41958  0.43531  0.40921\n",
      "48.0\n"
     ]
    }
   ],
   "source": [
    "new_data = pd.read_csv('/Users/missbo/Desktop/Inżynierka/Elipsometr/cos2psi/cos2psi_exp/sio2_cos2psi_48-6nm_exp_co_10_nm.csv', header=None,names=column_names, encoding='ISO-8859-1')\n",
    "\n",
    "print(new_data.head())\n",
    "\n",
    "missing_cols = set(X.columns) - set(new_data.columns)\n",
    "if missing_cols:\n",
    "    raise ValueError(f\"New data is missing columns: {missing_cols}\")\n",
    "\n",
    "\n",
    "new_predictions = tree_regressor.predict(new_data)\n",
    "\n",
    "new_data['Thickness'] = new_predictions\n",
    "\n",
    "\n",
    "plik = open('//Users/missbo/Desktop/Inżynierka/Elipsometr/Files_results/DT_cos2psi_exp/DT_cos2psi_48_6_nm','w')\n",
    "for prediction in new_predictions:\n",
    "        plik.write(f\"{prediction:.2f}\\n\")\n",
    "plik.close()\n",
    "\n",
    "print((new_data['Thickness']).median())"
   ]
  },
  {
   "cell_type": "code",
   "execution_count": 139,
   "metadata": {},
   "outputs": [],
   "source": [
    "directory = \"/Users/missbo/Desktop/Inżynierka/Elipsometr/cos2psi/cos2psi_ver\"\n",
    "\n",
    "for filename in os.listdir(directory):\n",
    "    f = os.path.join(directory, filename)\n",
    "    if os.path.isfile(f):\n",
    "        new_data = pd.read_csv(f, header=None, names=column_names, encoding='ISO-8859-1')\n",
    "        new_predictions = tree_regressor.predict(new_data)\n",
    "        new_data['Thickness'] = new_predictions\n",
    "        result = new_data['Thickness'].median()\n",
    "        \n",
    "        \n",
    "        with open(\"/Users/missbo/Desktop/Inżynierka/Elipsometr/results.txt\", 'a') as file_results:\n",
    "            file_results.write(str(result))\n",
    "            file_results.write(\" \")\n",
    "            file_results.write(str(filename))\n",
    "            file_results.write('\\n')"
   ]
  },
  {
   "cell_type": "code",
   "execution_count": 138,
   "metadata": {},
   "outputs": [],
   "source": [
    "with open(\"/Users/missbo/Desktop/Inżynierka/Elipsometr/results.txt\", 'w') as file:\n",
    "    pass"
   ]
  },
  {
   "cell_type": "markdown",
   "metadata": {},
   "source": [
    "sin2psicosdelta"
   ]
  },
  {
   "cell_type": "markdown",
   "metadata": {},
   "source": [
    "Import data "
   ]
  },
  {
   "cell_type": "code",
   "execution_count": 188,
   "metadata": {},
   "outputs": [],
   "source": [
    "column_names = ['Wavelength', '65', '70', '75']\n",
    "data_1nm = pd.read_csv('/Users/missbo/Desktop/Inżynierka/Elipsometr/sin2psicosdelta/sio2_sin2psicosdelta_1nm_co_10_nm.csv', header=None, names=column_names)\n",
    "data_2nm = pd.read_csv('/Users/missbo/Desktop/Inżynierka/Elipsometr/sin2psicosdelta/sio2_sin2psicosdelta_2nm_co_10_nm.csv', header=None, names=column_names)\n",
    "data_3nm = pd.read_csv('/Users/missbo/Desktop/Inżynierka/Elipsometr/sin2psicosdelta/sio2_sin2psicosdelta_3nm_co_10_nm.csv', header=None, names=column_names)\n",
    "data_4nm = pd.read_csv('/Users/missbo/Desktop/Inżynierka/Elipsometr/sin2psicosdelta/sio2_sin2psicosdelta_4nm_co_10_nm.csv', header=None, names=column_names)\n",
    "data_5nm = pd.read_csv('/Users/missbo/Desktop/Inżynierka/Elipsometr/sin2psicosdelta/sio2_sin2psicosdelta_5nm_co_10_nm.csv', header=None, names=column_names)\n",
    "data_6nm = pd.read_csv('/Users/missbo/Desktop/Inżynierka/Elipsometr/sin2psicosdelta/sio2_sin2psicosdelta_6nm_co_10_nm.csv', header=None, names=column_names)\n",
    "data_7nm = pd.read_csv('/Users/missbo/Desktop/Inżynierka/Elipsometr/sin2psicosdelta/sio2_sin2psicosdelta_7nm_co_10_nm.csv', header=None, names=column_names)\n",
    "data_8nm = pd.read_csv('/Users/missbo/Desktop/Inżynierka/Elipsometr/sin2psicosdelta/sio2_sin2psicosdelta_8nm_co_10_nm.csv', header=None, names=column_names)\n",
    "data_9nm = pd.read_csv('/Users/missbo/Desktop/Inżynierka/Elipsometr/sin2psicosdelta/sio2_sin2psicosdelta_9nm_co_10_nm.csv', header=None, names=column_names)\n",
    "data_10nm = pd.read_csv('/Users/missbo/Desktop/Inżynierka/Elipsometr/sin2psicosdelta/sio2_sin2psicosdelta_10nm_co_10_nm.csv', header=None, names=column_names)\n",
    "data_11nm = pd.read_csv('/Users/missbo/Desktop/Inżynierka/Elipsometr/sin2psicosdelta/sio2_sin2psicosdelta_11nm_co_10_nm.csv', header=None, names=column_names)\n",
    "data_12nm = pd.read_csv('/Users/missbo/Desktop/Inżynierka/Elipsometr/sin2psicosdelta/sio2_sin2psicosdelta_12nm_co_10_nm.csv', header=None, names=column_names)\n",
    "data_13nm = pd.read_csv('/Users/missbo/Desktop/Inżynierka/Elipsometr/sin2psicosdelta/sio2_sin2psicosdelta_13nm_co_10_nm.csv', header=None, names=column_names)\n",
    "data_14nm = pd.read_csv('/Users/missbo/Desktop/Inżynierka/Elipsometr/sin2psicosdelta/sio2_sin2psicosdelta_14nm_co_10_nm.csv', header=None, names=column_names)\n",
    "data_15nm = pd.read_csv('/Users/missbo/Desktop/Inżynierka/Elipsometr/sin2psicosdelta/sio2_sin2psicosdelta_15nm_co_10_nm.csv', header=None, names=column_names)\n",
    "data_16nm = pd.read_csv('/Users/missbo/Desktop/Inżynierka/Elipsometr/sin2psicosdelta/sio2_sin2psicosdelta_16nm_co_10_nm.csv', header=None, names=column_names)\n",
    "data_17nm = pd.read_csv('/Users/missbo/Desktop/Inżynierka/Elipsometr/sin2psicosdelta/sio2_sin2psicosdelta_17nm_co_10_nm.csv', header=None, names=column_names)\n",
    "data_18nm = pd.read_csv('/Users/missbo/Desktop/Inżynierka/Elipsometr/sin2psicosdelta/sio2_sin2psicosdelta_18nm_co_10_nm.csv', header=None, names=column_names)\n",
    "data_19nm = pd.read_csv('/Users/missbo/Desktop/Inżynierka/Elipsometr/sin2psicosdelta/sio2_sin2psicosdelta_19nm_co_10_nm.csv', header=None, names=column_names)\n",
    "data_20nm = pd.read_csv('/Users/missbo/Desktop/Inżynierka/Elipsometr/sin2psicosdelta/sio2_sin2psicosdelta_20nm_co_10_nm.csv', header=None, names=column_names)\n",
    "data_21nm = pd.read_csv('/Users/missbo/Desktop/Inżynierka/Elipsometr/sin2psicosdelta/sio2_sin2psicosdelta_21nm_co_10_nm.csv', header=None, names=column_names)\n",
    "data_22nm = pd.read_csv('/Users/missbo/Desktop/Inżynierka/Elipsometr/sin2psicosdelta/sio2_sin2psicosdelta_22nm_co_10_nm.csv', header=None, names=column_names)\n",
    "data_23nm = pd.read_csv('/Users/missbo/Desktop/Inżynierka/Elipsometr/sin2psicosdelta/sio2_sin2psicosdelta_23nm_co_10_nm.csv', header=None, names=column_names)\n",
    "data_24nm = pd.read_csv('/Users/missbo/Desktop/Inżynierka/Elipsometr/sin2psicosdelta/sio2_sin2psicosdelta_24nm_co_10_nm.csv', header=None, names=column_names)\n",
    "data_25nm = pd.read_csv('/Users/missbo/Desktop/Inżynierka/Elipsometr/sin2psicosdelta/sio2_sin2psicosdelta_25nm_co_10_nm.csv', header=None, names=column_names)\n",
    "data_26nm = pd.read_csv('/Users/missbo/Desktop/Inżynierka/Elipsometr/sin2psicosdelta/sio2_sin2psicosdelta_26nm_co_10_nm.csv', header=None, names=column_names)\n",
    "data_27nm = pd.read_csv('/Users/missbo/Desktop/Inżynierka/Elipsometr/sin2psicosdelta/sio2_sin2psicosdelta_27nm_co_10_nm.csv', header=None, names=column_names)\n",
    "data_28nm = pd.read_csv('/Users/missbo/Desktop/Inżynierka/Elipsometr/sin2psicosdelta/sio2_sin2psicosdelta_28nm_co_10_nm.csv', header=None, names=column_names)\n",
    "data_29nm = pd.read_csv('/Users/missbo/Desktop/Inżynierka/Elipsometr/sin2psicosdelta/sio2_sin2psicosdelta_29nm_co_10_nm.csv', header=None, names=column_names)\n",
    "data_30nm = pd.read_csv('/Users/missbo/Desktop/Inżynierka/Elipsometr/sin2psicosdelta/sio2_sin2psicosdelta_30nm_co_10_nm.csv', header=None, names=column_names)\n",
    "data_32nm = pd.read_csv('/Users/missbo/Desktop/Inżynierka/Elipsometr/sin2psicosdelta/sio2_sin2psicosdelta_32nm_co_10_nm.csv', header=None, names=column_names)\n",
    "data_34nm = pd.read_csv('/Users/missbo/Desktop/Inżynierka/Elipsometr/sin2psicosdelta/sio2_sin2psicosdelta_34nm_co_10_nm.csv', header=None, names=column_names)\n",
    "data_36nm = pd.read_csv('/Users/missbo/Desktop/Inżynierka/Elipsometr/sin2psicosdelta/sio2_sin2psicosdelta_36nm_co_10_nm.csv', header=None, names=column_names)\n",
    "data_38nm = pd.read_csv('/Users/missbo/Desktop/Inżynierka/Elipsometr/sin2psicosdelta/sio2_sin2psicosdelta_38nm_co_10_nm.csv', header=None, names=column_names)\n",
    "data_40nm = pd.read_csv('/Users/missbo/Desktop/Inżynierka/Elipsometr/sin2psicosdelta/sio2_sin2psicosdelta_40nm_co_10_nm.csv', header=None, names=column_names)\n",
    "data_42nm = pd.read_csv('/Users/missbo/Desktop/Inżynierka/Elipsometr/sin2psicosdelta/sio2_sin2psicosdelta_42nm_co_10_nm.csv', header=None, names=column_names)\n",
    "data_44nm = pd.read_csv('/Users/missbo/Desktop/Inżynierka/Elipsometr/sin2psicosdelta/sio2_sin2psicosdelta_44nm_co_10_nm.csv', header=None, names=column_names)\n",
    "data_46nm = pd.read_csv('/Users/missbo/Desktop/Inżynierka/Elipsometr/sin2psicosdelta/sio2_sin2psicosdelta_46nm_co_10_nm.csv', header=None, names=column_names)\n",
    "data_48nm = pd.read_csv('/Users/missbo/Desktop/Inżynierka/Elipsometr/sin2psicosdelta/sio2_sin2psicosdelta_48nm_co_10_nm.csv', header=None, names=column_names)\n",
    "data_50nm = pd.read_csv('/Users/missbo/Desktop/Inżynierka/Elipsometr/sin2psicosdelta/sio2_sin2psicosdelta_50nm_co_10_nm.csv', header=None, names=column_names)\n",
    "\n"
   ]
  },
  {
   "cell_type": "markdown",
   "metadata": {},
   "source": [
    "Add column Thickness"
   ]
  },
  {
   "cell_type": "code",
   "execution_count": 190,
   "metadata": {},
   "outputs": [],
   "source": [
    "data_1nm['Thickness'] = 1\n",
    "data_2nm['Thickness'] = 2\n",
    "data_3nm['Thickness'] = 3\n",
    "data_4nm['Thickness'] = 4\n",
    "data_5nm['Thickness'] = 5\n",
    "data_6nm['Thickness'] = 6\n",
    "data_7nm['Thickness'] = 7\n",
    "data_8nm['Thickness'] = 8\n",
    "data_9nm['Thickness'] = 9\n",
    "data_10nm['Thickness'] = 10\n",
    "data_11nm['Thickness'] = 11\n",
    "data_12nm['Thickness'] = 12\n",
    "data_13nm['Thickness'] = 13\n",
    "data_14nm['Thickness'] = 14\n",
    "data_15nm['Thickness'] = 15\n",
    "data_16nm['Thickness'] = 16\n",
    "data_17nm['Thickness'] = 17\n",
    "data_18nm['Thickness'] = 18\n",
    "data_19nm['Thickness'] = 19\n",
    "data_20nm['Thickness'] = 20\n",
    "data_21nm['Thickness'] = 21\n",
    "data_22nm['Thickness'] = 22\n",
    "data_23nm['Thickness'] = 23\n",
    "data_24nm['Thickness'] = 24\n",
    "data_25nm['Thickness'] = 25\n",
    "data_26nm['Thickness'] = 26\n",
    "data_27nm['Thickness'] = 27\n",
    "data_28nm['Thickness'] = 28\n",
    "data_29nm['Thickness'] = 29\n",
    "data_30nm['Thickness'] = 30\n",
    "data_32nm['Thickness'] = 32\n",
    "data_34nm['Thickness'] = 34\n",
    "data_36nm['Thickness'] = 36\n",
    "data_38nm['Thickness'] = 38\n",
    "data_40nm['Thickness'] = 40\n",
    "data_42nm['Thickness'] = 42\n",
    "data_44nm['Thickness'] = 44\n",
    "data_46nm['Thickness'] = 46\n",
    "data_48nm['Thickness'] = 48\n",
    "data_50nm['Thickness'] = 50"
   ]
  },
  {
   "cell_type": "markdown",
   "metadata": {},
   "source": [
    "Combine data "
   ]
  },
  {
   "cell_type": "code",
   "execution_count": 191,
   "metadata": {},
   "outputs": [
    {
     "name": "stdout",
     "output_type": "stream",
     "text": [
      "   Wavelength       65       70       75  Thickness\n",
      "0         300 -0.82549 -0.71127 -0.50491          1\n",
      "1         310 -0.80910 -0.68593 -0.46701          1\n",
      "2         320 -0.80201 -0.67505 -0.45096          1\n",
      "3         330 -0.80067 -0.67297 -0.44788          1\n",
      "4         340 -0.80355 -0.67734 -0.45425          1\n"
     ]
    }
   ],
   "source": [
    "frames = [data_1nm, data_2nm, data_3nm, data_4nm, data_5nm, data_6nm, data_7nm, data_8nm, data_9nm, data_10nm, data_11nm, data_12nm, data_13nm, data_14nm, data_15nm, data_16nm, data_17nm, data_18nm, data_19nm, data_20nm, data_21nm, data_22nm, data_23nm, data_24nm, data_25nm, data_26nm, data_27nm, data_28nm, data_29nm, data_30nm, data_32nm, data_34nm, data_36nm, data_38nm, data_40nm, data_42nm, data_44nm, data_46nm, data_48nm, data_50nm]\n",
    "combined_data = pd.concat(frames)\n",
    "combined_data=combined_data.fillna(0)\n",
    "print(combined_data.head())"
   ]
  },
  {
   "cell_type": "markdown",
   "metadata": {},
   "source": [
    "Train model "
   ]
  },
  {
   "cell_type": "code",
   "execution_count": 192,
   "metadata": {},
   "outputs": [
    {
     "name": "stdout",
     "output_type": "stream",
     "text": [
      "Mean Squared Error: 3.2253521126760565\n",
      "R^2 Score: 0.982673958113669\n",
      "Mean Absolute Percentage Error (MAE): 0.9612676056338029\n",
      "Symmetric Mean Absolute Percentage Error: 12.216595345606397\n",
      "Standard Deviation:0.10396266679043378\n"
     ]
    }
   ],
   "source": [
    "X = combined_data.drop('Thickness', axis=1)\n",
    "y = combined_data['Thickness']\n",
    "\n",
    "X_train, X_test, y_train, y_test = train_test_split(X, y, test_size=0.2, random_state=42)\n",
    "\n",
    "tree_regressor = DecisionTreeRegressor()\n",
    "\n",
    "tree_regressor.fit(X_train, y_train)\n",
    "\n",
    "y_pred = tree_regressor.predict(X_test)\n",
    "\n",
    "def calculate_smape(y_test, y_pred):\n",
    "    numerator = np.abs(y_test - y_pred)\n",
    "    denominator = (np.abs(y_test) + np.abs(y_pred)) / 2\n",
    "    smape = np.mean(numerator / denominator) * 100\n",
    "    return smape\n",
    "\n",
    "mse = mean_squared_error(y_test, y_pred)\n",
    "r2 = r2_score(y_test, y_pred)\n",
    "mae = mean_absolute_error(y_test, y_pred)\n",
    "smape = calculate_smape(y_test,y_pred)\n",
    "# Odchylenie standardowe zbioru uczącego\n",
    "standard_deviation = statistics.stdev(X_train['65'])\n",
    "\n",
    "print(f'Mean Squared Error: {mse}')\n",
    "print(f'R^2 Score: {r2}')\n",
    "print(f\"Mean Absolute Percentage Error (MAE): {mae}\")\n",
    "print(f'Symmetric Mean Absolute Percentage Error: {smape}')\n",
    "print(f'Standard Deviation:{standard_deviation}')"
   ]
  },
  {
   "cell_type": "markdown",
   "metadata": {},
   "source": [
    "Predict new data "
   ]
  },
  {
   "cell_type": "code",
   "execution_count": 200,
   "metadata": {},
   "outputs": [
    {
     "name": "stdout",
     "output_type": "stream",
     "text": [
      "   Wavelength       65        70       75\n",
      "0         400 -0.27542  0.014074  0.34331\n",
      "1         410 -0.27458  0.013557  0.34189\n",
      "2         420 -0.27534  0.011539  0.33930\n",
      "3         430 -0.27694  0.008791  0.33618\n",
      "4         440 -0.27904  0.005662  0.33282\n",
      "48.0\n"
     ]
    }
   ],
   "source": [
    "new_data = pd.read_csv('/Users/missbo/Desktop/Inżynierka/Elipsometr/sin2psicosdelta/sin2psicosdelta_exp/sio2_sin2psicosdelta_48-6nm_exp_co_10_nm.csv', header=None,names=column_names, encoding='ISO-8859-1')\n",
    "\n",
    "print(new_data.head())\n",
    "\n",
    "missing_cols = set(X.columns) - set(new_data.columns)\n",
    "if missing_cols:\n",
    "    raise ValueError(f\"New data is missing columns: {missing_cols}\")\n",
    "\n",
    "\n",
    "new_predictions = tree_regressor.predict(new_data)\n",
    "\n",
    "new_data['Thickness'] = new_predictions\n",
    "\n",
    "\n",
    "plik = open('/Users/missbo/Desktop/Inżynierka/Elipsometr/Files_results/DT_sin2psicosdelta_exp/DT_sin2psicosdelta_48_6_nm','w')\n",
    "for prediction in new_predictions:\n",
    "        plik.write(f\"{prediction:.2f}\\n\")\n",
    "plik.close()\n",
    "\n",
    "print((new_data['Thickness']).median())"
   ]
  },
  {
   "cell_type": "code",
   "execution_count": 146,
   "metadata": {},
   "outputs": [],
   "source": [
    "directory = \"/Users/missbo/Desktop/Inżynierka/Elipsometr/sin2psicosdelta/si2psicos_delta_ver\"\n",
    "\n",
    "for filename in os.listdir(directory):\n",
    "    f = os.path.join(directory, filename)\n",
    "    if os.path.isfile(f):\n",
    "        new_data = pd.read_csv(f, header=None, names=column_names, encoding='ISO-8859-1')\n",
    "        new_predictions = tree_regressor.predict(new_data)\n",
    "        new_data['Thickness'] = new_predictions\n",
    "        result = new_data['Thickness'].median()\n",
    "        \n",
    "        \n",
    "        with open(\"/Users/missbo/Desktop/Inżynierka/Elipsometr/results.txt\", 'a') as file_results:\n",
    "            file_results.write(str(result))\n",
    "            file_results.write(\" \")\n",
    "            file_results.write(str(filename))\n",
    "            file_results.write('\\n')"
   ]
  },
  {
   "cell_type": "code",
   "execution_count": 147,
   "metadata": {},
   "outputs": [],
   "source": [
    "with open(\"/Users/missbo/Desktop/Inżynierka/Elipsometr/results.txt\", 'w') as file:\n",
    "    pass"
   ]
  },
  {
   "cell_type": "markdown",
   "metadata": {},
   "source": [
    "sin2psisindelta"
   ]
  },
  {
   "cell_type": "markdown",
   "metadata": {},
   "source": [
    "Import data "
   ]
  },
  {
   "cell_type": "code",
   "execution_count": 201,
   "metadata": {},
   "outputs": [],
   "source": [
    "column_names = ['Wavelength', '65', '70', '75']\n",
    "data_1nm = pd.read_csv('/Users/missbo/Desktop/Inżynierka/Elipsometr/sin2psisindelta/sio2_sin2psisindelta_1nm_co_10_nm.csv', header=None, names=column_names)\n",
    "data_2nm = pd.read_csv('/Users/missbo/Desktop/Inżynierka/Elipsometr/sin2psisindelta/sio2_sin2psisindelta_2nm_co_10_nm.csv', header=None, names=column_names)\n",
    "data_3nm = pd.read_csv('/Users/missbo/Desktop/Inżynierka/Elipsometr/sin2psisindelta/sio2_sin2psisindelta_3nm_co_10_nm.csv', header=None, names=column_names)\n",
    "data_4nm = pd.read_csv('/Users/missbo/Desktop/Inżynierka/Elipsometr/sin2psisindelta/sio2_sin2psisindelta_4nm_co_10_nm.csv', header=None, names=column_names)\n",
    "data_5nm = pd.read_csv('/Users/missbo/Desktop/Inżynierka/Elipsometr/sin2psisindelta/sio2_sin2psisindelta_5nm_co_10_nm.csv', header=None, names=column_names)\n",
    "data_6nm = pd.read_csv('/Users/missbo/Desktop/Inżynierka/Elipsometr/sin2psisindelta/sio2_sin2psisindelta_6nm_co_10_nm.csv', header=None, names=column_names)\n",
    "data_7nm = pd.read_csv('/Users/missbo/Desktop/Inżynierka/Elipsometr/sin2psisindelta/sio2_sin2psisindelta_7nm_co_10_nm.csv', header=None, names=column_names)\n",
    "data_8nm = pd.read_csv('/Users/missbo/Desktop/Inżynierka/Elipsometr/sin2psisindelta/sio2_sin2psisindelta_8nm_co_10_nm.csv', header=None, names=column_names)\n",
    "data_9nm = pd.read_csv('/Users/missbo/Desktop/Inżynierka/Elipsometr/sin2psisindelta/sio2_sin2psisindelta_9nm_co_10_nm.csv', header=None, names=column_names)\n",
    "data_10nm = pd.read_csv('/Users/missbo/Desktop/Inżynierka/Elipsometr/sin2psisindelta/sio2_sin2psisindelta_10nm_co_10_nm.csv', header=None, names=column_names)\n",
    "data_11nm = pd.read_csv('/Users/missbo/Desktop/Inżynierka/Elipsometr/sin2psisindelta/sio2_sin2psisindelta_11nm_co_10_nm.csv', header=None, names=column_names)\n",
    "data_12nm = pd.read_csv('/Users/missbo/Desktop/Inżynierka/Elipsometr/sin2psisindelta/sio2_sin2psisindelta_12nm_co_10_nm.csv', header=None, names=column_names)\n",
    "data_13nm = pd.read_csv('/Users/missbo/Desktop/Inżynierka/Elipsometr/sin2psisindelta/sio2_sin2psisindelta_13nm_co_10_nm.csv', header=None, names=column_names)\n",
    "data_14nm = pd.read_csv('/Users/missbo/Desktop/Inżynierka/Elipsometr/sin2psisindelta/sio2_sin2psisindelta_14nm_co_10_nm.csv', header=None, names=column_names)\n",
    "data_15nm = pd.read_csv('/Users/missbo/Desktop/Inżynierka/Elipsometr/sin2psisindelta/sio2_sin2psisindelta_15nm_co_10_nm.csv', header=None, names=column_names)\n",
    "data_16nm = pd.read_csv('/Users/missbo/Desktop/Inżynierka/Elipsometr/sin2psisindelta/sio2_sin2psisindelta_16nm_co_10_nm.csv', header=None, names=column_names)\n",
    "data_17nm = pd.read_csv('/Users/missbo/Desktop/Inżynierka/Elipsometr/sin2psisindelta/sio2_sin2psisindelta_17nm_co_10_nm.csv', header=None, names=column_names)\n",
    "data_18nm = pd.read_csv('/Users/missbo/Desktop/Inżynierka/Elipsometr/sin2psisindelta/sio2_sin2psisindelta_18nm_co_10_nm.csv', header=None, names=column_names)\n",
    "data_19nm = pd.read_csv('/Users/missbo/Desktop/Inżynierka/Elipsometr/sin2psisindelta/sio2_sin2psisindelta_19nm_co_10_nm.csv', header=None, names=column_names)\n",
    "data_20nm = pd.read_csv('/Users/missbo/Desktop/Inżynierka/Elipsometr/sin2psisindelta/sio2_sin2psisindelta_20nm_co_10_nm.csv', header=None, names=column_names)\n",
    "data_21nm = pd.read_csv('/Users/missbo/Desktop/Inżynierka/Elipsometr/sin2psisindelta/sio2_sin2psisindelta_21nm_co_10_nm.csv', header=None, names=column_names)\n",
    "data_22nm = pd.read_csv('/Users/missbo/Desktop/Inżynierka/Elipsometr/sin2psisindelta/sio2_sin2psisindelta_22nm_co_10_nm.csv', header=None, names=column_names)\n",
    "data_23nm = pd.read_csv('/Users/missbo/Desktop/Inżynierka/Elipsometr/sin2psisindelta/sio2_sin2psisindelta_23nm_co_10_nm.csv', header=None, names=column_names)\n",
    "data_24nm = pd.read_csv('/Users/missbo/Desktop/Inżynierka/Elipsometr/sin2psisindelta/sio2_sin2psisindelta_24nm_co_10_nm.csv', header=None, names=column_names)\n",
    "data_25nm = pd.read_csv('/Users/missbo/Desktop/Inżynierka/Elipsometr/sin2psisindelta/sio2_sin2psisindelta_25nm_co_10_nm.csv', header=None, names=column_names)\n",
    "data_26nm = pd.read_csv('/Users/missbo/Desktop/Inżynierka/Elipsometr/sin2psisindelta/sio2_sin2psisindelta_26nm_co_10_nm.csv', header=None, names=column_names)\n",
    "data_27nm = pd.read_csv('/Users/missbo/Desktop/Inżynierka/Elipsometr/sin2psisindelta/sio2_sin2psisindelta_27nm_co_10_nm.csv', header=None, names=column_names)\n",
    "data_28nm = pd.read_csv('/Users/missbo/Desktop/Inżynierka/Elipsometr/sin2psisindelta/sio2_sin2psisindelta_28nm_co_10_nm.csv', header=None, names=column_names)\n",
    "data_29nm = pd.read_csv('/Users/missbo/Desktop/Inżynierka/Elipsometr/sin2psisindelta/sio2_sin2psisindelta_29nm_co_10_nm.csv', header=None, names=column_names)\n",
    "data_30nm = pd.read_csv('/Users/missbo/Desktop/Inżynierka/Elipsometr/sin2psisindelta/sio2_sin2psisindelta_30nm_co_10_nm.csv', header=None, names=column_names)\n",
    "data_32nm = pd.read_csv('/Users/missbo/Desktop/Inżynierka/Elipsometr/sin2psisindelta/sio2_sin2psisindelta_32nm_co_10_nm.csv', header=None, names=column_names)\n",
    "data_34nm = pd.read_csv('/Users/missbo/Desktop/Inżynierka/Elipsometr/sin2psisindelta/sio2_sin2psisindelta_34nm_co_10_nm.csv', header=None, names=column_names)\n",
    "data_36nm = pd.read_csv('/Users/missbo/Desktop/Inżynierka/Elipsometr/sin2psisindelta/sio2_sin2psisindelta_36nm_co_10_nm.csv', header=None, names=column_names)\n",
    "data_38nm = pd.read_csv('/Users/missbo/Desktop/Inżynierka/Elipsometr/sin2psisindelta/sio2_sin2psisindelta_38nm_co_10_nm.csv', header=None, names=column_names)\n",
    "data_40nm = pd.read_csv('/Users/missbo/Desktop/Inżynierka/Elipsometr/sin2psisindelta/sio2_sin2psisindelta_40nm_co_10_nm.csv', header=None, names=column_names)\n",
    "data_42nm = pd.read_csv('/Users/missbo/Desktop/Inżynierka/Elipsometr/sin2psisindelta/sio2_sin2psisindelta_42nm_co_10_nm.csv', header=None, names=column_names)\n",
    "data_44nm = pd.read_csv('/Users/missbo/Desktop/Inżynierka/Elipsometr/sin2psisindelta/sio2_sin2psisindelta_44nm_co_10_nm.csv', header=None, names=column_names)\n",
    "data_46nm = pd.read_csv('/Users/missbo/Desktop/Inżynierka/Elipsometr/sin2psisindelta/sio2_sin2psisindelta_46nm_co_10_nm.csv', header=None, names=column_names)\n",
    "data_48nm = pd.read_csv('/Users/missbo/Desktop/Inżynierka/Elipsometr/sin2psisindelta/sio2_sin2psisindelta_48nm_co_10_nm.csv', header=None, names=column_names)\n",
    "data_50nm = pd.read_csv('/Users/missbo/Desktop/Inżynierka/Elipsometr/sin2psisindelta/sio2_sin2psisindelta_50nm_co_10_nm.csv', header=None, names=column_names)\n",
    "\n"
   ]
  },
  {
   "cell_type": "markdown",
   "metadata": {},
   "source": [
    "Add column Thickness "
   ]
  },
  {
   "cell_type": "code",
   "execution_count": 202,
   "metadata": {},
   "outputs": [],
   "source": [
    "data_1nm['Thickness'] = 1\n",
    "data_2nm['Thickness'] = 2\n",
    "data_3nm['Thickness'] = 3\n",
    "data_4nm['Thickness'] = 4\n",
    "data_5nm['Thickness'] = 5\n",
    "data_6nm['Thickness'] = 6\n",
    "data_7nm['Thickness'] = 7\n",
    "data_8nm['Thickness'] = 8\n",
    "data_9nm['Thickness'] = 9\n",
    "data_10nm['Thickness'] = 10\n",
    "data_11nm['Thickness'] = 11\n",
    "data_12nm['Thickness'] = 12\n",
    "data_13nm['Thickness'] = 13\n",
    "data_14nm['Thickness'] = 14\n",
    "data_15nm['Thickness'] = 15\n",
    "data_16nm['Thickness'] = 16\n",
    "data_17nm['Thickness'] = 17\n",
    "data_18nm['Thickness'] = 18\n",
    "data_19nm['Thickness'] = 19\n",
    "data_20nm['Thickness'] = 20\n",
    "data_21nm['Thickness'] = 21\n",
    "data_22nm['Thickness'] = 22\n",
    "data_23nm['Thickness'] = 23\n",
    "data_24nm['Thickness'] = 24\n",
    "data_25nm['Thickness'] = 25\n",
    "data_26nm['Thickness'] = 26\n",
    "data_27nm['Thickness'] = 27\n",
    "data_28nm['Thickness'] = 28\n",
    "data_29nm['Thickness'] = 29\n",
    "data_30nm['Thickness'] = 30\n",
    "data_32nm['Thickness'] = 32\n",
    "data_34nm['Thickness'] = 34\n",
    "data_36nm['Thickness'] = 36\n",
    "data_38nm['Thickness'] = 38\n",
    "data_40nm['Thickness'] = 40\n",
    "data_42nm['Thickness'] = 42\n",
    "data_44nm['Thickness'] = 44\n",
    "data_46nm['Thickness'] = 46\n",
    "data_48nm['Thickness'] = 48\n",
    "data_50nm['Thickness'] = 50"
   ]
  },
  {
   "cell_type": "markdown",
   "metadata": {},
   "source": [
    "Combine data "
   ]
  },
  {
   "cell_type": "code",
   "execution_count": 203,
   "metadata": {},
   "outputs": [
    {
     "name": "stdout",
     "output_type": "stream",
     "text": [
      "   Wavelength       65       70       75  Thickness\n",
      "0         300  0.38143  0.47541  0.58418          1\n",
      "1         310  0.36396  0.45111  0.54864          1\n",
      "2         320  0.34981  0.43255  0.52377          1\n",
      "3         330  0.33400  0.41284  0.49951          1\n",
      "4         340  0.31716  0.39245  0.47571          1\n"
     ]
    }
   ],
   "source": [
    "frames = [data_1nm, data_2nm, data_3nm, data_4nm, data_5nm, data_6nm, data_7nm, data_8nm, data_9nm, data_10nm, data_11nm, data_12nm, data_13nm, data_14nm, data_15nm, data_16nm, data_17nm, data_18nm, data_19nm, data_20nm, data_21nm, data_22nm, data_23nm, data_24nm, data_25nm, data_26nm, data_27nm, data_28nm, data_29nm, data_30nm, data_32nm, data_34nm, data_36nm, data_38nm, data_40nm, data_42nm, data_44nm, data_46nm, data_48nm, data_50nm]\n",
    "combined_data = pd.concat(frames)\n",
    "combined_data=combined_data.fillna(0)\n",
    "print(combined_data.head())"
   ]
  },
  {
   "cell_type": "markdown",
   "metadata": {},
   "source": [
    "Train model "
   ]
  },
  {
   "cell_type": "code",
   "execution_count": 204,
   "metadata": {},
   "outputs": [
    {
     "name": "stdout",
     "output_type": "stream",
     "text": [
      "Mean Squared Error: 2.482394366197183\n",
      "R^2 Score: 0.9866650005132496\n",
      "Mean Absolute Percentage Error (MAE): 0.9225352112676056\n",
      "Symmetric Mean Absolute Percentage Error: 5.282010676525489\n",
      "Standard Deviation:0.2456792567252791\n"
     ]
    }
   ],
   "source": [
    "X = combined_data.drop('Thickness', axis=1)\n",
    "y = combined_data['Thickness']\n",
    "\n",
    "X_train, X_test, y_train, y_test = train_test_split(X, y, test_size=0.2, random_state=42)\n",
    "\n",
    "tree_regressor = DecisionTreeRegressor()\n",
    "\n",
    "tree_regressor.fit(X_train, y_train)\n",
    "\n",
    "y_pred = tree_regressor.predict(X_test)\n",
    "\n",
    "def calculate_smape(y_test, y_pred):\n",
    "    numerator = np.abs(y_test - y_pred)\n",
    "    denominator = (np.abs(y_test) + np.abs(y_pred)) / 2\n",
    "    smape = np.mean(numerator / denominator) * 100\n",
    "    return smape\n",
    "\n",
    "mse = mean_squared_error(y_test, y_pred)\n",
    "r2 = r2_score(y_test, y_pred)\n",
    "mae = mean_absolute_error(y_test, y_pred)\n",
    "smape = calculate_smape(y_test,y_pred)\n",
    "# Odchylenie standardowe zbioru uczącego\n",
    "standard_deviation = statistics.stdev(X_train['65'])\n",
    "\n",
    "print(f'Mean Squared Error: {mse}')\n",
    "print(f'R^2 Score: {r2}')\n",
    "print(f\"Mean Absolute Percentage Error (MAE): {mae}\")\n",
    "print(f'Symmetric Mean Absolute Percentage Error: {smape}')\n",
    "print(f'Standard Deviation:{standard_deviation}')"
   ]
  },
  {
   "cell_type": "markdown",
   "metadata": {},
   "source": [
    "Predict new data "
   ]
  },
  {
   "cell_type": "code",
   "execution_count": 217,
   "metadata": {},
   "outputs": [
    {
     "name": "stdout",
     "output_type": "stream",
     "text": [
      "   Wavelength       65       70       75\n",
      "0         400  0.91386  0.95060  0.89299\n",
      "1         410  0.90194  0.93816  0.88191\n",
      "2         420  0.88942  0.92555  0.87105\n",
      "3         430  0.87658  0.91284  0.86024\n",
      "4         440  0.86376  0.90026  0.84958\n",
      "48.0\n"
     ]
    }
   ],
   "source": [
    "new_data = pd.read_csv('/Users/missbo/Desktop/Inżynierka/Elipsometr/sin2psisindelta/sin2psisindelta_exp/sio2_sin2psisindelta_48-6nm_exp_co_10_nm.csv', header=None,names=column_names, encoding='ISO-8859-1')\n",
    "\n",
    "print(new_data.head())\n",
    "\n",
    "missing_cols = set(X.columns) - set(new_data.columns)\n",
    "if missing_cols:\n",
    "    raise ValueError(f\"New data is missing columns: {missing_cols}\")\n",
    "\n",
    "\n",
    "new_predictions = tree_regressor.predict(new_data)\n",
    "\n",
    "new_data['Thickness'] = new_predictions\n",
    "\n",
    "\n",
    "plik = open('/Users/missbo/Desktop/Inżynierka/Elipsometr/Files_results/DT_sin2psisindelta_exp/DT_sin2psisindelta_48_6_nm','w')\n",
    "for prediction in new_predictions:\n",
    "        plik.write(f\"{prediction:.2f}\\n\")\n",
    "plik.close()\n",
    "\n",
    "print((new_data['Thickness']).median())"
   ]
  },
  {
   "cell_type": "code",
   "execution_count": 156,
   "metadata": {},
   "outputs": [],
   "source": [
    "directory = \"/Users/missbo/Desktop/Inżynierka/Elipsometr/sin2psisindelta/si2psisindelta_ver\"\n",
    "\n",
    "for filename in os.listdir(directory):\n",
    "    f = os.path.join(directory, filename)\n",
    "    if os.path.isfile(f):\n",
    "        new_data = pd.read_csv(f, header=None, names=column_names, encoding='ISO-8859-1')\n",
    "        new_predictions = tree_regressor.predict(new_data)\n",
    "        new_data['Thickness'] = new_predictions\n",
    "        result = new_data['Thickness'].median()\n",
    "        \n",
    "        \n",
    "        with open(\"/Users/missbo/Desktop/Inżynierka/Elipsometr/results.txt\", 'a') as file_results:\n",
    "            file_results.write(str(result))\n",
    "            file_results.write(\" \")\n",
    "            file_results.write(str(filename))\n",
    "            file_results.write('\\n')"
   ]
  },
  {
   "cell_type": "code",
   "execution_count": 157,
   "metadata": {},
   "outputs": [],
   "source": [
    "with open(\"/Users/missbo/Desktop/Inżynierka/Elipsometr/results.txt\", 'w') as file:\n",
    "    pass"
   ]
  }
 ],
 "metadata": {
  "kernelspec": {
   "display_name": "Python 3",
   "language": "python",
   "name": "python3"
  },
  "language_info": {
   "codemirror_mode": {
    "name": "ipython",
    "version": 3
   },
   "file_extension": ".py",
   "mimetype": "text/x-python",
   "name": "python",
   "nbconvert_exporter": "python",
   "pygments_lexer": "ipython3",
   "version": "3.11.5"
  }
 },
 "nbformat": 4,
 "nbformat_minor": 2
}
