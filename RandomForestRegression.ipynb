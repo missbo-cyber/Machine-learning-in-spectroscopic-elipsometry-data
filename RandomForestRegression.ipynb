{
 "cells": [
  {
   "cell_type": "markdown",
   "metadata": {},
   "source": [
    "Import libraries"
   ]
  },
  {
   "cell_type": "code",
   "execution_count": 1,
   "metadata": {},
   "outputs": [],
   "source": [
    "import pandas as pd\n",
    "import numpy as np\n",
    "import time\n",
    "import os \n",
    "import statistics\n",
    "from sklearn.model_selection import train_test_split\n",
    "from sklearn.ensemble import RandomForestRegressor\n",
    "from sklearn.metrics import mean_squared_error, r2_score, mean_absolute_error"
   ]
  },
  {
   "cell_type": "markdown",
   "metadata": {},
   "source": [
    "psi"
   ]
  },
  {
   "cell_type": "markdown",
   "metadata": {},
   "source": [
    "Import data"
   ]
  },
  {
   "cell_type": "code",
   "execution_count": 2,
   "metadata": {},
   "outputs": [],
   "source": [
    "column_names = ['Wavelength', '65', '70', '75']\n",
    "data_1nm = pd.read_csv('/Users/missbo/Desktop/Inżynierka/Elipsometr/psi/si02_psi_1nm_co_10_nm.csv', header=None, names=column_names)\n",
    "data_2nm = pd.read_csv('/Users/missbo/Desktop/Inżynierka/Elipsometr/psi/si02_psi_2nm_co_10_nm.csv', header=None, names=column_names)\n",
    "data_3nm = pd.read_csv('/Users/missbo/Desktop/Inżynierka/Elipsometr/psi/si02_psi_3nm_co_10_nm.csv', header=None, names=column_names)\n",
    "data_4nm = pd.read_csv('/Users/missbo/Desktop/Inżynierka/Elipsometr/psi/si02_psi_4nm_co_10_nm.csv', header=None, names=column_names)\n",
    "data_5nm = pd.read_csv('/Users/missbo/Desktop/Inżynierka/Elipsometr/psi/si02_psi_5nm_co_10_nm.csv', header=None, names=column_names)\n",
    "data_6nm = pd.read_csv('/Users/missbo/Desktop/Inżynierka/Elipsometr/psi/si02_psi_6nm_co_10_nm.csv', header=None, names=column_names)\n",
    "data_7nm = pd.read_csv('/Users/missbo/Desktop/Inżynierka/Elipsometr/psi/si02_psi_7nm_co_10_nm.csv', header=None, names=column_names)\n",
    "data_8nm = pd.read_csv('/Users/missbo/Desktop/Inżynierka/Elipsometr/psi/si02_psi_8nm_co_10_nm.csv', header=None, names=column_names)\n",
    "data_9nm = pd.read_csv('/Users/missbo/Desktop/Inżynierka/Elipsometr/psi/si02_psi_9nm_co_10_nm.csv', header=None, names=column_names)\n",
    "data_10nm = pd.read_csv('/Users/missbo/Desktop/Inżynierka/Elipsometr/psi/si02_psi_10nm_co_10_nm.csv', header=None,names=column_names)\n",
    "data_11nm = pd.read_csv('/Users/missbo/Desktop/Inżynierka/Elipsometr/psi/si02_psi_11nm_co_10_nm.csv', header=None,names=column_names)\n",
    "data_12nm = pd.read_csv('/Users/missbo/Desktop/Inżynierka/Elipsometr/psi/si02_psi_12nm_co_10_nm.csv', header=None,names=column_names)\n",
    "data_13nm = pd.read_csv('/Users/missbo/Desktop/Inżynierka/Elipsometr/psi/si02_psi_13nm_co_10_nm.csv', header=None,names=column_names)\n",
    "data_14nm = pd.read_csv('/Users/missbo/Desktop/Inżynierka/Elipsometr/psi/si02_psi_14nm_co_10_nm.csv', header=None,names=column_names)\n",
    "data_15nm = pd.read_csv('/Users/missbo/Desktop/Inżynierka/Elipsometr/psi/si02_psi_15nm_co_10_nm.csv', header=None,names=column_names)\n",
    "data_16nm = pd.read_csv('/Users/missbo/Desktop/Inżynierka/Elipsometr/psi/si02_psi_16nm_co_10_nm.csv', header=None,names=column_names)\n",
    "data_17nm = pd.read_csv('/Users/missbo/Desktop/Inżynierka/Elipsometr/psi/si02_psi_17nm_co_10_nm.csv', header=None,names=column_names)\n",
    "data_18nm = pd.read_csv('/Users/missbo/Desktop/Inżynierka/Elipsometr/psi/si02_psi_18nm_co_10_nm.csv', header=None,names=column_names)\n",
    "data_19nm = pd.read_csv('/Users/missbo/Desktop/Inżynierka/Elipsometr/psi/si02_psi_19nm_co_10_nm.csv', header=None,names=column_names)\n",
    "data_20nm = pd.read_csv('/Users/missbo/Desktop/Inżynierka/Elipsometr/psi/si02_psi_20nm_co_10_nm.csv', header=None,names=column_names)\n",
    "data_21nm = pd.read_csv('/Users/missbo/Desktop/Inżynierka/Elipsometr/psi/si02_psi_21nm_co_10_nm.csv', header=None,names=column_names)\n",
    "data_22nm = pd.read_csv('/Users/missbo/Desktop/Inżynierka/Elipsometr/psi/si02_psi_22nm_co_10_nm.csv', header=None,names=column_names)\n",
    "data_23nm = pd.read_csv('/Users/missbo/Desktop/Inżynierka/Elipsometr/psi/si02_psi_23nm_co_10_nm.csv', header=None,names=column_names)\n",
    "data_24nm = pd.read_csv('/Users/missbo/Desktop/Inżynierka/Elipsometr/psi/si02_psi_24nm_co_10_nm.csv', header=None,names=column_names)\n",
    "data_25nm = pd.read_csv('/Users/missbo/Desktop/Inżynierka/Elipsometr/psi/si02_psi_25nm_co_10_nm.csv', header=None,names=column_names)\n",
    "data_26nm = pd.read_csv('/Users/missbo/Desktop/Inżynierka/Elipsometr/psi/si02_psi_26nm_co_10_nm.csv', header=None,names=column_names)\n",
    "data_27nm = pd.read_csv('/Users/missbo/Desktop/Inżynierka/Elipsometr/psi/si02_psi_27nm_co_10_nm.csv', header=None,names=column_names)\n",
    "data_28nm = pd.read_csv('/Users/missbo/Desktop/Inżynierka/Elipsometr/psi/si02_psi_28nm_co_10_nm.csv', header=None,names=column_names)\n",
    "data_29nm = pd.read_csv('/Users/missbo/Desktop/Inżynierka/Elipsometr/psi/si02_psi_29nm_co_10_nm.csv', header=None,names=column_names)\n",
    "data_30nm = pd.read_csv('/Users/missbo/Desktop/Inżynierka/Elipsometr/psi/si02_psi_30nm_co_10_nm.csv', header=None,names=column_names)\n",
    "data_32nm = pd.read_csv('/Users/missbo/Desktop/Inżynierka/Elipsometr/psi/si02_psi_32nm_co_10_nm.csv', header=None,names=column_names)\n",
    "data_34nm = pd.read_csv('/Users/missbo/Desktop/Inżynierka/Elipsometr/psi/si02_psi_34nm_co_10_nm.csv', header=None,names=column_names)\n",
    "data_36nm = pd.read_csv('/Users/missbo/Desktop/Inżynierka/Elipsometr/psi/si02_psi_36nm_co_10_nm.csv', header=None,names=column_names)\n",
    "data_38nm = pd.read_csv('/Users/missbo/Desktop/Inżynierka/Elipsometr/psi/si02_psi_38nm_co_10_nm.csv', header=None,names=column_names)\n",
    "data_40nm = pd.read_csv('/Users/missbo/Desktop/Inżynierka/Elipsometr/psi/si02_psi_40nm_co_10_nm.csv', header=None,names=column_names)\n",
    "data_42nm = pd.read_csv('/Users/missbo/Desktop/Inżynierka/Elipsometr/psi/si02_psi_42nm_co_10_nm.csv', header=None,names=column_names)\n",
    "data_44nm = pd.read_csv('/Users/missbo/Desktop/Inżynierka/Elipsometr/psi/si02_psi_44nm_co_10_nm.csv', header=None,names=column_names)\n",
    "data_46nm = pd.read_csv('/Users/missbo/Desktop/Inżynierka/Elipsometr/psi/si02_psi_46nm_co_10_nm.csv', header=None,names=column_names)\n",
    "data_48nm = pd.read_csv('/Users/missbo/Desktop/Inżynierka/Elipsometr/psi/si02_psi_48nm_co_10_nm.csv', header=None,names=column_names)\n",
    "data_50nm = pd.read_csv('/Users/missbo/Desktop/Inżynierka/Elipsometr/psi/si02_psi_50nm_co_10_nm.csv', header=None,names=column_names)\n",
    "\n"
   ]
  },
  {
   "cell_type": "markdown",
   "metadata": {},
   "source": [
    "Add column Thickness"
   ]
  },
  {
   "cell_type": "code",
   "execution_count": 3,
   "metadata": {},
   "outputs": [],
   "source": [
    "data_1nm['Thickness'] = 1\n",
    "data_2nm['Thickness'] = 2\n",
    "data_3nm['Thickness'] = 3\n",
    "data_4nm['Thickness'] = 4\n",
    "data_5nm['Thickness'] = 5\n",
    "data_6nm['Thickness'] = 6\n",
    "data_7nm['Thickness'] = 7\n",
    "data_8nm['Thickness'] = 8\n",
    "data_9nm['Thickness'] = 9\n",
    "data_10nm['Thickness'] = 10\n",
    "data_11nm['Thickness'] = 11\n",
    "data_12nm['Thickness'] = 12\n",
    "data_13nm['Thickness'] = 13\n",
    "data_14nm['Thickness'] = 14\n",
    "data_15nm['Thickness'] = 15\n",
    "data_16nm['Thickness'] = 16\n",
    "data_17nm['Thickness'] = 17\n",
    "data_18nm['Thickness'] = 18\n",
    "data_19nm['Thickness'] = 19\n",
    "data_20nm['Thickness'] = 20\n",
    "data_21nm['Thickness'] = 21\n",
    "data_22nm['Thickness'] = 22\n",
    "data_23nm['Thickness'] = 23\n",
    "data_24nm['Thickness'] = 24\n",
    "data_25nm['Thickness'] = 25\n",
    "data_26nm['Thickness'] = 26\n",
    "data_27nm['Thickness'] = 27\n",
    "data_28nm['Thickness'] = 28\n",
    "data_29nm['Thickness'] = 29\n",
    "data_30nm['Thickness'] = 30\n",
    "data_32nm['Thickness'] = 32\n",
    "data_34nm['Thickness'] = 34\n",
    "data_36nm['Thickness'] = 36\n",
    "data_38nm['Thickness'] = 38\n",
    "data_40nm['Thickness'] = 40\n",
    "data_42nm['Thickness'] = 42\n",
    "data_44nm['Thickness'] = 44\n",
    "data_46nm['Thickness'] = 46\n",
    "data_48nm['Thickness'] = 48\n",
    "data_50nm['Thickness'] = 50"
   ]
  },
  {
   "cell_type": "markdown",
   "metadata": {},
   "source": [
    "Combine data"
   ]
  },
  {
   "cell_type": "code",
   "execution_count": 4,
   "metadata": {},
   "outputs": [
    {
     "name": "stdout",
     "output_type": "stream",
     "text": [
      "   Wavelength      65      70      75  Thickness\n",
      "0         300  32.894  29.654  25.600          1\n",
      "1         310  31.415  27.793  23.315          1\n",
      "2         320  30.629  26.794  22.062          1\n",
      "3         330  30.170  26.185  21.238          1\n",
      "4         340  29.959  25.877  20.744          1\n"
     ]
    }
   ],
   "source": [
    "frames = [data_1nm, data_2nm, data_3nm, data_4nm, data_5nm, data_6nm, data_7nm, data_8nm, data_9nm, data_10nm, data_11nm, data_12nm, data_13nm, data_14nm, data_15nm, data_16nm, data_17nm, data_18nm, data_19nm, data_20nm, data_21nm, data_22nm, data_23nm, data_24nm, data_25nm, data_26nm, data_27nm, data_28nm, data_29nm, data_30nm, data_32nm, data_34nm, data_36nm, data_38nm, data_40nm, data_42nm, data_44nm, data_46nm, data_48nm, data_50nm]\n",
    "combined_data = pd.concat(frames)\n",
    "combined_data=combined_data.fillna(0)\n",
    "print(combined_data.head())"
   ]
  },
  {
   "cell_type": "markdown",
   "metadata": {},
   "source": [
    "Train model"
   ]
  },
  {
   "cell_type": "code",
   "execution_count": 5,
   "metadata": {},
   "outputs": [
    {
     "name": "stdout",
     "output_type": "stream",
     "text": [
      "Mean Squared Error: 0.2861328638497651\n",
      "R^2 Score: 0.9984629430180249\n",
      "Mean Absolute Percentage Error (MAE): 0.33461267605633793\n",
      "Symmetric Mean Absolute Percentage Error: 2.8441741175261868\n"
     ]
    }
   ],
   "source": [
    "X = combined_data.drop('Thickness', axis = 1)\n",
    "y = combined_data['Thickness']\n",
    "\n",
    "X_train, X_test, y_train, y_test = train_test_split(X, y, test_size=0.2, random_state=42)\n",
    "\n",
    "rf_regressor = RandomForestRegressor(n_estimators=300, random_state= 42)\n",
    "rf_regressor.fit(X_train, y_train)\n",
    "y_pred = rf_regressor.predict(X_test)\n",
    "\n",
    "def calculate_smape(y_test, y_pred):\n",
    "    numerator = np.abs(y_test - y_pred)\n",
    "    denominator = (np.abs(y_test) + np.abs(y_pred)) / 2\n",
    "    smape = np.mean(numerator / denominator) * 100\n",
    "    return smape\n",
    "\n",
    "mse = mean_squared_error(y_test, y_pred)\n",
    "r2 = r2_score(y_test, y_pred)\n",
    "mae = mean_absolute_error(y_test, y_pred)\n",
    "smape = calculate_smape(y_test,y_pred)\n",
    "\n",
    "\n",
    "print(f'Mean Squared Error: {mse}')\n",
    "print(f'R^2 Score: {r2}')\n",
    "print(f\"Mean Absolute Percentage Error (MAE): {mae}\")\n",
    "print(f'Symmetric Mean Absolute Percentage Error: {smape}')\n"
   ]
  },
  {
   "cell_type": "markdown",
   "metadata": {},
   "source": [
    "Predict new data"
   ]
  },
  {
   "cell_type": "code",
   "execution_count": 36,
   "metadata": {},
   "outputs": [],
   "source": [
    "import os\n",
    "\n",
    "folder_path = '/Users/missbo/Desktop/Inżynierka/Elipsometr/psi/psi_exp'\n",
    "output_folder = '/Users/missbo/Desktop/Inżynierka/Elipsometr/Files_results/RF_300/RF_psi'\n",
    "\n",
    "os.makedirs(output_folder, exist_ok=True)\n",
    "\n",
    "for file_name in os.listdir(folder_path):\n",
    "    if file_name.endswith('.csv'):\n",
    "        file_path = os.path.join(folder_path, file_name)\n",
    "        \n",
    "        new_data = pd.read_csv(file_path, header=None, names=column_names)\n",
    "        \n",
    "        missing_cols = set(X.columns) - set(new_data.columns)\n",
    "        if missing_cols:\n",
    "            raise ValueError(f\"New data is missing columns: {missing_cols}\")\n",
    "        \n",
    "        new_predictions = rf_regressor.predict(new_data)\n",
    "        new_data['Thickness'] = new_predictions\n",
    "\n",
    "        thickness = file_name.split('_')[2].replace('nm', '')\n",
    "        \n",
    "        output_file = os.path.join(output_folder, f\"RF_psi_{thickness}_nm\")\n",
    "        \n",
    "        with open(output_file, 'w') as plik:\n",
    "            for prediction in new_predictions:\n",
    "                plik.write(f\"{prediction:.2f}\\n\")"
   ]
  },
  {
   "cell_type": "code",
   "execution_count": 39,
   "metadata": {},
   "outputs": [],
   "source": [
    "directory = \"/Users/missbo/Desktop/Inżynierka/Elipsometr/psi/psi_exp\"\n",
    "\n",
    "for filename in os.listdir(directory):\n",
    "    f = os.path.join(directory, filename)\n",
    "    if os.path.isfile(f):\n",
    "        new_data = pd.read_csv(f, header=None, names=column_names, encoding='ISO-8859-1')\n",
    "        new_predictions = rf_regressor.predict(new_data)\n",
    "        new_data['Thickness'] = new_predictions\n",
    "        result = new_data['Thickness'].median()\n",
    "        \n",
    "        \n",
    "        with open(\"/Users/missbo/Desktop/Inżynierka/Elipsometr/results.txt\", 'a') as file_results:\n",
    "            file_results.write(str(result))\n",
    "            file_results.write(\" \")\n",
    "            #file_results.write(str(filename))\n",
    "            file_results.write('\\n')"
   ]
  },
  {
   "cell_type": "code",
   "execution_count": 37,
   "metadata": {},
   "outputs": [],
   "source": [
    "with open(\"/Users/missbo/Desktop/Inżynierka/Elipsometr/results.txt\", 'w') as file:\n",
    "    pass"
   ]
  },
  {
   "cell_type": "markdown",
   "metadata": {},
   "source": [
    "Cos delta"
   ]
  },
  {
   "cell_type": "markdown",
   "metadata": {},
   "source": [
    "Import data "
   ]
  },
  {
   "cell_type": "code",
   "execution_count": 64,
   "metadata": {},
   "outputs": [],
   "source": [
    "column_names = ['Wavelength', '65', '70', '75']\n",
    "data_1nm = pd.read_csv('/Users/missbo/Desktop/Inżynierka/Elipsometr/cosdelta/si02_cosdelta_1nm_co_10_nm.csv', header=None, names=column_names)\n",
    "data_2nm = pd.read_csv('/Users/missbo/Desktop/Inżynierka/Elipsometr/cosdelta/si02_cosdelta_2nm_co_10_nm.csv', header=None, names=column_names)\n",
    "data_3nm = pd.read_csv('/Users/missbo/Desktop/Inżynierka/Elipsometr/cosdelta/si02_cosdelta_3nm_co_10_nm.csv', header=None, names=column_names)\n",
    "data_4nm = pd.read_csv('/Users/missbo/Desktop/Inżynierka/Elipsometr/cosdelta/si02_cosdelta_4nm_co_10_nm.csv', header=None, names=column_names)\n",
    "data_5nm = pd.read_csv('/Users/missbo/Desktop/Inżynierka/Elipsometr/cosdelta/si02_cosdelta_5nm_co_10_nm.csv', header=None, names=column_names)\n",
    "data_6nm = pd.read_csv('/Users/missbo/Desktop/Inżynierka/Elipsometr/cosdelta/si02_cosdelta_6nm_co_10_nm.csv', header=None, names=column_names)\n",
    "data_7nm = pd.read_csv('/Users/missbo/Desktop/Inżynierka/Elipsometr/cosdelta/si02_cosdelta_7nm_co_10_nm.csv', header=None, names=column_names)\n",
    "data_8nm = pd.read_csv('/Users/missbo/Desktop/Inżynierka/Elipsometr/cosdelta/si02_cosdelta_8nm_co_10_nm.csv', header=None, names=column_names)\n",
    "data_9nm = pd.read_csv('/Users/missbo/Desktop/Inżynierka/Elipsometr/cosdelta/si02_cosdelta_9nm_co_10_nm.csv', header=None, names=column_names)\n",
    "data_10nm = pd.read_csv('/Users/missbo/Desktop/Inżynierka/Elipsometr/cosdelta/si02_cosdelta_10nm_co_10_nm.csv', header=None, names=column_names)\n",
    "data_11nm = pd.read_csv('/Users/missbo/Desktop/Inżynierka/Elipsometr/cosdelta/si02_cosdelta_11nm_co_10_nm.csv', header=None, names=column_names)\n",
    "data_12nm = pd.read_csv('/Users/missbo/Desktop/Inżynierka/Elipsometr/cosdelta/si02_cosdelta_12nm_co_10_nm.csv', header=None, names=column_names)\n",
    "data_13nm = pd.read_csv('/Users/missbo/Desktop/Inżynierka/Elipsometr/cosdelta/si02_cosdelta_13nm_co_10_nm.csv', header=None, names=column_names)\n",
    "data_14nm = pd.read_csv('/Users/missbo/Desktop/Inżynierka/Elipsometr/cosdelta/si02_cosdelta_14nm_co_10_nm.csv', header=None, names=column_names)\n",
    "data_15nm = pd.read_csv('/Users/missbo/Desktop/Inżynierka/Elipsometr/cosdelta/si02_cosdelta_15nm_co_10_nm.csv', header=None, names=column_names)\n",
    "data_16nm = pd.read_csv('/Users/missbo/Desktop/Inżynierka/Elipsometr/cosdelta/si02_cosdelta_16nm_co_10_nm.csv', header=None, names=column_names)\n",
    "data_17nm = pd.read_csv('/Users/missbo/Desktop/Inżynierka/Elipsometr/cosdelta/si02_cosdelta_17nm_co_10_nm.csv', header=None, names=column_names)\n",
    "data_18nm = pd.read_csv('/Users/missbo/Desktop/Inżynierka/Elipsometr/cosdelta/si02_cosdelta_18nm_co_10_nm.csv', header=None, names=column_names)\n",
    "data_19nm = pd.read_csv('/Users/missbo/Desktop/Inżynierka/Elipsometr/cosdelta/si02_cosdelta_19nm_co_10_nm.csv', header=None, names=column_names)\n",
    "data_20nm = pd.read_csv('/Users/missbo/Desktop/Inżynierka/Elipsometr/cosdelta/si02_cosdelta_20nm_co_10_nm.csv', header=None, names=column_names)\n",
    "data_21nm = pd.read_csv('/Users/missbo/Desktop/Inżynierka/Elipsometr/cosdelta/si02_cosdelta_21nm_co_10_nm.csv', header=None, names=column_names)\n",
    "data_22nm = pd.read_csv('/Users/missbo/Desktop/Inżynierka/Elipsometr/cosdelta/si02_cosdelta_22nm_co_10_nm.csv', header=None, names=column_names)\n",
    "data_23nm = pd.read_csv('/Users/missbo/Desktop/Inżynierka/Elipsometr/cosdelta/si02_cosdelta_23nm_co_10_nm.csv', header=None, names=column_names)\n",
    "data_24nm = pd.read_csv('/Users/missbo/Desktop/Inżynierka/Elipsometr/cosdelta/si02_cosdelta_24nm_co_10_nm.csv', header=None, names=column_names)\n",
    "data_25nm = pd.read_csv('/Users/missbo/Desktop/Inżynierka/Elipsometr/cosdelta/si02_cosdelta_25nm_co_10_nm.csv', header=None, names=column_names)\n",
    "data_26nm = pd.read_csv('/Users/missbo/Desktop/Inżynierka/Elipsometr/cosdelta/si02_cosdelta_26nm_co_10_nm.csv', header=None, names=column_names)\n",
    "data_27nm = pd.read_csv('/Users/missbo/Desktop/Inżynierka/Elipsometr/cosdelta/si02_cosdelta_27nm_co_10_nm.csv', header=None, names=column_names)\n",
    "data_28nm = pd.read_csv('/Users/missbo/Desktop/Inżynierka/Elipsometr/cosdelta/si02_cosdelta_28nm_co_10_nm.csv', header=None, names=column_names)\n",
    "data_29nm = pd.read_csv('/Users/missbo/Desktop/Inżynierka/Elipsometr/cosdelta/si02_cosdelta_29nm_co_10_nm.csv', header=None, names=column_names)\n",
    "data_30nm = pd.read_csv('/Users/missbo/Desktop/Inżynierka/Elipsometr/cosdelta/si02_cosdelta_30nm_co_10_nm.csv', header=None, names=column_names)\n",
    "data_32nm = pd.read_csv('/Users/missbo/Desktop/Inżynierka/Elipsometr/cosdelta/si02_cosdelta_32nm_co_10_nm.csv', header=None, names=column_names)\n",
    "data_34nm = pd.read_csv('/Users/missbo/Desktop/Inżynierka/Elipsometr/cosdelta/si02_cosdelta_34nm_co_10_nm.csv', header=None, names=column_names)\n",
    "data_36nm = pd.read_csv('/Users/missbo/Desktop/Inżynierka/Elipsometr/cosdelta/si02_cosdelta_36nm_co_10_nm.csv', header=None, names=column_names)\n",
    "data_38nm = pd.read_csv('/Users/missbo/Desktop/Inżynierka/Elipsometr/cosdelta/si02_cosdelta_38nm_co_10_nm.csv', header=None, names=column_names)\n",
    "data_40nm = pd.read_csv('/Users/missbo/Desktop/Inżynierka/Elipsometr/cosdelta/si02_cosdelta_40nm_co_10_nm.csv', header=None, names=column_names)\n",
    "data_42nm = pd.read_csv('/Users/missbo/Desktop/Inżynierka/Elipsometr/cosdelta/si02_cosdelta_42nm_co_10_nm.csv', header=None, names=column_names)\n",
    "data_44nm = pd.read_csv('/Users/missbo/Desktop/Inżynierka/Elipsometr/cosdelta/si02_cosdelta_44nm_co_10_nm.csv', header=None, names=column_names)\n",
    "data_46nm = pd.read_csv('/Users/missbo/Desktop/Inżynierka/Elipsometr/cosdelta/si02_cosdelta_46nm_co_10_nm.csv', header=None, names=column_names)\n",
    "data_48nm = pd.read_csv('/Users/missbo/Desktop/Inżynierka/Elipsometr/cosdelta/si02_cosdelta_48nm_co_10_nm.csv', header=None, names=column_names)\n",
    "data_50nm = pd.read_csv('/Users/missbo/Desktop/Inżynierka/Elipsometr/cosdelta/si02_cosdelta_50nm_co_10_nm.csv', header=None, names=column_names)\n",
    "\n"
   ]
  },
  {
   "cell_type": "markdown",
   "metadata": {},
   "source": [
    "Add column Thickness"
   ]
  },
  {
   "cell_type": "code",
   "execution_count": 65,
   "metadata": {},
   "outputs": [],
   "source": [
    "data_1nm['Thickness'] = 1\n",
    "data_2nm['Thickness'] = 2\n",
    "data_3nm['Thickness'] = 3\n",
    "data_4nm['Thickness'] = 4\n",
    "data_5nm['Thickness'] = 5\n",
    "data_6nm['Thickness'] = 6\n",
    "data_7nm['Thickness'] = 7\n",
    "data_8nm['Thickness'] = 8\n",
    "data_9nm['Thickness'] = 9\n",
    "data_10nm['Thickness'] = 10\n",
    "data_11nm['Thickness'] = 11\n",
    "data_12nm['Thickness'] = 12\n",
    "data_13nm['Thickness'] = 13\n",
    "data_14nm['Thickness'] = 14\n",
    "data_15nm['Thickness'] = 15\n",
    "data_16nm['Thickness'] = 16\n",
    "data_17nm['Thickness'] = 17\n",
    "data_18nm['Thickness'] = 18\n",
    "data_19nm['Thickness'] = 19\n",
    "data_20nm['Thickness'] = 20\n",
    "data_21nm['Thickness'] = 21\n",
    "data_22nm['Thickness'] = 22\n",
    "data_23nm['Thickness'] = 23\n",
    "data_24nm['Thickness'] = 24\n",
    "data_25nm['Thickness'] = 25\n",
    "data_26nm['Thickness'] = 26\n",
    "data_27nm['Thickness'] = 27\n",
    "data_28nm['Thickness'] = 28\n",
    "data_29nm['Thickness'] = 29\n",
    "data_30nm['Thickness'] = 30\n",
    "data_32nm['Thickness'] = 32\n",
    "data_34nm['Thickness'] = 34\n",
    "data_36nm['Thickness'] = 36\n",
    "data_38nm['Thickness'] = 38\n",
    "data_40nm['Thickness'] = 40\n",
    "data_42nm['Thickness'] = 42\n",
    "data_44nm['Thickness'] = 44\n",
    "data_46nm['Thickness'] = 46\n",
    "data_48nm['Thickness'] = 48\n",
    "data_50nm['Thickness'] = 50"
   ]
  },
  {
   "cell_type": "markdown",
   "metadata": {},
   "source": [
    "Combine data"
   ]
  },
  {
   "cell_type": "code",
   "execution_count": 66,
   "metadata": {},
   "outputs": [
    {
     "name": "stdout",
     "output_type": "stream",
     "text": [
      "   Wavelength       65       70       75  Thickness\n",
      "0         300 -0.90549 -0.82779 -0.64895          1\n",
      "1         310 -0.91014 -0.83261 -0.64437          1\n",
      "2         320 -0.91487 -0.83912 -0.64826          1\n",
      "3         330 -0.92106 -0.84919 -0.66231          1\n",
      "4         340 -0.92801 -0.86146 -0.68398          1\n"
     ]
    }
   ],
   "source": [
    "frames = [data_1nm, data_2nm, data_3nm, data_4nm, data_5nm, data_6nm, data_7nm, data_8nm, data_9nm, data_10nm, data_11nm, data_12nm, data_13nm, data_14nm, data_15nm, data_16nm, data_17nm, data_18nm, data_19nm, data_20nm, data_21nm, data_22nm, data_23nm, data_24nm, data_25nm, data_26nm, data_27nm, data_28nm, data_29nm, data_30nm, data_32nm, data_34nm, data_36nm, data_38nm, data_40nm, data_42nm, data_44nm, data_46nm, data_48nm, data_50nm]\n",
    "combined_data = pd.concat(frames)\n",
    "combined_data=combined_data.fillna(0)\n",
    "print(combined_data.head())"
   ]
  },
  {
   "cell_type": "markdown",
   "metadata": {},
   "source": [
    "Train model"
   ]
  },
  {
   "cell_type": "code",
   "execution_count": 68,
   "metadata": {},
   "outputs": [
    {
     "name": "stdout",
     "output_type": "stream",
     "text": [
      "Mean Squared Error: 1.1268890258215962\n",
      "R^2 Score: 0.9939465441971753\n",
      "Mean Absolute Percentage Error (MAE): 0.33151995305164333\n",
      "Symmetric Mean Absolute Percentage Error: 1.6818340327187011\n",
      "Standard Deviation:0.1993677496661451\n"
     ]
    }
   ],
   "source": [
    "X = combined_data.drop('Thickness', axis = 1)\n",
    "y = combined_data['Thickness']\n",
    "\n",
    "X_train, X_test, y_train, y_test = train_test_split(X, y, test_size=0.2, random_state=42)\n",
    "\n",
    "rf_regressor = RandomForestRegressor(n_estimators=300, random_state= 42)\n",
    "rf_regressor.fit(X_train, y_train)\n",
    "\n",
    "y_pred = rf_regressor.predict(X_test)\n",
    "\n",
    "def calculate_smape(y_test, y_pred):\n",
    "    numerator = np.abs(y_test - y_pred)\n",
    "    denominator = (np.abs(y_test) + np.abs(y_pred)) / 2\n",
    "    smape = np.mean(numerator / denominator) * 100\n",
    "    return smape\n",
    "\n",
    "mse = mean_squared_error(y_test, y_pred)\n",
    "r2 = r2_score(y_test, y_pred)\n",
    "mae = mean_absolute_error(y_test, y_pred)\n",
    "smape = calculate_smape(y_test,y_pred)\n",
    "# Odchylenie standardowe zbioru uczącego\n",
    "standard_deviation = statistics.stdev(X_train['65'])\n",
    "\n",
    "print(f'Mean Squared Error: {mse}')\n",
    "print(f'R^2 Score: {r2}')\n",
    "print(f\"Mean Absolute Percentage Error (MAE): {mae}\")\n",
    "print(f'Symmetric Mean Absolute Percentage Error: {smape}')\n",
    "print(f'Standard Deviation:{standard_deviation}')"
   ]
  },
  {
   "cell_type": "markdown",
   "metadata": {},
   "source": [
    "Predict new data"
   ]
  },
  {
   "cell_type": "code",
   "execution_count": 69,
   "metadata": {},
   "outputs": [],
   "source": [
    "import os\n",
    "\n",
    "folder_path = '/Users/missbo/Desktop/Inżynierka/Elipsometr/cosdelta/cosdelta_exp'\n",
    "output_folder = '/Users/missbo/Desktop/Inżynierka/Elipsometr/Files_results/RF_300/RF_cosdelta'\n",
    "\n",
    "os.makedirs(output_folder, exist_ok=True)\n",
    "\n",
    "for file_name in os.listdir(folder_path):\n",
    "    if file_name.endswith('.csv'):\n",
    "        file_path = os.path.join(folder_path, file_name)\n",
    "        \n",
    "        new_data = pd.read_csv(file_path, header=None, names=column_names)\n",
    "        \n",
    "        missing_cols = set(X.columns) - set(new_data.columns)\n",
    "        if missing_cols:\n",
    "            raise ValueError(f\"New data is missing columns: {missing_cols}\")\n",
    "        \n",
    "        new_predictions = rf_regressor.predict(new_data)\n",
    "        new_data['Thickness'] = new_predictions\n",
    "\n",
    "        thickness = file_name.split('_')[2].replace('nm', '')\n",
    "        \n",
    "        output_file = os.path.join(output_folder, f\"RF_cosdelta_{thickness}_nm\")\n",
    "        \n",
    "        with open(output_file, 'w') as plik:\n",
    "            for prediction in new_predictions:\n",
    "                plik.write(f\"{prediction:.2f}\\n\")"
   ]
  },
  {
   "cell_type": "code",
   "execution_count": 72,
   "metadata": {},
   "outputs": [],
   "source": [
    "directory = \"/Users/missbo/Desktop/Inżynierka/Elipsometr/cosdelta/cosdelta_exp\"\n",
    "\n",
    "for filename in os.listdir(directory):\n",
    "    f = os.path.join(directory, filename)\n",
    "    if os.path.isfile(f):\n",
    "        new_data = pd.read_csv(f, header=None, names=column_names, encoding='ISO-8859-1')\n",
    "        new_predictions = rf_regressor.predict(new_data)\n",
    "        new_data['Thickness'] = new_predictions\n",
    "        result = new_data['Thickness'].median()\n",
    "        \n",
    "        \n",
    "        with open(\"/Users/missbo/Desktop/Inżynierka/Elipsometr/results.txt\", 'a') as file_results:\n",
    "            file_results.write(str(result))\n",
    "            file_results.write(\" \")\n",
    "            #file_results.write(str(filename))\n",
    "            file_results.write('\\n')"
   ]
  },
  {
   "cell_type": "code",
   "execution_count": 81,
   "metadata": {},
   "outputs": [],
   "source": [
    "with open(\"/Users/missbo/Desktop/Inżynierka/Elipsometr/results.txt\", 'w') as file:\n",
    "    pass"
   ]
  },
  {
   "cell_type": "markdown",
   "metadata": {},
   "source": [
    "Tan psi"
   ]
  },
  {
   "cell_type": "markdown",
   "metadata": {},
   "source": [
    "Import data"
   ]
  },
  {
   "cell_type": "code",
   "execution_count": 74,
   "metadata": {},
   "outputs": [],
   "source": [
    "column_names = ['Wavelength', '65', '70', '75']\n",
    "data_1nm = pd.read_csv('/Users/missbo/Desktop/Inżynierka/Elipsometr/tanpsi/si02_tanpsi_1nm_co_10_nm.csv', header=None, names=column_names)\n",
    "data_2nm = pd.read_csv('/Users/missbo/Desktop/Inżynierka/Elipsometr/tanpsi/si02_tanpsi_2nm_co_10_nm.csv', header=None, names=column_names)\n",
    "data_3nm = pd.read_csv('/Users/missbo/Desktop/Inżynierka/Elipsometr/tanpsi/si02_tanpsi_3nm_co_10_nm.csv', header=None, names=column_names)\n",
    "data_4nm = pd.read_csv('/Users/missbo/Desktop/Inżynierka/Elipsometr/tanpsi/si02_tanpsi_4nm_co_10_nm.csv', header=None, names=column_names)\n",
    "data_5nm = pd.read_csv('/Users/missbo/Desktop/Inżynierka/Elipsometr/tanpsi/si02_tanpsi_5nm_co_10_nm.csv', header=None, names=column_names)\n",
    "data_6nm = pd.read_csv('/Users/missbo/Desktop/Inżynierka/Elipsometr/tanpsi/si02_tanpsi_6nm_co_10_nm.csv', header=None, names=column_names)\n",
    "data_7nm = pd.read_csv('/Users/missbo/Desktop/Inżynierka/Elipsometr/tanpsi/si02_tanpsi_7nm_co_10_nm.csv', header=None, names=column_names)\n",
    "data_8nm = pd.read_csv('/Users/missbo/Desktop/Inżynierka/Elipsometr/tanpsi/si02_tanpsi_8nm_co_10_nm.csv', header=None, names=column_names)\n",
    "data_9nm = pd.read_csv('/Users/missbo/Desktop/Inżynierka/Elipsometr/tanpsi/si02_tanpsi_9nm_co_10_nm.csv', header=None, names=column_names)\n",
    "data_10nm = pd.read_csv('/Users/missbo/Desktop/Inżynierka/Elipsometr/tanpsi/si02_tanpsi_10nm_co_10_nm.csv', header=None, names=column_names)\n",
    "data_11nm = pd.read_csv('/Users/missbo/Desktop/Inżynierka/Elipsometr/tanpsi/si02_tanpsi_11nm_co_10_nm.csv', header=None, names=column_names)\n",
    "data_12nm = pd.read_csv('/Users/missbo/Desktop/Inżynierka/Elipsometr/tanpsi/si02_tanpsi_12nm_co_10_nm.csv', header=None, names=column_names)\n",
    "data_13nm = pd.read_csv('/Users/missbo/Desktop/Inżynierka/Elipsometr/tanpsi/si02_tanpsi_13nm_co_10_nm.csv', header=None, names=column_names)\n",
    "data_14nm = pd.read_csv('/Users/missbo/Desktop/Inżynierka/Elipsometr/tanpsi/si02_tanpsi_14nm_co_10_nm.csv', header=None, names=column_names)\n",
    "data_15nm = pd.read_csv('/Users/missbo/Desktop/Inżynierka/Elipsometr/tanpsi/si02_tanpsi_15nm_co_10_nm.csv', header=None, names=column_names)\n",
    "data_16nm = pd.read_csv('/Users/missbo/Desktop/Inżynierka/Elipsometr/tanpsi/si02_tanpsi_16nm_co_10_nm.csv', header=None, names=column_names)\n",
    "data_17nm = pd.read_csv('/Users/missbo/Desktop/Inżynierka/Elipsometr/tanpsi/si02_tanpsi_17nm_co_10_nm.csv', header=None, names=column_names)\n",
    "data_18nm = pd.read_csv('/Users/missbo/Desktop/Inżynierka/Elipsometr/tanpsi/si02_tanpsi_18nm_co_10_nm.csv', header=None, names=column_names)\n",
    "data_19nm = pd.read_csv('/Users/missbo/Desktop/Inżynierka/Elipsometr/tanpsi/si02_tanpsi_19nm_co_10_nm.csv', header=None, names=column_names)\n",
    "data_20nm = pd.read_csv('/Users/missbo/Desktop/Inżynierka/Elipsometr/tanpsi/si02_tanpsi_20nm_co_10_nm.csv', header=None, names=column_names)\n",
    "data_21nm = pd.read_csv('/Users/missbo/Desktop/Inżynierka/Elipsometr/tanpsi/si02_tanpsi_21nm_co_10_nm.csv', header=None, names=column_names)\n",
    "data_22nm = pd.read_csv('/Users/missbo/Desktop/Inżynierka/Elipsometr/tanpsi/si02_tanpsi_22nm_co_10_nm.csv', header=None, names=column_names)\n",
    "data_23nm = pd.read_csv('/Users/missbo/Desktop/Inżynierka/Elipsometr/tanpsi/si02_tanpsi_23nm_co_10_nm.csv', header=None, names=column_names)\n",
    "data_24nm = pd.read_csv('/Users/missbo/Desktop/Inżynierka/Elipsometr/tanpsi/si02_tanpsi_24nm_co_10_nm.csv', header=None, names=column_names)\n",
    "data_25nm = pd.read_csv('/Users/missbo/Desktop/Inżynierka/Elipsometr/tanpsi/si02_tanpsi_25nm_co_10_nm.csv', header=None, names=column_names)\n",
    "data_26nm = pd.read_csv('/Users/missbo/Desktop/Inżynierka/Elipsometr/tanpsi/si02_tanpsi_26nm_co_10_nm.csv', header=None, names=column_names)\n",
    "data_27nm = pd.read_csv('/Users/missbo/Desktop/Inżynierka/Elipsometr/tanpsi/si02_tanpsi_27nm_co_10_nm.csv', header=None, names=column_names)\n",
    "data_28nm = pd.read_csv('/Users/missbo/Desktop/Inżynierka/Elipsometr/tanpsi/si02_tanpsi_28nm_co_10_nm.csv', header=None, names=column_names)\n",
    "data_29nm = pd.read_csv('/Users/missbo/Desktop/Inżynierka/Elipsometr/tanpsi/si02_tanpsi_29nm_co_10_nm.csv', header=None, names=column_names)\n",
    "data_30nm = pd.read_csv('/Users/missbo/Desktop/Inżynierka/Elipsometr/tanpsi/si02_tanpsi_30nm_co_10_nm.csv', header=None, names=column_names)\n",
    "data_32nm = pd.read_csv('/Users/missbo/Desktop/Inżynierka/Elipsometr/tanpsi/si02_tanpsi_32nm_co_10_nm.csv', header=None, names=column_names)\n",
    "data_34nm = pd.read_csv('/Users/missbo/Desktop/Inżynierka/Elipsometr/tanpsi/si02_tanpsi_34nm_co_10_nm.csv', header=None, names=column_names)\n",
    "data_36nm = pd.read_csv('/Users/missbo/Desktop/Inżynierka/Elipsometr/tanpsi/si02_tanpsi_36nm_co_10_nm.csv', header=None, names=column_names)\n",
    "data_38nm = pd.read_csv('/Users/missbo/Desktop/Inżynierka/Elipsometr/tanpsi/si02_tanpsi_38nm_co_10_nm.csv', header=None, names=column_names)\n",
    "data_40nm = pd.read_csv('/Users/missbo/Desktop/Inżynierka/Elipsometr/tanpsi/si02_tanpsi_40nm_co_10_nm.csv', header=None, names=column_names)\n",
    "data_42nm = pd.read_csv('/Users/missbo/Desktop/Inżynierka/Elipsometr/tanpsi/si02_tanpsi_42nm_co_10_nm.csv', header=None, names=column_names)\n",
    "data_44nm = pd.read_csv('/Users/missbo/Desktop/Inżynierka/Elipsometr/tanpsi/si02_tanpsi_44nm_co_10_nm.csv', header=None, names=column_names)\n",
    "data_46nm = pd.read_csv('/Users/missbo/Desktop/Inżynierka/Elipsometr/tanpsi/si02_tanpsi_46nm_co_10_nm.csv', header=None, names=column_names)\n",
    "data_48nm = pd.read_csv('/Users/missbo/Desktop/Inżynierka/Elipsometr/tanpsi/si02_tanpsi_48nm_co_10_nm.csv', header=None, names=column_names)\n",
    "data_50nm = pd.read_csv('/Users/missbo/Desktop/Inżynierka/Elipsometr/tanpsi/si02_tanpsi_50nm_co_10_nm.csv', header=None, names=column_names)\n"
   ]
  },
  {
   "cell_type": "markdown",
   "metadata": {},
   "source": [
    "Add column Thickness"
   ]
  },
  {
   "cell_type": "code",
   "execution_count": 75,
   "metadata": {},
   "outputs": [],
   "source": [
    "data_1nm['Thickness'] = 1\n",
    "data_2nm['Thickness'] = 2\n",
    "data_3nm['Thickness'] = 3\n",
    "data_4nm['Thickness'] = 4\n",
    "data_5nm['Thickness'] = 5\n",
    "data_6nm['Thickness'] = 6\n",
    "data_7nm['Thickness'] = 7\n",
    "data_8nm['Thickness'] = 8\n",
    "data_9nm['Thickness'] = 9\n",
    "data_10nm['Thickness'] = 10\n",
    "data_11nm['Thickness'] = 11\n",
    "data_12nm['Thickness'] = 12\n",
    "data_13nm['Thickness'] = 13\n",
    "data_14nm['Thickness'] = 14\n",
    "data_15nm['Thickness'] = 15\n",
    "data_16nm['Thickness'] = 16\n",
    "data_17nm['Thickness'] = 17\n",
    "data_18nm['Thickness'] = 18\n",
    "data_19nm['Thickness'] = 19\n",
    "data_20nm['Thickness'] = 20\n",
    "data_21nm['Thickness'] = 21\n",
    "data_22nm['Thickness'] = 22\n",
    "data_23nm['Thickness'] = 23\n",
    "data_24nm['Thickness'] = 24\n",
    "data_25nm['Thickness'] = 25\n",
    "data_26nm['Thickness'] = 26\n",
    "data_27nm['Thickness'] = 27\n",
    "data_28nm['Thickness'] = 28\n",
    "data_29nm['Thickness'] = 29\n",
    "data_30nm['Thickness'] = 30\n",
    "data_32nm['Thickness'] = 32\n",
    "data_34nm['Thickness'] = 34\n",
    "data_36nm['Thickness'] = 36\n",
    "data_38nm['Thickness'] = 38\n",
    "data_40nm['Thickness'] = 40\n",
    "data_42nm['Thickness'] = 42\n",
    "data_44nm['Thickness'] = 44\n",
    "data_46nm['Thickness'] = 46\n",
    "data_48nm['Thickness'] = 48\n",
    "data_50nm['Thickness'] = 50"
   ]
  },
  {
   "cell_type": "markdown",
   "metadata": {},
   "source": [
    "Combine data"
   ]
  },
  {
   "cell_type": "code",
   "execution_count": 76,
   "metadata": {},
   "outputs": [
    {
     "name": "stdout",
     "output_type": "stream",
     "text": [
      "   Wavelength       65       70       75  Thickness\n",
      "0         300  0.64679  0.56932  0.47913          1\n",
      "1         310  0.61075  0.52708  0.43098          1\n",
      "2         320  0.59209  0.50500  0.40528          1\n",
      "3         330  0.58131  0.49174  0.38864          1\n",
      "4         340  0.57641  0.48507  0.37875          1\n"
     ]
    }
   ],
   "source": [
    "frames = [data_1nm, data_2nm, data_3nm, data_4nm, data_5nm, data_6nm, data_7nm, data_8nm, data_9nm, data_10nm, data_11nm, data_12nm, data_13nm, data_14nm, data_15nm, data_16nm, data_17nm, data_18nm, data_19nm, data_20nm, data_21nm, data_22nm, data_23nm, data_24nm, data_25nm, data_26nm, data_27nm, data_28nm, data_29nm, data_30nm, data_32nm, data_34nm, data_36nm, data_38nm, data_40nm, data_42nm, data_44nm, data_46nm, data_48nm, data_50nm]\n",
    "combined_data = pd.concat(frames)\n",
    "combined_data=combined_data.fillna(0)\n",
    "print(combined_data.head())"
   ]
  },
  {
   "cell_type": "markdown",
   "metadata": {},
   "source": [
    "Train model"
   ]
  },
  {
   "cell_type": "code",
   "execution_count": 77,
   "metadata": {},
   "outputs": [
    {
     "name": "stdout",
     "output_type": "stream",
     "text": [
      "Mean Squared Error: 0.28669291862284824\n",
      "R^2 Score: 0.9984599344992282\n",
      "Mean Absolute Percentage Error (MAE): 0.3361032863849765\n",
      "Symmetric Mean Absolute Percentage Error: 2.8511232672656543\n",
      "Standard Deviation:0.14280688742010497\n"
     ]
    }
   ],
   "source": [
    "X = combined_data.drop('Thickness', axis = 1)\n",
    "y = combined_data['Thickness']\n",
    "\n",
    "X_train, X_test, y_train, y_test = train_test_split(X, y, test_size=0.2, random_state=42)\n",
    "\n",
    "rf_regressor = RandomForestRegressor(n_estimators=300, random_state= 42)\n",
    "rf_regressor.fit(X_train, y_train)\n",
    "\n",
    "y_pred = rf_regressor.predict(X_test)\n",
    "\n",
    "def calculate_smape(y_test, y_pred):\n",
    "    numerator = np.abs(y_test - y_pred)\n",
    "    denominator = (np.abs(y_test) + np.abs(y_pred)) / 2\n",
    "    smape = np.mean(numerator / denominator) * 100\n",
    "    return smape\n",
    "\n",
    "mse = mean_squared_error(y_test, y_pred)\n",
    "r2 = r2_score(y_test, y_pred)\n",
    "mae = mean_absolute_error(y_test, y_pred)\n",
    "smape = calculate_smape(y_test,y_pred)\n",
    "# Odchylenie standardowe zbioru uczącego\n",
    "standard_deviation = statistics.stdev(X_train['65'])\n",
    "\n",
    "print(f'Mean Squared Error: {mse}')\n",
    "print(f'R^2 Score: {r2}')\n",
    "print(f\"Mean Absolute Percentage Error (MAE): {mae}\")\n",
    "print(f'Symmetric Mean Absolute Percentage Error: {smape}')\n",
    "print(f'Standard Deviation:{standard_deviation}')"
   ]
  },
  {
   "cell_type": "markdown",
   "metadata": {},
   "source": [
    "Predict new data"
   ]
  },
  {
   "cell_type": "code",
   "execution_count": 47,
   "metadata": {},
   "outputs": [
    {
     "name": "stdout",
     "output_type": "stream",
     "text": [
      "   Wavelength       65       70       75\n",
      "0         400  0.73662  0.72709  0.74225\n",
      "1         410  0.70858  0.69854  0.71540\n",
      "2         420  0.68399  0.67331  0.69145\n",
      "3         430  0.66176  0.65032  0.66946\n",
      "4         440  0.64156  0.62926  0.64919\n",
      "48.18\n"
     ]
    }
   ],
   "source": [
    "new_data = pd.read_csv('/Users/missbo/Desktop/Inżynierka/Elipsometr/tanpsi/tanpsi_exp/si02_tanpsi_48-6_nm_exp_co_10_nm.csv', header=None,names=column_names)\n",
    "new_data = new_data.fillna(0)\n",
    "\n",
    "print(new_data.head())\n",
    "\n",
    "missing_cols = set(X.columns) - set(new_data.columns)\n",
    "if missing_cols:\n",
    "    raise ValueError(f\"New data is missing columns: {missing_cols}\")\n",
    "\n",
    "new_predictions = rf_regressor.predict(new_data)\n",
    "\n",
    "new_data['Thickness'] = new_predictions\n",
    "\n",
    "plik = open('/Users/missbo/Desktop/Inżynierka/Elipsometr/Files_results/RF_tanpsi_exp/RF_tanpsi_48_6_nm.txt','w')\n",
    "for prediction in new_predictions:\n",
    "        plik.write(f\"{prediction:.2f}\\n\")\n",
    "plik.close()\n",
    "\n",
    "print((new_data['Thickness']).median())"
   ]
  },
  {
   "cell_type": "code",
   "execution_count": 78,
   "metadata": {},
   "outputs": [],
   "source": [
    "import os\n",
    "\n",
    "folder_path = '/Users/missbo/Desktop/Inżynierka/Elipsometr/tanpsi/tanpsi_exp'\n",
    "output_folder = '/Users/missbo/Desktop/Inżynierka/Elipsometr/Files_results/RF_300/RF_tanpsi'\n",
    "\n",
    "os.makedirs(output_folder, exist_ok=True)\n",
    "\n",
    "for file_name in os.listdir(folder_path):\n",
    "    if file_name.endswith('.csv'):\n",
    "        file_path = os.path.join(folder_path, file_name)\n",
    "        \n",
    "        new_data = pd.read_csv(file_path, header=None, names=column_names)\n",
    "        \n",
    "        missing_cols = set(X.columns) - set(new_data.columns)\n",
    "        if missing_cols:\n",
    "            raise ValueError(f\"New data is missing columns: {missing_cols}\")\n",
    "        \n",
    "        new_predictions = rf_regressor.predict(new_data)\n",
    "        new_data['Thickness'] = new_predictions\n",
    "\n",
    "        thickness = file_name.split('_')[2].replace('nm', '')\n",
    "        \n",
    "        output_file = os.path.join(output_folder, f\"RF_tanpsi_{thickness}_nm\")\n",
    "        \n",
    "        with open(output_file, 'w') as plik:\n",
    "            for prediction in new_predictions:\n",
    "                plik.write(f\"{prediction:.2f}\\n\")"
   ]
  },
  {
   "cell_type": "code",
   "execution_count": 80,
   "metadata": {},
   "outputs": [],
   "source": [
    "directory = \"/Users/missbo/Desktop/Inżynierka/Elipsometr/tanpsi/tanpsi_exp\"\n",
    "\n",
    "for filename in os.listdir(directory):\n",
    "    f = os.path.join(directory, filename)\n",
    "    if os.path.isfile(f):\n",
    "        new_data = pd.read_csv(f, header=None, names=column_names, encoding='ISO-8859-1')\n",
    "        new_predictions = rf_regressor.predict(new_data)\n",
    "        new_data['Thickness'] = new_predictions\n",
    "        result = new_data['Thickness'].median()\n",
    "        \n",
    "        \n",
    "        with open(\"/Users/missbo/Desktop/Inżynierka/Elipsometr/results.txt\", 'a') as file_results:\n",
    "            file_results.write(str(result))\n",
    "            file_results.write(\" \")\n",
    "            #file_results.write(str(filename))\n",
    "            file_results.write('\\n')"
   ]
  },
  {
   "cell_type": "markdown",
   "metadata": {},
   "source": [
    "Re"
   ]
  },
  {
   "cell_type": "markdown",
   "metadata": {},
   "source": [
    "Import data"
   ]
  },
  {
   "cell_type": "code",
   "execution_count": 82,
   "metadata": {},
   "outputs": [],
   "source": [
    "column_names = ['Wavelength', '65', '70', '75']\n",
    "data_1nm = pd.read_csv('/Users/missbo/Desktop/Inżynierka/Elipsometr/Re/si02_Re_1nm_co_10_nm.csv', header=None, names=column_names)\n",
    "data_2nm = pd.read_csv('/Users/missbo/Desktop/Inżynierka/Elipsometr/Re/si02_Re_2nm_co_10_nm.csv', header=None, names=column_names)\n",
    "data_3nm = pd.read_csv('/Users/missbo/Desktop/Inżynierka/Elipsometr/Re/si02_Re_3nm_co_10_nm.csv', header=None, names=column_names)\n",
    "data_4nm = pd.read_csv('/Users/missbo/Desktop/Inżynierka/Elipsometr/Re/si02_Re_4nm_co_10_nm.csv', header=None, names=column_names)\n",
    "data_5nm = pd.read_csv('/Users/missbo/Desktop/Inżynierka/Elipsometr/Re/si02_Re_5nm_co_10_nm.csv', header=None, names=column_names)\n",
    "data_6nm = pd.read_csv('/Users/missbo/Desktop/Inżynierka/Elipsometr/Re/si02_Re_6nm_co_10_nm.csv', header=None, names=column_names)\n",
    "data_7nm = pd.read_csv('/Users/missbo/Desktop/Inżynierka/Elipsometr/Re/si02_Re_7nm_co_10_nm.csv', header=None, names=column_names)\n",
    "data_8nm = pd.read_csv('/Users/missbo/Desktop/Inżynierka/Elipsometr/Re/si02_Re_8nm_co_10_nm.csv', header=None, names=column_names)\n",
    "data_9nm = pd.read_csv('/Users/missbo/Desktop/Inżynierka/Elipsometr/Re/si02_Re_9nm_co_10_nm.csv', header=None, names=column_names)\n",
    "data_10nm = pd.read_csv('/Users/missbo/Desktop/Inżynierka/Elipsometr/Re/si02_Re_10nm_co_10_nm.csv', header=None, names=column_names)\n",
    "data_11nm = pd.read_csv('/Users/missbo/Desktop/Inżynierka/Elipsometr/Re/si02_Re_11nm_co_10_nm.csv', header=None, names=column_names)\n",
    "data_12nm = pd.read_csv('/Users/missbo/Desktop/Inżynierka/Elipsometr/Re/si02_Re_12nm_co_10_nm.csv', header=None, names=column_names)\n",
    "data_13nm = pd.read_csv('/Users/missbo/Desktop/Inżynierka/Elipsometr/Re/si02_Re_13nm_co_10_nm.csv', header=None, names=column_names)\n",
    "data_14nm = pd.read_csv('/Users/missbo/Desktop/Inżynierka/Elipsometr/Re/si02_Re_14nm_co_10_nm.csv', header=None, names=column_names)\n",
    "data_15nm = pd.read_csv('/Users/missbo/Desktop/Inżynierka/Elipsometr/Re/si02_Re_15nm_co_10_nm.csv', header=None, names=column_names)\n",
    "data_16nm = pd.read_csv('/Users/missbo/Desktop/Inżynierka/Elipsometr/Re/si02_Re_16nm_co_10_nm.csv', header=None, names=column_names)\n",
    "data_17nm = pd.read_csv('/Users/missbo/Desktop/Inżynierka/Elipsometr/Re/si02_Re_17nm_co_10_nm.csv', header=None, names=column_names)\n",
    "data_18nm = pd.read_csv('/Users/missbo/Desktop/Inżynierka/Elipsometr/Re/si02_Re_18nm_co_10_nm.csv', header=None, names=column_names)\n",
    "data_19nm = pd.read_csv('/Users/missbo/Desktop/Inżynierka/Elipsometr/Re/si02_Re_19nm_co_10_nm.csv', header=None, names=column_names)\n",
    "data_20nm = pd.read_csv('/Users/missbo/Desktop/Inżynierka/Elipsometr/Re/si02_Re_20nm_co_10_nm.csv', header=None, names=column_names)\n",
    "data_21nm = pd.read_csv('/Users/missbo/Desktop/Inżynierka/Elipsometr/Re/si02_Re_21nm_co_10_nm.csv', header=None, names=column_names)\n",
    "data_22nm = pd.read_csv('/Users/missbo/Desktop/Inżynierka/Elipsometr/Re/si02_Re_22nm_co_10_nm.csv', header=None, names=column_names)\n",
    "data_23nm = pd.read_csv('/Users/missbo/Desktop/Inżynierka/Elipsometr/Re/si02_Re_23nm_co_10_nm.csv', header=None, names=column_names)\n",
    "data_24nm = pd.read_csv('/Users/missbo/Desktop/Inżynierka/Elipsometr/Re/si02_Re_24nm_co_10_nm.csv', header=None, names=column_names)\n",
    "data_25nm = pd.read_csv('/Users/missbo/Desktop/Inżynierka/Elipsometr/Re/si02_Re_25nm_co_10_nm.csv', header=None, names=column_names)\n",
    "data_26nm = pd.read_csv('/Users/missbo/Desktop/Inżynierka/Elipsometr/Re/si02_Re_26nm_co_10_nm.csv', header=None, names=column_names)\n",
    "data_27nm = pd.read_csv('/Users/missbo/Desktop/Inżynierka/Elipsometr/Re/si02_Re_27nm_co_10_nm.csv', header=None, names=column_names)\n",
    "data_28nm = pd.read_csv('/Users/missbo/Desktop/Inżynierka/Elipsometr/Re/si02_Re_28nm_co_10_nm.csv', header=None, names=column_names)\n",
    "data_29nm = pd.read_csv('/Users/missbo/Desktop/Inżynierka/Elipsometr/Re/si02_Re_29nm_co_10_nm.csv', header=None, names=column_names)\n",
    "data_30nm = pd.read_csv('/Users/missbo/Desktop/Inżynierka/Elipsometr/Re/si02_Re_30nm_co_10_nm.csv', header=None, names=column_names)\n",
    "data_32nm = pd.read_csv('/Users/missbo/Desktop/Inżynierka/Elipsometr/Re/si02_Re_32nm_co_10_nm.csv', header=None, names=column_names)\n",
    "data_34nm = pd.read_csv('/Users/missbo/Desktop/Inżynierka/Elipsometr/Re/si02_Re_34nm_co_10_nm.csv', header=None, names=column_names)\n",
    "data_36nm = pd.read_csv('/Users/missbo/Desktop/Inżynierka/Elipsometr/Re/si02_Re_36nm_co_10_nm.csv', header=None, names=column_names)\n",
    "data_38nm = pd.read_csv('/Users/missbo/Desktop/Inżynierka/Elipsometr/Re/si02_Re_38nm_co_10_nm.csv', header=None, names=column_names)\n",
    "data_40nm = pd.read_csv('/Users/missbo/Desktop/Inżynierka/Elipsometr/Re/si02_Re_40nm_co_10_nm.csv', header=None, names=column_names)\n",
    "data_42nm = pd.read_csv('/Users/missbo/Desktop/Inżynierka/Elipsometr/Re/si02_Re_42nm_co_10_nm.csv', header=None, names=column_names)\n",
    "data_44nm = pd.read_csv('/Users/missbo/Desktop/Inżynierka/Elipsometr/Re/si02_Re_44nm_co_10_nm.csv', header=None, names=column_names)\n",
    "data_46nm = pd.read_csv('/Users/missbo/Desktop/Inżynierka/Elipsometr/Re/si02_Re_46nm_co_10_nm.csv', header=None, names=column_names)\n",
    "data_48nm = pd.read_csv('/Users/missbo/Desktop/Inżynierka/Elipsometr/Re/si02_Re_48nm_co_10_nm.csv', header=None, names=column_names)\n",
    "data_50nm = pd.read_csv('/Users/missbo/Desktop/Inżynierka/Elipsometr/Re/si02_Re_50nm_co_10_nm.csv', header=None, names=column_names)\n",
    "\n"
   ]
  },
  {
   "cell_type": "markdown",
   "metadata": {},
   "source": [
    "Add column Thickness"
   ]
  },
  {
   "cell_type": "code",
   "execution_count": 83,
   "metadata": {},
   "outputs": [],
   "source": [
    "data_1nm['Thickness'] = 1\n",
    "data_2nm['Thickness'] = 2\n",
    "data_3nm['Thickness'] = 3\n",
    "data_4nm['Thickness'] = 4\n",
    "data_5nm['Thickness'] = 5\n",
    "data_6nm['Thickness'] = 6\n",
    "data_7nm['Thickness'] = 7\n",
    "data_8nm['Thickness'] = 8\n",
    "data_9nm['Thickness'] = 9\n",
    "data_10nm['Thickness'] = 10\n",
    "data_11nm['Thickness'] = 11\n",
    "data_12nm['Thickness'] = 12\n",
    "data_13nm['Thickness'] = 13\n",
    "data_14nm['Thickness'] = 14\n",
    "data_15nm['Thickness'] = 15\n",
    "data_16nm['Thickness'] = 16\n",
    "data_17nm['Thickness'] = 17\n",
    "data_18nm['Thickness'] = 18\n",
    "data_19nm['Thickness'] = 19\n",
    "data_20nm['Thickness'] = 20\n",
    "data_21nm['Thickness'] = 21\n",
    "data_22nm['Thickness'] = 22\n",
    "data_23nm['Thickness'] = 23\n",
    "data_24nm['Thickness'] = 24\n",
    "data_25nm['Thickness'] = 25\n",
    "data_26nm['Thickness'] = 26\n",
    "data_27nm['Thickness'] = 27\n",
    "data_28nm['Thickness'] = 28\n",
    "data_29nm['Thickness'] = 29\n",
    "data_30nm['Thickness'] = 30\n",
    "data_32nm['Thickness'] = 32\n",
    "data_34nm['Thickness'] = 34\n",
    "data_36nm['Thickness'] = 36\n",
    "data_38nm['Thickness'] = 38\n",
    "data_40nm['Thickness'] = 40\n",
    "data_42nm['Thickness'] = 42\n",
    "data_44nm['Thickness'] = 44\n",
    "data_46nm['Thickness'] = 46\n",
    "data_48nm['Thickness'] = 48\n",
    "data_50nm['Thickness'] = 50"
   ]
  },
  {
   "cell_type": "markdown",
   "metadata": {},
   "source": [
    "Combine data"
   ]
  },
  {
   "cell_type": "code",
   "execution_count": 84,
   "metadata": {},
   "outputs": [
    {
     "name": "stdout",
     "output_type": "stream",
     "text": [
      "   Wavelength       65       70       75  Thickness\n",
      "0         300 -0.58566 -0.47127 -0.31093          1\n",
      "1         310 -0.55587 -0.43885 -0.27771          1\n",
      "2         320 -0.54169 -0.42375 -0.26273          1\n",
      "3         330 -0.53542 -0.41758 -0.25740          1\n",
      "4         340 -0.53491 -0.41787 -0.25905          1\n"
     ]
    }
   ],
   "source": [
    "frames = [data_1nm, data_2nm, data_3nm, data_4nm, data_5nm, data_6nm, data_7nm, data_8nm, data_9nm, data_10nm, data_11nm, data_12nm, data_13nm, data_14nm, data_15nm, data_16nm, data_17nm, data_18nm, data_19nm, data_20nm, data_21nm, data_22nm, data_23nm, data_24nm, data_25nm, data_26nm, data_27nm, data_28nm, data_29nm, data_30nm, data_32nm, data_34nm, data_36nm, data_38nm, data_40nm, data_42nm, data_44nm, data_46nm, data_48nm, data_50nm]\n",
    "combined_data = pd.concat(frames)\n",
    "combined_data=combined_data.fillna(0)\n",
    "print(combined_data.head())"
   ]
  },
  {
   "cell_type": "markdown",
   "metadata": {},
   "source": [
    "Train model"
   ]
  },
  {
   "cell_type": "code",
   "execution_count": 85,
   "metadata": {},
   "outputs": [
    {
     "name": "stdout",
     "output_type": "stream",
     "text": [
      "Mean Squared Error: 0.9131779733959308\n",
      "R^2 Score: 0.9950945635502706\n",
      "Mean Absolute Percentage Error (MAE): 0.5217018779342723\n",
      "Symmetric Mean Absolute Percentage Error: 7.270497126959054\n",
      "Standard Deviation:0.06771113723766793\n"
     ]
    }
   ],
   "source": [
    "X = combined_data.drop('Thickness', axis = 1)\n",
    "y = combined_data['Thickness']\n",
    "\n",
    "X_train, X_test, y_train, y_test = train_test_split(X, y, test_size=0.2, random_state=42)\n",
    "\n",
    "rf_regressor = RandomForestRegressor(n_estimators=300, random_state= 42)\n",
    "rf_regressor.fit(X_train, y_train)\n",
    "\n",
    "y_pred = rf_regressor.predict(X_test)\n",
    "\n",
    "def calculate_smape(y_test, y_pred):\n",
    "    numerator = np.abs(y_test - y_pred)\n",
    "    denominator = (np.abs(y_test) + np.abs(y_pred)) / 2\n",
    "    smape = np.mean(numerator / denominator) * 100\n",
    "    return smape\n",
    "\n",
    "mse = mean_squared_error(y_test, y_pred)\n",
    "r2 = r2_score(y_test, y_pred)\n",
    "mae = mean_absolute_error(y_test, y_pred)\n",
    "smape = calculate_smape(y_test,y_pred)\n",
    "# Odchylenie standardowe zbioru uczącego\n",
    "standard_deviation = statistics.stdev(X_train['65'])\n",
    "\n",
    "print(f'Mean Squared Error: {mse}')\n",
    "print(f'R^2 Score: {r2}')\n",
    "print(f\"Mean Absolute Percentage Error (MAE): {mae}\")\n",
    "print(f'Symmetric Mean Absolute Percentage Error: {smape}')\n",
    "print(f'Standard Deviation:{standard_deviation}')"
   ]
  },
  {
   "cell_type": "markdown",
   "metadata": {},
   "source": [
    "Predict new data "
   ]
  },
  {
   "cell_type": "code",
   "execution_count": 86,
   "metadata": {},
   "outputs": [],
   "source": [
    "import os\n",
    "\n",
    "folder_path = '/Users/missbo/Desktop/Inżynierka/Elipsometr/Re/Re_exp'\n",
    "output_folder = '/Users/missbo/Desktop/Inżynierka/Elipsometr/Files_results/RF_300/RF_Re'\n",
    "\n",
    "os.makedirs(output_folder, exist_ok=True)\n",
    "\n",
    "for file_name in os.listdir(folder_path):\n",
    "    if file_name.endswith('.csv'):\n",
    "        file_path = os.path.join(folder_path, file_name)\n",
    "        \n",
    "        new_data = pd.read_csv(file_path, header=None, names=column_names)\n",
    "        \n",
    "        missing_cols = set(X.columns) - set(new_data.columns)\n",
    "        if missing_cols:\n",
    "            raise ValueError(f\"New data is missing columns: {missing_cols}\")\n",
    "        \n",
    "        new_predictions = rf_regressor.predict(new_data)\n",
    "        new_data['Thickness'] = new_predictions\n",
    "\n",
    "        thickness = file_name.split('_')[2].replace('nm', '')\n",
    "        \n",
    "        output_file = os.path.join(output_folder, f\"RF_Re_{thickness}_nm\")\n",
    "        \n",
    "        with open(output_file, 'w') as plik:\n",
    "            for prediction in new_predictions:\n",
    "                plik.write(f\"{prediction:.2f}\\n\")"
   ]
  },
  {
   "cell_type": "code",
   "execution_count": 88,
   "metadata": {},
   "outputs": [],
   "source": [
    "directory = \"/Users/missbo/Desktop/Inżynierka/Elipsometr/Re/Re_exp\"\n",
    "\n",
    "for filename in os.listdir(directory):\n",
    "    f = os.path.join(directory, filename)\n",
    "    if os.path.isfile(f):\n",
    "        new_data = pd.read_csv(f, header=None, names=column_names, encoding='ISO-8859-1')\n",
    "        new_predictions = rf_regressor.predict(new_data)\n",
    "        new_data['Thickness'] = new_predictions\n",
    "        result = new_data['Thickness'].median()\n",
    "        \n",
    "        \n",
    "        with open(\"/Users/missbo/Desktop/Inżynierka/Elipsometr/results.txt\", 'a') as file_results:\n",
    "            file_results.write(str(result))\n",
    "            file_results.write(\" \")\n",
    "            #file_results.write(str(filename))\n",
    "            file_results.write('\\n')"
   ]
  },
  {
   "cell_type": "code",
   "execution_count": 89,
   "metadata": {},
   "outputs": [],
   "source": [
    "with open(\"/Users/missbo/Desktop/Inżynierka/Elipsometr/results.txt\", 'w') as file:\n",
    "    pass"
   ]
  },
  {
   "cell_type": "markdown",
   "metadata": {},
   "source": [
    "Im"
   ]
  },
  {
   "cell_type": "markdown",
   "metadata": {},
   "source": [
    "Import data"
   ]
  },
  {
   "cell_type": "code",
   "execution_count": 90,
   "metadata": {},
   "outputs": [],
   "source": [
    "column_names = ['Wavelength', '65', '70', '75']\n",
    "data_1nm = pd.read_csv('/Users/missbo/Desktop/Inżynierka/Elipsometr/lm/si02_Im_1nm_co_10_nm.csv', header=None, names=column_names)\n",
    "data_2nm = pd.read_csv('/Users/missbo/Desktop/Inżynierka/Elipsometr/lm/si02_Im_2nm_co_10_nm.csv', header=None, names=column_names)\n",
    "data_3nm = pd.read_csv('/Users/missbo/Desktop/Inżynierka/Elipsometr/lm/si02_Im_3nm_co_10_nm.csv', header=None, names=column_names)\n",
    "data_4nm = pd.read_csv('/Users/missbo/Desktop/Inżynierka/Elipsometr/lm/si02_Im_4nm_co_10_nm.csv', header=None, names=column_names)\n",
    "data_5nm = pd.read_csv('/Users/missbo/Desktop/Inżynierka/Elipsometr/lm/si02_Im_5nm_co_10_nm.csv', header=None, names=column_names)\n",
    "data_6nm = pd.read_csv('/Users/missbo/Desktop/Inżynierka/Elipsometr/lm/si02_Im_6nm_co_10_nm.csv', header=None, names=column_names)\n",
    "data_7nm = pd.read_csv('/Users/missbo/Desktop/Inżynierka/Elipsometr/lm/si02_Im_7nm_co_10_nm.csv', header=None, names=column_names)\n",
    "data_8nm = pd.read_csv('/Users/missbo/Desktop/Inżynierka/Elipsometr/lm/si02_Im_8nm_co_10_nm.csv', header=None, names=column_names)\n",
    "data_9nm = pd.read_csv('/Users/missbo/Desktop/Inżynierka/Elipsometr/lm/si02_Im_9nm_co_10_nm.csv', header=None, names=column_names)\n",
    "data_10nm = pd.read_csv('/Users/missbo/Desktop/Inżynierka/Elipsometr/lm/si02_Im_10nm_co_10_nm.csv', header=None, names=column_names)\n",
    "data_11nm = pd.read_csv('/Users/missbo/Desktop/Inżynierka/Elipsometr/lm/si02_Im_11nm_co_10_nm.csv', header=None, names=column_names)\n",
    "data_12nm = pd.read_csv('/Users/missbo/Desktop/Inżynierka/Elipsometr/lm/si02_Im_12nm_co_10_nm.csv', header=None, names=column_names)\n",
    "data_13nm = pd.read_csv('/Users/missbo/Desktop/Inżynierka/Elipsometr/lm/si02_Im_13nm_co_10_nm.csv', header=None, names=column_names)\n",
    "data_14nm = pd.read_csv('/Users/missbo/Desktop/Inżynierka/Elipsometr/lm/si02_Im_14nm_co_10_nm.csv', header=None, names=column_names)\n",
    "data_15nm = pd.read_csv('/Users/missbo/Desktop/Inżynierka/Elipsometr/lm/si02_Im_15nm_co_10_nm.csv', header=None, names=column_names)\n",
    "data_16nm = pd.read_csv('/Users/missbo/Desktop/Inżynierka/Elipsometr/lm/si02_Im_16nm_co_10_nm.csv', header=None, names=column_names)\n",
    "data_17nm = pd.read_csv('/Users/missbo/Desktop/Inżynierka/Elipsometr/lm/si02_Im_17nm_co_10_nm.csv', header=None, names=column_names)\n",
    "data_18nm = pd.read_csv('/Users/missbo/Desktop/Inżynierka/Elipsometr/lm/si02_Im_18nm_co_10_nm.csv', header=None, names=column_names)\n",
    "data_19nm = pd.read_csv('/Users/missbo/Desktop/Inżynierka/Elipsometr/lm/si02_Im_19nm_co_10_nm.csv', header=None, names=column_names)\n",
    "data_20nm = pd.read_csv('/Users/missbo/Desktop/Inżynierka/Elipsometr/lm/si02_Im_20nm_co_10_nm.csv', header=None, names=column_names)\n",
    "data_21nm = pd.read_csv('/Users/missbo/Desktop/Inżynierka/Elipsometr/lm/si02_Im_21nm_co_10_nm.csv', header=None, names=column_names)\n",
    "data_22nm = pd.read_csv('/Users/missbo/Desktop/Inżynierka/Elipsometr/lm/si02_Im_22nm_co_10_nm.csv', header=None, names=column_names)\n",
    "data_23nm = pd.read_csv('/Users/missbo/Desktop/Inżynierka/Elipsometr/lm/si02_Im_23nm_co_10_nm.csv', header=None, names=column_names)\n",
    "data_24nm = pd.read_csv('/Users/missbo/Desktop/Inżynierka/Elipsometr/lm/si02_Im_24nm_co_10_nm.csv', header=None, names=column_names)\n",
    "data_25nm = pd.read_csv('/Users/missbo/Desktop/Inżynierka/Elipsometr/lm/si02_Im_25nm_co_10_nm.csv', header=None, names=column_names)\n",
    "data_26nm = pd.read_csv('/Users/missbo/Desktop/Inżynierka/Elipsometr/lm/si02_Im_26nm_co_10_nm.csv', header=None, names=column_names)\n",
    "data_27nm = pd.read_csv('/Users/missbo/Desktop/Inżynierka/Elipsometr/lm/si02_Im_27nm_co_10_nm.csv', header=None, names=column_names)\n",
    "data_28nm = pd.read_csv('/Users/missbo/Desktop/Inżynierka/Elipsometr/lm/si02_Im_28nm_co_10_nm.csv', header=None, names=column_names)\n",
    "data_29nm = pd.read_csv('/Users/missbo/Desktop/Inżynierka/Elipsometr/lm/si02_Im_29nm_co_10_nm.csv', header=None, names=column_names)\n",
    "data_30nm = pd.read_csv('/Users/missbo/Desktop/Inżynierka/Elipsometr/lm/si02_Im_30nm_co_10_nm.csv', header=None, names=column_names)\n",
    "data_32nm = pd.read_csv('/Users/missbo/Desktop/Inżynierka/Elipsometr/lm/si02_Im_32nm_co_10_nm.csv', header=None, names=column_names)\n",
    "data_34nm = pd.read_csv('/Users/missbo/Desktop/Inżynierka/Elipsometr/lm/si02_Im_34nm_co_10_nm.csv', header=None, names=column_names)\n",
    "data_36nm = pd.read_csv('/Users/missbo/Desktop/Inżynierka/Elipsometr/lm/si02_Im_36nm_co_10_nm.csv', header=None, names=column_names)\n",
    "data_38nm = pd.read_csv('/Users/missbo/Desktop/Inżynierka/Elipsometr/lm/si02_Im_38nm_co_10_nm.csv', header=None, names=column_names)\n",
    "data_40nm = pd.read_csv('/Users/missbo/Desktop/Inżynierka/Elipsometr/lm/si02_Im_40nm_co_10_nm.csv', header=None, names=column_names)\n",
    "data_42nm = pd.read_csv('/Users/missbo/Desktop/Inżynierka/Elipsometr/lm/si02_Im_42nm_co_10_nm.csv', header=None, names=column_names)\n",
    "data_44nm = pd.read_csv('/Users/missbo/Desktop/Inżynierka/Elipsometr/lm/si02_Im_44nm_co_10_nm.csv', header=None, names=column_names)\n",
    "data_46nm = pd.read_csv('/Users/missbo/Desktop/Inżynierka/Elipsometr/lm/si02_Im_46nm_co_10_nm.csv', header=None, names=column_names)\n",
    "data_48nm = pd.read_csv('/Users/missbo/Desktop/Inżynierka/Elipsometr/lm/si02_Im_48nm_co_10_nm.csv', header=None, names=column_names)\n",
    "data_50nm = pd.read_csv('/Users/missbo/Desktop/Inżynierka/Elipsometr/lm/si02_Im_50nm_co_10_nm.csv', header=None, names=column_names)"
   ]
  },
  {
   "cell_type": "markdown",
   "metadata": {},
   "source": [
    "Add column Thickness"
   ]
  },
  {
   "cell_type": "code",
   "execution_count": 91,
   "metadata": {},
   "outputs": [],
   "source": [
    "data_1nm['Thickness'] = 1\n",
    "data_2nm['Thickness'] = 2\n",
    "data_3nm['Thickness'] = 3\n",
    "data_4nm['Thickness'] = 4\n",
    "data_5nm['Thickness'] = 5\n",
    "data_6nm['Thickness'] = 6\n",
    "data_7nm['Thickness'] = 7\n",
    "data_8nm['Thickness'] = 8\n",
    "data_9nm['Thickness'] = 9\n",
    "data_10nm['Thickness'] = 10\n",
    "data_11nm['Thickness'] = 11\n",
    "data_12nm['Thickness'] = 12\n",
    "data_13nm['Thickness'] = 13\n",
    "data_14nm['Thickness'] = 14\n",
    "data_15nm['Thickness'] = 15\n",
    "data_16nm['Thickness'] = 16\n",
    "data_17nm['Thickness'] = 17\n",
    "data_18nm['Thickness'] = 18\n",
    "data_19nm['Thickness'] = 19\n",
    "data_20nm['Thickness'] = 20\n",
    "data_21nm['Thickness'] = 21\n",
    "data_22nm['Thickness'] = 22\n",
    "data_23nm['Thickness'] = 23\n",
    "data_24nm['Thickness'] = 24\n",
    "data_25nm['Thickness'] = 25\n",
    "data_26nm['Thickness'] = 26\n",
    "data_27nm['Thickness'] = 27\n",
    "data_28nm['Thickness'] = 28\n",
    "data_29nm['Thickness'] = 29\n",
    "data_30nm['Thickness'] = 30\n",
    "data_32nm['Thickness'] = 32\n",
    "data_34nm['Thickness'] = 34\n",
    "data_36nm['Thickness'] = 36\n",
    "data_38nm['Thickness'] = 38\n",
    "data_40nm['Thickness'] = 40\n",
    "data_42nm['Thickness'] = 42\n",
    "data_44nm['Thickness'] = 44\n",
    "data_46nm['Thickness'] = 46\n",
    "data_48nm['Thickness'] = 48\n",
    "data_50nm['Thickness'] = 50"
   ]
  },
  {
   "cell_type": "markdown",
   "metadata": {},
   "source": [
    "Combine data"
   ]
  },
  {
   "cell_type": "code",
   "execution_count": 92,
   "metadata": {},
   "outputs": [
    {
     "name": "stdout",
     "output_type": "stream",
     "text": [
      "   Wavelength       65       70       75  Thickness\n",
      "0         300  0.27448  0.31941  0.36454          1\n",
      "1         310  0.25303  0.29193  0.32958          1\n",
      "2         320  0.23905  0.27469  0.30859          1\n",
      "3         330  0.22638  0.25968  0.29118          1\n",
      "4         340  0.21474  0.24633  0.27630          1\n"
     ]
    }
   ],
   "source": [
    "frames = [data_1nm, data_2nm, data_3nm, data_4nm, data_5nm, data_6nm, data_7nm, data_8nm, data_9nm, data_10nm, data_11nm, data_12nm, data_13nm, data_14nm, data_15nm, data_16nm, data_17nm, data_18nm, data_19nm, data_20nm, data_21nm, data_22nm, data_23nm, data_24nm, data_25nm, data_26nm, data_27nm, data_28nm, data_29nm, data_30nm, data_32nm, data_34nm, data_36nm, data_38nm, data_40nm, data_42nm, data_44nm, data_46nm, data_48nm, data_50nm]\n",
    "combined_data = pd.concat(frames)\n",
    "combined_data=combined_data.fillna(0)\n",
    "print(combined_data.head())"
   ]
  },
  {
   "cell_type": "markdown",
   "metadata": {},
   "source": [
    "Train model"
   ]
  },
  {
   "cell_type": "code",
   "execution_count": 93,
   "metadata": {},
   "outputs": [
    {
     "name": "stdout",
     "output_type": "stream",
     "text": [
      "Mean Squared Error: 0.23228190532081383\n",
      "R^2 Score: 0.9987522211899879\n",
      "Mean Absolute Percentage Error (MAE): 0.28514671361502353\n",
      "Symmetric Mean Absolute Percentage Error: 1.8476112278920973\n",
      "Standard Deviation:0.1922935912761616\n"
     ]
    }
   ],
   "source": [
    "X = combined_data.drop('Thickness', axis = 1)\n",
    "y = combined_data['Thickness']\n",
    "\n",
    "X_train, X_test, y_train, y_test = train_test_split(X, y, test_size=0.2, random_state=42)\n",
    "\n",
    "rf_regressor = RandomForestRegressor(n_estimators=300, random_state= 42)\n",
    "rf_regressor.fit(X_train, y_train)\n",
    "\n",
    "y_pred = rf_regressor.predict(X_test)\n",
    "\n",
    "def calculate_smape(y_test, y_pred):\n",
    "    numerator = np.abs(y_test - y_pred)\n",
    "    denominator = (np.abs(y_test) + np.abs(y_pred)) / 2\n",
    "    smape = np.mean(numerator / denominator) * 100\n",
    "    return smape\n",
    "\n",
    "mse = mean_squared_error(y_test, y_pred)\n",
    "r2 = r2_score(y_test, y_pred)\n",
    "mae = mean_absolute_error(y_test, y_pred)\n",
    "smape = calculate_smape(y_test,y_pred)\n",
    "# Odchylenie standardowe zbioru uczącego\n",
    "standard_deviation = statistics.stdev(X_train['65'])\n",
    "\n",
    "print(f'Mean Squared Error: {mse}')\n",
    "print(f'R^2 Score: {r2}')\n",
    "print(f\"Mean Absolute Percentage Error (MAE): {mae}\")\n",
    "print(f'Symmetric Mean Absolute Percentage Error: {smape}')\n",
    "print(f'Standard Deviation:{standard_deviation}')"
   ]
  },
  {
   "cell_type": "markdown",
   "metadata": {},
   "source": [
    "Predict new data"
   ]
  },
  {
   "cell_type": "code",
   "execution_count": 95,
   "metadata": {},
   "outputs": [],
   "source": [
    "import os\n",
    "\n",
    "folder_path = '/Users/missbo/Desktop/Inżynierka/Elipsometr/lm/lm_exp'\n",
    "output_folder = '/Users/missbo/Desktop/Inżynierka/Elipsometr/Files_results/RF_300/RF_Im'\n",
    "\n",
    "os.makedirs(output_folder, exist_ok=True)\n",
    "\n",
    "for file_name in os.listdir(folder_path):\n",
    "    if file_name.endswith('.csv'):\n",
    "        file_path = os.path.join(folder_path, file_name)\n",
    "        \n",
    "        new_data = pd.read_csv(file_path, header=None, names=column_names)\n",
    "        \n",
    "        missing_cols = set(X.columns) - set(new_data.columns)\n",
    "        if missing_cols:\n",
    "            raise ValueError(f\"New data is missing columns: {missing_cols}\")\n",
    "        \n",
    "        new_predictions = rf_regressor.predict(new_data)\n",
    "        new_data['Thickness'] = new_predictions\n",
    "\n",
    "        thickness = file_name.split('_')[2].replace('nm', '')\n",
    "        \n",
    "        output_file = os.path.join(output_folder, f\"RF_Im_{thickness}_nm\")\n",
    "        \n",
    "        with open(output_file, 'w') as plik:\n",
    "            for prediction in new_predictions:\n",
    "                plik.write(f\"{prediction:.2f}\\n\")"
   ]
  },
  {
   "cell_type": "code",
   "execution_count": 98,
   "metadata": {},
   "outputs": [],
   "source": [
    "directory = \"/Users/missbo/Desktop/Inżynierka/Elipsometr/lm/lm_exp\"\n",
    "\n",
    "for filename in os.listdir(directory):\n",
    "    f = os.path.join(directory, filename)\n",
    "    if os.path.isfile(f):\n",
    "        new_data = pd.read_csv(f, header=None, names=column_names, encoding='ISO-8859-1')\n",
    "        new_predictions = rf_regressor.predict(new_data)\n",
    "        new_data['Thickness'] = new_predictions\n",
    "        result = new_data['Thickness'].median()\n",
    "        \n",
    "        \n",
    "        with open(\"/Users/missbo/Desktop/Inżynierka/Elipsometr/results.txt\", 'a') as file_results:\n",
    "            file_results.write(str(result))\n",
    "            file_results.write(\" \")\n",
    "            #file_results.write(str(filename))\n",
    "            file_results.write('\\n')"
   ]
  },
  {
   "cell_type": "code",
   "execution_count": 99,
   "metadata": {},
   "outputs": [],
   "source": [
    "with open(\"/Users/missbo/Desktop/Inżynierka/Elipsometr/results.txt\", 'w') as file:\n",
    "    pass"
   ]
  },
  {
   "cell_type": "markdown",
   "metadata": {},
   "source": [
    "e1"
   ]
  },
  {
   "cell_type": "markdown",
   "metadata": {},
   "source": [
    "Import data "
   ]
  },
  {
   "cell_type": "code",
   "execution_count": 100,
   "metadata": {},
   "outputs": [],
   "source": [
    "column_names = ['Wavelength', '65', '70', '75']\n",
    "data_1nm = pd.read_csv('/Users/missbo/Desktop/Inżynierka/Elipsometr/e1/si02_e1_1nm_co_10_nm.csv', header=None, names=column_names)\n",
    "data_2nm = pd.read_csv('/Users/missbo/Desktop/Inżynierka/Elipsometr/e1/si02_e1_2nm_co_10_nm.csv', header=None, names=column_names)\n",
    "data_3nm = pd.read_csv('/Users/missbo/Desktop/Inżynierka/Elipsometr/e1/si02_e1_3nm_co_10_nm.csv', header=None, names=column_names)\n",
    "data_4nm = pd.read_csv('/Users/missbo/Desktop/Inżynierka/Elipsometr/e1/si02_e1_4nm_co_10_nm.csv', header=None, names=column_names)\n",
    "data_5nm = pd.read_csv('/Users/missbo/Desktop/Inżynierka/Elipsometr/e1/si02_e1_5nm_co_10_nm.csv', header=None, names=column_names)\n",
    "data_6nm = pd.read_csv('/Users/missbo/Desktop/Inżynierka/Elipsometr/e1/si02_e1_6nm_co_10_nm.csv', header=None, names=column_names)\n",
    "data_7nm = pd.read_csv('/Users/missbo/Desktop/Inżynierka/Elipsometr/e1/si02_e1_7nm_co_10_nm.csv', header=None, names=column_names)\n",
    "data_8nm = pd.read_csv('/Users/missbo/Desktop/Inżynierka/Elipsometr/e1/si02_e1_8nm_co_10_nm.csv', header=None, names=column_names)\n",
    "data_9nm = pd.read_csv('/Users/missbo/Desktop/Inżynierka/Elipsometr/e1/si02_e1_9nm_co_10_nm.csv', header=None, names=column_names)\n",
    "data_10nm = pd.read_csv('/Users/missbo/Desktop/Inżynierka/Elipsometr/e1/si02_e1_10nm_co_10_nm.csv', header=None, names=column_names)\n",
    "data_11nm = pd.read_csv('/Users/missbo/Desktop/Inżynierka/Elipsometr/e1/si02_e1_11nm_co_10_nm.csv', header=None, names=column_names)\n",
    "data_12nm = pd.read_csv('/Users/missbo/Desktop/Inżynierka/Elipsometr/e1/si02_e1_12nm_co_10_nm.csv', header=None, names=column_names)\n",
    "data_13nm = pd.read_csv('/Users/missbo/Desktop/Inżynierka/Elipsometr/e1/si02_e1_13nm_co_10_nm.csv', header=None, names=column_names)\n",
    "data_14nm = pd.read_csv('/Users/missbo/Desktop/Inżynierka/Elipsometr/e1/si02_e1_14nm_co_10_nm.csv', header=None, names=column_names)\n",
    "data_15nm = pd.read_csv('/Users/missbo/Desktop/Inżynierka/Elipsometr/e1/si02_e1_15nm_co_10_nm.csv', header=None, names=column_names)\n",
    "data_16nm = pd.read_csv('/Users/missbo/Desktop/Inżynierka/Elipsometr/e1/si02_e1_16nm_co_10_nm.csv', header=None, names=column_names)\n",
    "data_17nm = pd.read_csv('/Users/missbo/Desktop/Inżynierka/Elipsometr/e1/si02_e1_17nm_co_10_nm.csv', header=None, names=column_names)\n",
    "data_18nm = pd.read_csv('/Users/missbo/Desktop/Inżynierka/Elipsometr/e1/si02_e1_18nm_co_10_nm.csv', header=None, names=column_names)\n",
    "data_19nm = pd.read_csv('/Users/missbo/Desktop/Inżynierka/Elipsometr/e1/si02_e1_19nm_co_10_nm.csv', header=None, names=column_names)\n",
    "data_20nm = pd.read_csv('/Users/missbo/Desktop/Inżynierka/Elipsometr/e1/si02_e1_20nm_co_10_nm.csv', header=None, names=column_names)\n",
    "data_21nm = pd.read_csv('/Users/missbo/Desktop/Inżynierka/Elipsometr/e1/si02_e1_21nm_co_10_nm.csv', header=None, names=column_names)\n",
    "data_22nm = pd.read_csv('/Users/missbo/Desktop/Inżynierka/Elipsometr/e1/si02_e1_22nm_co_10_nm.csv', header=None, names=column_names)\n",
    "data_23nm = pd.read_csv('/Users/missbo/Desktop/Inżynierka/Elipsometr/e1/si02_e1_23nm_co_10_nm.csv', header=None, names=column_names)\n",
    "data_24nm = pd.read_csv('/Users/missbo/Desktop/Inżynierka/Elipsometr/e1/si02_e1_24nm_co_10_nm.csv', header=None, names=column_names)\n",
    "data_25nm = pd.read_csv('/Users/missbo/Desktop/Inżynierka/Elipsometr/e1/si02_e1_25nm_co_10_nm.csv', header=None, names=column_names)\n",
    "data_26nm = pd.read_csv('/Users/missbo/Desktop/Inżynierka/Elipsometr/e1/si02_e1_26nm_co_10_nm.csv', header=None, names=column_names)\n",
    "data_27nm = pd.read_csv('/Users/missbo/Desktop/Inżynierka/Elipsometr/e1/si02_e1_27nm_co_10_nm.csv', header=None, names=column_names)\n",
    "data_28nm = pd.read_csv('/Users/missbo/Desktop/Inżynierka/Elipsometr/e1/si02_e1_28nm_co_10_nm.csv', header=None, names=column_names)\n",
    "data_29nm = pd.read_csv('/Users/missbo/Desktop/Inżynierka/Elipsometr/e1/si02_e1_29nm_co_10_nm.csv', header=None, names=column_names)\n",
    "data_30nm = pd.read_csv('/Users/missbo/Desktop/Inżynierka/Elipsometr/e1/si02_e1_30nm_co_10_nm.csv', header=None, names=column_names)\n",
    "data_32nm = pd.read_csv('/Users/missbo/Desktop/Inżynierka/Elipsometr/e1/si02_e1_32nm_co_10_nm.csv', header=None, names=column_names)\n",
    "data_34nm = pd.read_csv('/Users/missbo/Desktop/Inżynierka/Elipsometr/e1/si02_e1_34nm_co_10_nm.csv', header=None, names=column_names)\n",
    "data_36nm = pd.read_csv('/Users/missbo/Desktop/Inżynierka/Elipsometr/e1/si02_e1_36nm_co_10_nm.csv', header=None, names=column_names)\n",
    "data_38nm = pd.read_csv('/Users/missbo/Desktop/Inżynierka/Elipsometr/e1/si02_e1_38nm_co_10_nm.csv', header=None, names=column_names)\n",
    "data_40nm = pd.read_csv('/Users/missbo/Desktop/Inżynierka/Elipsometr/e1/si02_e1_40nm_co_10_nm.csv', header=None, names=column_names)\n",
    "data_42nm = pd.read_csv('/Users/missbo/Desktop/Inżynierka/Elipsometr/e1/si02_e1_42nm_co_10_nm.csv', header=None, names=column_names)\n",
    "data_44nm = pd.read_csv('/Users/missbo/Desktop/Inżynierka/Elipsometr/e1/si02_e1_44nm_co_10_nm.csv', header=None, names=column_names)\n",
    "data_46nm = pd.read_csv('/Users/missbo/Desktop/Inżynierka/Elipsometr/e1/si02_e1_46nm_co_10_nm.csv', header=None, names=column_names)\n",
    "data_48nm = pd.read_csv('/Users/missbo/Desktop/Inżynierka/Elipsometr/e1/si02_e1_48nm_co_10_nm.csv', header=None, names=column_names)\n",
    "data_50nm = pd.read_csv('/Users/missbo/Desktop/Inżynierka/Elipsometr/e1/si02_e1_50nm_co_10_nm.csv', header=None, names=column_names)"
   ]
  },
  {
   "cell_type": "markdown",
   "metadata": {},
   "source": [
    "Add column Thickness"
   ]
  },
  {
   "cell_type": "code",
   "execution_count": 101,
   "metadata": {},
   "outputs": [],
   "source": [
    "data_1nm['Thickness'] = 1\n",
    "data_2nm['Thickness'] = 2\n",
    "data_3nm['Thickness'] = 3\n",
    "data_4nm['Thickness'] = 4\n",
    "data_5nm['Thickness'] = 5\n",
    "data_6nm['Thickness'] = 6\n",
    "data_7nm['Thickness'] = 7\n",
    "data_8nm['Thickness'] = 8\n",
    "data_9nm['Thickness'] = 9\n",
    "data_10nm['Thickness'] = 10\n",
    "data_11nm['Thickness'] = 11\n",
    "data_12nm['Thickness'] = 12\n",
    "data_13nm['Thickness'] = 13\n",
    "data_14nm['Thickness'] = 14\n",
    "data_15nm['Thickness'] = 15\n",
    "data_16nm['Thickness'] = 16\n",
    "data_17nm['Thickness'] = 17\n",
    "data_18nm['Thickness'] = 18\n",
    "data_19nm['Thickness'] = 19\n",
    "data_20nm['Thickness'] = 20\n",
    "data_21nm['Thickness'] = 21\n",
    "data_22nm['Thickness'] = 22\n",
    "data_23nm['Thickness'] = 23\n",
    "data_24nm['Thickness'] = 24\n",
    "data_25nm['Thickness'] = 25\n",
    "data_26nm['Thickness'] = 26\n",
    "data_27nm['Thickness'] = 27\n",
    "data_28nm['Thickness'] = 28\n",
    "data_29nm['Thickness'] = 29\n",
    "data_30nm['Thickness'] = 30\n",
    "data_32nm['Thickness'] = 32\n",
    "data_34nm['Thickness'] = 34\n",
    "data_36nm['Thickness'] = 36\n",
    "data_38nm['Thickness'] = 38\n",
    "data_40nm['Thickness'] = 40\n",
    "data_42nm['Thickness'] = 42\n",
    "data_44nm['Thickness'] = 44\n",
    "data_46nm['Thickness'] = 46\n",
    "data_48nm['Thickness'] = 48\n",
    "data_50nm['Thickness'] = 50"
   ]
  },
  {
   "cell_type": "markdown",
   "metadata": {},
   "source": [
    "Combine data "
   ]
  },
  {
   "cell_type": "code",
   "execution_count": 102,
   "metadata": {},
   "outputs": [
    {
     "name": "stdout",
     "output_type": "stream",
     "text": [
      "   Wavelength       65       70       75  Thickness\n",
      "0         300   3.1099   3.1130   3.1154          1\n",
      "1         310   8.4026   8.4052   8.4074          1\n",
      "2         320  11.0420  11.0450  11.0470          1\n",
      "3         330  13.1800  13.1820  13.1830          1\n",
      "4         340  15.1630  15.1650  15.1670          1\n"
     ]
    }
   ],
   "source": [
    "frames = [data_1nm, data_2nm, data_3nm, data_4nm, data_5nm, data_6nm, data_7nm, data_8nm, data_9nm, data_10nm, data_11nm, data_12nm, data_13nm, data_14nm, data_15nm, data_16nm, data_17nm, data_18nm, data_19nm, data_20nm, data_21nm, data_22nm, data_23nm, data_24nm, data_25nm, data_26nm, data_27nm, data_28nm, data_29nm, data_30nm, data_32nm, data_34nm, data_36nm, data_38nm, data_40nm, data_42nm, data_44nm, data_46nm, data_48nm, data_50nm]\n",
    "combined_data = pd.concat(frames)\n",
    "combined_data=combined_data.fillna(0)\n",
    "print(combined_data.head())"
   ]
  },
  {
   "cell_type": "markdown",
   "metadata": {},
   "source": [
    "Train model"
   ]
  },
  {
   "cell_type": "code",
   "execution_count": 103,
   "metadata": {},
   "outputs": [
    {
     "name": "stdout",
     "output_type": "stream",
     "text": [
      "Mean Squared Error: 4.823597535211268\n",
      "R^2 Score: 0.9740884560760306\n",
      "Mean Absolute Percentage Error (MAE): 0.7765140845070423\n",
      "Symmetric Mean Absolute Percentage Error: 6.906113547633399\n",
      "Standard Deviation:6.951203968291606\n"
     ]
    }
   ],
   "source": [
    "X = combined_data.drop('Thickness', axis = 1)\n",
    "y = combined_data['Thickness']\n",
    "\n",
    "X_train, X_test, y_train, y_test = train_test_split(X, y, test_size=0.2, random_state=42)\n",
    "\n",
    "rf_regressor = RandomForestRegressor(n_estimators=300, random_state= 42)\n",
    "rf_regressor.fit(X_train, y_train)\n",
    "\n",
    "y_pred = rf_regressor.predict(X_test)\n",
    "\n",
    "def calculate_smape(y_test, y_pred):\n",
    "    numerator = np.abs(y_test - y_pred)\n",
    "    denominator = (np.abs(y_test) + np.abs(y_pred)) / 2\n",
    "    smape = np.mean(numerator / denominator) * 100\n",
    "    return smape\n",
    "\n",
    "mse = mean_squared_error(y_test, y_pred)\n",
    "r2 = r2_score(y_test, y_pred)\n",
    "mae = mean_absolute_error(y_test, y_pred)\n",
    "smape = calculate_smape(y_test,y_pred)\n",
    "# Odchylenie standardowe zbioru uczącego\n",
    "standard_deviation = statistics.stdev(X_train['65'])\n",
    "\n",
    "print(f'Mean Squared Error: {mse}')\n",
    "print(f'R^2 Score: {r2}')\n",
    "print(f\"Mean Absolute Percentage Error (MAE): {mae}\")\n",
    "print(f'Symmetric Mean Absolute Percentage Error: {smape}')\n",
    "print(f'Standard Deviation:{standard_deviation}')"
   ]
  },
  {
   "cell_type": "markdown",
   "metadata": {},
   "source": [
    "Predict new data"
   ]
  },
  {
   "cell_type": "code",
   "execution_count": 104,
   "metadata": {},
   "outputs": [],
   "source": [
    "import os\n",
    "\n",
    "folder_path = '/Users/missbo/Desktop/Inżynierka/Elipsometr/e1/e1_exp'\n",
    "output_folder = '/Users/missbo/Desktop/Inżynierka/Elipsometr/Files_results/RF_300/RF_e1'\n",
    "\n",
    "os.makedirs(output_folder, exist_ok=True)\n",
    "\n",
    "for file_name in os.listdir(folder_path):\n",
    "    if file_name.endswith('.csv'):\n",
    "        file_path = os.path.join(folder_path, file_name)\n",
    "        \n",
    "        new_data = pd.read_csv(file_path, header=None, names=column_names)\n",
    "        \n",
    "        missing_cols = set(X.columns) - set(new_data.columns)\n",
    "        if missing_cols:\n",
    "            raise ValueError(f\"New data is missing columns: {missing_cols}\")\n",
    "        \n",
    "        new_predictions = rf_regressor.predict(new_data)\n",
    "        new_data['Thickness'] = new_predictions\n",
    "\n",
    "        thickness = file_name.split('_')[2].replace('nm', '')\n",
    "        \n",
    "        output_file = os.path.join(output_folder, f\"RF_e1_{thickness}_nm\")\n",
    "        \n",
    "        with open(output_file, 'w') as plik:\n",
    "            for prediction in new_predictions:\n",
    "                plik.write(f\"{prediction:.2f}\\n\")"
   ]
  },
  {
   "cell_type": "code",
   "execution_count": 106,
   "metadata": {},
   "outputs": [],
   "source": [
    "directory = \"/Users/missbo/Desktop/Inżynierka/Elipsometr/e1/e1_exp\"\n",
    "\n",
    "for filename in os.listdir(directory):\n",
    "    f = os.path.join(directory, filename)\n",
    "    if os.path.isfile(f):\n",
    "        new_data = pd.read_csv(f, header=None, names=column_names, encoding='ISO-8859-1')\n",
    "        new_predictions = rf_regressor.predict(new_data)\n",
    "        new_data['Thickness'] = new_predictions\n",
    "        result = new_data['Thickness'].median()\n",
    "        \n",
    "        \n",
    "        with open(\"/Users/missbo/Desktop/Inżynierka/Elipsometr/results.txt\", 'a') as file_results:\n",
    "            file_results.write(str(result))\n",
    "            file_results.write(\" \")\n",
    "            #file_results.write(str(filename))\n",
    "            file_results.write('\\n')"
   ]
  },
  {
   "cell_type": "code",
   "execution_count": 64,
   "metadata": {},
   "outputs": [],
   "source": [
    "with open(\"/Users/missbo/Desktop/Inżynierka/Elipsometr/results.txt\", 'w') as file:\n",
    "    pass"
   ]
  },
  {
   "cell_type": "markdown",
   "metadata": {},
   "source": [
    "e2"
   ]
  },
  {
   "cell_type": "markdown",
   "metadata": {},
   "source": [
    "Import data"
   ]
  },
  {
   "cell_type": "code",
   "execution_count": 40,
   "metadata": {},
   "outputs": [],
   "source": [
    "column_names = ['Wavelength', '65', '70', '75']\n",
    "data_1nm = pd.read_csv('/Users/missbo/Desktop/Inżynierka/Elipsometr/e2/si02_e2_1nm_co_10_nm.csv', header=None, names=column_names)\n",
    "data_2nm = pd.read_csv('/Users/missbo/Desktop/Inżynierka/Elipsometr/e2/si02_e2_2nm_co_10_nm.csv', header=None, names=column_names)\n",
    "data_3nm = pd.read_csv('/Users/missbo/Desktop/Inżynierka/Elipsometr/e2/si02_e2_3nm_co_10_nm.csv', header=None, names=column_names)\n",
    "data_4nm = pd.read_csv('/Users/missbo/Desktop/Inżynierka/Elipsometr/e2/si02_e2_4nm_co_10_nm.csv', header=None, names=column_names)\n",
    "data_5nm = pd.read_csv('/Users/missbo/Desktop/Inżynierka/Elipsometr/e2/si02_e2_5nm_co_10_nm.csv', header=None, names=column_names)\n",
    "data_6nm = pd.read_csv('/Users/missbo/Desktop/Inżynierka/Elipsometr/e2/si02_e2_6nm_co_10_nm.csv', header=None, names=column_names)\n",
    "data_7nm = pd.read_csv('/Users/missbo/Desktop/Inżynierka/Elipsometr/e2/si02_e2_7nm_co_10_nm.csv', header=None, names=column_names)\n",
    "data_8nm = pd.read_csv('/Users/missbo/Desktop/Inżynierka/Elipsometr/e2/si02_e2_8nm_co_10_nm.csv', header=None, names=column_names)\n",
    "data_9nm = pd.read_csv('/Users/missbo/Desktop/Inżynierka/Elipsometr/e2/si02_e2_9nm_co_10_nm.csv', header=None, names=column_names)\n",
    "data_10nm = pd.read_csv('/Users/missbo/Desktop/Inżynierka/Elipsometr/e2/si02_e2_10nm_co_10_nm.csv', header=None, names=column_names)\n",
    "data_11nm = pd.read_csv('/Users/missbo/Desktop/Inżynierka/Elipsometr/e2/si02_e2_11nm_co_10_nm.csv', header=None, names=column_names)\n",
    "data_12nm = pd.read_csv('/Users/missbo/Desktop/Inżynierka/Elipsometr/e2/si02_e2_12nm_co_10_nm.csv', header=None, names=column_names)\n",
    "data_13nm = pd.read_csv('/Users/missbo/Desktop/Inżynierka/Elipsometr/e2/si02_e2_13nm_co_10_nm.csv', header=None, names=column_names)\n",
    "data_14nm = pd.read_csv('/Users/missbo/Desktop/Inżynierka/Elipsometr/e2/si02_e2_14nm_co_10_nm.csv', header=None, names=column_names)\n",
    "data_15nm = pd.read_csv('/Users/missbo/Desktop/Inżynierka/Elipsometr/e2/si02_e2_15nm_co_10_nm.csv', header=None, names=column_names)\n",
    "data_16nm = pd.read_csv('/Users/missbo/Desktop/Inżynierka/Elipsometr/e2/si02_e2_16nm_co_10_nm.csv', header=None, names=column_names)\n",
    "data_17nm = pd.read_csv('/Users/missbo/Desktop/Inżynierka/Elipsometr/e2/si02_e2_17nm_co_10_nm.csv', header=None, names=column_names)\n",
    "data_18nm = pd.read_csv('/Users/missbo/Desktop/Inżynierka/Elipsometr/e2/si02_e2_18nm_co_10_nm.csv', header=None, names=column_names)\n",
    "data_19nm = pd.read_csv('/Users/missbo/Desktop/Inżynierka/Elipsometr/e2/si02_e2_19nm_co_10_nm.csv', header=None, names=column_names)\n",
    "data_20nm = pd.read_csv('/Users/missbo/Desktop/Inżynierka/Elipsometr/e2/si02_e2_20nm_co_10_nm.csv', header=None, names=column_names)\n",
    "data_21nm = pd.read_csv('/Users/missbo/Desktop/Inżynierka/Elipsometr/e2/si02_e2_21nm_co_10_nm.csv', header=None, names=column_names)\n",
    "data_22nm = pd.read_csv('/Users/missbo/Desktop/Inżynierka/Elipsometr/e2/si02_e2_22nm_co_10_nm.csv', header=None, names=column_names)\n",
    "data_23nm = pd.read_csv('/Users/missbo/Desktop/Inżynierka/Elipsometr/e2/si02_e2_23nm_co_10_nm.csv', header=None, names=column_names)\n",
    "data_24nm = pd.read_csv('/Users/missbo/Desktop/Inżynierka/Elipsometr/e2/si02_e2_24nm_co_10_nm.csv', header=None, names=column_names)\n",
    "data_25nm = pd.read_csv('/Users/missbo/Desktop/Inżynierka/Elipsometr/e2/si02_e2_25nm_co_10_nm.csv', header=None, names=column_names)\n",
    "data_26nm = pd.read_csv('/Users/missbo/Desktop/Inżynierka/Elipsometr/e2/si02_e2_26nm_co_10_nm.csv', header=None, names=column_names)\n",
    "data_27nm = pd.read_csv('/Users/missbo/Desktop/Inżynierka/Elipsometr/e2/si02_e2_27nm_co_10_nm.csv', header=None, names=column_names)\n",
    "data_28nm = pd.read_csv('/Users/missbo/Desktop/Inżynierka/Elipsometr/e2/si02_e2_28nm_co_10_nm.csv', header=None, names=column_names)\n",
    "data_29nm = pd.read_csv('/Users/missbo/Desktop/Inżynierka/Elipsometr/e2/si02_e2_29nm_co_10_nm.csv', header=None, names=column_names)\n",
    "data_30nm = pd.read_csv('/Users/missbo/Desktop/Inżynierka/Elipsometr/e2/si02_e2_30nm_co_10_nm.csv', header=None, names=column_names)\n",
    "data_32nm = pd.read_csv('/Users/missbo/Desktop/Inżynierka/Elipsometr/e2/si02_e2_32nm_co_10_nm.csv', header=None, names=column_names)\n",
    "data_34nm = pd.read_csv('/Users/missbo/Desktop/Inżynierka/Elipsometr/e2/si02_e2_34nm_co_10_nm.csv', header=None, names=column_names)\n",
    "data_36nm = pd.read_csv('/Users/missbo/Desktop/Inżynierka/Elipsometr/e2/si02_e2_36nm_co_10_nm.csv', header=None, names=column_names)\n",
    "data_38nm = pd.read_csv('/Users/missbo/Desktop/Inżynierka/Elipsometr/e2/si02_e2_38nm_co_10_nm.csv', header=None, names=column_names)\n",
    "data_40nm = pd.read_csv('/Users/missbo/Desktop/Inżynierka/Elipsometr/e2/si02_e2_40nm_co_10_nm.csv', header=None, names=column_names)\n",
    "data_42nm = pd.read_csv('/Users/missbo/Desktop/Inżynierka/Elipsometr/e2/si02_e2_42nm_co_10_nm.csv', header=None, names=column_names)\n",
    "data_44nm = pd.read_csv('/Users/missbo/Desktop/Inżynierka/Elipsometr/e2/si02_e2_44nm_co_10_nm.csv', header=None, names=column_names)\n",
    "data_46nm = pd.read_csv('/Users/missbo/Desktop/Inżynierka/Elipsometr/e2/si02_e2_46nm_co_10_nm.csv', header=None, names=column_names)\n",
    "data_48nm = pd.read_csv('/Users/missbo/Desktop/Inżynierka/Elipsometr/e2/si02_e2_48nm_co_10_nm.csv', header=None, names=column_names)\n",
    "data_50nm = pd.read_csv('/Users/missbo/Desktop/Inżynierka/Elipsometr/e2/si02_e2_50nm_co_10_nm.csv', header=None, names=column_names)\n"
   ]
  },
  {
   "cell_type": "markdown",
   "metadata": {},
   "source": [
    "Add column Thickness"
   ]
  },
  {
   "cell_type": "code",
   "execution_count": 42,
   "metadata": {},
   "outputs": [],
   "source": [
    "data_1nm['Thickness'] = 1\n",
    "data_2nm['Thickness'] = 2\n",
    "data_3nm['Thickness'] = 3\n",
    "data_4nm['Thickness'] = 4\n",
    "data_5nm['Thickness'] = 5\n",
    "data_6nm['Thickness'] = 6\n",
    "data_7nm['Thickness'] = 7\n",
    "data_8nm['Thickness'] = 8\n",
    "data_9nm['Thickness'] = 9\n",
    "data_10nm['Thickness'] = 10\n",
    "data_11nm['Thickness'] = 11\n",
    "data_12nm['Thickness'] = 12\n",
    "data_13nm['Thickness'] = 13\n",
    "data_14nm['Thickness'] = 14\n",
    "data_15nm['Thickness'] = 15\n",
    "data_16nm['Thickness'] = 16\n",
    "data_17nm['Thickness'] = 17\n",
    "data_18nm['Thickness'] = 18\n",
    "data_19nm['Thickness'] = 19\n",
    "data_20nm['Thickness'] = 20\n",
    "data_21nm['Thickness'] = 21\n",
    "data_22nm['Thickness'] = 22\n",
    "data_23nm['Thickness'] = 23\n",
    "data_24nm['Thickness'] = 24\n",
    "data_25nm['Thickness'] = 25\n",
    "data_26nm['Thickness'] = 26\n",
    "data_27nm['Thickness'] = 27\n",
    "data_28nm['Thickness'] = 28\n",
    "data_29nm['Thickness'] = 29\n",
    "data_30nm['Thickness'] = 30\n",
    "data_32nm['Thickness'] = 32\n",
    "data_34nm['Thickness'] = 34\n",
    "data_36nm['Thickness'] = 36\n",
    "data_38nm['Thickness'] = 38\n",
    "data_40nm['Thickness'] = 40\n",
    "data_42nm['Thickness'] = 42\n",
    "data_44nm['Thickness'] = 44\n",
    "data_46nm['Thickness'] = 46\n",
    "data_48nm['Thickness'] = 48\n",
    "data_50nm['Thickness'] = 50"
   ]
  },
  {
   "cell_type": "markdown",
   "metadata": {},
   "source": [
    "Combine data"
   ]
  },
  {
   "cell_type": "code",
   "execution_count": 43,
   "metadata": {},
   "outputs": [
    {
     "name": "stdout",
     "output_type": "stream",
     "text": [
      "   Wavelength      65      70      75  Thickness\n",
      "0         300  39.536  39.533  39.531          1\n",
      "1         310  35.116  35.113  35.110          1\n",
      "2         320  32.858  32.855  32.852          1\n",
      "3         330  31.748  31.745  31.743          1\n",
      "4         340  31.464  31.461  31.458          1\n"
     ]
    }
   ],
   "source": [
    "frames = [data_1nm, data_2nm, data_3nm, data_4nm, data_5nm, data_6nm, data_7nm, data_8nm, data_9nm, data_10nm, data_11nm, data_12nm, data_13nm, data_14nm, data_15nm, data_16nm, data_17nm, data_18nm, data_19nm, data_20nm, data_21nm, data_22nm, data_23nm, data_24nm, data_25nm, data_26nm, data_27nm, data_28nm, data_29nm, data_30nm, data_32nm, data_34nm, data_36nm, data_38nm, data_40nm, data_42nm, data_44nm, data_46nm, data_48nm, data_50nm]\n",
    "combined_data = pd.concat(frames)\n",
    "combined_data=combined_data.fillna(0)\n",
    "print(combined_data.head())"
   ]
  },
  {
   "cell_type": "markdown",
   "metadata": {},
   "source": [
    "Train model"
   ]
  },
  {
   "cell_type": "code",
   "execution_count": 57,
   "metadata": {},
   "outputs": [
    {
     "name": "stdout",
     "output_type": "stream",
     "text": [
      "Mean Squared Error: 49.28660489045383\n",
      "R^2 Score: 0.7352407579281204\n",
      "Mean Absolute Percentage Error (MAE): 3.8949295774647883\n",
      "Symmetric Mean Absolute Percentage Error: 16.753196148684424\n",
      "Standard Deviation:12.006552885663003\n",
      "1.5604710578918457\n"
     ]
    }
   ],
   "source": [
    "X = combined_data.drop('Thickness', axis = 1)\n",
    "y = combined_data['Thickness']\n",
    "\n",
    "X_train, X_test, y_train, y_test = train_test_split(X, y, test_size=0.2, random_state=42)\n",
    "\n",
    "rf_regressor = RandomForestRegressor(n_estimators=300, random_state= 42)\n",
    "start_time = time.time()\n",
    "rf_regressor.fit(X_train, y_train)\n",
    "training_time = time.time() - start_time\n",
    "y_pred = rf_regressor.predict(X_test)\n",
    "\n",
    "def calculate_smape(y_test, y_pred):\n",
    "    numerator = np.abs(y_test - y_pred)\n",
    "    denominator = (np.abs(y_test) + np.abs(y_pred)) / 2\n",
    "    smape = np.mean(numerator / denominator) * 100\n",
    "    return smape\n",
    "\n",
    "mse = mean_squared_error(y_test, y_pred)\n",
    "r2 = r2_score(y_test, y_pred)\n",
    "mae = mean_absolute_error(y_test, y_pred)\n",
    "smape = calculate_smape(y_test,y_pred)\n",
    "# Odchylenie standardowe zbioru uczącego\n",
    "standard_deviation = statistics.stdev(y_pred)\n",
    "\n",
    "\n",
    "\n",
    "print(f'Mean Squared Error: {mse}')\n",
    "print(f'R^2 Score: {r2}')\n",
    "print(f\"Mean Absolute Percentage Error (MAE): {mae}\")\n",
    "print(f'Symmetric Mean Absolute Percentage Error: {smape}')\n",
    "print(f'Standard Deviation:{standard_deviation}')\n",
    "print(training_time)"
   ]
  },
  {
   "cell_type": "markdown",
   "metadata": {},
   "source": [
    "Predict new data "
   ]
  },
  {
   "cell_type": "code",
   "execution_count": 58,
   "metadata": {},
   "outputs": [],
   "source": [
    "import os\n",
    "\n",
    "folder_path = '/Users/missbo/Desktop/Inżynierka/Elipsometr/e2/e2_exp'\n",
    "output_folder = '/Users/missbo/Desktop/Inżynierka/Elipsometr/Files_results/RF_300/RF_e2'\n",
    "\n",
    "os.makedirs(output_folder, exist_ok=True)\n",
    "\n",
    "for file_name in os.listdir(folder_path):\n",
    "    if file_name.endswith('.csv'):\n",
    "        file_path = os.path.join(folder_path, file_name)\n",
    "        \n",
    "        new_data = pd.read_csv(file_path, header=None, names=column_names)\n",
    "        \n",
    "        missing_cols = set(X.columns) - set(new_data.columns)\n",
    "        if missing_cols:\n",
    "            raise ValueError(f\"New data is missing columns: {missing_cols}\")\n",
    "        \n",
    "        new_predictions = rf_regressor.predict(new_data)\n",
    "        new_data['Thickness'] = new_predictions\n",
    "\n",
    "        thickness = file_name.split('_')[2].replace('nm', '')\n",
    "        \n",
    "        output_file = os.path.join(output_folder, f\"RF_e2_{thickness}_nm\")\n",
    "        \n",
    "        with open(output_file, 'w') as plik:\n",
    "            for prediction in new_predictions:\n",
    "                plik.write(f\"{prediction:.2f}\\n\")"
   ]
  },
  {
   "cell_type": "code",
   "execution_count": 61,
   "metadata": {},
   "outputs": [],
   "source": [
    "directory = \"/Users/missbo/Desktop/Inżynierka/Elipsometr/e2/e2_exp\"\n",
    "\n",
    "for filename in os.listdir(directory):\n",
    "    f = os.path.join(directory, filename)\n",
    "    if os.path.isfile(f):\n",
    "        new_data = pd.read_csv(f, header=None, names=column_names, encoding='ISO-8859-1')\n",
    "        new_predictions = rf_regressor.predict(new_data)\n",
    "        new_data['Thickness'] = new_predictions\n",
    "        result = new_data['Thickness'].median()\n",
    "        \n",
    "        \n",
    "        with open(\"/Users/missbo/Desktop/Inżynierka/Elipsometr/results.txt\", 'a') as file_results:\n",
    "            file_results.write(str(result))\n",
    "            file_results.write(\" \")\n",
    "            #file_results.write(str(filename))\n",
    "            file_results.write('\\n')"
   ]
  },
  {
   "cell_type": "code",
   "execution_count": 62,
   "metadata": {},
   "outputs": [],
   "source": [
    "with open(\"/Users/missbo/Desktop/Inżynierka/Elipsometr/results.txt\", 'w') as file:\n",
    "    pass"
   ]
  },
  {
   "cell_type": "markdown",
   "metadata": {},
   "source": [
    "n"
   ]
  },
  {
   "cell_type": "markdown",
   "metadata": {},
   "source": [
    "Import data "
   ]
  },
  {
   "cell_type": "code",
   "execution_count": 107,
   "metadata": {},
   "outputs": [],
   "source": [
    "column_names = ['Wavelength', '65', '70', '75']\n",
    "data_1nm = pd.read_csv('/Users/missbo/Desktop/Inżynierka/Elipsometr/n/si02_n_1nm_co_10_nm.csv', header=None, names=column_names)\n",
    "data_2nm = pd.read_csv('/Users/missbo/Desktop/Inżynierka/Elipsometr/n/si02_n_2nm_co_10_nm.csv', header=None, names=column_names)\n",
    "data_3nm = pd.read_csv('/Users/missbo/Desktop/Inżynierka/Elipsometr/n/si02_n_3nm_co_10_nm.csv', header=None, names=column_names)\n",
    "data_4nm = pd.read_csv('/Users/missbo/Desktop/Inżynierka/Elipsometr/n/si02_n_4nm_co_10_nm.csv', header=None, names=column_names)\n",
    "data_5nm = pd.read_csv('/Users/missbo/Desktop/Inżynierka/Elipsometr/n/si02_n_5nm_co_10_nm.csv', header=None, names=column_names)\n",
    "data_6nm = pd.read_csv('/Users/missbo/Desktop/Inżynierka/Elipsometr/n/si02_n_6nm_co_10_nm.csv', header=None, names=column_names)\n",
    "data_7nm = pd.read_csv('/Users/missbo/Desktop/Inżynierka/Elipsometr/n/si02_n_7nm_co_10_nm.csv', header=None, names=column_names)\n",
    "data_8nm = pd.read_csv('/Users/missbo/Desktop/Inżynierka/Elipsometr/n/si02_n_8nm_co_10_nm.csv', header=None, names=column_names)\n",
    "data_9nm = pd.read_csv('/Users/missbo/Desktop/Inżynierka/Elipsometr/n/si02_n_9nm_co_10_nm.csv', header=None, names=column_names)\n",
    "data_10nm = pd.read_csv('/Users/missbo/Desktop/Inżynierka/Elipsometr/n/si02_n_10nm_co_10_nm.csv', header=None, names=column_names)\n",
    "data_11nm = pd.read_csv('/Users/missbo/Desktop/Inżynierka/Elipsometr/n/si02_n_11nm_co_10_nm.csv', header=None, names=column_names)\n",
    "data_12nm = pd.read_csv('/Users/missbo/Desktop/Inżynierka/Elipsometr/n/si02_n_12nm_co_10_nm.csv', header=None, names=column_names)\n",
    "data_13nm = pd.read_csv('/Users/missbo/Desktop/Inżynierka/Elipsometr/n/si02_n_13nm_co_10_nm.csv', header=None, names=column_names)\n",
    "data_14nm = pd.read_csv('/Users/missbo/Desktop/Inżynierka/Elipsometr/n/si02_n_14nm_co_10_nm.csv', header=None, names=column_names)\n",
    "data_15nm = pd.read_csv('/Users/missbo/Desktop/Inżynierka/Elipsometr/n/si02_n_15nm_co_10_nm.csv', header=None, names=column_names)\n",
    "data_16nm = pd.read_csv('/Users/missbo/Desktop/Inżynierka/Elipsometr/n/si02_n_16nm_co_10_nm.csv', header=None, names=column_names)\n",
    "data_17nm = pd.read_csv('/Users/missbo/Desktop/Inżynierka/Elipsometr/n/si02_n_17nm_co_10_nm.csv', header=None, names=column_names)\n",
    "data_18nm = pd.read_csv('/Users/missbo/Desktop/Inżynierka/Elipsometr/n/si02_n_18nm_co_10_nm.csv', header=None, names=column_names)\n",
    "data_19nm = pd.read_csv('/Users/missbo/Desktop/Inżynierka/Elipsometr/n/si02_n_19nm_co_10_nm.csv', header=None, names=column_names)\n",
    "data_20nm = pd.read_csv('/Users/missbo/Desktop/Inżynierka/Elipsometr/n/si02_n_20nm_co_10_nm.csv', header=None, names=column_names)\n",
    "data_21nm = pd.read_csv('/Users/missbo/Desktop/Inżynierka/Elipsometr/n/si02_n_21nm_co_10_nm.csv', header=None, names=column_names)\n",
    "data_22nm = pd.read_csv('/Users/missbo/Desktop/Inżynierka/Elipsometr/n/si02_n_22nm_co_10_nm.csv', header=None, names=column_names)\n",
    "data_23nm = pd.read_csv('/Users/missbo/Desktop/Inżynierka/Elipsometr/n/si02_n_23nm_co_10_nm.csv', header=None, names=column_names)\n",
    "data_24nm = pd.read_csv('/Users/missbo/Desktop/Inżynierka/Elipsometr/n/si02_n_24nm_co_10_nm.csv', header=None, names=column_names)\n",
    "data_25nm = pd.read_csv('/Users/missbo/Desktop/Inżynierka/Elipsometr/n/si02_n_25nm_co_10_nm.csv', header=None, names=column_names)\n",
    "data_26nm = pd.read_csv('/Users/missbo/Desktop/Inżynierka/Elipsometr/n/si02_n_26nm_co_10_nm.csv', header=None, names=column_names)\n",
    "data_27nm = pd.read_csv('/Users/missbo/Desktop/Inżynierka/Elipsometr/n/si02_n_27nm_co_10_nm.csv', header=None, names=column_names)\n",
    "data_28nm = pd.read_csv('/Users/missbo/Desktop/Inżynierka/Elipsometr/n/si02_n_28nm_co_10_nm.csv', header=None, names=column_names)\n",
    "data_29nm = pd.read_csv('/Users/missbo/Desktop/Inżynierka/Elipsometr/n/si02_n_29nm_co_10_nm.csv', header=None, names=column_names)\n",
    "data_30nm = pd.read_csv('/Users/missbo/Desktop/Inżynierka/Elipsometr/n/si02_n_30nm_co_10_nm.csv', header=None, names=column_names)\n",
    "data_32nm = pd.read_csv('/Users/missbo/Desktop/Inżynierka/Elipsometr/n/si02_n_32nm_co_10_nm.csv', header=None, names=column_names)\n",
    "data_34nm = pd.read_csv('/Users/missbo/Desktop/Inżynierka/Elipsometr/n/si02_n_34nm_co_10_nm.csv', header=None, names=column_names)\n",
    "data_36nm = pd.read_csv('/Users/missbo/Desktop/Inżynierka/Elipsometr/n/si02_n_36nm_co_10_nm.csv', header=None, names=column_names)\n",
    "data_38nm = pd.read_csv('/Users/missbo/Desktop/Inżynierka/Elipsometr/n/si02_n_38nm_co_10_nm.csv', header=None, names=column_names)\n",
    "data_40nm = pd.read_csv('/Users/missbo/Desktop/Inżynierka/Elipsometr/n/si02_n_40nm_co_10_nm.csv', header=None, names=column_names)\n",
    "data_42nm = pd.read_csv('/Users/missbo/Desktop/Inżynierka/Elipsometr/n/si02_n_42nm_co_10_nm.csv', header=None, names=column_names)\n",
    "data_44nm = pd.read_csv('/Users/missbo/Desktop/Inżynierka/Elipsometr/n/si02_n_44nm_co_10_nm.csv', header=None, names=column_names)\n",
    "data_46nm = pd.read_csv('/Users/missbo/Desktop/Inżynierka/Elipsometr/n/si02_n_46nm_co_10_nm.csv', header=None, names=column_names)\n",
    "data_48nm = pd.read_csv('/Users/missbo/Desktop/Inżynierka/Elipsometr/n/si02_n_48nm_co_10_nm.csv', header=None, names=column_names)\n",
    "data_50nm = pd.read_csv('/Users/missbo/Desktop/Inżynierka/Elipsometr/n/si02_n_50nm_co_10_nm.csv', header=None, names=column_names)\n"
   ]
  },
  {
   "cell_type": "markdown",
   "metadata": {},
   "source": [
    "Add column Thickness"
   ]
  },
  {
   "cell_type": "code",
   "execution_count": 108,
   "metadata": {},
   "outputs": [],
   "source": [
    "data_1nm['Thickness'] = 1\n",
    "data_2nm['Thickness'] = 2\n",
    "data_3nm['Thickness'] = 3\n",
    "data_4nm['Thickness'] = 4\n",
    "data_5nm['Thickness'] = 5\n",
    "data_6nm['Thickness'] = 6\n",
    "data_7nm['Thickness'] = 7\n",
    "data_8nm['Thickness'] = 8\n",
    "data_9nm['Thickness'] = 9\n",
    "data_10nm['Thickness'] = 10\n",
    "data_11nm['Thickness'] = 11\n",
    "data_12nm['Thickness'] = 12\n",
    "data_13nm['Thickness'] = 13\n",
    "data_14nm['Thickness'] = 14\n",
    "data_15nm['Thickness'] = 15\n",
    "data_16nm['Thickness'] = 16\n",
    "data_17nm['Thickness'] = 17\n",
    "data_18nm['Thickness'] = 18\n",
    "data_19nm['Thickness'] = 19\n",
    "data_20nm['Thickness'] = 20\n",
    "data_21nm['Thickness'] = 21\n",
    "data_22nm['Thickness'] = 22\n",
    "data_23nm['Thickness'] = 23\n",
    "data_24nm['Thickness'] = 24\n",
    "data_25nm['Thickness'] = 25\n",
    "data_26nm['Thickness'] = 26\n",
    "data_27nm['Thickness'] = 27\n",
    "data_28nm['Thickness'] = 28\n",
    "data_29nm['Thickness'] = 29\n",
    "data_30nm['Thickness'] = 30\n",
    "data_32nm['Thickness'] = 32\n",
    "data_34nm['Thickness'] = 34\n",
    "data_36nm['Thickness'] = 36\n",
    "data_38nm['Thickness'] = 38\n",
    "data_40nm['Thickness'] = 40\n",
    "data_42nm['Thickness'] = 42\n",
    "data_44nm['Thickness'] = 44\n",
    "data_46nm['Thickness'] = 46\n",
    "data_48nm['Thickness'] = 48\n",
    "data_50nm['Thickness'] = 50"
   ]
  },
  {
   "cell_type": "markdown",
   "metadata": {},
   "source": [
    "Combine data "
   ]
  },
  {
   "cell_type": "code",
   "execution_count": 109,
   "metadata": {},
   "outputs": [
    {
     "name": "stdout",
     "output_type": "stream",
     "text": [
      "   Wavelength      65      70      75  Thickness\n",
      "0         300  4.6243  4.6243  4.6243          1\n",
      "1         310  4.7175  4.7175  4.7175          1\n",
      "2         320  4.7805  4.7805  4.7805          1\n",
      "3         330  4.8762  4.8762  4.8762          1\n",
      "4         340  5.0045  5.0045  5.0045          1\n"
     ]
    }
   ],
   "source": [
    "frames = [data_1nm, data_2nm, data_3nm, data_4nm, data_5nm, data_6nm, data_7nm, data_8nm, data_9nm, data_10nm, data_11nm, data_12nm, data_13nm, data_14nm, data_15nm, data_16nm, data_17nm, data_18nm, data_19nm, data_20nm, data_21nm, data_22nm, data_23nm, data_24nm, data_25nm, data_26nm, data_27nm, data_28nm, data_29nm, data_30nm, data_32nm, data_34nm, data_36nm, data_38nm, data_40nm, data_42nm, data_44nm, data_46nm, data_48nm, data_50nm]\n",
    "combined_data = pd.concat(frames)\n",
    "combined_data=combined_data.fillna(0)\n",
    "print(combined_data.head())"
   ]
  },
  {
   "cell_type": "markdown",
   "metadata": {},
   "source": [
    "Train model"
   ]
  },
  {
   "cell_type": "code",
   "execution_count": 110,
   "metadata": {},
   "outputs": [
    {
     "name": "stdout",
     "output_type": "stream",
     "text": [
      "Mean Squared Error: 0.8872593701095463\n",
      "R^2 Score: 0.9952337938700891\n",
      "Mean Absolute Percentage Error (MAE): 0.4504870892018779\n",
      "Symmetric Mean Absolute Percentage Error: 5.95842496594584\n",
      "Standard Deviation:0.9255726114123838\n"
     ]
    }
   ],
   "source": [
    "X = combined_data.drop('Thickness', axis = 1)\n",
    "y = combined_data['Thickness']\n",
    "\n",
    "X_train, X_test, y_train, y_test = train_test_split(X, y, test_size=0.2, random_state=42)\n",
    "\n",
    "rf_regressor = RandomForestRegressor(n_estimators=300, random_state= 42)\n",
    "rf_regressor.fit(X_train, y_train)\n",
    "\n",
    "y_pred = rf_regressor.predict(X_test)\n",
    "\n",
    "def calculate_smape(y_test, y_pred):\n",
    "    numerator = np.abs(y_test - y_pred)\n",
    "    denominator = (np.abs(y_test) + np.abs(y_pred)) / 2\n",
    "    smape = np.mean(numerator / denominator) * 100\n",
    "    return smape\n",
    "\n",
    "mse = mean_squared_error(y_test, y_pred)\n",
    "r2 = r2_score(y_test, y_pred)\n",
    "mae = mean_absolute_error(y_test, y_pred)\n",
    "smape = calculate_smape(y_test,y_pred)\n",
    "# Odchylenie standardowe zbioru uczącego\n",
    "standard_deviation = statistics.stdev(X_train['65'])\n",
    "\n",
    "print(f'Mean Squared Error: {mse}')\n",
    "print(f'R^2 Score: {r2}')\n",
    "print(f\"Mean Absolute Percentage Error (MAE): {mae}\")\n",
    "print(f'Symmetric Mean Absolute Percentage Error: {smape}')\n",
    "print(f'Standard Deviation:{standard_deviation}')"
   ]
  },
  {
   "cell_type": "markdown",
   "metadata": {},
   "source": [
    "Predict new data "
   ]
  },
  {
   "cell_type": "code",
   "execution_count": 111,
   "metadata": {},
   "outputs": [],
   "source": [
    "import os\n",
    "\n",
    "folder_path = '/Users/missbo/Desktop/Inżynierka/Elipsometr/n/n_exp'\n",
    "output_folder = '/Users/missbo/Desktop/Inżynierka/Elipsometr/Files_results/RF_300/RF_n'\n",
    "\n",
    "os.makedirs(output_folder, exist_ok=True)\n",
    "\n",
    "for file_name in os.listdir(folder_path):\n",
    "    if file_name.endswith('.csv'):\n",
    "        file_path = os.path.join(folder_path, file_name)\n",
    "        \n",
    "        new_data = pd.read_csv(file_path, header=None, names=column_names)\n",
    "        \n",
    "        missing_cols = set(X.columns) - set(new_data.columns)\n",
    "        if missing_cols:\n",
    "            raise ValueError(f\"New data is missing columns: {missing_cols}\")\n",
    "        \n",
    "        new_predictions = rf_regressor.predict(new_data)\n",
    "        new_data['Thickness'] = new_predictions\n",
    "\n",
    "        thickness = file_name.split('_')[2].replace('nm', '')\n",
    "        \n",
    "        output_file = os.path.join(output_folder, f\"RF_n_{thickness}_nm\")\n",
    "        \n",
    "        with open(output_file, 'w') as plik:\n",
    "            for prediction in new_predictions:\n",
    "                plik.write(f\"{prediction:.2f}\\n\")"
   ]
  },
  {
   "cell_type": "code",
   "execution_count": 114,
   "metadata": {},
   "outputs": [],
   "source": [
    "directory = \"/Users/missbo/Desktop/Inżynierka/Elipsometr/n/n_exp\"\n",
    "\n",
    "for filename in os.listdir(directory):\n",
    "    f = os.path.join(directory, filename)\n",
    "    if os.path.isfile(f):\n",
    "        new_data = pd.read_csv(f, header=None, names=column_names, encoding='ISO-8859-1')\n",
    "        new_predictions = rf_regressor.predict(new_data)\n",
    "        new_data['Thickness'] = new_predictions\n",
    "        result = new_data['Thickness'].median()\n",
    "        \n",
    "        \n",
    "        with open(\"/Users/missbo/Desktop/Inżynierka/Elipsometr/results.txt\", 'a') as file_results:\n",
    "            file_results.write(str(result))\n",
    "            file_results.write(\" \")\n",
    "            #file_results.write(str(filename))\n",
    "            file_results.write('\\n')"
   ]
  },
  {
   "cell_type": "code",
   "execution_count": 115,
   "metadata": {},
   "outputs": [],
   "source": [
    "with open(\"/Users/missbo/Desktop/Inżynierka/Elipsometr/results.txt\", 'w') as file:\n",
    "    pass"
   ]
  },
  {
   "cell_type": "markdown",
   "metadata": {},
   "source": [
    "k"
   ]
  },
  {
   "cell_type": "markdown",
   "metadata": {},
   "source": [
    "Import data "
   ]
  },
  {
   "cell_type": "code",
   "execution_count": 116,
   "metadata": {},
   "outputs": [],
   "source": [
    "column_names = ['Wavelength', '65', '70', '75']\n",
    "data_1nm = pd.read_csv('/Users/missbo/Desktop/Inżynierka/Elipsometr/k/si02_k_1nm_co_10_nm.csv', header=None, names=column_names)\n",
    "data_2nm = pd.read_csv('/Users/missbo/Desktop/Inżynierka/Elipsometr/k/si02_k_2nm_co_10_nm.csv', header=None, names=column_names)\n",
    "data_3nm = pd.read_csv('/Users/missbo/Desktop/Inżynierka/Elipsometr/k/si02_k_3nm_co_10_nm.csv', header=None, names=column_names)\n",
    "data_4nm = pd.read_csv('/Users/missbo/Desktop/Inżynierka/Elipsometr/k/si02_k_4nm_co_10_nm.csv', header=None, names=column_names)\n",
    "data_5nm = pd.read_csv('/Users/missbo/Desktop/Inżynierka/Elipsometr/k/si02_k_5nm_co_10_nm.csv', header=None, names=column_names)\n",
    "data_6nm = pd.read_csv('/Users/missbo/Desktop/Inżynierka/Elipsometr/k/si02_k_6nm_co_10_nm.csv', header=None, names=column_names)\n",
    "data_7nm = pd.read_csv('/Users/missbo/Desktop/Inżynierka/Elipsometr/k/si02_k_7nm_co_10_nm.csv', header=None, names=column_names)\n",
    "data_8nm = pd.read_csv('/Users/missbo/Desktop/Inżynierka/Elipsometr/k/si02_k_8nm_co_10_nm.csv', header=None, names=column_names)\n",
    "data_9nm = pd.read_csv('/Users/missbo/Desktop/Inżynierka/Elipsometr/k/si02_k_9nm_co_10_nm.csv', header=None, names=column_names)\n",
    "data_10nm = pd.read_csv('/Users/missbo/Desktop/Inżynierka/Elipsometr/k/si02_k_10nm_co_10_nm.csv', header=None, names=column_names)\n",
    "data_11nm = pd.read_csv('/Users/missbo/Desktop/Inżynierka/Elipsometr/k/si02_k_11nm_co_10_nm.csv', header=None, names=column_names)\n",
    "data_12nm = pd.read_csv('/Users/missbo/Desktop/Inżynierka/Elipsometr/k/si02_k_12nm_co_10_nm.csv', header=None, names=column_names)\n",
    "data_13nm = pd.read_csv('/Users/missbo/Desktop/Inżynierka/Elipsometr/k/si02_k_13nm_co_10_nm.csv', header=None, names=column_names)\n",
    "data_14nm = pd.read_csv('/Users/missbo/Desktop/Inżynierka/Elipsometr/k/si02_k_14nm_co_10_nm.csv', header=None, names=column_names)\n",
    "data_15nm = pd.read_csv('/Users/missbo/Desktop/Inżynierka/Elipsometr/k/si02_k_15nm_co_10_nm.csv', header=None, names=column_names)\n",
    "data_16nm = pd.read_csv('/Users/missbo/Desktop/Inżynierka/Elipsometr/k/si02_k_16nm_co_10_nm.csv', header=None, names=column_names)\n",
    "data_17nm = pd.read_csv('/Users/missbo/Desktop/Inżynierka/Elipsometr/k/si02_k_17nm_co_10_nm.csv', header=None, names=column_names)\n",
    "data_18nm = pd.read_csv('/Users/missbo/Desktop/Inżynierka/Elipsometr/k/si02_k_18nm_co_10_nm.csv', header=None, names=column_names)\n",
    "data_19nm = pd.read_csv('/Users/missbo/Desktop/Inżynierka/Elipsometr/k/si02_k_19nm_co_10_nm.csv', header=None, names=column_names)\n",
    "data_20nm = pd.read_csv('/Users/missbo/Desktop/Inżynierka/Elipsometr/k/si02_k_20nm_co_10_nm.csv', header=None, names=column_names)\n",
    "data_21nm = pd.read_csv('/Users/missbo/Desktop/Inżynierka/Elipsometr/k/si02_k_21nm_co_10_nm.csv', header=None, names=column_names)\n",
    "data_22nm = pd.read_csv('/Users/missbo/Desktop/Inżynierka/Elipsometr/k/si02_k_22nm_co_10_nm.csv', header=None, names=column_names)\n",
    "data_23nm = pd.read_csv('/Users/missbo/Desktop/Inżynierka/Elipsometr/k/si02_k_23nm_co_10_nm.csv', header=None, names=column_names)\n",
    "data_24nm = pd.read_csv('/Users/missbo/Desktop/Inżynierka/Elipsometr/k/si02_k_24nm_co_10_nm.csv', header=None, names=column_names)\n",
    "data_25nm = pd.read_csv('/Users/missbo/Desktop/Inżynierka/Elipsometr/k/si02_k_25nm_co_10_nm.csv', header=None, names=column_names)\n",
    "data_26nm = pd.read_csv('/Users/missbo/Desktop/Inżynierka/Elipsometr/k/si02_k_26nm_co_10_nm.csv', header=None, names=column_names)\n",
    "data_27nm = pd.read_csv('/Users/missbo/Desktop/Inżynierka/Elipsometr/k/si02_k_27nm_co_10_nm.csv', header=None, names=column_names)\n",
    "data_28nm = pd.read_csv('/Users/missbo/Desktop/Inżynierka/Elipsometr/k/si02_k_28nm_co_10_nm.csv', header=None, names=column_names)\n",
    "data_29nm = pd.read_csv('/Users/missbo/Desktop/Inżynierka/Elipsometr/k/si02_k_29nm_co_10_nm.csv', header=None, names=column_names)\n",
    "data_30nm = pd.read_csv('/Users/missbo/Desktop/Inżynierka/Elipsometr/k/si02_k_30nm_co_10_nm.csv', header=None, names=column_names)\n",
    "data_32nm = pd.read_csv('/Users/missbo/Desktop/Inżynierka/Elipsometr/k/si02_k_32nm_co_10_nm.csv', header=None, names=column_names)\n",
    "data_34nm = pd.read_csv('/Users/missbo/Desktop/Inżynierka/Elipsometr/k/si02_k_34nm_co_10_nm.csv', header=None, names=column_names)\n",
    "data_36nm = pd.read_csv('/Users/missbo/Desktop/Inżynierka/Elipsometr/k/si02_k_36nm_co_10_nm.csv', header=None, names=column_names)\n",
    "data_38nm = pd.read_csv('/Users/missbo/Desktop/Inżynierka/Elipsometr/k/si02_k_38nm_co_10_nm.csv', header=None, names=column_names)\n",
    "data_40nm = pd.read_csv('/Users/missbo/Desktop/Inżynierka/Elipsometr/k/si02_k_40nm_co_10_nm.csv', header=None, names=column_names)\n",
    "data_42nm = pd.read_csv('/Users/missbo/Desktop/Inżynierka/Elipsometr/k/si02_k_42nm_co_10_nm.csv', header=None, names=column_names)\n",
    "data_44nm = pd.read_csv('/Users/missbo/Desktop/Inżynierka/Elipsometr/k/si02_k_44nm_co_10_nm.csv', header=None, names=column_names)\n",
    "data_46nm = pd.read_csv('/Users/missbo/Desktop/Inżynierka/Elipsometr/k/si02_k_46nm_co_10_nm.csv', header=None, names=column_names)\n",
    "data_48nm = pd.read_csv('/Users/missbo/Desktop/Inżynierka/Elipsometr/k/si02_k_48nm_co_10_nm.csv', header=None, names=column_names)\n",
    "data_50nm = pd.read_csv('/Users/missbo/Desktop/Inżynierka/Elipsometr/k/si02_k_50nm_co_10_nm.csv', header=None, names=column_names)\n"
   ]
  },
  {
   "cell_type": "markdown",
   "metadata": {},
   "source": [
    "Add column Thickness"
   ]
  },
  {
   "cell_type": "code",
   "execution_count": 117,
   "metadata": {},
   "outputs": [],
   "source": [
    "data_1nm['Thickness'] = 1\n",
    "data_2nm['Thickness'] = 2\n",
    "data_3nm['Thickness'] = 3\n",
    "data_4nm['Thickness'] = 4\n",
    "data_5nm['Thickness'] = 5\n",
    "data_6nm['Thickness'] = 6\n",
    "data_7nm['Thickness'] = 7\n",
    "data_8nm['Thickness'] = 8\n",
    "data_9nm['Thickness'] = 9\n",
    "data_10nm['Thickness'] = 10\n",
    "data_11nm['Thickness'] = 11\n",
    "data_12nm['Thickness'] = 12\n",
    "data_13nm['Thickness'] = 13\n",
    "data_14nm['Thickness'] = 14\n",
    "data_15nm['Thickness'] = 15\n",
    "data_16nm['Thickness'] = 16\n",
    "data_17nm['Thickness'] = 17\n",
    "data_18nm['Thickness'] = 18\n",
    "data_19nm['Thickness'] = 19\n",
    "data_20nm['Thickness'] = 20\n",
    "data_21nm['Thickness'] = 21\n",
    "data_22nm['Thickness'] = 22\n",
    "data_23nm['Thickness'] = 23\n",
    "data_24nm['Thickness'] = 24\n",
    "data_25nm['Thickness'] = 25\n",
    "data_26nm['Thickness'] = 26\n",
    "data_27nm['Thickness'] = 27\n",
    "data_28nm['Thickness'] = 28\n",
    "data_29nm['Thickness'] = 29\n",
    "data_30nm['Thickness'] = 30\n",
    "data_32nm['Thickness'] = 32\n",
    "data_34nm['Thickness'] = 34\n",
    "data_36nm['Thickness'] = 36\n",
    "data_38nm['Thickness'] = 38\n",
    "data_40nm['Thickness'] = 40\n",
    "data_42nm['Thickness'] = 42\n",
    "data_44nm['Thickness'] = 44\n",
    "data_46nm['Thickness'] = 46\n",
    "data_48nm['Thickness'] = 48\n",
    "data_50nm['Thickness'] = 50"
   ]
  },
  {
   "cell_type": "markdown",
   "metadata": {},
   "source": [
    "Combine data"
   ]
  },
  {
   "cell_type": "code",
   "execution_count": 118,
   "metadata": {},
   "outputs": [
    {
     "name": "stdout",
     "output_type": "stream",
     "text": [
      "   Wavelength      65      70      75  Thickness\n",
      "0         300  4.2748  4.2745  4.2742          1\n",
      "1         310  3.7219  3.7215  3.7213          1\n",
      "2         320  3.4367  3.4363  3.4361          1\n",
      "3         330  3.2554  3.2551  3.2549          1\n",
      "4         340  3.1435  3.1432  3.1430          1\n"
     ]
    }
   ],
   "source": [
    "frames = [data_1nm, data_2nm, data_3nm, data_4nm, data_5nm, data_6nm, data_7nm, data_8nm, data_9nm, data_10nm, data_11nm, data_12nm, data_13nm, data_14nm, data_15nm, data_16nm, data_17nm, data_18nm, data_19nm, data_20nm, data_21nm, data_22nm, data_23nm, data_24nm, data_25nm, data_26nm, data_27nm, data_28nm, data_29nm, data_30nm, data_32nm, data_34nm, data_36nm, data_38nm, data_40nm, data_42nm, data_44nm, data_46nm, data_48nm, data_50nm]\n",
    "combined_data = pd.concat(frames)\n",
    "combined_data=combined_data.fillna(0)\n",
    "print(combined_data.head())"
   ]
  },
  {
   "cell_type": "markdown",
   "metadata": {},
   "source": [
    "Train model"
   ]
  },
  {
   "cell_type": "code",
   "execution_count": 119,
   "metadata": {},
   "outputs": [
    {
     "name": "stdout",
     "output_type": "stream",
     "text": [
      "Mean Squared Error: 9.962613438967137\n",
      "R^2 Score: 0.946482538429687\n",
      "Mean Absolute Percentage Error (MAE): 1.3293603286384976\n",
      "Symmetric Mean Absolute Percentage Error: 7.074442713010812\n",
      "Standard Deviation:0.9016376642219213\n"
     ]
    }
   ],
   "source": [
    "X = combined_data.drop('Thickness', axis = 1)\n",
    "y = combined_data['Thickness']\n",
    "\n",
    "X_train, X_test, y_train, y_test = train_test_split(X, y, test_size=0.2, random_state=42)\n",
    "\n",
    "rf_regressor = RandomForestRegressor(n_estimators=300, random_state= 42)\n",
    "rf_regressor.fit(X_train, y_train)\n",
    "\n",
    "y_pred = rf_regressor.predict(X_test)\n",
    "\n",
    "def calculate_smape(y_test, y_pred):\n",
    "    numerator = np.abs(y_test - y_pred)\n",
    "    denominator = (np.abs(y_test) + np.abs(y_pred)) / 2\n",
    "    smape = np.mean(numerator / denominator) * 100\n",
    "    return smape\n",
    "\n",
    "mse = mean_squared_error(y_test, y_pred)\n",
    "r2 = r2_score(y_test, y_pred)\n",
    "mae = mean_absolute_error(y_test, y_pred)\n",
    "smape = calculate_smape(y_test,y_pred)\n",
    "# Odchylenie standardowe zbioru uczącego\n",
    "standard_deviation = statistics.stdev(X_train['65'])\n",
    "\n",
    "print(f'Mean Squared Error: {mse}')\n",
    "print(f'R^2 Score: {r2}')\n",
    "print(f\"Mean Absolute Percentage Error (MAE): {mae}\")\n",
    "print(f'Symmetric Mean Absolute Percentage Error: {smape}')\n",
    "print(f'Standard Deviation:{standard_deviation}')"
   ]
  },
  {
   "cell_type": "markdown",
   "metadata": {},
   "source": [
    "Predict new data "
   ]
  },
  {
   "cell_type": "code",
   "execution_count": 120,
   "metadata": {},
   "outputs": [],
   "source": [
    "import os\n",
    "\n",
    "folder_path = '/Users/missbo/Desktop/Inżynierka/Elipsometr/k/k_exp'\n",
    "output_folder = '/Users/missbo/Desktop/Inżynierka/Elipsometr/Files_results/RF_300/RF_k'\n",
    "\n",
    "os.makedirs(output_folder, exist_ok=True)\n",
    "\n",
    "for file_name in os.listdir(folder_path):\n",
    "    if file_name.endswith('.csv'):\n",
    "        file_path = os.path.join(folder_path, file_name)\n",
    "        \n",
    "        new_data = pd.read_csv(file_path, header=None, names=column_names)\n",
    "        \n",
    "        missing_cols = set(X.columns) - set(new_data.columns)\n",
    "        if missing_cols:\n",
    "            raise ValueError(f\"New data is missing columns: {missing_cols}\")\n",
    "        \n",
    "        new_predictions = rf_regressor.predict(new_data)\n",
    "        new_data['Thickness'] = new_predictions\n",
    "\n",
    "        thickness = file_name.split('_')[2].replace('nm', '')\n",
    "        \n",
    "        output_file = os.path.join(output_folder, f\"RF_k_{thickness}_nm\")\n",
    "        \n",
    "        with open(output_file, 'w') as plik:\n",
    "            for prediction in new_predictions:\n",
    "                plik.write(f\"{prediction:.2f}\\n\")"
   ]
  },
  {
   "cell_type": "code",
   "execution_count": 122,
   "metadata": {},
   "outputs": [],
   "source": [
    "directory = \"/Users/missbo/Desktop/Inżynierka/Elipsometr/k/k_exp\"\n",
    "\n",
    "for filename in os.listdir(directory):\n",
    "    f = os.path.join(directory, filename)\n",
    "    if os.path.isfile(f):\n",
    "        new_data = pd.read_csv(f, header=None, names=column_names, encoding='ISO-8859-1')\n",
    "        new_predictions = rf_regressor.predict(new_data)\n",
    "        new_data['Thickness'] = new_predictions\n",
    "        result = new_data['Thickness'].median()\n",
    "        \n",
    "        \n",
    "        with open(\"/Users/missbo/Desktop/Inżynierka/Elipsometr/results.txt\", 'a') as file_results:\n",
    "            file_results.write(str(result))\n",
    "            file_results.write(\" \")\n",
    "            #file_results.write(str(filename))\n",
    "            file_results.write('\\n')"
   ]
  },
  {
   "cell_type": "code",
   "execution_count": 123,
   "metadata": {},
   "outputs": [],
   "source": [
    "with open(\"/Users/missbo/Desktop/Inżynierka/Elipsometr/results.txt\", 'w') as file:\n",
    "    pass"
   ]
  },
  {
   "cell_type": "markdown",
   "metadata": {},
   "source": [
    "delta"
   ]
  },
  {
   "cell_type": "markdown",
   "metadata": {},
   "source": [
    "Import data "
   ]
  },
  {
   "cell_type": "code",
   "execution_count": 124,
   "metadata": {},
   "outputs": [],
   "source": [
    "column_names = ['Wavelength', '65', '70', '75']\n",
    "data_1nm = pd.read_csv('/Users/missbo/Desktop/Inżynierka/Elipsometr/delta/si02_delta_1nm_co_10_nm.csv', header=None, names=column_names)\n",
    "data_2nm = pd.read_csv('/Users/missbo/Desktop/Inżynierka/Elipsometr/delta/si02_delta_2nm_co_10_nm.csv', header=None, names=column_names)\n",
    "data_3nm = pd.read_csv('/Users/missbo/Desktop/Inżynierka/Elipsometr/delta/si02_delta_3nm_co_10_nm.csv', header=None, names=column_names)\n",
    "data_4nm = pd.read_csv('/Users/missbo/Desktop/Inżynierka/Elipsometr/delta/si02_delta_4nm_co_10_nm.csv', header=None, names=column_names)\n",
    "data_5nm = pd.read_csv('/Users/missbo/Desktop/Inżynierka/Elipsometr/delta/si02_delta_5nm_co_10_nm.csv', header=None, names=column_names)\n",
    "data_6nm = pd.read_csv('/Users/missbo/Desktop/Inżynierka/Elipsometr/delta/si02_delta_6nm_co_10_nm.csv', header=None, names=column_names)\n",
    "data_7nm = pd.read_csv('/Users/missbo/Desktop/Inżynierka/Elipsometr/delta/si02_delta_7nm_co_10_nm.csv', header=None, names=column_names)\n",
    "data_8nm = pd.read_csv('/Users/missbo/Desktop/Inżynierka/Elipsometr/delta/si02_delta_8nm_co_10_nm.csv', header=None, names=column_names)\n",
    "data_9nm = pd.read_csv('/Users/missbo/Desktop/Inżynierka/Elipsometr/delta/si02_delta_9nm_co_10_nm.csv', header=None, names=column_names)\n",
    "data_10nm = pd.read_csv('/Users/missbo/Desktop/Inżynierka/Elipsometr/delta/si02_delta_10nm_co_10_nm.csv', header=None, names=column_names)\n",
    "data_11nm = pd.read_csv('/Users/missbo/Desktop/Inżynierka/Elipsometr/delta/si02_delta_11nm_co_10_nm.csv', header=None, names=column_names)\n",
    "data_12nm = pd.read_csv('/Users/missbo/Desktop/Inżynierka/Elipsometr/delta/si02_delta_12nm_co_10_nm.csv', header=None, names=column_names)\n",
    "data_13nm = pd.read_csv('/Users/missbo/Desktop/Inżynierka/Elipsometr/delta/si02_delta_13nm_co_10_nm.csv', header=None, names=column_names)\n",
    "data_14nm = pd.read_csv('/Users/missbo/Desktop/Inżynierka/Elipsometr/delta/si02_delta_14nm_co_10_nm.csv', header=None, names=column_names)\n",
    "data_15nm = pd.read_csv('/Users/missbo/Desktop/Inżynierka/Elipsometr/delta/si02_delta_15nm_co_10_nm.csv', header=None, names=column_names)\n",
    "data_16nm = pd.read_csv('/Users/missbo/Desktop/Inżynierka/Elipsometr/delta/si02_delta_16nm_co_10_nm.csv', header=None, names=column_names)\n",
    "data_17nm = pd.read_csv('/Users/missbo/Desktop/Inżynierka/Elipsometr/delta/si02_delta_17nm_co_10_nm.csv', header=None, names=column_names)\n",
    "data_18nm = pd.read_csv('/Users/missbo/Desktop/Inżynierka/Elipsometr/delta/si02_delta_18nm_co_10_nm.csv', header=None, names=column_names)\n",
    "data_19nm = pd.read_csv('/Users/missbo/Desktop/Inżynierka/Elipsometr/delta/si02_delta_19nm_co_10_nm.csv', header=None, names=column_names)\n",
    "data_20nm = pd.read_csv('/Users/missbo/Desktop/Inżynierka/Elipsometr/delta/si02_delta_20nm_co_10_nm.csv', header=None, names=column_names)\n",
    "data_21nm = pd.read_csv('/Users/missbo/Desktop/Inżynierka/Elipsometr/delta/si02_delta_21nm_co_10_nm.csv', header=None, names=column_names)\n",
    "data_22nm = pd.read_csv('/Users/missbo/Desktop/Inżynierka/Elipsometr/delta/si02_delta_22nm_co_10_nm.csv', header=None, names=column_names)\n",
    "data_23nm = pd.read_csv('/Users/missbo/Desktop/Inżynierka/Elipsometr/delta/si02_delta_23nm_co_10_nm.csv', header=None, names=column_names)\n",
    "data_24nm = pd.read_csv('/Users/missbo/Desktop/Inżynierka/Elipsometr/delta/si02_delta_24nm_co_10_nm.csv', header=None, names=column_names)\n",
    "data_25nm = pd.read_csv('/Users/missbo/Desktop/Inżynierka/Elipsometr/delta/si02_delta_25nm_co_10_nm.csv', header=None, names=column_names)\n",
    "data_26nm = pd.read_csv('/Users/missbo/Desktop/Inżynierka/Elipsometr/delta/si02_delta_26nm_co_10_nm.csv', header=None, names=column_names)\n",
    "data_27nm = pd.read_csv('/Users/missbo/Desktop/Inżynierka/Elipsometr/delta/si02_delta_27nm_co_10_nm.csv', header=None, names=column_names)\n",
    "data_28nm = pd.read_csv('/Users/missbo/Desktop/Inżynierka/Elipsometr/delta/si02_delta_28nm_co_10_nm.csv', header=None, names=column_names)\n",
    "data_29nm = pd.read_csv('/Users/missbo/Desktop/Inżynierka/Elipsometr/delta/si02_delta_29nm_co_10_nm.csv', header=None, names=column_names)\n",
    "data_30nm = pd.read_csv('/Users/missbo/Desktop/Inżynierka/Elipsometr/delta/si02_delta_30nm_co_10_nm.csv', header=None, names=column_names)\n",
    "data_32nm = pd.read_csv('/Users/missbo/Desktop/Inżynierka/Elipsometr/delta/si02_delta_32nm_co_10_nm.csv', header=None, names=column_names)\n",
    "data_34nm = pd.read_csv('/Users/missbo/Desktop/Inżynierka/Elipsometr/delta/si02_delta_34nm_co_10_nm.csv', header=None, names=column_names)\n",
    "data_36nm = pd.read_csv('/Users/missbo/Desktop/Inżynierka/Elipsometr/delta/si02_delta_36nm_co_10_nm.csv', header=None, names=column_names)\n",
    "data_38nm = pd.read_csv('/Users/missbo/Desktop/Inżynierka/Elipsometr/delta/si02_delta_38nm_co_10_nm.csv', header=None, names=column_names)\n",
    "data_40nm = pd.read_csv('/Users/missbo/Desktop/Inżynierka/Elipsometr/delta/si02_delta_40nm_co_10_nm.csv', header=None, names=column_names)\n",
    "data_42nm = pd.read_csv('/Users/missbo/Desktop/Inżynierka/Elipsometr/delta/si02_delta_42nm_co_10_nm.csv', header=None, names=column_names)\n",
    "data_44nm = pd.read_csv('/Users/missbo/Desktop/Inżynierka/Elipsometr/delta/si02_delta_44nm_co_10_nm.csv', header=None, names=column_names)\n",
    "data_46nm = pd.read_csv('/Users/missbo/Desktop/Inżynierka/Elipsometr/delta/si02_delta_46nm_co_10_nm.csv', header=None, names=column_names)\n",
    "data_48nm = pd.read_csv('/Users/missbo/Desktop/Inżynierka/Elipsometr/delta/si02_delta_48nm_co_10_nm.csv', header=None, names=column_names)\n",
    "data_50nm = pd.read_csv('/Users/missbo/Desktop/Inżynierka/Elipsometr/delta/si02_delta_50nm_co_10_nm.csv', header=None, names=column_names)\n"
   ]
  },
  {
   "cell_type": "markdown",
   "metadata": {},
   "source": [
    "Add column Thickness"
   ]
  },
  {
   "cell_type": "code",
   "execution_count": 125,
   "metadata": {},
   "outputs": [],
   "source": [
    "data_1nm['Thickness'] = 1\n",
    "data_2nm['Thickness'] = 2\n",
    "data_3nm['Thickness'] = 3\n",
    "data_4nm['Thickness'] = 4\n",
    "data_5nm['Thickness'] = 5\n",
    "data_6nm['Thickness'] = 6\n",
    "data_7nm['Thickness'] = 7\n",
    "data_8nm['Thickness'] = 8\n",
    "data_9nm['Thickness'] = 9\n",
    "data_10nm['Thickness'] = 10\n",
    "data_11nm['Thickness'] = 11\n",
    "data_12nm['Thickness'] = 12\n",
    "data_13nm['Thickness'] = 13\n",
    "data_14nm['Thickness'] = 14\n",
    "data_15nm['Thickness'] = 15\n",
    "data_16nm['Thickness'] = 16\n",
    "data_17nm['Thickness'] = 17\n",
    "data_18nm['Thickness'] = 18\n",
    "data_19nm['Thickness'] = 19\n",
    "data_20nm['Thickness'] = 20\n",
    "data_21nm['Thickness'] = 21\n",
    "data_22nm['Thickness'] = 22\n",
    "data_23nm['Thickness'] = 23\n",
    "data_24nm['Thickness'] = 24\n",
    "data_25nm['Thickness'] = 25\n",
    "data_26nm['Thickness'] = 26\n",
    "data_27nm['Thickness'] = 27\n",
    "data_28nm['Thickness'] = 28\n",
    "data_29nm['Thickness'] = 29\n",
    "data_30nm['Thickness'] = 30\n",
    "data_32nm['Thickness'] = 32\n",
    "data_34nm['Thickness'] = 34\n",
    "data_36nm['Thickness'] = 36\n",
    "data_38nm['Thickness'] = 38\n",
    "data_40nm['Thickness'] = 40\n",
    "data_42nm['Thickness'] = 42\n",
    "data_44nm['Thickness'] = 44\n",
    "data_46nm['Thickness'] = 46\n",
    "data_48nm['Thickness'] = 48\n",
    "data_50nm['Thickness'] = 50"
   ]
  },
  {
   "cell_type": "markdown",
   "metadata": {},
   "source": [
    "Combine data "
   ]
  },
  {
   "cell_type": "code",
   "execution_count": 126,
   "metadata": {},
   "outputs": [
    {
     "name": "stdout",
     "output_type": "stream",
     "text": [
      "   Wavelength      65      70      75  Thickness\n",
      "0         300  154.89  145.87  130.46          1\n",
      "1         310  155.53  146.37  130.12          1\n",
      "2         320  156.19  147.05  130.41          1\n",
      "3         330  157.08  148.12  131.48          1\n",
      "4         340  158.13  149.48  133.16          1\n"
     ]
    }
   ],
   "source": [
    "frames = [data_1nm, data_2nm, data_3nm, data_4nm, data_5nm, data_6nm, data_7nm, data_8nm, data_9nm, data_10nm, data_11nm, data_12nm, data_13nm, data_14nm, data_15nm, data_16nm, data_17nm, data_18nm, data_19nm, data_20nm, data_21nm, data_22nm, data_23nm, data_24nm, data_25nm, data_26nm, data_27nm, data_28nm, data_29nm, data_30nm, data_32nm, data_34nm, data_36nm, data_38nm, data_40nm, data_42nm, data_44nm, data_46nm, data_48nm, data_50nm]\n",
    "combined_data = pd.concat(frames)\n",
    "combined_data=combined_data.fillna(0)\n",
    "print(combined_data.head())"
   ]
  },
  {
   "cell_type": "markdown",
   "metadata": {},
   "source": [
    "Train model "
   ]
  },
  {
   "cell_type": "code",
   "execution_count": 127,
   "metadata": {},
   "outputs": [
    {
     "name": "stdout",
     "output_type": "stream",
     "text": [
      "Mean Squared Error: 1.1794753325508605\n",
      "R^2 Score: 0.9936640595191589\n",
      "Mean Absolute Percentage Error (MAE): 0.33148474178403753\n",
      "Symmetric Mean Absolute Percentage Error: 1.6904535040398725\n",
      "Standard Deviation:19.53471010524313\n"
     ]
    }
   ],
   "source": [
    "X = combined_data.drop('Thickness', axis = 1)\n",
    "y = combined_data['Thickness']\n",
    "\n",
    "X_train, X_test, y_train, y_test = train_test_split(X, y, test_size=0.2, random_state=42)\n",
    "\n",
    "rf_regressor = RandomForestRegressor(n_estimators=300, random_state= 42)\n",
    "rf_regressor.fit(X_train, y_train)\n",
    "\n",
    "y_pred = rf_regressor.predict(X_test)\n",
    "\n",
    "def calculate_smape(y_test, y_pred):\n",
    "    numerator = np.abs(y_test - y_pred)\n",
    "    denominator = (np.abs(y_test) + np.abs(y_pred)) / 2\n",
    "    smape = np.mean(numerator / denominator) * 100\n",
    "    return smape\n",
    "\n",
    "mse = mean_squared_error(y_test, y_pred)\n",
    "r2 = r2_score(y_test, y_pred)\n",
    "mae = mean_absolute_error(y_test, y_pred)\n",
    "smape = calculate_smape(y_test,y_pred)\n",
    "# Odchylenie standardowe zbioru uczącego\n",
    "standard_deviation = statistics.stdev(X_train['65'])\n",
    "\n",
    "print(f'Mean Squared Error: {mse}')\n",
    "print(f'R^2 Score: {r2}')\n",
    "print(f\"Mean Absolute Percentage Error (MAE): {mae}\")\n",
    "print(f'Symmetric Mean Absolute Percentage Error: {smape}')\n",
    "print(f'Standard Deviation:{standard_deviation}')"
   ]
  },
  {
   "cell_type": "markdown",
   "metadata": {},
   "source": [
    "Predict new data "
   ]
  },
  {
   "cell_type": "code",
   "execution_count": 128,
   "metadata": {},
   "outputs": [],
   "source": [
    "import os\n",
    "\n",
    "folder_path = '/Users/missbo/Desktop/Inżynierka/Elipsometr/delta/delta_exp'\n",
    "output_folder = '/Users/missbo/Desktop/Inżynierka/Elipsometr/Files_results/RF_300/RF_delta'\n",
    "\n",
    "os.makedirs(output_folder, exist_ok=True)\n",
    "\n",
    "for file_name in os.listdir(folder_path):\n",
    "    if file_name.endswith('.csv'):\n",
    "        file_path = os.path.join(folder_path, file_name)\n",
    "        \n",
    "        new_data = pd.read_csv(file_path, header=None, names=column_names)\n",
    "        \n",
    "        missing_cols = set(X.columns) - set(new_data.columns)\n",
    "        if missing_cols:\n",
    "            raise ValueError(f\"New data is missing columns: {missing_cols}\")\n",
    "        \n",
    "        new_predictions = rf_regressor.predict(new_data)\n",
    "        new_data['Thickness'] = new_predictions\n",
    "\n",
    "        thickness = file_name.split('_')[2].replace('nm', '')\n",
    "        \n",
    "        output_file = os.path.join(output_folder, f\"RF_delta_{thickness}_nm\")\n",
    "        \n",
    "        with open(output_file, 'w') as plik:\n",
    "            for prediction in new_predictions:\n",
    "                plik.write(f\"{prediction:.2f}\\n\")"
   ]
  },
  {
   "cell_type": "code",
   "execution_count": 130,
   "metadata": {},
   "outputs": [],
   "source": [
    "directory = \"/Users/missbo/Desktop/Inżynierka/Elipsometr/delta/delta_exp\"\n",
    "\n",
    "for filename in os.listdir(directory):\n",
    "    f = os.path.join(directory, filename)\n",
    "    if os.path.isfile(f):\n",
    "        new_data = pd.read_csv(f, header=None, names=column_names, encoding='ISO-8859-1')\n",
    "        new_predictions = rf_regressor.predict(new_data)\n",
    "        new_data['Thickness'] = new_predictions\n",
    "        result = new_data['Thickness'].median()\n",
    "        \n",
    "        \n",
    "        with open(\"/Users/missbo/Desktop/Inżynierka/Elipsometr/results.txt\", 'a') as file_results:\n",
    "            file_results.write(str(result))\n",
    "            file_results.write(\" \")\n",
    "            #file_results.write(str(filename))\n",
    "            file_results.write('\\n')"
   ]
  },
  {
   "cell_type": "code",
   "execution_count": 131,
   "metadata": {},
   "outputs": [],
   "source": [
    "with open(\"/Users/missbo/Desktop/Inżynierka/Elipsometr/results.txt\", 'w') as file:\n",
    "    pass"
   ]
  },
  {
   "cell_type": "markdown",
   "metadata": {},
   "source": [
    "cos2psi"
   ]
  },
  {
   "cell_type": "markdown",
   "metadata": {},
   "source": [
    "Import data"
   ]
  },
  {
   "cell_type": "code",
   "execution_count": 132,
   "metadata": {},
   "outputs": [],
   "source": [
    "column_names = ['Wavelength', '65', '70', '75']\n",
    "data_1nm = pd.read_csv('/Users/missbo/Desktop/Inżynierka/Elipsometr/cos2psi/sio2_cos2psi_1nm_co_10_nm.csv', header=None, names=column_names)\n",
    "data_2nm = pd.read_csv('/Users/missbo/Desktop/Inżynierka/Elipsometr/cos2psi/sio2_cos2psi_2nm_co_10_nm.csv', header=None, names=column_names)\n",
    "data_3nm = pd.read_csv('/Users/missbo/Desktop/Inżynierka/Elipsometr/cos2psi/sio2_cos2psi_3nm_co_10_nm.csv', header=None, names=column_names)\n",
    "data_4nm = pd.read_csv('/Users/missbo/Desktop/Inżynierka/Elipsometr/cos2psi/sio2_cos2psi_4nm_co_10_nm.csv', header=None, names=column_names)\n",
    "data_5nm = pd.read_csv('/Users/missbo/Desktop/Inżynierka/Elipsometr/cos2psi/sio2_cos2psi_5nm_co_10_nm.csv', header=None, names=column_names)\n",
    "data_6nm = pd.read_csv('/Users/missbo/Desktop/Inżynierka/Elipsometr/cos2psi/sio2_cos2psi_6nm_co_10_nm.csv', header=None, names=column_names)\n",
    "data_7nm = pd.read_csv('/Users/missbo/Desktop/Inżynierka/Elipsometr/cos2psi/sio2_cos2psi_7nm_co_10_nm.csv', header=None, names=column_names)\n",
    "data_8nm = pd.read_csv('/Users/missbo/Desktop/Inżynierka/Elipsometr/cos2psi/sio2_cos2psi_8nm_co_10_nm.csv', header=None, names=column_names)\n",
    "data_9nm = pd.read_csv('/Users/missbo/Desktop/Inżynierka/Elipsometr/cos2psi/sio2_cos2psi_9nm_co_10_nm.csv', header=None, names=column_names)\n",
    "data_10nm = pd.read_csv('/Users/missbo/Desktop/Inżynierka/Elipsometr/cos2psi/sio2_cos2psi_10nm_co_10_nm.csv', header=None, names=column_names)\n",
    "data_11nm = pd.read_csv('/Users/missbo/Desktop/Inżynierka/Elipsometr/cos2psi/sio2_cos2psi_11nm_co_10_nm.csv', header=None, names=column_names)\n",
    "data_12nm = pd.read_csv('/Users/missbo/Desktop/Inżynierka/Elipsometr/cos2psi/sio2_cos2psi_12nm_co_10_nm.csv', header=None, names=column_names)\n",
    "data_13nm = pd.read_csv('/Users/missbo/Desktop/Inżynierka/Elipsometr/cos2psi/sio2_cos2psi_13nm_co_10_nm.csv', header=None, names=column_names)\n",
    "data_14nm = pd.read_csv('/Users/missbo/Desktop/Inżynierka/Elipsometr/cos2psi/sio2_cos2psi_14nm_co_10_nm.csv', header=None, names=column_names)\n",
    "data_15nm = pd.read_csv('/Users/missbo/Desktop/Inżynierka/Elipsometr/cos2psi/sio2_cos2psi_15nm_co_10_nm.csv', header=None, names=column_names)\n",
    "data_16nm = pd.read_csv('/Users/missbo/Desktop/Inżynierka/Elipsometr/cos2psi/sio2_cos2psi_16nm_co_10_nm.csv', header=None, names=column_names)\n",
    "data_17nm = pd.read_csv('/Users/missbo/Desktop/Inżynierka/Elipsometr/cos2psi/sio2_cos2psi_17nm_co_10_nm.csv', header=None, names=column_names)\n",
    "data_18nm = pd.read_csv('/Users/missbo/Desktop/Inżynierka/Elipsometr/cos2psi/sio2_cos2psi_18nm_co_10_nm.csv', header=None, names=column_names)\n",
    "data_19nm = pd.read_csv('/Users/missbo/Desktop/Inżynierka/Elipsometr/cos2psi/sio2_cos2psi_19nm_co_10_nm.csv', header=None, names=column_names)\n",
    "data_20nm = pd.read_csv('/Users/missbo/Desktop/Inżynierka/Elipsometr/cos2psi/sio2_cos2psi_20nm_co_10_nm.csv', header=None, names=column_names)\n",
    "data_21nm = pd.read_csv('/Users/missbo/Desktop/Inżynierka/Elipsometr/cos2psi/sio2_cos2psi_21nm_co_10_nm.csv', header=None, names=column_names)\n",
    "data_22nm = pd.read_csv('/Users/missbo/Desktop/Inżynierka/Elipsometr/cos2psi/sio2_cos2psi_22nm_co_10_nm.csv', header=None, names=column_names)\n",
    "data_23nm = pd.read_csv('/Users/missbo/Desktop/Inżynierka/Elipsometr/cos2psi/sio2_cos2psi_23nm_co_10_nm.csv', header=None, names=column_names)\n",
    "data_24nm = pd.read_csv('/Users/missbo/Desktop/Inżynierka/Elipsometr/cos2psi/sio2_cos2psi_24nm_co_10_nm.csv', header=None, names=column_names)\n",
    "data_25nm = pd.read_csv('/Users/missbo/Desktop/Inżynierka/Elipsometr/cos2psi/sio2_cos2psi_25nm_co_10_nm.csv', header=None, names=column_names)\n",
    "data_26nm = pd.read_csv('/Users/missbo/Desktop/Inżynierka/Elipsometr/cos2psi/sio2_cos2psi_26nm_co_10_nm.csv', header=None, names=column_names)\n",
    "data_27nm = pd.read_csv('/Users/missbo/Desktop/Inżynierka/Elipsometr/cos2psi/sio2_cos2psi_27nm_co_10_nm.csv', header=None, names=column_names)\n",
    "data_28nm = pd.read_csv('/Users/missbo/Desktop/Inżynierka/Elipsometr/cos2psi/sio2_cos2psi_28nm_co_10_nm.csv', header=None, names=column_names)\n",
    "data_29nm = pd.read_csv('/Users/missbo/Desktop/Inżynierka/Elipsometr/cos2psi/sio2_cos2psi_29nm_co_10_nm.csv', header=None, names=column_names)\n",
    "data_30nm = pd.read_csv('/Users/missbo/Desktop/Inżynierka/Elipsometr/cos2psi/sio2_cos2psi_30nm_co_10_nm.csv', header=None, names=column_names)\n",
    "data_32nm = pd.read_csv('/Users/missbo/Desktop/Inżynierka/Elipsometr/cos2psi/sio2_cos2psi_32nm_co_10_nm.csv', header=None, names=column_names)\n",
    "data_34nm = pd.read_csv('/Users/missbo/Desktop/Inżynierka/Elipsometr/cos2psi/sio2_cos2psi_34nm_co_10_nm.csv', header=None, names=column_names)\n",
    "data_36nm = pd.read_csv('/Users/missbo/Desktop/Inżynierka/Elipsometr/cos2psi/sio2_cos2psi_36nm_co_10_nm.csv', header=None, names=column_names)\n",
    "data_38nm = pd.read_csv('/Users/missbo/Desktop/Inżynierka/Elipsometr/cos2psi/sio2_cos2psi_38nm_co_10_nm.csv', header=None, names=column_names)\n",
    "data_40nm = pd.read_csv('/Users/missbo/Desktop/Inżynierka/Elipsometr/cos2psi/sio2_cos2psi_40nm_co_10_nm.csv', header=None, names=column_names)\n",
    "data_42nm = pd.read_csv('/Users/missbo/Desktop/Inżynierka/Elipsometr/cos2psi/sio2_cos2psi_42nm_co_10_nm.csv', header=None, names=column_names)\n",
    "data_44nm = pd.read_csv('/Users/missbo/Desktop/Inżynierka/Elipsometr/cos2psi/sio2_cos2psi_44nm_co_10_nm.csv', header=None, names=column_names)\n",
    "data_46nm = pd.read_csv('/Users/missbo/Desktop/Inżynierka/Elipsometr/cos2psi/sio2_cos2psi_46nm_co_10_nm.csv', header=None, names=column_names)\n",
    "data_48nm = pd.read_csv('/Users/missbo/Desktop/Inżynierka/Elipsometr/cos2psi/sio2_cos2psi_48nm_co_10_nm.csv', header=None, names=column_names)\n",
    "data_50nm = pd.read_csv('/Users/missbo/Desktop/Inżynierka/Elipsometr/cos2psi/sio2_cos2psi_50nm_co_10_nm.csv', header=None, names=column_names)\n",
    "\n"
   ]
  },
  {
   "cell_type": "markdown",
   "metadata": {},
   "source": [
    "Add column Thickness"
   ]
  },
  {
   "cell_type": "code",
   "execution_count": 133,
   "metadata": {},
   "outputs": [],
   "source": [
    "data_1nm['Thickness'] = 1\n",
    "data_2nm['Thickness'] = 2\n",
    "data_3nm['Thickness'] = 3\n",
    "data_4nm['Thickness'] = 4\n",
    "data_5nm['Thickness'] = 5\n",
    "data_6nm['Thickness'] = 6\n",
    "data_7nm['Thickness'] = 7\n",
    "data_8nm['Thickness'] = 8\n",
    "data_9nm['Thickness'] = 9\n",
    "data_10nm['Thickness'] = 10\n",
    "data_11nm['Thickness'] = 11\n",
    "data_12nm['Thickness'] = 12\n",
    "data_13nm['Thickness'] = 13\n",
    "data_14nm['Thickness'] = 14\n",
    "data_15nm['Thickness'] = 15\n",
    "data_16nm['Thickness'] = 16\n",
    "data_17nm['Thickness'] = 17\n",
    "data_18nm['Thickness'] = 18\n",
    "data_19nm['Thickness'] = 19\n",
    "data_20nm['Thickness'] = 20\n",
    "data_21nm['Thickness'] = 21\n",
    "data_22nm['Thickness'] = 22\n",
    "data_23nm['Thickness'] = 23\n",
    "data_24nm['Thickness'] = 24\n",
    "data_25nm['Thickness'] = 25\n",
    "data_26nm['Thickness'] = 26\n",
    "data_27nm['Thickness'] = 27\n",
    "data_28nm['Thickness'] = 28\n",
    "data_29nm['Thickness'] = 29\n",
    "data_30nm['Thickness'] = 30\n",
    "data_32nm['Thickness'] = 32\n",
    "data_34nm['Thickness'] = 34\n",
    "data_36nm['Thickness'] = 36\n",
    "data_38nm['Thickness'] = 38\n",
    "data_40nm['Thickness'] = 40\n",
    "data_42nm['Thickness'] = 42\n",
    "data_44nm['Thickness'] = 44\n",
    "data_46nm['Thickness'] = 46\n",
    "data_48nm['Thickness'] = 48\n",
    "data_50nm['Thickness'] = 50"
   ]
  },
  {
   "cell_type": "markdown",
   "metadata": {},
   "source": [
    "Combine data "
   ]
  },
  {
   "cell_type": "code",
   "execution_count": 134,
   "metadata": {},
   "outputs": [
    {
     "name": "stdout",
     "output_type": "stream",
     "text": [
      "   Wavelength       65       70       75  Thickness\n",
      "0         300  0.41603  0.51776  0.63546          1\n",
      "1         310  0.46140  0.57096  0.69347          1\n",
      "2         320  0.48416  0.59767  0.72271          1\n",
      "3         330  0.49737  0.61374  0.74155          1\n",
      "4         340  0.50371  0.62225  0.75323          1\n"
     ]
    }
   ],
   "source": [
    "frames = [data_1nm, data_2nm, data_3nm, data_4nm, data_5nm, data_6nm, data_7nm, data_8nm, data_9nm, data_10nm, data_11nm, data_12nm, data_13nm, data_14nm, data_15nm, data_16nm, data_17nm, data_18nm, data_19nm, data_20nm, data_21nm, data_22nm, data_23nm, data_24nm, data_25nm, data_26nm, data_27nm, data_28nm, data_29nm, data_30nm, data_32nm, data_34nm, data_36nm, data_38nm, data_40nm, data_42nm, data_44nm, data_46nm, data_48nm, data_50nm]\n",
    "combined_data = pd.concat(frames)\n",
    "combined_data=combined_data.fillna(0)\n",
    "print(combined_data.head())"
   ]
  },
  {
   "cell_type": "markdown",
   "metadata": {},
   "source": [
    "Train model "
   ]
  },
  {
   "cell_type": "code",
   "execution_count": 135,
   "metadata": {},
   "outputs": [
    {
     "name": "stdout",
     "output_type": "stream",
     "text": [
      "Mean Squared Error: 0.28052652582159615\n",
      "R^2 Score: 0.9984930593104828\n",
      "Mean Absolute Percentage Error (MAE): 0.3279577464788732\n",
      "Symmetric Mean Absolute Percentage Error: 2.7831260901799695\n",
      "Standard Deviation:0.17257773529467094\n"
     ]
    }
   ],
   "source": [
    "X = combined_data.drop('Thickness', axis = 1)\n",
    "y = combined_data['Thickness']\n",
    "\n",
    "X_train, X_test, y_train, y_test = train_test_split(X, y, test_size=0.2, random_state=42)\n",
    "\n",
    "rf_regressor = RandomForestRegressor(n_estimators=300, random_state= 42)\n",
    "rf_regressor.fit(X_train, y_train)\n",
    "\n",
    "y_pred = rf_regressor.predict(X_test)\n",
    "\n",
    "def calculate_smape(y_test, y_pred):\n",
    "    numerator = np.abs(y_test - y_pred)\n",
    "    denominator = (np.abs(y_test) + np.abs(y_pred)) / 2\n",
    "    smape = np.mean(numerator / denominator) * 100\n",
    "    return smape\n",
    "\n",
    "mse = mean_squared_error(y_test, y_pred)\n",
    "r2 = r2_score(y_test, y_pred)\n",
    "mae = mean_absolute_error(y_test, y_pred)\n",
    "smape = calculate_smape(y_test,y_pred)\n",
    "# Odchylenie standardowe zbioru uczącego\n",
    "standard_deviation = statistics.stdev(X_train['65'])\n",
    "\n",
    "print(f'Mean Squared Error: {mse}')\n",
    "print(f'R^2 Score: {r2}')\n",
    "print(f\"Mean Absolute Percentage Error (MAE): {mae}\")\n",
    "print(f'Symmetric Mean Absolute Percentage Error: {smape}')\n",
    "print(f'Standard Deviation:{standard_deviation}')"
   ]
  },
  {
   "cell_type": "markdown",
   "metadata": {},
   "source": [
    "Predict new data "
   ]
  },
  {
   "cell_type": "code",
   "execution_count": 136,
   "metadata": {},
   "outputs": [],
   "source": [
    "import os\n",
    "\n",
    "folder_path = '/Users/missbo/Desktop/Inżynierka/Elipsometr/cos2psi/cos2psi_exp'\n",
    "output_folder = '/Users/missbo/Desktop/Inżynierka/Elipsometr/Files_results/RF_300/RF_cos2psi'\n",
    "\n",
    "os.makedirs(output_folder, exist_ok=True)\n",
    "\n",
    "for file_name in os.listdir(folder_path):\n",
    "    if file_name.endswith('.csv'):\n",
    "        file_path = os.path.join(folder_path, file_name)\n",
    "        \n",
    "        new_data = pd.read_csv(file_path, header=None, names=column_names)\n",
    "        \n",
    "        missing_cols = set(X.columns) - set(new_data.columns)\n",
    "        if missing_cols:\n",
    "            raise ValueError(f\"New data is missing columns: {missing_cols}\")\n",
    "        \n",
    "        new_predictions = rf_regressor.predict(new_data)\n",
    "        new_data['Thickness'] = new_predictions\n",
    "\n",
    "        thickness = file_name.split('_')[2].replace('nm', '')\n",
    "        \n",
    "        output_file = os.path.join(output_folder, f\"RF_cos2psi_{thickness}_nm\")\n",
    "        \n",
    "        with open(output_file, 'w') as plik:\n",
    "            for prediction in new_predictions:\n",
    "                plik.write(f\"{prediction:.2f}\\n\")"
   ]
  },
  {
   "cell_type": "code",
   "execution_count": 138,
   "metadata": {},
   "outputs": [],
   "source": [
    "directory = \"/Users/missbo/Desktop/Inżynierka/Elipsometr/cos2psi/cos2psi_exp\"\n",
    "\n",
    "for filename in os.listdir(directory):\n",
    "    f = os.path.join(directory, filename)\n",
    "    if os.path.isfile(f):\n",
    "        new_data = pd.read_csv(f, header=None, names=column_names, encoding='ISO-8859-1')\n",
    "        new_predictions = rf_regressor.predict(new_data)\n",
    "        new_data['Thickness'] = new_predictions\n",
    "        result = new_data['Thickness'].median()\n",
    "        \n",
    "        \n",
    "        with open(\"/Users/missbo/Desktop/Inżynierka/Elipsometr/results.txt\", 'a') as file_results:\n",
    "            file_results.write(str(result))\n",
    "            file_results.write(\" \")\n",
    "            #file_results.write(str(filename))\n",
    "            file_results.write('\\n')"
   ]
  },
  {
   "cell_type": "code",
   "execution_count": 139,
   "metadata": {},
   "outputs": [],
   "source": [
    "with open(\"/Users/missbo/Desktop/Inżynierka/Elipsometr/results.txt\", 'w') as file:\n",
    "    pass"
   ]
  },
  {
   "cell_type": "markdown",
   "metadata": {},
   "source": [
    "sin2psicosdelta"
   ]
  },
  {
   "cell_type": "markdown",
   "metadata": {},
   "source": [
    "Import data "
   ]
  },
  {
   "cell_type": "code",
   "execution_count": 140,
   "metadata": {},
   "outputs": [],
   "source": [
    "column_names = ['Wavelength', '65', '70', '75']\n",
    "data_1nm = pd.read_csv('/Users/missbo/Desktop/Inżynierka/Elipsometr/sin2psicosdelta/sio2_sin2psicosdelta_1nm_co_10_nm.csv', header=None, names=column_names)\n",
    "data_2nm = pd.read_csv('/Users/missbo/Desktop/Inżynierka/Elipsometr/sin2psicosdelta/sio2_sin2psicosdelta_2nm_co_10_nm.csv', header=None, names=column_names)\n",
    "data_3nm = pd.read_csv('/Users/missbo/Desktop/Inżynierka/Elipsometr/sin2psicosdelta/sio2_sin2psicosdelta_3nm_co_10_nm.csv', header=None, names=column_names)\n",
    "data_4nm = pd.read_csv('/Users/missbo/Desktop/Inżynierka/Elipsometr/sin2psicosdelta/sio2_sin2psicosdelta_4nm_co_10_nm.csv', header=None, names=column_names)\n",
    "data_5nm = pd.read_csv('/Users/missbo/Desktop/Inżynierka/Elipsometr/sin2psicosdelta/sio2_sin2psicosdelta_5nm_co_10_nm.csv', header=None, names=column_names)\n",
    "data_6nm = pd.read_csv('/Users/missbo/Desktop/Inżynierka/Elipsometr/sin2psicosdelta/sio2_sin2psicosdelta_6nm_co_10_nm.csv', header=None, names=column_names)\n",
    "data_7nm = pd.read_csv('/Users/missbo/Desktop/Inżynierka/Elipsometr/sin2psicosdelta/sio2_sin2psicosdelta_7nm_co_10_nm.csv', header=None, names=column_names)\n",
    "data_8nm = pd.read_csv('/Users/missbo/Desktop/Inżynierka/Elipsometr/sin2psicosdelta/sio2_sin2psicosdelta_8nm_co_10_nm.csv', header=None, names=column_names)\n",
    "data_9nm = pd.read_csv('/Users/missbo/Desktop/Inżynierka/Elipsometr/sin2psicosdelta/sio2_sin2psicosdelta_9nm_co_10_nm.csv', header=None, names=column_names)\n",
    "data_10nm = pd.read_csv('/Users/missbo/Desktop/Inżynierka/Elipsometr/sin2psicosdelta/sio2_sin2psicosdelta_10nm_co_10_nm.csv', header=None, names=column_names)\n",
    "data_11nm = pd.read_csv('/Users/missbo/Desktop/Inżynierka/Elipsometr/sin2psicosdelta/sio2_sin2psicosdelta_11nm_co_10_nm.csv', header=None, names=column_names)\n",
    "data_12nm = pd.read_csv('/Users/missbo/Desktop/Inżynierka/Elipsometr/sin2psicosdelta/sio2_sin2psicosdelta_12nm_co_10_nm.csv', header=None, names=column_names)\n",
    "data_13nm = pd.read_csv('/Users/missbo/Desktop/Inżynierka/Elipsometr/sin2psicosdelta/sio2_sin2psicosdelta_13nm_co_10_nm.csv', header=None, names=column_names)\n",
    "data_14nm = pd.read_csv('/Users/missbo/Desktop/Inżynierka/Elipsometr/sin2psicosdelta/sio2_sin2psicosdelta_14nm_co_10_nm.csv', header=None, names=column_names)\n",
    "data_15nm = pd.read_csv('/Users/missbo/Desktop/Inżynierka/Elipsometr/sin2psicosdelta/sio2_sin2psicosdelta_15nm_co_10_nm.csv', header=None, names=column_names)\n",
    "data_16nm = pd.read_csv('/Users/missbo/Desktop/Inżynierka/Elipsometr/sin2psicosdelta/sio2_sin2psicosdelta_16nm_co_10_nm.csv', header=None, names=column_names)\n",
    "data_17nm = pd.read_csv('/Users/missbo/Desktop/Inżynierka/Elipsometr/sin2psicosdelta/sio2_sin2psicosdelta_17nm_co_10_nm.csv', header=None, names=column_names)\n",
    "data_18nm = pd.read_csv('/Users/missbo/Desktop/Inżynierka/Elipsometr/sin2psicosdelta/sio2_sin2psicosdelta_18nm_co_10_nm.csv', header=None, names=column_names)\n",
    "data_19nm = pd.read_csv('/Users/missbo/Desktop/Inżynierka/Elipsometr/sin2psicosdelta/sio2_sin2psicosdelta_19nm_co_10_nm.csv', header=None, names=column_names)\n",
    "data_20nm = pd.read_csv('/Users/missbo/Desktop/Inżynierka/Elipsometr/sin2psicosdelta/sio2_sin2psicosdelta_20nm_co_10_nm.csv', header=None, names=column_names)\n",
    "data_21nm = pd.read_csv('/Users/missbo/Desktop/Inżynierka/Elipsometr/sin2psicosdelta/sio2_sin2psicosdelta_21nm_co_10_nm.csv', header=None, names=column_names)\n",
    "data_22nm = pd.read_csv('/Users/missbo/Desktop/Inżynierka/Elipsometr/sin2psicosdelta/sio2_sin2psicosdelta_22nm_co_10_nm.csv', header=None, names=column_names)\n",
    "data_23nm = pd.read_csv('/Users/missbo/Desktop/Inżynierka/Elipsometr/sin2psicosdelta/sio2_sin2psicosdelta_23nm_co_10_nm.csv', header=None, names=column_names)\n",
    "data_24nm = pd.read_csv('/Users/missbo/Desktop/Inżynierka/Elipsometr/sin2psicosdelta/sio2_sin2psicosdelta_24nm_co_10_nm.csv', header=None, names=column_names)\n",
    "data_25nm = pd.read_csv('/Users/missbo/Desktop/Inżynierka/Elipsometr/sin2psicosdelta/sio2_sin2psicosdelta_25nm_co_10_nm.csv', header=None, names=column_names)\n",
    "data_26nm = pd.read_csv('/Users/missbo/Desktop/Inżynierka/Elipsometr/sin2psicosdelta/sio2_sin2psicosdelta_26nm_co_10_nm.csv', header=None, names=column_names)\n",
    "data_27nm = pd.read_csv('/Users/missbo/Desktop/Inżynierka/Elipsometr/sin2psicosdelta/sio2_sin2psicosdelta_27nm_co_10_nm.csv', header=None, names=column_names)\n",
    "data_28nm = pd.read_csv('/Users/missbo/Desktop/Inżynierka/Elipsometr/sin2psicosdelta/sio2_sin2psicosdelta_28nm_co_10_nm.csv', header=None, names=column_names)\n",
    "data_29nm = pd.read_csv('/Users/missbo/Desktop/Inżynierka/Elipsometr/sin2psicosdelta/sio2_sin2psicosdelta_29nm_co_10_nm.csv', header=None, names=column_names)\n",
    "data_30nm = pd.read_csv('/Users/missbo/Desktop/Inżynierka/Elipsometr/sin2psicosdelta/sio2_sin2psicosdelta_30nm_co_10_nm.csv', header=None, names=column_names)\n",
    "data_32nm = pd.read_csv('/Users/missbo/Desktop/Inżynierka/Elipsometr/sin2psicosdelta/sio2_sin2psicosdelta_32nm_co_10_nm.csv', header=None, names=column_names)\n",
    "data_34nm = pd.read_csv('/Users/missbo/Desktop/Inżynierka/Elipsometr/sin2psicosdelta/sio2_sin2psicosdelta_34nm_co_10_nm.csv', header=None, names=column_names)\n",
    "data_36nm = pd.read_csv('/Users/missbo/Desktop/Inżynierka/Elipsometr/sin2psicosdelta/sio2_sin2psicosdelta_36nm_co_10_nm.csv', header=None, names=column_names)\n",
    "data_38nm = pd.read_csv('/Users/missbo/Desktop/Inżynierka/Elipsometr/sin2psicosdelta/sio2_sin2psicosdelta_38nm_co_10_nm.csv', header=None, names=column_names)\n",
    "data_40nm = pd.read_csv('/Users/missbo/Desktop/Inżynierka/Elipsometr/sin2psicosdelta/sio2_sin2psicosdelta_40nm_co_10_nm.csv', header=None, names=column_names)\n",
    "data_42nm = pd.read_csv('/Users/missbo/Desktop/Inżynierka/Elipsometr/sin2psicosdelta/sio2_sin2psicosdelta_42nm_co_10_nm.csv', header=None, names=column_names)\n",
    "data_44nm = pd.read_csv('/Users/missbo/Desktop/Inżynierka/Elipsometr/sin2psicosdelta/sio2_sin2psicosdelta_44nm_co_10_nm.csv', header=None, names=column_names)\n",
    "data_46nm = pd.read_csv('/Users/missbo/Desktop/Inżynierka/Elipsometr/sin2psicosdelta/sio2_sin2psicosdelta_46nm_co_10_nm.csv', header=None, names=column_names)\n",
    "data_48nm = pd.read_csv('/Users/missbo/Desktop/Inżynierka/Elipsometr/sin2psicosdelta/sio2_sin2psicosdelta_48nm_co_10_nm.csv', header=None, names=column_names)\n",
    "data_50nm = pd.read_csv('/Users/missbo/Desktop/Inżynierka/Elipsometr/sin2psicosdelta/sio2_sin2psicosdelta_50nm_co_10_nm.csv', header=None, names=column_names)"
   ]
  },
  {
   "cell_type": "markdown",
   "metadata": {},
   "source": [
    "Add column Thickness"
   ]
  },
  {
   "cell_type": "code",
   "execution_count": 141,
   "metadata": {},
   "outputs": [],
   "source": [
    "data_1nm['Thickness'] = 1\n",
    "data_2nm['Thickness'] = 2\n",
    "data_3nm['Thickness'] = 3\n",
    "data_4nm['Thickness'] = 4\n",
    "data_5nm['Thickness'] = 5\n",
    "data_6nm['Thickness'] = 6\n",
    "data_7nm['Thickness'] = 7\n",
    "data_8nm['Thickness'] = 8\n",
    "data_9nm['Thickness'] = 9\n",
    "data_10nm['Thickness'] = 10\n",
    "data_11nm['Thickness'] = 11\n",
    "data_12nm['Thickness'] = 12\n",
    "data_13nm['Thickness'] = 13\n",
    "data_14nm['Thickness'] = 14\n",
    "data_15nm['Thickness'] = 15\n",
    "data_16nm['Thickness'] = 16\n",
    "data_17nm['Thickness'] = 17\n",
    "data_18nm['Thickness'] = 18\n",
    "data_19nm['Thickness'] = 19\n",
    "data_20nm['Thickness'] = 20\n",
    "data_21nm['Thickness'] = 21\n",
    "data_22nm['Thickness'] = 22\n",
    "data_23nm['Thickness'] = 23\n",
    "data_24nm['Thickness'] = 24\n",
    "data_25nm['Thickness'] = 25\n",
    "data_26nm['Thickness'] = 26\n",
    "data_27nm['Thickness'] = 27\n",
    "data_28nm['Thickness'] = 28\n",
    "data_29nm['Thickness'] = 29\n",
    "data_30nm['Thickness'] = 30\n",
    "data_32nm['Thickness'] = 32\n",
    "data_34nm['Thickness'] = 34\n",
    "data_36nm['Thickness'] = 36\n",
    "data_38nm['Thickness'] = 38\n",
    "data_40nm['Thickness'] = 40\n",
    "data_42nm['Thickness'] = 42\n",
    "data_44nm['Thickness'] = 44\n",
    "data_46nm['Thickness'] = 46\n",
    "data_48nm['Thickness'] = 48\n",
    "data_50nm['Thickness'] = 50"
   ]
  },
  {
   "cell_type": "markdown",
   "metadata": {},
   "source": [
    "Combine data "
   ]
  },
  {
   "cell_type": "code",
   "execution_count": 142,
   "metadata": {},
   "outputs": [
    {
     "name": "stdout",
     "output_type": "stream",
     "text": [
      "   Wavelength       65       70       75  Thickness\n",
      "0         300 -0.82549 -0.71127 -0.50491          1\n",
      "1         310 -0.80910 -0.68593 -0.46701          1\n",
      "2         320 -0.80201 -0.67505 -0.45096          1\n",
      "3         330 -0.80067 -0.67297 -0.44788          1\n",
      "4         340 -0.80355 -0.67734 -0.45425          1\n"
     ]
    }
   ],
   "source": [
    "frames = [data_1nm, data_2nm, data_3nm, data_4nm, data_5nm, data_6nm, data_7nm, data_8nm, data_9nm, data_10nm, data_11nm, data_12nm, data_13nm, data_14nm, data_15nm, data_16nm, data_17nm, data_18nm, data_19nm, data_20nm, data_21nm, data_22nm, data_23nm, data_24nm, data_25nm, data_26nm, data_27nm, data_28nm, data_29nm, data_30nm, data_32nm, data_34nm, data_36nm, data_38nm, data_40nm, data_42nm, data_44nm, data_46nm, data_48nm, data_50nm]\n",
    "combined_data = pd.concat(frames)\n",
    "combined_data=combined_data.fillna(0)\n",
    "print(combined_data.head())"
   ]
  },
  {
   "cell_type": "markdown",
   "metadata": {},
   "source": [
    "Train model "
   ]
  },
  {
   "cell_type": "code",
   "execution_count": 143,
   "metadata": {},
   "outputs": [
    {
     "name": "stdout",
     "output_type": "stream",
     "text": [
      "Mean Squared Error: 1.686551741001565\n",
      "R^2 Score: 0.9909401314686809\n",
      "Mean Absolute Percentage Error (MAE): 0.5021185446009391\n",
      "Symmetric Mean Absolute Percentage Error: 6.762888840676171\n",
      "Standard Deviation:0.10396266679043378\n"
     ]
    }
   ],
   "source": [
    "X = combined_data.drop('Thickness', axis = 1)\n",
    "y = combined_data['Thickness']\n",
    "\n",
    "X_train, X_test, y_train, y_test = train_test_split(X, y, test_size=0.2, random_state=42)\n",
    "\n",
    "rf_regressor = RandomForestRegressor(n_estimators=300, random_state= 42)\n",
    "rf_regressor.fit(X_train, y_train)\n",
    "\n",
    "y_pred = rf_regressor.predict(X_test)\n",
    "\n",
    "def calculate_smape(y_test, y_pred):\n",
    "    numerator = np.abs(y_test - y_pred)\n",
    "    denominator = (np.abs(y_test) + np.abs(y_pred)) / 2\n",
    "    smape = np.mean(numerator / denominator) * 100\n",
    "    return smape\n",
    "\n",
    "mse = mean_squared_error(y_test, y_pred)\n",
    "r2 = r2_score(y_test, y_pred)\n",
    "mae = mean_absolute_error(y_test, y_pred)\n",
    "smape = calculate_smape(y_test,y_pred)\n",
    "# Odchylenie standardowe zbioru uczącego\n",
    "standard_deviation = statistics.stdev(X_train['65'])\n",
    "\n",
    "print(f'Mean Squared Error: {mse}')\n",
    "print(f'R^2 Score: {r2}')\n",
    "print(f\"Mean Absolute Percentage Error (MAE): {mae}\")\n",
    "print(f'Symmetric Mean Absolute Percentage Error: {smape}')\n",
    "print(f'Standard Deviation:{standard_deviation}')"
   ]
  },
  {
   "cell_type": "markdown",
   "metadata": {},
   "source": [
    "Predict new data "
   ]
  },
  {
   "cell_type": "code",
   "execution_count": 144,
   "metadata": {},
   "outputs": [],
   "source": [
    "import os\n",
    "\n",
    "folder_path = '/Users/missbo/Desktop/Inżynierka/Elipsometr/sin2psicosdelta/sin2psicosdelta_exp'\n",
    "output_folder = '/Users/missbo/Desktop/Inżynierka/Elipsometr/Files_results/RF_300/RF_sin2psicosdelta'\n",
    "\n",
    "os.makedirs(output_folder, exist_ok=True)\n",
    "\n",
    "for file_name in os.listdir(folder_path):\n",
    "    if file_name.endswith('.csv'):\n",
    "        file_path = os.path.join(folder_path, file_name)\n",
    "        \n",
    "        new_data = pd.read_csv(file_path, header=None, names=column_names)\n",
    "        \n",
    "        missing_cols = set(X.columns) - set(new_data.columns)\n",
    "        if missing_cols:\n",
    "            raise ValueError(f\"New data is missing columns: {missing_cols}\")\n",
    "        \n",
    "        new_predictions = rf_regressor.predict(new_data)\n",
    "        new_data['Thickness'] = new_predictions\n",
    "\n",
    "        thickness = file_name.split('_')[2].replace('nm', '')\n",
    "        \n",
    "        output_file = os.path.join(output_folder, f\"RF_sin2psicosdelta_{thickness}_nm\")\n",
    "        \n",
    "        with open(output_file, 'w') as plik:\n",
    "            for prediction in new_predictions:\n",
    "                plik.write(f\"{prediction:.2f}\\n\")"
   ]
  },
  {
   "cell_type": "code",
   "execution_count": 147,
   "metadata": {},
   "outputs": [],
   "source": [
    "directory = \"/Users/missbo/Desktop/Inżynierka/Elipsometr/sin2psicosdelta/sin2psicosdelta_exp\"\n",
    "\n",
    "for filename in os.listdir(directory):\n",
    "    f = os.path.join(directory, filename)\n",
    "    if os.path.isfile(f):\n",
    "        new_data = pd.read_csv(f, header=None, names=column_names, encoding='ISO-8859-1')\n",
    "        new_predictions = rf_regressor.predict(new_data)\n",
    "        new_data['Thickness'] = new_predictions\n",
    "        result = new_data['Thickness'].median()\n",
    "        \n",
    "        \n",
    "        with open(\"/Users/missbo/Desktop/Inżynierka/Elipsometr/results.txt\", 'a') as file_results:\n",
    "            file_results.write(str(result))\n",
    "            file_results.write(\" \")\n",
    "            #file_results.write(str(filename))\n",
    "            file_results.write('\\n')"
   ]
  },
  {
   "cell_type": "code",
   "execution_count": 148,
   "metadata": {},
   "outputs": [],
   "source": [
    "with open(\"/Users/missbo/Desktop/Inżynierka/Elipsometr/results.txt\", 'w') as file:\n",
    "    pass"
   ]
  },
  {
   "cell_type": "markdown",
   "metadata": {},
   "source": [
    "sin2psisindelta"
   ]
  },
  {
   "cell_type": "markdown",
   "metadata": {},
   "source": [
    "Import data "
   ]
  },
  {
   "cell_type": "code",
   "execution_count": 149,
   "metadata": {},
   "outputs": [],
   "source": [
    "column_names = ['Wavelength', '65', '70', '75']\n",
    "data_1nm = pd.read_csv('/Users/missbo/Desktop/Inżynierka/Elipsometr/sin2psisindelta/sio2_sin2psisindelta_1nm_co_10_nm.csv', header=None, names=column_names)\n",
    "data_2nm = pd.read_csv('/Users/missbo/Desktop/Inżynierka/Elipsometr/sin2psisindelta/sio2_sin2psisindelta_2nm_co_10_nm.csv', header=None, names=column_names)\n",
    "data_3nm = pd.read_csv('/Users/missbo/Desktop/Inżynierka/Elipsometr/sin2psisindelta/sio2_sin2psisindelta_3nm_co_10_nm.csv', header=None, names=column_names)\n",
    "data_4nm = pd.read_csv('/Users/missbo/Desktop/Inżynierka/Elipsometr/sin2psisindelta/sio2_sin2psisindelta_4nm_co_10_nm.csv', header=None, names=column_names)\n",
    "data_5nm = pd.read_csv('/Users/missbo/Desktop/Inżynierka/Elipsometr/sin2psisindelta/sio2_sin2psisindelta_5nm_co_10_nm.csv', header=None, names=column_names)\n",
    "data_6nm = pd.read_csv('/Users/missbo/Desktop/Inżynierka/Elipsometr/sin2psisindelta/sio2_sin2psisindelta_6nm_co_10_nm.csv', header=None, names=column_names)\n",
    "data_7nm = pd.read_csv('/Users/missbo/Desktop/Inżynierka/Elipsometr/sin2psisindelta/sio2_sin2psisindelta_7nm_co_10_nm.csv', header=None, names=column_names)\n",
    "data_8nm = pd.read_csv('/Users/missbo/Desktop/Inżynierka/Elipsometr/sin2psisindelta/sio2_sin2psisindelta_8nm_co_10_nm.csv', header=None, names=column_names)\n",
    "data_9nm = pd.read_csv('/Users/missbo/Desktop/Inżynierka/Elipsometr/sin2psisindelta/sio2_sin2psisindelta_9nm_co_10_nm.csv', header=None, names=column_names)\n",
    "data_10nm = pd.read_csv('/Users/missbo/Desktop/Inżynierka/Elipsometr/sin2psisindelta/sio2_sin2psisindelta_10nm_co_10_nm.csv', header=None, names=column_names)\n",
    "data_11nm = pd.read_csv('/Users/missbo/Desktop/Inżynierka/Elipsometr/sin2psisindelta/sio2_sin2psisindelta_11nm_co_10_nm.csv', header=None, names=column_names)\n",
    "data_12nm = pd.read_csv('/Users/missbo/Desktop/Inżynierka/Elipsometr/sin2psisindelta/sio2_sin2psisindelta_12nm_co_10_nm.csv', header=None, names=column_names)\n",
    "data_13nm = pd.read_csv('/Users/missbo/Desktop/Inżynierka/Elipsometr/sin2psisindelta/sio2_sin2psisindelta_13nm_co_10_nm.csv', header=None, names=column_names)\n",
    "data_14nm = pd.read_csv('/Users/missbo/Desktop/Inżynierka/Elipsometr/sin2psisindelta/sio2_sin2psisindelta_14nm_co_10_nm.csv', header=None, names=column_names)\n",
    "data_15nm = pd.read_csv('/Users/missbo/Desktop/Inżynierka/Elipsometr/sin2psisindelta/sio2_sin2psisindelta_15nm_co_10_nm.csv', header=None, names=column_names)\n",
    "data_16nm = pd.read_csv('/Users/missbo/Desktop/Inżynierka/Elipsometr/sin2psisindelta/sio2_sin2psisindelta_16nm_co_10_nm.csv', header=None, names=column_names)\n",
    "data_17nm = pd.read_csv('/Users/missbo/Desktop/Inżynierka/Elipsometr/sin2psisindelta/sio2_sin2psisindelta_17nm_co_10_nm.csv', header=None, names=column_names)\n",
    "data_18nm = pd.read_csv('/Users/missbo/Desktop/Inżynierka/Elipsometr/sin2psisindelta/sio2_sin2psisindelta_18nm_co_10_nm.csv', header=None, names=column_names)\n",
    "data_19nm = pd.read_csv('/Users/missbo/Desktop/Inżynierka/Elipsometr/sin2psisindelta/sio2_sin2psisindelta_19nm_co_10_nm.csv', header=None, names=column_names)\n",
    "data_20nm = pd.read_csv('/Users/missbo/Desktop/Inżynierka/Elipsometr/sin2psisindelta/sio2_sin2psisindelta_20nm_co_10_nm.csv', header=None, names=column_names)\n",
    "data_21nm = pd.read_csv('/Users/missbo/Desktop/Inżynierka/Elipsometr/sin2psisindelta/sio2_sin2psisindelta_21nm_co_10_nm.csv', header=None, names=column_names)\n",
    "data_22nm = pd.read_csv('/Users/missbo/Desktop/Inżynierka/Elipsometr/sin2psisindelta/sio2_sin2psisindelta_22nm_co_10_nm.csv', header=None, names=column_names)\n",
    "data_23nm = pd.read_csv('/Users/missbo/Desktop/Inżynierka/Elipsometr/sin2psisindelta/sio2_sin2psisindelta_23nm_co_10_nm.csv', header=None, names=column_names)\n",
    "data_24nm = pd.read_csv('/Users/missbo/Desktop/Inżynierka/Elipsometr/sin2psisindelta/sio2_sin2psisindelta_24nm_co_10_nm.csv', header=None, names=column_names)\n",
    "data_25nm = pd.read_csv('/Users/missbo/Desktop/Inżynierka/Elipsometr/sin2psisindelta/sio2_sin2psisindelta_25nm_co_10_nm.csv', header=None, names=column_names)\n",
    "data_26nm = pd.read_csv('/Users/missbo/Desktop/Inżynierka/Elipsometr/sin2psisindelta/sio2_sin2psisindelta_26nm_co_10_nm.csv', header=None, names=column_names)\n",
    "data_27nm = pd.read_csv('/Users/missbo/Desktop/Inżynierka/Elipsometr/sin2psisindelta/sio2_sin2psisindelta_27nm_co_10_nm.csv', header=None, names=column_names)\n",
    "data_28nm = pd.read_csv('/Users/missbo/Desktop/Inżynierka/Elipsometr/sin2psisindelta/sio2_sin2psisindelta_28nm_co_10_nm.csv', header=None, names=column_names)\n",
    "data_29nm = pd.read_csv('/Users/missbo/Desktop/Inżynierka/Elipsometr/sin2psisindelta/sio2_sin2psisindelta_29nm_co_10_nm.csv', header=None, names=column_names)\n",
    "data_30nm = pd.read_csv('/Users/missbo/Desktop/Inżynierka/Elipsometr/sin2psisindelta/sio2_sin2psisindelta_30nm_co_10_nm.csv', header=None, names=column_names)\n",
    "data_32nm = pd.read_csv('/Users/missbo/Desktop/Inżynierka/Elipsometr/sin2psisindelta/sio2_sin2psisindelta_32nm_co_10_nm.csv', header=None, names=column_names)\n",
    "data_34nm = pd.read_csv('/Users/missbo/Desktop/Inżynierka/Elipsometr/sin2psisindelta/sio2_sin2psisindelta_34nm_co_10_nm.csv', header=None, names=column_names)\n",
    "data_36nm = pd.read_csv('/Users/missbo/Desktop/Inżynierka/Elipsometr/sin2psisindelta/sio2_sin2psisindelta_36nm_co_10_nm.csv', header=None, names=column_names)\n",
    "data_38nm = pd.read_csv('/Users/missbo/Desktop/Inżynierka/Elipsometr/sin2psisindelta/sio2_sin2psisindelta_38nm_co_10_nm.csv', header=None, names=column_names)\n",
    "data_40nm = pd.read_csv('/Users/missbo/Desktop/Inżynierka/Elipsometr/sin2psisindelta/sio2_sin2psisindelta_40nm_co_10_nm.csv', header=None, names=column_names)\n",
    "data_42nm = pd.read_csv('/Users/missbo/Desktop/Inżynierka/Elipsometr/sin2psisindelta/sio2_sin2psisindelta_42nm_co_10_nm.csv', header=None, names=column_names)\n",
    "data_44nm = pd.read_csv('/Users/missbo/Desktop/Inżynierka/Elipsometr/sin2psisindelta/sio2_sin2psisindelta_44nm_co_10_nm.csv', header=None, names=column_names)\n",
    "data_46nm = pd.read_csv('/Users/missbo/Desktop/Inżynierka/Elipsometr/sin2psisindelta/sio2_sin2psisindelta_46nm_co_10_nm.csv', header=None, names=column_names)\n",
    "data_48nm = pd.read_csv('/Users/missbo/Desktop/Inżynierka/Elipsometr/sin2psisindelta/sio2_sin2psisindelta_48nm_co_10_nm.csv', header=None, names=column_names)\n",
    "data_50nm = pd.read_csv('/Users/missbo/Desktop/Inżynierka/Elipsometr/sin2psisindelta/sio2_sin2psisindelta_50nm_co_10_nm.csv', header=None, names=column_names)"
   ]
  },
  {
   "cell_type": "markdown",
   "metadata": {},
   "source": [
    "Add column Thickness"
   ]
  },
  {
   "cell_type": "code",
   "execution_count": 150,
   "metadata": {},
   "outputs": [],
   "source": [
    "data_1nm['Thickness'] = 1\n",
    "data_2nm['Thickness'] = 2\n",
    "data_3nm['Thickness'] = 3\n",
    "data_4nm['Thickness'] = 4\n",
    "data_5nm['Thickness'] = 5\n",
    "data_6nm['Thickness'] = 6\n",
    "data_7nm['Thickness'] = 7\n",
    "data_8nm['Thickness'] = 8\n",
    "data_9nm['Thickness'] = 9\n",
    "data_10nm['Thickness'] = 10\n",
    "data_11nm['Thickness'] = 11\n",
    "data_12nm['Thickness'] = 12\n",
    "data_13nm['Thickness'] = 13\n",
    "data_14nm['Thickness'] = 14\n",
    "data_15nm['Thickness'] = 15\n",
    "data_16nm['Thickness'] = 16\n",
    "data_17nm['Thickness'] = 17\n",
    "data_18nm['Thickness'] = 18\n",
    "data_19nm['Thickness'] = 19\n",
    "data_20nm['Thickness'] = 20\n",
    "data_21nm['Thickness'] = 21\n",
    "data_22nm['Thickness'] = 22\n",
    "data_23nm['Thickness'] = 23\n",
    "data_24nm['Thickness'] = 24\n",
    "data_25nm['Thickness'] = 25\n",
    "data_26nm['Thickness'] = 26\n",
    "data_27nm['Thickness'] = 27\n",
    "data_28nm['Thickness'] = 28\n",
    "data_29nm['Thickness'] = 29\n",
    "data_30nm['Thickness'] = 30\n",
    "data_32nm['Thickness'] = 32\n",
    "data_34nm['Thickness'] = 34\n",
    "data_36nm['Thickness'] = 36\n",
    "data_38nm['Thickness'] = 38\n",
    "data_40nm['Thickness'] = 40\n",
    "data_42nm['Thickness'] = 42\n",
    "data_44nm['Thickness'] = 44\n",
    "data_46nm['Thickness'] = 46\n",
    "data_48nm['Thickness'] = 48\n",
    "data_50nm['Thickness'] = 50"
   ]
  },
  {
   "cell_type": "markdown",
   "metadata": {},
   "source": [
    "Combine data "
   ]
  },
  {
   "cell_type": "code",
   "execution_count": 151,
   "metadata": {},
   "outputs": [
    {
     "name": "stdout",
     "output_type": "stream",
     "text": [
      "   Wavelength       65       70       75  Thickness\n",
      "0         300  0.38143  0.47541  0.58418          1\n",
      "1         310  0.36396  0.45111  0.54864          1\n",
      "2         320  0.34981  0.43255  0.52377          1\n",
      "3         330  0.33400  0.41284  0.49951          1\n",
      "4         340  0.31716  0.39245  0.47571          1\n"
     ]
    }
   ],
   "source": [
    "frames = [data_1nm, data_2nm, data_3nm, data_4nm, data_5nm, data_6nm, data_7nm, data_8nm, data_9nm, data_10nm, data_11nm, data_12nm, data_13nm, data_14nm, data_15nm, data_16nm, data_17nm, data_18nm, data_19nm, data_20nm, data_21nm, data_22nm, data_23nm, data_24nm, data_25nm, data_26nm, data_27nm, data_28nm, data_29nm, data_30nm, data_32nm, data_34nm, data_36nm, data_38nm, data_40nm, data_42nm, data_44nm, data_46nm, data_48nm, data_50nm]\n",
    "combined_data = pd.concat(frames)\n",
    "combined_data=combined_data.fillna(0)\n",
    "print(combined_data.head())"
   ]
  },
  {
   "cell_type": "markdown",
   "metadata": {},
   "source": [
    "Train model "
   ]
  },
  {
   "cell_type": "code",
   "execution_count": 152,
   "metadata": {},
   "outputs": [
    {
     "name": "stdout",
     "output_type": "stream",
     "text": [
      "Mean Squared Error: 0.4967527386541471\n",
      "R^2 Score: 0.9973315289443141\n",
      "Mean Absolute Percentage Error (MAE): 0.3103755868544602\n",
      "Symmetric Mean Absolute Percentage Error: 1.899963798228132\n",
      "Standard Deviation:0.2456792567252791\n"
     ]
    }
   ],
   "source": [
    "X = combined_data.drop('Thickness', axis = 1)\n",
    "y = combined_data['Thickness']\n",
    "\n",
    "X_train, X_test, y_train, y_test = train_test_split(X, y, test_size=0.2, random_state=42)\n",
    "\n",
    "rf_regressor = RandomForestRegressor(n_estimators=300, random_state= 42)\n",
    "rf_regressor.fit(X_train, y_train)\n",
    "\n",
    "y_pred = rf_regressor.predict(X_test)\n",
    "\n",
    "def calculate_smape(y_test, y_pred):\n",
    "    numerator = np.abs(y_test - y_pred)\n",
    "    denominator = (np.abs(y_test) + np.abs(y_pred)) / 2\n",
    "    smape = np.mean(numerator / denominator) * 100\n",
    "    return smape\n",
    "\n",
    "mse = mean_squared_error(y_test, y_pred)\n",
    "r2 = r2_score(y_test, y_pred)\n",
    "mae = mean_absolute_error(y_test, y_pred)\n",
    "smape = calculate_smape(y_test,y_pred)\n",
    "# Odchylenie standardowe zbioru uczącego\n",
    "standard_deviation = statistics.stdev(X_train['65'])\n",
    "\n",
    "print(f'Mean Squared Error: {mse}')\n",
    "print(f'R^2 Score: {r2}')\n",
    "print(f\"Mean Absolute Percentage Error (MAE): {mae}\")\n",
    "print(f'Symmetric Mean Absolute Percentage Error: {smape}')\n",
    "print(f'Standard Deviation:{standard_deviation}')"
   ]
  },
  {
   "cell_type": "markdown",
   "metadata": {},
   "source": [
    "Predict new data "
   ]
  },
  {
   "cell_type": "code",
   "execution_count": 153,
   "metadata": {},
   "outputs": [],
   "source": [
    "import os\n",
    "\n",
    "folder_path = '/Users/missbo/Desktop/Inżynierka/Elipsometr/sin2psisindelta/sin2psisindelta_exp'\n",
    "output_folder = '/Users/missbo/Desktop/Inżynierka/Elipsometr/Files_results/RF_300/RF_sin2psisindelta'\n",
    "\n",
    "os.makedirs(output_folder, exist_ok=True)\n",
    "\n",
    "for file_name in os.listdir(folder_path):\n",
    "    if file_name.endswith('.csv'):\n",
    "        file_path = os.path.join(folder_path, file_name)\n",
    "        \n",
    "        new_data = pd.read_csv(file_path, header=None, names=column_names)\n",
    "        \n",
    "        missing_cols = set(X.columns) - set(new_data.columns)\n",
    "        if missing_cols:\n",
    "            raise ValueError(f\"New data is missing columns: {missing_cols}\")\n",
    "        \n",
    "        new_predictions = rf_regressor.predict(new_data)\n",
    "        new_data['Thickness'] = new_predictions\n",
    "\n",
    "        thickness = file_name.split('_')[2].replace('nm', '')\n",
    "        \n",
    "        output_file = os.path.join(output_folder, f\"RF_sin2psisindelta_{thickness}_nm\")\n",
    "        \n",
    "        with open(output_file, 'w') as plik:\n",
    "            for prediction in new_predictions:\n",
    "                plik.write(f\"{prediction:.2f}\\n\")"
   ]
  },
  {
   "cell_type": "code",
   "execution_count": 156,
   "metadata": {},
   "outputs": [],
   "source": [
    "directory = \"/Users/missbo/Desktop/Inżynierka/Elipsometr/sin2psisindelta/sin2psisindelta_exp\"\n",
    "\n",
    "for filename in os.listdir(directory):\n",
    "    f = os.path.join(directory, filename)\n",
    "    if os.path.isfile(f):\n",
    "        new_data = pd.read_csv(f, header=None, names=column_names, encoding='ISO-8859-1')\n",
    "        new_predictions = rf_regressor.predict(new_data)\n",
    "        new_data['Thickness'] = new_predictions\n",
    "        result = new_data['Thickness'].median()\n",
    "        \n",
    "        \n",
    "        with open(\"/Users/missbo/Desktop/Inżynierka/Elipsometr/results.txt\", 'a') as file_results:\n",
    "            file_results.write(str(result))\n",
    "            file_results.write(\" \")\n",
    "            #file_results.write(str(filename))\n",
    "            file_results.write('\\n')"
   ]
  },
  {
   "cell_type": "code",
   "execution_count": 157,
   "metadata": {},
   "outputs": [],
   "source": [
    "with open(\"/Users/missbo/Desktop/Inżynierka/Elipsometr/results.txt\", 'w') as file:\n",
    "    pass"
   ]
  }
 ],
 "metadata": {
  "kernelspec": {
   "display_name": "Python 3",
   "language": "python",
   "name": "python3"
  },
  "language_info": {
   "codemirror_mode": {
    "name": "ipython",
    "version": 3
   },
   "file_extension": ".py",
   "mimetype": "text/x-python",
   "name": "python",
   "nbconvert_exporter": "python",
   "pygments_lexer": "ipython3",
   "version": "3.11.5"
  }
 },
 "nbformat": 4,
 "nbformat_minor": 2
}
