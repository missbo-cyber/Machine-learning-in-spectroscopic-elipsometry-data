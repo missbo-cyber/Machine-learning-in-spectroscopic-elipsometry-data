{
 "cells": [
  {
   "cell_type": "markdown",
   "metadata": {},
   "source": [
    "Import libraries"
   ]
  },
  {
   "cell_type": "code",
   "execution_count": 32,
   "metadata": {},
   "outputs": [],
   "source": [
    "import pandas as pd\n",
    "from sklearn.model_selection import train_test_split\n",
    "from sklearn.ensemble import RandomForestRegressor\n",
    "from sklearn.metrics import mean_squared_error, r2_score"
   ]
  },
  {
   "cell_type": "markdown",
   "metadata": {},
   "source": [
    "Import data"
   ]
  },
  {
   "cell_type": "code",
   "execution_count": 33,
   "metadata": {},
   "outputs": [],
   "source": [
    "column_names = [\"Wavelength\", '60', '65', '70']\n",
    "data_1nm=pd.read_csv('1nm_delta.csv', header=None, names = column_names)\n",
    "data_2nm=pd.read_csv('2nm_delta.csv',header=None, names = column_names)\n",
    "data_3nm=pd.read_csv('3nm_delta.csv',header=None, names = column_names)\n",
    "data_4nm=pd.read_csv('4nm_delta.csv',header=None, names = column_names)\n",
    "data_5nm=pd.read_csv('5nm_delta.csv',header=None, names = column_names)\n",
    "data_6nm=pd.read_csv('6nm_delta.csv',header=None, names = column_names)\n",
    "data_7nm=pd.read_csv('7nm_delta.csv',header=None, names = column_names)\n",
    "data_8nm=pd.read_csv('8nm_delta.csv',header=None, names = column_names)\n",
    "data_9nm=pd.read_csv('9nm_delta.csv',header=None, names = column_names)\n",
    "data_10nm=pd.read_csv('10nm_delta.csv',header=None, names = column_names)\n",
    "data_11nm = pd.read_csv('11nm_delta.csv',header=None, names = column_names)\n",
    "data_12nm = pd.read_csv('12nm_delta.csv',header=None, names = column_names)\n",
    "data_13nm = pd.read_csv('13nm_delta.csv',header= None, names = column_names)\n",
    "data_14nm = pd.read_csv('14nm_delta.csv',header= None, names = column_names)"
   ]
  },
  {
   "cell_type": "markdown",
   "metadata": {},
   "source": [
    "Add column Thickness"
   ]
  },
  {
   "cell_type": "code",
   "execution_count": 34,
   "metadata": {},
   "outputs": [],
   "source": [
    "data_1nm['Thickness'] = 1\n",
    "data_2nm['Thickness'] = 2\n",
    "data_3nm['Thickness'] = 3\n",
    "data_4nm['Thickness'] = 4\n",
    "data_5nm['Thickness'] = 5\n",
    "data_6nm['Thickness'] = 6\n",
    "data_7nm['Thickness'] = 7\n",
    "data_8nm['Thickness'] = 8\n",
    "data_9nm['Thickness'] = 9\n",
    "data_10nm['Thickness'] = 10\n",
    "data_11nm['Thickness'] = 11\n",
    "data_12nm['Thickness'] = 12\n",
    "data_13nm['Thickness'] = 13\n",
    "data_14nm['Thickness'] = 14\n"
   ]
  },
  {
   "cell_type": "markdown",
   "metadata": {},
   "source": [
    "Combine data"
   ]
  },
  {
   "cell_type": "code",
   "execution_count": 35,
   "metadata": {},
   "outputs": [
    {
     "name": "stdout",
     "output_type": "stream",
     "text": [
      "     Wavelength      60      65      70  Thickness\n",
      "0.0       300.0  154.87  145.85  130.43          1\n",
      "1.0       310.0  155.51  146.35  130.09          1\n",
      "2.0       320.0  156.17  147.03  130.38          1\n",
      "3.0       330.0  157.07  148.10  131.45          1\n",
      "4.0       340.0  158.11  149.46  133.13          1\n"
     ]
    }
   ],
   "source": [
    "frames = [data_1nm,data_2nm,data_3nm,data_4nm,data_5nm,data_6nm,data_7nm,data_8nm,data_9nm,data_10nm,data_11nm,data_12nm,data_13nm,data_14nm]\n",
    "combined_data = pd.concat(frames)\n",
    "combined_data=combined_data.fillna(0)\n",
    "print(combined_data.head())"
   ]
  },
  {
   "cell_type": "markdown",
   "metadata": {},
   "source": [
    "Training model"
   ]
  },
  {
   "cell_type": "code",
   "execution_count": 49,
   "metadata": {},
   "outputs": [
    {
     "name": "stdout",
     "output_type": "stream",
     "text": [
      "795\n",
      "795\n",
      "Mean Squared Error: 0.8866402010050252\n",
      "R^2 Score: 0.9447492704956727\n"
     ]
    }
   ],
   "source": [
    "X = combined_data.drop('Thickness',axis=1)\n",
    "y = combined_data['Thickness']\n",
    "\n",
    "X_train, X_test, y_train, y_test = train_test_split(X, y, test_size=0.2, random_state=42)\n",
    "\n",
    "print(len(X_train))\n",
    "print(len(y_train))\n",
    "\n",
    "rf_regressor = RandomForestRegressor(n_estimators=100, random_state=42)\n",
    "\n",
    "rf_regressor.fit(X_train, y_train)\n",
    "\n",
    "\n",
    "y_pred = rf_regressor.predict(X_test)\n",
    "\n",
    "mse = mean_squared_error(y_test, y_pred)\n",
    "r2 = r2_score(y_test, y_pred)\n",
    "\n",
    "print(f\"Mean Squared Error: {mse}\")\n",
    "print(f\"R^2 Score: {r2}\")\n",
    "\n"
   ]
  },
  {
   "cell_type": "markdown",
   "metadata": {},
   "source": [
    "Predict new data"
   ]
  },
  {
   "cell_type": "code",
   "execution_count": 52,
   "metadata": {},
   "outputs": [
    {
     "name": "stdout",
     "output_type": "stream",
     "text": [
      "   Wavelength      60      65      70\n",
      "0         400  169.66  164.31  151.32\n",
      "1         410  169.52  164.74  150.80\n",
      "2         420  170.13  165.50  149.86\n",
      "3         430  170.41  165.51  150.02\n",
      "4         440  171.89  165.78  148.69\n",
      "3.0\n"
     ]
    }
   ],
   "source": [
    "\n",
    "new_data = pd.read_csv('3_8nm_delta_exp.csv', header=None,names=column_names)\n",
    "new_data = new_data.fillna(0)\n",
    "\n",
    "print(new_data.head())\n",
    "\n",
    "missing_cols = set(X.columns) - set(new_data.columns)\n",
    "if missing_cols:\n",
    "    raise ValueError(f\"New data is missing columns: {missing_cols}\")\n",
    "\n",
    "new_predictions = rf_regressor.predict(new_data)\n",
    "\n",
    "new_data['Thickness'] = new_predictions\n",
    "\n",
    "print((new_data['Thickness']).median())"
   ]
  }
 ],
 "metadata": {
  "kernelspec": {
   "display_name": "Python 3",
   "language": "python",
   "name": "python3"
  },
  "language_info": {
   "codemirror_mode": {
    "name": "ipython",
    "version": 3
   },
   "file_extension": ".py",
   "mimetype": "text/x-python",
   "name": "python",
   "nbconvert_exporter": "python",
   "pygments_lexer": "ipython3",
   "version": "3.11.5"
  }
 },
 "nbformat": 4,
 "nbformat_minor": 2
}
